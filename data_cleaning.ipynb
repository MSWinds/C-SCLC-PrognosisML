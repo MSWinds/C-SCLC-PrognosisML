{
 "cells": [
  {
   "cell_type": "code",
   "execution_count": 374,
   "metadata": {},
   "outputs": [],
   "source": [
    "import pandas as pd\n",
    "import numpy as np"
   ]
  },
  {
   "cell_type": "markdown",
   "metadata": {},
   "source": [
    "## Load Data"
   ]
  },
  {
   "cell_type": "code",
   "execution_count": 375,
   "metadata": {},
   "outputs": [],
   "source": [
    "df_raw = pd.read_csv('Data/export.csv')"
   ]
  },
  {
   "cell_type": "code",
   "execution_count": 376,
   "metadata": {},
   "outputs": [],
   "source": [
    "df = df_raw.copy()"
   ]
  },
  {
   "cell_type": "code",
   "execution_count": 377,
   "metadata": {},
   "outputs": [
    {
     "data": {
      "text/html": [
       "<div>\n",
       "<style scoped>\n",
       "    .dataframe tbody tr th:only-of-type {\n",
       "        vertical-align: middle;\n",
       "    }\n",
       "\n",
       "    .dataframe tbody tr th {\n",
       "        vertical-align: top;\n",
       "    }\n",
       "\n",
       "    .dataframe thead th {\n",
       "        text-align: right;\n",
       "    }\n",
       "</style>\n",
       "<table border=\"1\" class=\"dataframe\">\n",
       "  <thead>\n",
       "    <tr style=\"text-align: right;\">\n",
       "      <th></th>\n",
       "      <th>Patient ID</th>\n",
       "      <th>Age recode with &lt;1 year olds</th>\n",
       "      <th>Marital status at diagnosis</th>\n",
       "      <th>Year of diagnosis</th>\n",
       "      <th>Sex</th>\n",
       "      <th>Race recode (W, B, AI, API)</th>\n",
       "      <th>Derived AJCC T, 6th ed (2004-2015)</th>\n",
       "      <th>Derived AJCC N, 6th ed (2004-2015)</th>\n",
       "      <th>Derived AJCC M, 6th ed (2004-2015)</th>\n",
       "      <th>Derived AJCC Stage Group, 6th ed (2004-2015)</th>\n",
       "      <th>...</th>\n",
       "      <th>Derived EOD 2018 T (2018+)</th>\n",
       "      <th>Derived EOD 2018 N (2018+)</th>\n",
       "      <th>Derived EOD 2018 M (2018+)</th>\n",
       "      <th>Derived EOD 2018 Stage Group (2018+)</th>\n",
       "      <th>Chemotherapy recode (yes, no/unk)</th>\n",
       "      <th>Radiation recode</th>\n",
       "      <th>RX Summ--Scope Reg LN Sur (2003+)</th>\n",
       "      <th>CS tumor size (2004-2015)</th>\n",
       "      <th>Tumor Size Summary (2016+)</th>\n",
       "      <th>Survival months</th>\n",
       "    </tr>\n",
       "  </thead>\n",
       "  <tbody>\n",
       "    <tr>\n",
       "      <th>0</th>\n",
       "      <td>840290</td>\n",
       "      <td>70-74 years</td>\n",
       "      <td>Married (including common law)</td>\n",
       "      <td>2004</td>\n",
       "      <td>Female</td>\n",
       "      <td>White</td>\n",
       "      <td>T2</td>\n",
       "      <td>N0</td>\n",
       "      <td>M1</td>\n",
       "      <td>IV</td>\n",
       "      <td>...</td>\n",
       "      <td>Blank(s)</td>\n",
       "      <td>Blank(s)</td>\n",
       "      <td>Blank(s)</td>\n",
       "      <td>Blank(s)</td>\n",
       "      <td>Yes</td>\n",
       "      <td>None/Unknown</td>\n",
       "      <td>NaN</td>\n",
       "      <td>025</td>\n",
       "      <td>Blank(s)</td>\n",
       "      <td>0008</td>\n",
       "    </tr>\n",
       "    <tr>\n",
       "      <th>1</th>\n",
       "      <td>960311</td>\n",
       "      <td>65-69 years</td>\n",
       "      <td>Separated</td>\n",
       "      <td>2004</td>\n",
       "      <td>Male</td>\n",
       "      <td>White</td>\n",
       "      <td>T3a</td>\n",
       "      <td>N1</td>\n",
       "      <td>M0</td>\n",
       "      <td>IV</td>\n",
       "      <td>...</td>\n",
       "      <td>Blank(s)</td>\n",
       "      <td>Blank(s)</td>\n",
       "      <td>Blank(s)</td>\n",
       "      <td>Blank(s)</td>\n",
       "      <td>Yes</td>\n",
       "      <td>None/Unknown</td>\n",
       "      <td>NaN</td>\n",
       "      <td>999</td>\n",
       "      <td>Blank(s)</td>\n",
       "      <td>0053</td>\n",
       "    </tr>\n",
       "    <tr>\n",
       "      <th>2</th>\n",
       "      <td>9035323</td>\n",
       "      <td>55-59 years</td>\n",
       "      <td>Single (never married)</td>\n",
       "      <td>2004</td>\n",
       "      <td>Female</td>\n",
       "      <td>Asian or Pacific Islander</td>\n",
       "      <td>T4</td>\n",
       "      <td>N3</td>\n",
       "      <td>M1</td>\n",
       "      <td>IV</td>\n",
       "      <td>...</td>\n",
       "      <td>Blank(s)</td>\n",
       "      <td>Blank(s)</td>\n",
       "      <td>Blank(s)</td>\n",
       "      <td>Blank(s)</td>\n",
       "      <td>No/Unknown</td>\n",
       "      <td>None/Unknown</td>\n",
       "      <td>NaN</td>\n",
       "      <td>999</td>\n",
       "      <td>Blank(s)</td>\n",
       "      <td>0006</td>\n",
       "    </tr>\n",
       "  </tbody>\n",
       "</table>\n",
       "<p>3 rows × 28 columns</p>\n",
       "</div>"
      ],
      "text/plain": [
       "   Patient ID Age recode with <1 year olds     Marital status at diagnosis  \\\n",
       "0      840290                  70-74 years  Married (including common law)   \n",
       "1      960311                  65-69 years                       Separated   \n",
       "2     9035323                  55-59 years          Single (never married)   \n",
       "\n",
       "   Year of diagnosis     Sex Race recode (W, B, AI, API)  \\\n",
       "0               2004  Female                       White   \n",
       "1               2004    Male                       White   \n",
       "2               2004  Female   Asian or Pacific Islander   \n",
       "\n",
       "  Derived AJCC T, 6th ed (2004-2015) Derived AJCC N, 6th ed (2004-2015)  \\\n",
       "0                                 T2                                 N0   \n",
       "1                                T3a                                 N1   \n",
       "2                                 T4                                 N3   \n",
       "\n",
       "  Derived AJCC M, 6th ed (2004-2015)  \\\n",
       "0                                 M1   \n",
       "1                                 M0   \n",
       "2                                 M1   \n",
       "\n",
       "  Derived AJCC Stage Group, 6th ed (2004-2015)  ...  \\\n",
       "0                                           IV  ...   \n",
       "1                                           IV  ...   \n",
       "2                                           IV  ...   \n",
       "\n",
       "  Derived EOD 2018 T (2018+) Derived EOD 2018 N (2018+)  \\\n",
       "0                   Blank(s)                   Blank(s)   \n",
       "1                   Blank(s)                   Blank(s)   \n",
       "2                   Blank(s)                   Blank(s)   \n",
       "\n",
       "  Derived EOD 2018 M (2018+) Derived EOD 2018 Stage Group (2018+)  \\\n",
       "0                   Blank(s)                             Blank(s)   \n",
       "1                   Blank(s)                             Blank(s)   \n",
       "2                   Blank(s)                             Blank(s)   \n",
       "\n",
       "  Chemotherapy recode (yes, no/unk) Radiation recode  \\\n",
       "0                               Yes     None/Unknown   \n",
       "1                               Yes     None/Unknown   \n",
       "2                        No/Unknown     None/Unknown   \n",
       "\n",
       "  RX Summ--Scope Reg LN Sur (2003+) CS tumor size (2004-2015)  \\\n",
       "0                               NaN                       025   \n",
       "1                               NaN                       999   \n",
       "2                               NaN                       999   \n",
       "\n",
       "  Tumor Size Summary (2016+) Survival months  \n",
       "0                   Blank(s)            0008  \n",
       "1                   Blank(s)            0053  \n",
       "2                   Blank(s)            0006  \n",
       "\n",
       "[3 rows x 28 columns]"
      ]
     },
     "metadata": {},
     "output_type": "display_data"
    },
    {
     "data": {
      "text/plain": [
       "(1619, 28)"
      ]
     },
     "metadata": {},
     "output_type": "display_data"
    }
   ],
   "source": [
    "display(df.head(3), df.shape)"
   ]
  },
  {
   "cell_type": "code",
   "execution_count": 378,
   "metadata": {},
   "outputs": [
    {
     "data": {
      "text/plain": [
       "<Axes: xlabel='Year of diagnosis'>"
      ]
     },
     "execution_count": 378,
     "metadata": {},
     "output_type": "execute_result"
    },
    {
     "data": {
      "image/png": "[encoded data removed]",
      "text/plain": [
       "<Figure size 1000x500 with 1 Axes>"
      ]
     },
     "metadata": {},
     "output_type": "display_data"
    }
   ],
   "source": [
    "df['Year of diagnosis'].value_counts(dropna=False).sort_index().plot(kind='bar', figsize=(10, 5))"
   ]
  },
  {
   "cell_type": "code",
   "execution_count": 379,
   "metadata": {},
   "outputs": [
    {
     "name": "stdout",
     "output_type": "stream",
     "text": [
      "<class 'pandas.core.frame.DataFrame'>\n",
      "RangeIndex: 1619 entries, 0 to 1618\n",
      "Data columns (total 28 columns):\n",
      " #   Column                                        Non-Null Count  Dtype \n",
      "---  ------                                        --------------  ----- \n",
      " 0   Patient ID                                    1619 non-null   int64 \n",
      " 1   Age recode with <1 year olds                  1619 non-null   object\n",
      " 2   Marital status at diagnosis                   1619 non-null   object\n",
      " 3   Year of diagnosis                             1619 non-null   int64 \n",
      " 4   Sex                                           1619 non-null   object\n",
      " 5   Race recode (W, B, AI, API)                   1619 non-null   object\n",
      " 6   Derived AJCC T, 6th ed (2004-2015)            1604 non-null   object\n",
      " 7   Derived AJCC N, 6th ed (2004-2015)            1604 non-null   object\n",
      " 8   Derived AJCC M, 6th ed (2004-2015)            1604 non-null   object\n",
      " 9   Derived AJCC Stage Group, 6th ed (2004-2015)  1604 non-null   object\n",
      " 10  Derived AJCC T, 7th ed (2010-2015)            1613 non-null   object\n",
      " 11  Derived AJCC N, 7th ed (2010-2015)            1613 non-null   object\n",
      " 12  Derived AJCC M, 7th ed (2010-2015)            1613 non-null   object\n",
      " 13  Derived AJCC Stage Group, 7th ed (2010-2015)  1613 non-null   object\n",
      " 14  Derived SEER Combined T (2016-2017)           1619 non-null   object\n",
      " 15  Derived SEER Combined N (2016-2017)           1619 non-null   object\n",
      " 16  Derived SEER Combined M (2016-2017)           1619 non-null   object\n",
      " 17  Derived SEER Cmb Stg Grp (2016-2017)          1619 non-null   object\n",
      " 18  Derived EOD 2018 T (2018+)                    1619 non-null   object\n",
      " 19  Derived EOD 2018 N (2018+)                    1619 non-null   object\n",
      " 20  Derived EOD 2018 M (2018+)                    1619 non-null   object\n",
      " 21  Derived EOD 2018 Stage Group (2018+)          1619 non-null   object\n",
      " 22  Chemotherapy recode (yes, no/unk)             1619 non-null   object\n",
      " 23  Radiation recode                              1619 non-null   object\n",
      " 24  RX Summ--Scope Reg LN Sur (2003+)             484 non-null    object\n",
      " 25  CS tumor size (2004-2015)                     1619 non-null   object\n",
      " 26  Tumor Size Summary (2016+)                    1619 non-null   object\n",
      " 27  Survival months                               1619 non-null   object\n",
      "dtypes: int64(2), object(26)\n",
      "memory usage: 354.3+ KB\n"
     ]
    }
   ],
   "source": [
    "df.info()"
   ]
  },
  {
   "cell_type": "markdown",
   "metadata": {},
   "source": [
    "## Data Cleaning"
   ]
  },
  {
   "cell_type": "markdown",
   "metadata": {},
   "source": [
    "### Age\n",
    "SEER database collection"
   ]
  },
  {
   "cell_type": "code",
   "execution_count": 380,
   "metadata": {},
   "outputs": [
    {
     "data": {
      "text/plain": [
       "Age recode with <1 year olds\n",
       "25-29 years      2\n",
       "30-34 years      1\n",
       "35-39 years      5\n",
       "40-44 years     15\n",
       "45-49 years     49\n",
       "50-54 years     88\n",
       "55-59 years    155\n",
       "60-64 years    213\n",
       "65-69 years    297\n",
       "70-74 years    287\n",
       "75-79 years    235\n",
       "80-84 years    174\n",
       "85+ years       98\n",
       "Name: count, dtype: int64"
      ]
     },
     "execution_count": 380,
     "metadata": {},
     "output_type": "execute_result"
    }
   ],
   "source": [
    "df['Age recode with <1 year olds'].value_counts(dropna=False).sort_index()"
   ]
  },
  {
   "cell_type": "code",
   "execution_count": 381,
   "metadata": {},
   "outputs": [],
   "source": [
    "# Define a mapping function\n",
    "def group_ages(age):\n",
    "    if age in [ '35-39 years', '40-44 years', '45-49 years']:\n",
    "        return '35-49 years'\n",
    "    else:\n",
    "        return age"
   ]
  },
  {
   "cell_type": "code",
   "execution_count": 382,
   "metadata": {},
   "outputs": [],
   "source": [
    "# Apply the mapping function to the age column\n",
    "df['Age recode with <1 year olds'] = df['Age recode with <1 year olds'].astype(str)\n",
    "df['Age'] = df['Age recode with <1 year olds'].apply(group_ages)\n",
    "\n",
    "# drop the original age column\n",
    "df.drop('Age recode with <1 year olds', axis=1, inplace=True)"
   ]
  },
  {
   "cell_type": "markdown",
   "metadata": {},
   "source": [
    "### Marital Status"
   ]
  },
  {
   "cell_type": "code",
   "execution_count": 383,
   "metadata": {},
   "outputs": [],
   "source": [
    "def categorize_marital_status(df, column_name):\n",
    "    # Define the mapping for each status to its group\n",
    "    status_mapping = {\n",
    "        'Married (including common law)': 'Married',\n",
    "        'Unmarried or Domestic Partner': 'Married',  # Optional\n",
    "        'Single (never married)': 'Single (never married)',\n",
    "        'Separated': 'Single',  # Optional\n",
    "        'Divorced': 'Single',   # Optional\n",
    "        'Widowed': 'Single',    # Optional\n",
    "        'Unknown': 'Unknown/Other'\n",
    "    }\n",
    "\n",
    "    # Apply the mapping to the specified column\n",
    "    df['Marital Status'] = df[column_name].map(status_mapping).fillna('Unknown/Other')\n",
    "\n",
    "    return df\n",
    "\n",
    "# Apply the function to the 'Marital status at diagnosis' column\n",
    "df = categorize_marital_status(df, 'Marital status at diagnosis')\n",
    "\n",
    "# drop old column\n",
    "df.drop(columns='Marital status at diagnosis', inplace=True)"
   ]
  },
  {
   "cell_type": "markdown",
   "metadata": {},
   "source": [
    "### Sex"
   ]
  },
  {
   "cell_type": "code",
   "execution_count": 384,
   "metadata": {},
   "outputs": [
    {
     "data": {
      "text/plain": [
       "Sex\n",
       "Male      969\n",
       "Female    650\n",
       "Name: count, dtype: int64"
      ]
     },
     "execution_count": 384,
     "metadata": {},
     "output_type": "execute_result"
    }
   ],
   "source": [
    "df['Sex'].value_counts(dropna=False)"
   ]
  },
  {
   "cell_type": "code",
   "execution_count": 385,
   "metadata": {},
   "outputs": [],
   "source": [
    "# binary encoding\n",
    "df['Sex_is_male'] = df['Sex'].map({'Male': 1, 'Female': 0})\n",
    "\n",
    "# drop old column\n",
    "df.drop('Sex', axis=1, inplace=True)"
   ]
  },
  {
   "cell_type": "markdown",
   "metadata": {},
   "source": [
    "### Race"
   ]
  },
  {
   "cell_type": "code",
   "execution_count": 386,
   "metadata": {},
   "outputs": [
    {
     "data": {
      "text/plain": [
       "Race recode (W, B, AI, API)\n",
       "White                            1388\n",
       "Black                             164\n",
       "Asian or Pacific Islander          55\n",
       "American Indian/Alaska Native      12\n",
       "Name: count, dtype: int64"
      ]
     },
     "execution_count": 386,
     "metadata": {},
     "output_type": "execute_result"
    }
   ],
   "source": [
    "df['Race recode (W, B, AI, API)'].value_counts(dropna=False)"
   ]
  },
  {
   "cell_type": "code",
   "execution_count": 387,
   "metadata": {},
   "outputs": [],
   "source": [
    "# Group Asian or Pacific Islander and American Indian/Alaska Native as Other\n",
    "df['Race']= df['Race recode (W, B, AI, API)'].replace({\n",
    "    'Asian or Pacific Islander': 'Other', \n",
    "    'American Indian/Alaska Native': 'Other'})\n",
    "\n",
    "# drop old column\n",
    "df.drop('Race recode (W, B, AI, API)', axis=1, inplace=True)"
   ]
  },
  {
   "cell_type": "code",
   "execution_count": 388,
   "metadata": {},
   "outputs": [
    {
     "data": {
      "text/plain": [
       "Race\n",
       "White    1388\n",
       "Black     164\n",
       "Other      67\n",
       "Name: count, dtype: int64"
      ]
     },
     "execution_count": 388,
     "metadata": {},
     "output_type": "execute_result"
    }
   ],
   "source": [
    "df['Race'].value_counts(dropna=False)"
   ]
  },
  {
   "cell_type": "markdown",
   "metadata": {},
   "source": [
    "### Chemotherapy recode (yes, no/unk)"
   ]
  },
  {
   "cell_type": "code",
   "execution_count": 389,
   "metadata": {},
   "outputs": [
    {
     "data": {
      "text/plain": [
       "Radiation recode\n",
       "None/Unknown                                             930\n",
       "Beam radiation                                           620\n",
       "Refused (1988+)                                           30\n",
       "Recommended, unknown if administered                      21\n",
       "Radiation, NOS  method or source not specified            13\n",
       "Radioactive implants (includes brachytherapy) (1988+)      3\n",
       "Combination of beam with implants or isotopes              2\n",
       "Name: count, dtype: int64"
      ]
     },
     "execution_count": 389,
     "metadata": {},
     "output_type": "execute_result"
    }
   ],
   "source": [
    "df['Radiation recode'].value_counts(dropna=False)"
   ]
  },
  {
   "cell_type": "code",
   "execution_count": 390,
   "metadata": {},
   "outputs": [],
   "source": [
    "def map_radiation_values(value):\n",
    "    # Define the values to be mapped to 0\n",
    "    values_for_zero = ['None/Unknown', 'Refused (1988+)',\n",
    "                        'Recommended, unknown if administered']\n",
    "    \n",
    "    # Check if the value is in the list for 0, else return 1\n",
    "    return 0 if value in values_for_zero else 1\n",
    "\n",
    "# Apply the function to the 'Radiation Recode' column\n",
    "df['Radiation recode'] = df['Radiation recode'].apply(map_radiation_values)"
   ]
  },
  {
   "cell_type": "markdown",
   "metadata": {},
   "source": [
    "### RX Summ--Scope Reg LN Sur (2003+)"
   ]
  },
  {
   "cell_type": "code",
   "execution_count": 391,
   "metadata": {},
   "outputs": [
    {
     "data": {
      "text/plain": [
       "RX Summ--Scope Reg LN Sur (2003+)\n",
       "NaN                                                           1135\n",
       "4 or more regional lymph nodes removed                         210\n",
       "Biopsy or aspiration of regional lymph node, NOS               157\n",
       "1 to 3 regional lymph nodes removed                             73\n",
       "Unknown or not applicable                                       29\n",
       "Number of regional lymph nodes removed unknown                  14\n",
       "Sentinel node biopsy and lym nd removed same/unstated time       1\n",
       "Name: count, dtype: int64"
      ]
     },
     "execution_count": 391,
     "metadata": {},
     "output_type": "execute_result"
    }
   ],
   "source": [
    "df['RX Summ--Scope Reg LN Sur (2003+)'].value_counts(dropna=False)"
   ]
  },
  {
   "cell_type": "code",
   "execution_count": 392,
   "metadata": {},
   "outputs": [
    {
     "data": {
      "text/plain": [
       "Surgery\n",
       "0    1164\n",
       "1     455\n",
       "Name: count, dtype: int64"
      ]
     },
     "execution_count": 392,
     "metadata": {},
     "output_type": "execute_result"
    }
   ],
   "source": [
    "# NaN and Unknown or not applicable will be 0, the rest will be 1\n",
    "df['Surgery'] = np.where(df['RX Summ--Scope Reg LN Sur (2003+)'].isna() | \n",
    "                         (df['RX Summ--Scope Reg LN Sur (2003+)'] == 'Unknown or not applicable'), 0, 1)\n",
    "\n",
    "# drop old column\n",
    "df.drop(columns='RX Summ--Scope Reg LN Sur (2003+)', inplace=True)\n",
    "\n",
    "df['Surgery'].value_counts(dropna=False)"
   ]
  },
  {
   "cell_type": "markdown",
   "metadata": {},
   "source": [
    "### T, N, M Transformation"
   ]
  },
  {
   "cell_type": "code",
   "execution_count": 393,
   "metadata": {},
   "outputs": [
    {
     "data": {
      "text/plain": [
       "Index(['Patient ID', 'Year of diagnosis', 'Derived AJCC T, 6th ed (2004-2015)',\n",
       "       'Derived AJCC N, 6th ed (2004-2015)',\n",
       "       'Derived AJCC M, 6th ed (2004-2015)',\n",
       "       'Derived AJCC Stage Group, 6th ed (2004-2015)',\n",
       "       'Derived AJCC T, 7th ed (2010-2015)',\n",
       "       'Derived AJCC N, 7th ed (2010-2015)',\n",
       "       'Derived AJCC M, 7th ed (2010-2015)',\n",
       "       'Derived AJCC Stage Group, 7th ed (2010-2015)',\n",
       "       'Derived SEER Combined T (2016-2017)',\n",
       "       'Derived SEER Combined N (2016-2017)',\n",
       "       'Derived SEER Combined M (2016-2017)',\n",
       "       'Derived SEER Cmb Stg Grp (2016-2017)', 'Derived EOD 2018 T (2018+)',\n",
       "       'Derived EOD 2018 N (2018+)', 'Derived EOD 2018 M (2018+)',\n",
       "       'Derived EOD 2018 Stage Group (2018+)',\n",
       "       'Chemotherapy recode (yes, no/unk)', 'Radiation recode',\n",
       "       'CS tumor size (2004-2015)', 'Tumor Size Summary (2016+)',\n",
       "       'Survival months', 'Age', 'Marital Status', 'Sex_is_male', 'Race',\n",
       "       'Surgery'],\n",
       "      dtype='object')"
      ]
     },
     "execution_count": 393,
     "metadata": {},
     "output_type": "execute_result"
    }
   ],
   "source": [
    "df.columns"
   ]
  },
  {
   "cell_type": "code",
   "execution_count": 394,
   "metadata": {},
   "outputs": [
    {
     "data": {
      "text/plain": [
       "Index(['Patient ID', 'Year of diagnosis',\n",
       "       'Derived AJCC Stage Group, 6th ed (2004-2015)',\n",
       "       'Derived AJCC Stage Group, 7th ed (2010-2015)',\n",
       "       'Derived SEER Cmb Stg Grp (2016-2017)',\n",
       "       'Derived EOD 2018 Stage Group (2018+)',\n",
       "       'Chemotherapy recode (yes, no/unk)', 'Radiation recode',\n",
       "       'CS tumor size (2004-2015)', 'Tumor Size Summary (2016+)',\n",
       "       'Survival months', 'Age', 'Marital Status', 'Sex_is_male', 'Race',\n",
       "       'Surgery', 'T', 'N', 'M'],\n",
       "      dtype='object')"
      ]
     },
     "execution_count": 394,
     "metadata": {},
     "output_type": "execute_result"
    }
   ],
   "source": [
    "# Logic to combine the columns\n",
    "df['T'] = df['Derived AJCC T, 6th ed (2004-2015)']\n",
    "df.loc[df['Year of diagnosis'].between(2010, 2015), 'T'] = df['Derived AJCC T, 7th ed (2010-2015)']\n",
    "df.loc[df['Year of diagnosis'].between(2016, 2017), 'T'] = df['Derived SEER Combined T (2016-2017)']\n",
    "df.loc[df['Year of diagnosis'] >= 2018, 'T'] = df['Derived EOD 2018 T (2018+)']\n",
    "\n",
    "df['N'] = df['Derived AJCC N, 6th ed (2004-2015)']\n",
    "df.loc[df['Year of diagnosis'].between(2010, 2015), 'N'] = df['Derived AJCC N, 7th ed (2010-2015)']\n",
    "df.loc[df['Year of diagnosis'].between(2016, 2017), 'N'] = df['Derived SEER Combined N (2016-2017)']\n",
    "df.loc[df['Year of diagnosis'] >= 2018, 'N'] = df['Derived EOD 2018 N (2018+)']\n",
    "\n",
    "df['M'] = df['Derived AJCC M, 6th ed (2004-2015)']\n",
    "df.loc[df['Year of diagnosis'].between(2010, 2015), 'M'] = df['Derived AJCC M, 7th ed (2010-2015)']\n",
    "df.loc[df['Year of diagnosis'].between(2016, 2017), 'M'] = df['Derived SEER Combined M (2016-2017)']\n",
    "df.loc[df['Year of diagnosis'] >= 2018, 'M'] = df['Derived EOD 2018 M (2018+)']\n",
    "\n",
    "# Dropping old columns\n",
    "columns_to_drop = [\n",
    "    'Derived AJCC T, 6th ed (2004-2015)',\n",
    "    'Derived AJCC N, 6th ed (2004-2015)',\n",
    "    'Derived AJCC M, 6th ed (2004-2015)',\n",
    "    'Derived AJCC T, 7th ed (2010-2015)',\n",
    "    'Derived AJCC N, 7th ed (2010-2015)',\n",
    "    'Derived AJCC M, 7th ed (2010-2015)',\n",
    "    'Derived SEER Combined T (2016-2017)',\n",
    "    'Derived SEER Combined N (2016-2017)',\n",
    "    'Derived SEER Combined M (2016-2017)',\n",
    "    'Derived EOD 2018 T (2018+)',\n",
    "    'Derived EOD 2018 N (2018+)',\n",
    "    'Derived EOD 2018 M (2018+)'\n",
    "]\n",
    "\n",
    "df.drop(columns=columns_to_drop, inplace=True)\n",
    "\n",
    "df.columns"
   ]
  },
  {
   "cell_type": "code",
   "execution_count": 395,
   "metadata": {},
   "outputs": [
    {
     "data": {
      "text/plain": [
       "T\n",
       "T4          403\n",
       "T3          167\n",
       "T2          161\n",
       "TX          140\n",
       "T2a         136\n",
       "T1           94\n",
       "88           76\n",
       "T1b          56\n",
       "T1a          43\n",
       "T2b          41\n",
       "T2NOS        29\n",
       "c4           29\n",
       "c3           27\n",
       "cX           24\n",
       "c2           16\n",
       "NaN          15\n",
       "T4a          13\n",
       "T3b          12\n",
       "T1c          12\n",
       "c2A          12\n",
       "T0           10\n",
       "c2B          10\n",
       "p2A          10\n",
       "T3a           8\n",
       "Blank(s)      7\n",
       "p1B           6\n",
       "T2c           5\n",
       "p3            5\n",
       "c1            5\n",
       "c1A           5\n",
       "T3NOS         5\n",
       "p1A           5\n",
       "c1B           4\n",
       "T4b           4\n",
       "c1C           3\n",
       "T1mi          3\n",
       "p3B           2\n",
       "c3B           2\n",
       "p4            2\n",
       "p2B           2\n",
       "p2C           1\n",
       "T2a2          1\n",
       "T2aNOS        1\n",
       "Tis           1\n",
       "T1NOS         1\n",
       "p2            1\n",
       "p4A           1\n",
       "c0            1\n",
       "p3A           1\n",
       "T3c           1\n",
       "Name: count, dtype: int64"
      ]
     },
     "execution_count": 395,
     "metadata": {},
     "output_type": "execute_result"
    }
   ],
   "source": [
    "df['T'].value_counts(dropna=False)"
   ]
  },
  {
   "cell_type": "code",
   "execution_count": 396,
   "metadata": {},
   "outputs": [
    {
     "data": {
      "text/plain": [
       "N\n",
       "N2          526\n",
       "N0          390\n",
       "N3          188\n",
       "N1          138\n",
       "NX           97\n",
       "88           76\n",
       "c2           49\n",
       "c0           48\n",
       "c3           18\n",
       "NaN          15\n",
       "p0           14\n",
       "cX           13\n",
       "c1           13\n",
       "p2            8\n",
       "p1            8\n",
       "Blank(s)      7\n",
       "N2b           4\n",
       "N2a           3\n",
       "p3            2\n",
       "N2c           1\n",
       "p2B           1\n",
       "Name: count, dtype: int64"
      ]
     },
     "execution_count": 396,
     "metadata": {},
     "output_type": "execute_result"
    }
   ],
   "source": [
    "df['N'].value_counts(dropna=False)"
   ]
  },
  {
   "cell_type": "code",
   "execution_count": 397,
   "metadata": {},
   "outputs": [
    {
     "data": {
      "text/plain": [
       "M\n",
       "M0          602\n",
       "M1          321\n",
       "M1b         241\n",
       "M1a          77\n",
       "c0           76\n",
       "88           76\n",
       "M1c          68\n",
       "c1B          38\n",
       "MX           34\n",
       "p1B          21\n",
       "NaN          15\n",
       "c1A          13\n",
       "c1           12\n",
       "p1            7\n",
       "Blank(s)      7\n",
       "M1NOS         4\n",
       "c1C           3\n",
       "p1A           3\n",
       "p1C           1\n",
       "Name: count, dtype: int64"
      ]
     },
     "execution_count": 397,
     "metadata": {},
     "output_type": "execute_result"
    }
   ],
   "source": [
    "df['M'].value_counts(dropna=False)"
   ]
  },
  {
   "cell_type": "code",
   "execution_count": 398,
   "metadata": {},
   "outputs": [],
   "source": [
    "def replace_first_char(row, column_name):\n",
    "    # Check if the value is a string and starts with 'p' or 'c'\n",
    "    if isinstance(row, str) and row[0] in ['p', 'c']:\n",
    "        return column_name + row[1:]\n",
    "    else:\n",
    "        return row\n",
    "\n",
    "# Applying the function to each column\n",
    "df['T'] = df['T'].apply(lambda x: replace_first_char(x, 'T'))\n",
    "df['N'] = df['N'].apply(lambda x: replace_first_char(x, 'N'))\n",
    "df['M'] = df['M'].apply(lambda x: replace_first_char(x, 'M'))"
   ]
  },
  {
   "cell_type": "code",
   "execution_count": 399,
   "metadata": {},
   "outputs": [],
   "source": [
    "# Dropping rows when T = '88', 'Blank(s)', 'Not applicable', 'TX', 'Tis'\n",
    "df = df[~df['T'].isin(['88', 'Blank(s)', 'Not applicable', 'TX', 'Tis', 'T0'])].copy()\n",
    "\n",
    "# Dropping rows when N = '88', 'Blank(s)', 'Not applicable', 'NX'\n",
    "df = df[~df['N'].isin(['88', 'Blank(s)', 'Not applicable', 'NX'])].copy()\n",
    "\n",
    "# Dropping rows when M = '88', 'Blank(s)', 'Not applicable'\n",
    "df = df[~df['M'].isin(['88', 'Blank(s)', 'Not applicable','MX'])].copy()"
   ]
  },
  {
   "cell_type": "code",
   "execution_count": 400,
   "metadata": {},
   "outputs": [
    {
     "name": "stdout",
     "output_type": "stream",
     "text": [
      "T\n",
      "T1     227\n",
      "T2     409\n",
      "T3     224\n",
      "T4     415\n",
      "NaN     15\n",
      "Name: count, dtype: int64\n"
     ]
    }
   ],
   "source": [
    "def extract_main_category(value):\n",
    "    if isinstance(value, str):\n",
    "        # Find the first occurrence of a digit in the string\n",
    "        for i, char in enumerate(value):\n",
    "            if char.isdigit():\n",
    "                # Return the string up to the second digit (inclusive)\n",
    "                return value[:i+1]\n",
    "    return value\n",
    "\n",
    "# Apply the function to the 'T' column\n",
    "df['T'] = df['T'].apply(extract_main_category)\n",
    "\n",
    "# Display the updated DataFrame\n",
    "print(df['T'].value_counts(dropna=False).sort_index())"
   ]
  },
  {
   "cell_type": "code",
   "execution_count": 401,
   "metadata": {},
   "outputs": [
    {
     "name": "stdout",
     "output_type": "stream",
     "text": [
      "N\n",
      "N0     413\n",
      "N1     144\n",
      "N2     536\n",
      "N3     182\n",
      "NaN     15\n",
      "Name: count, dtype: int64\n"
     ]
    }
   ],
   "source": [
    "# Apply the function to the 'N' column\n",
    "df['N'] = df['N'].apply(extract_main_category)\n",
    "\n",
    "# Display the updated DataFrame\n",
    "print(df['N'].value_counts(dropna=False).sort_index())"
   ]
  },
  {
   "cell_type": "code",
   "execution_count": 402,
   "metadata": {},
   "outputs": [
    {
     "name": "stdout",
     "output_type": "stream",
     "text": [
      "M\n",
      "M0     618\n",
      "M1     657\n",
      "NaN     15\n",
      "Name: count, dtype: int64\n"
     ]
    }
   ],
   "source": [
    "# Apply the function to the 'M' column\n",
    "df['M'] = df['M'].apply(extract_main_category)\n",
    "\n",
    "# Display the updated DataFrame\n",
    "print(df['M'].value_counts(dropna=False).sort_index())"
   ]
  },
  {
   "cell_type": "code",
   "execution_count": 403,
   "metadata": {},
   "outputs": [
    {
     "data": {
      "text/plain": [
       "T\n",
       "T4    415\n",
       "T2    409\n",
       "T1    227\n",
       "T3    224\n",
       "Name: count, dtype: int64"
      ]
     },
     "execution_count": 403,
     "metadata": {},
     "output_type": "execute_result"
    }
   ],
   "source": [
    "# drop the NaN values in T or N or M\n",
    "df = df.dropna(subset=['T', 'N', 'M'])\n",
    "\n",
    "df['T'].value_counts(dropna=False)"
   ]
  },
  {
   "cell_type": "markdown",
   "metadata": {},
   "source": [
    "### Group stage"
   ]
  },
  {
   "cell_type": "code",
   "execution_count": 404,
   "metadata": {},
   "outputs": [
    {
     "data": {
      "text/plain": [
       "Index(['Patient ID', 'Year of diagnosis',\n",
       "       'Derived AJCC Stage Group, 6th ed (2004-2015)',\n",
       "       'Derived AJCC Stage Group, 7th ed (2010-2015)',\n",
       "       'Derived SEER Cmb Stg Grp (2016-2017)',\n",
       "       'Derived EOD 2018 Stage Group (2018+)',\n",
       "       'Chemotherapy recode (yes, no/unk)', 'Radiation recode',\n",
       "       'CS tumor size (2004-2015)', 'Tumor Size Summary (2016+)',\n",
       "       'Survival months', 'Age', 'Marital Status', 'Sex_is_male', 'Race',\n",
       "       'Surgery', 'T', 'N', 'M'],\n",
       "      dtype='object')"
      ]
     },
     "execution_count": 404,
     "metadata": {},
     "output_type": "execute_result"
    }
   ],
   "source": [
    "df.columns  "
   ]
  },
  {
   "cell_type": "code",
   "execution_count": 405,
   "metadata": {},
   "outputs": [],
   "source": [
    "# Logic to combine the columns\n",
    "df['SEER Combined/AJCC Cancer Stage Group'] = df['Derived AJCC Stage Group, 6th ed (2004-2015)']\n",
    "df.loc[df['Year of diagnosis'].between(2010, 2015), 'SEER Combined/AJCC Cancer Stage Group'] = df['Derived AJCC Stage Group, 7th ed (2010-2015)']\n",
    "df.loc[df['Year of diagnosis'].between(2016, 2017), 'SEER Combined/AJCC Cancer Stage Group'] = df['Derived SEER Cmb Stg Grp (2016-2017)']\n",
    "df.loc[df['Year of diagnosis'] >= 2018, 'SEER Combined/AJCC Cancer Stage Group'] = df['Derived EOD 2018 Stage Group (2018+)']\n",
    "\n",
    "# dropping old columns\n",
    "columns_to_drop = [\n",
    "    'Derived AJCC Stage Group, 6th ed (2004-2015)',\n",
    "    'Derived AJCC Stage Group, 7th ed (2010-2015)',\n",
    "    'Derived SEER Cmb Stg Grp (2016-2017)',\n",
    "    'Derived EOD 2018 Stage Group (2018+)'\n",
    "]\n",
    "\n",
    "df.drop(columns=columns_to_drop, inplace=True)"
   ]
  },
  {
   "cell_type": "code",
   "execution_count": 406,
   "metadata": {},
   "outputs": [
    {
     "data": {
      "text/plain": [
       "SEER Combined/AJCC Cancer Stage Group\n",
       "1          4\n",
       "1A        10\n",
       "1A1        2\n",
       "1A2        1\n",
       "1A3        4\n",
       "1B        11\n",
       "2          9\n",
       "2A         5\n",
       "2B        12\n",
       "3          2\n",
       "3A        36\n",
       "3B        17\n",
       "3C         5\n",
       "4         88\n",
       "4A        33\n",
       "4B        51\n",
       "4C         1\n",
       "I          5\n",
       "IA        55\n",
       "IB        58\n",
       "II        18\n",
       "IIA       36\n",
       "IIB       35\n",
       "III       17\n",
       "IIIA     133\n",
       "IIIB     114\n",
       "IIIC       3\n",
       "IIIC1      1\n",
       "IV       495\n",
       "IVA        6\n",
       "IVB        7\n",
       "IVC        1\n",
       "Name: count, dtype: int64"
      ]
     },
     "execution_count": 406,
     "metadata": {},
     "output_type": "execute_result"
    }
   ],
   "source": [
    "df['SEER Combined/AJCC Cancer Stage Group'].value_counts(dropna=False).sort_index()"
   ]
  },
  {
   "cell_type": "code",
   "execution_count": 407,
   "metadata": {},
   "outputs": [
    {
     "data": {
      "text/plain": [
       "Grouped Stage\n",
       "I      150\n",
       "II     115\n",
       "III    328\n",
       "IV     682\n",
       "Name: count, dtype: int64"
      ]
     },
     "execution_count": 407,
     "metadata": {},
     "output_type": "execute_result"
    }
   ],
   "source": [
    "def categorize_stage(df, column_name):\n",
    "    # Define the mapping for each stage to its group\n",
    "    stage_mapping = {\n",
    "        '1':'I', '1A': 'I', '1A1': 'I', '1A2': 'I', '1A3': 'I', '1B': 'I', 'IA': 'I', 'IB': 'I', 'I': 'I',\n",
    "        '2': 'II', '2A': 'II', '2B': 'II', 'II': 'II', 'IIA': 'II', 'IIB': 'II',\n",
    "        '3':'III', '3A': 'III', '3B': 'III', '3C': 'III', 'IIIA': 'III', 'IIIB': 'III', 'IIIC':'III','IIIC1':'III', 'III': 'III', 'IIIC2':'III', \n",
    "        '4': 'IV', '4A': 'IV', '4B': 'IV', '4C':'IV','IV': 'IV', 'IVA':'IV', 'IVB':'IV', 'IVC':'IV'\n",
    "    }\n",
    "\n",
    "    # Apply the mapping to the specified column\n",
    "    df['Grouped Stage'] = df[column_name].map(stage_mapping)\n",
    "\n",
    "    return df\n",
    "\n",
    "\n",
    "df = categorize_stage(df, 'SEER Combined/AJCC Cancer Stage Group')\n",
    "\n",
    "df['Grouped Stage'].value_counts(dropna=False).sort_index()"
   ]
  },
  {
   "cell_type": "code",
   "execution_count": 408,
   "metadata": {},
   "outputs": [],
   "source": [
    "# drop old column\n",
    "df.drop(columns='SEER Combined/AJCC Cancer Stage Group', inplace=True)"
   ]
  },
  {
   "cell_type": "markdown",
   "metadata": {},
   "source": [
    "### Tumor size"
   ]
  },
  {
   "cell_type": "code",
   "execution_count": 409,
   "metadata": {},
   "outputs": [],
   "source": [
    "# Logic to combine the columns\n",
    "df['Tumor Size'] = df['CS tumor size (2004-2015)']\n",
    "df.loc[df['Year of diagnosis'] >= 2016, 'Tumor Size'] = df['Tumor Size Summary (2016+)']\n",
    "\n",
    "\n",
    "# drop old columns\n",
    "columns_to_drop = [\n",
    "    'CS tumor size (2004-2015)',\n",
    "    'Tumor Size Summary (2016+)'\n",
    "]\n",
    "\n",
    "df.drop(columns=columns_to_drop, inplace=True)"
   ]
  },
  {
   "cell_type": "code",
   "execution_count": 410,
   "metadata": {},
   "outputs": [
    {
     "data": {
      "text/plain": [
       "Tumor Size\n",
       "1        1\n",
       "2        1\n",
       "5        1\n",
       "6        2\n",
       "7        2\n",
       "      ... \n",
       "990      1\n",
       "991      1\n",
       "992      1\n",
       "994      2\n",
       "999    226\n",
       "Name: count, Length: 133, dtype: int64"
      ]
     },
     "execution_count": 410,
     "metadata": {},
     "output_type": "execute_result"
    }
   ],
   "source": [
    "df['Tumor Size'] = df['Tumor Size'].astype('int64')\n",
    "df['Tumor Size'].value_counts(dropna=False).sort_index()"
   ]
  },
  {
   "cell_type": "markdown",
   "metadata": {},
   "source": [
    "### Survival months"
   ]
  },
  {
   "cell_type": "code",
   "execution_count": 411,
   "metadata": {},
   "outputs": [],
   "source": [
    "# drop the NaN values in Survival months\n",
    "df = df.dropna(subset=['Survival months'])\n",
    "\n",
    "# drop the 'Unknown' values in Survival months\n",
    "df = df[df['Survival months'] != 'Unknown']"
   ]
  },
  {
   "cell_type": "code",
   "execution_count": 412,
   "metadata": {},
   "outputs": [],
   "source": [
    "df['Survival months'] = df['Survival months'].astype('int64')"
   ]
  },
  {
   "cell_type": "code",
   "execution_count": 413,
   "metadata": {},
   "outputs": [
    {
     "data": {
      "text/plain": [
       "(1274, 15)"
      ]
     },
     "execution_count": 413,
     "metadata": {},
     "output_type": "execute_result"
    }
   ],
   "source": [
    "df.shape"
   ]
  },
  {
   "cell_type": "code",
   "execution_count": 417,
   "metadata": {},
   "outputs": [
    {
     "data": {
      "text/plain": [
       "<Axes: title={'center': 'Survival Months'}, xlabel='Survival Months', ylabel='Frequency'>"
      ]
     },
     "execution_count": 417,
     "metadata": {},
     "output_type": "execute_result"
    },
    {
     "data": {
      "image/png": "[encoded data removed]",
      "text/plain": [
       "<Figure size 1000x500 with 1 Axes>"
      ]
     },
     "metadata": {},
     "output_type": "display_data"
    }
   ],
   "source": [
    "# plot the survival months\n",
    "df['Survival months'].plot(kind='hist', bins=100,\n",
    "                            figsize=(10, 5), title='Survival Months',\n",
    "                            xlabel='Survival Months', ylabel='Frequency')"
   ]
  },
  {
   "cell_type": "code",
   "execution_count": 418,
   "metadata": {},
   "outputs": [
    {
     "data": {
      "text/plain": [
       "Survival months\n",
       "0      129\n",
       "1      104\n",
       "2       71\n",
       "3       59\n",
       "4       64\n",
       "      ... \n",
       "103      1\n",
       "112      1\n",
       "119      1\n",
       "130      1\n",
       "139      1\n",
       "Name: count, Length: 82, dtype: int64"
      ]
     },
     "execution_count": 418,
     "metadata": {},
     "output_type": "execute_result"
    }
   ],
   "source": [
    "df['Survival months'].value_counts(dropna=False).sort_index()"
   ]
  },
  {
   "cell_type": "code",
   "execution_count": null,
   "metadata": {},
   "outputs": [],
   "source": [
    "# save the df to a new csv file called cleaned_data.csv\n",
    "df.to_csv('Data/cleaned_data.csv', index=False)"
   ]
  }
 ],
 "metadata": {
  "kernelspec": {
   "display_name": "Python 3",
   "language": "python",
   "name": "python3"
  },
  "language_info": {
   "codemirror_mode": {
    "name": "ipython",
    "version": 3
   },
   "file_extension": ".py",
   "mimetype": "text/x-python",
   "name": "python",
   "nbconvert_exporter": "python",
   "pygments_lexer": "ipython3",
   "version": "3.11.4"
  }
 },
 "nbformat": 4,
 "nbformat_minor": 2
}
