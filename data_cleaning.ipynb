{
 "cells": [
  {
   "cell_type": "code",
   "execution_count": 1,
   "metadata": {},
   "outputs": [],
   "source": [
    "import pandas as pd\n",
    "import numpy as np"
   ]
  },
  {
   "cell_type": "markdown",
   "metadata": {},
   "source": [
    "## Load Data"
   ]
  },
  {
   "cell_type": "code",
   "execution_count": 2,
   "metadata": {},
   "outputs": [],
   "source": [
    "df_raw = pd.read_csv('Data/export.csv')"
   ]
  },
  {
   "cell_type": "code",
   "execution_count": 3,
   "metadata": {},
   "outputs": [],
   "source": [
    "df = df_raw.copy()"
   ]
  },
  {
   "cell_type": "code",
   "execution_count": 4,
   "metadata": {},
   "outputs": [
    {
     "data": {
      "text/html": [
       "<div>\n",
       "<style scoped>\n",
       "    .dataframe tbody tr th:only-of-type {\n",
       "        vertical-align: middle;\n",
       "    }\n",
       "\n",
       "    .dataframe tbody tr th {\n",
       "        vertical-align: top;\n",
       "    }\n",
       "\n",
       "    .dataframe thead th {\n",
       "        text-align: right;\n",
       "    }\n",
       "</style>\n",
       "<table border=\"1\" class=\"dataframe\">\n",
       "  <thead>\n",
       "    <tr style=\"text-align: right;\">\n",
       "      <th></th>\n",
       "      <th>Patient ID</th>\n",
       "      <th>Age recode with &lt;1 year olds</th>\n",
       "      <th>Marital status at diagnosis</th>\n",
       "      <th>Year of diagnosis</th>\n",
       "      <th>Sex</th>\n",
       "      <th>Race recode (W, B, AI, API)</th>\n",
       "      <th>Derived AJCC T, 6th ed (2004-2015)</th>\n",
       "      <th>Derived AJCC N, 6th ed (2004-2015)</th>\n",
       "      <th>Derived AJCC M, 6th ed (2004-2015)</th>\n",
       "      <th>Derived AJCC Stage Group, 6th ed (2004-2015)</th>\n",
       "      <th>...</th>\n",
       "      <th>Derived EOD 2018 T (2018+)</th>\n",
       "      <th>Derived EOD 2018 N (2018+)</th>\n",
       "      <th>Derived EOD 2018 M (2018+)</th>\n",
       "      <th>Derived EOD 2018 Stage Group (2018+)</th>\n",
       "      <th>Chemotherapy recode (yes, no/unk)</th>\n",
       "      <th>Radiation recode</th>\n",
       "      <th>RX Summ--Scope Reg LN Sur (2003+)</th>\n",
       "      <th>CS tumor size (2004-2015)</th>\n",
       "      <th>Tumor Size Summary (2016+)</th>\n",
       "      <th>Survival months</th>\n",
       "    </tr>\n",
       "  </thead>\n",
       "  <tbody>\n",
       "    <tr>\n",
       "      <th>0</th>\n",
       "      <td>840290</td>\n",
       "      <td>70-74 years</td>\n",
       "      <td>Married (including common law)</td>\n",
       "      <td>2004</td>\n",
       "      <td>Female</td>\n",
       "      <td>White</td>\n",
       "      <td>T2</td>\n",
       "      <td>N0</td>\n",
       "      <td>M1</td>\n",
       "      <td>IV</td>\n",
       "      <td>...</td>\n",
       "      <td>Blank(s)</td>\n",
       "      <td>Blank(s)</td>\n",
       "      <td>Blank(s)</td>\n",
       "      <td>Blank(s)</td>\n",
       "      <td>Yes</td>\n",
       "      <td>None/Unknown</td>\n",
       "      <td>NaN</td>\n",
       "      <td>025</td>\n",
       "      <td>Blank(s)</td>\n",
       "      <td>0008</td>\n",
       "    </tr>\n",
       "    <tr>\n",
       "      <th>1</th>\n",
       "      <td>960311</td>\n",
       "      <td>65-69 years</td>\n",
       "      <td>Separated</td>\n",
       "      <td>2004</td>\n",
       "      <td>Male</td>\n",
       "      <td>White</td>\n",
       "      <td>T3a</td>\n",
       "      <td>N1</td>\n",
       "      <td>M0</td>\n",
       "      <td>IV</td>\n",
       "      <td>...</td>\n",
       "      <td>Blank(s)</td>\n",
       "      <td>Blank(s)</td>\n",
       "      <td>Blank(s)</td>\n",
       "      <td>Blank(s)</td>\n",
       "      <td>Yes</td>\n",
       "      <td>None/Unknown</td>\n",
       "      <td>NaN</td>\n",
       "      <td>999</td>\n",
       "      <td>Blank(s)</td>\n",
       "      <td>0053</td>\n",
       "    </tr>\n",
       "    <tr>\n",
       "      <th>2</th>\n",
       "      <td>9035323</td>\n",
       "      <td>55-59 years</td>\n",
       "      <td>Single (never married)</td>\n",
       "      <td>2004</td>\n",
       "      <td>Female</td>\n",
       "      <td>Asian or Pacific Islander</td>\n",
       "      <td>T4</td>\n",
       "      <td>N3</td>\n",
       "      <td>M1</td>\n",
       "      <td>IV</td>\n",
       "      <td>...</td>\n",
       "      <td>Blank(s)</td>\n",
       "      <td>Blank(s)</td>\n",
       "      <td>Blank(s)</td>\n",
       "      <td>Blank(s)</td>\n",
       "      <td>No/Unknown</td>\n",
       "      <td>None/Unknown</td>\n",
       "      <td>NaN</td>\n",
       "      <td>999</td>\n",
       "      <td>Blank(s)</td>\n",
       "      <td>0006</td>\n",
       "    </tr>\n",
       "  </tbody>\n",
       "</table>\n",
       "<p>3 rows × 28 columns</p>\n",
       "</div>"
      ],
      "text/plain": [
       "   Patient ID Age recode with <1 year olds     Marital status at diagnosis  \\\n",
       "0      840290                  70-74 years  Married (including common law)   \n",
       "1      960311                  65-69 years                       Separated   \n",
       "2     9035323                  55-59 years          Single (never married)   \n",
       "\n",
       "   Year of diagnosis     Sex Race recode (W, B, AI, API)  \\\n",
       "0               2004  Female                       White   \n",
       "1               2004    Male                       White   \n",
       "2               2004  Female   Asian or Pacific Islander   \n",
       "\n",
       "  Derived AJCC T, 6th ed (2004-2015) Derived AJCC N, 6th ed (2004-2015)  \\\n",
       "0                                 T2                                 N0   \n",
       "1                                T3a                                 N1   \n",
       "2                                 T4                                 N3   \n",
       "\n",
       "  Derived AJCC M, 6th ed (2004-2015)  \\\n",
       "0                                 M1   \n",
       "1                                 M0   \n",
       "2                                 M1   \n",
       "\n",
       "  Derived AJCC Stage Group, 6th ed (2004-2015)  ...  \\\n",
       "0                                           IV  ...   \n",
       "1                                           IV  ...   \n",
       "2                                           IV  ...   \n",
       "\n",
       "  Derived EOD 2018 T (2018+) Derived EOD 2018 N (2018+)  \\\n",
       "0                   Blank(s)                   Blank(s)   \n",
       "1                   Blank(s)                   Blank(s)   \n",
       "2                   Blank(s)                   Blank(s)   \n",
       "\n",
       "  Derived EOD 2018 M (2018+) Derived EOD 2018 Stage Group (2018+)  \\\n",
       "0                   Blank(s)                             Blank(s)   \n",
       "1                   Blank(s)                             Blank(s)   \n",
       "2                   Blank(s)                             Blank(s)   \n",
       "\n",
       "  Chemotherapy recode (yes, no/unk) Radiation recode  \\\n",
       "0                               Yes     None/Unknown   \n",
       "1                               Yes     None/Unknown   \n",
       "2                        No/Unknown     None/Unknown   \n",
       "\n",
       "  RX Summ--Scope Reg LN Sur (2003+) CS tumor size (2004-2015)  \\\n",
       "0                               NaN                       025   \n",
       "1                               NaN                       999   \n",
       "2                               NaN                       999   \n",
       "\n",
       "  Tumor Size Summary (2016+) Survival months  \n",
       "0                   Blank(s)            0008  \n",
       "1                   Blank(s)            0053  \n",
       "2                   Blank(s)            0006  \n",
       "\n",
       "[3 rows x 28 columns]"
      ]
     },
     "metadata": {},
     "output_type": "display_data"
    },
    {
     "data": {
      "text/plain": [
       "(1619, 28)"
      ]
     },
     "metadata": {},
     "output_type": "display_data"
    }
   ],
   "source": [
    "display(df.head(3),df.shape)"
   ]
  },
  {
   "cell_type": "code",
   "execution_count": 5,
   "metadata": {},
   "outputs": [
    {
     "data": {
      "text/plain": [
       "<Axes: xlabel='Year of diagnosis'>"
      ]
     },
     "execution_count": 5,
     "metadata": {},
     "output_type": "execute_result"
    },
    {
     "data": {
      "image/png": "[encoded data removed]",
      "text/plain": [
       "<Figure size 1000x500 with 1 Axes>"
      ]
     },
     "metadata": {},
     "output_type": "display_data"
    }
   ],
   "source": [
    "df['Year of diagnosis'].value_counts(dropna=False).sort_index().plot(kind='bar', figsize=(10, 5))"
   ]
  },
  {
   "cell_type": "code",
   "execution_count": 6,
   "metadata": {},
   "outputs": [
    {
     "name": "stdout",
     "output_type": "stream",
     "text": [
      "<class 'pandas.core.frame.DataFrame'>\n",
      "RangeIndex: 1619 entries, 0 to 1618\n",
      "Data columns (total 28 columns):\n",
      " #   Column                                        Non-Null Count  Dtype \n",
      "---  ------                                        --------------  ----- \n",
      " 0   Patient ID                                    1619 non-null   int64 \n",
      " 1   Age recode with <1 year olds                  1619 non-null   object\n",
      " 2   Marital status at diagnosis                   1619 non-null   object\n",
      " 3   Year of diagnosis                             1619 non-null   int64 \n",
      " 4   Sex                                           1619 non-null   object\n",
      " 5   Race recode (W, B, AI, API)                   1619 non-null   object\n",
      " 6   Derived AJCC T, 6th ed (2004-2015)            1604 non-null   object\n",
      " 7   Derived AJCC N, 6th ed (2004-2015)            1604 non-null   object\n",
      " 8   Derived AJCC M, 6th ed (2004-2015)            1604 non-null   object\n",
      " 9   Derived AJCC Stage Group, 6th ed (2004-2015)  1604 non-null   object\n",
      " 10  Derived AJCC T, 7th ed (2010-2015)            1613 non-null   object\n",
      " 11  Derived AJCC N, 7th ed (2010-2015)            1613 non-null   object\n",
      " 12  Derived AJCC M, 7th ed (2010-2015)            1613 non-null   object\n",
      " 13  Derived AJCC Stage Group, 7th ed (2010-2015)  1613 non-null   object\n",
      " 14  Derived SEER Combined T (2016-2017)           1619 non-null   object\n",
      " 15  Derived SEER Combined N (2016-2017)           1619 non-null   object\n",
      " 16  Derived SEER Combined M (2016-2017)           1619 non-null   object\n",
      " 17  Derived SEER Cmb Stg Grp (2016-2017)          1619 non-null   object\n",
      " 18  Derived EOD 2018 T (2018+)                    1619 non-null   object\n",
      " 19  Derived EOD 2018 N (2018+)                    1619 non-null   object\n",
      " 20  Derived EOD 2018 M (2018+)                    1619 non-null   object\n",
      " 21  Derived EOD 2018 Stage Group (2018+)          1619 non-null   object\n",
      " 22  Chemotherapy recode (yes, no/unk)             1619 non-null   object\n",
      " 23  Radiation recode                              1619 non-null   object\n",
      " 24  RX Summ--Scope Reg LN Sur (2003+)             484 non-null    object\n",
      " 25  CS tumor size (2004-2015)                     1619 non-null   object\n",
      " 26  Tumor Size Summary (2016+)                    1619 non-null   object\n",
      " 27  Survival months                               1619 non-null   object\n",
      "dtypes: int64(2), object(26)\n",
      "memory usage: 354.3+ KB\n"
     ]
    }
   ],
   "source": [
    "df.info()"
   ]
  },
  {
   "cell_type": "markdown",
   "metadata": {},
   "source": [
    "## Separate the data into two parts: 2004-2015 and 2018-2020"
   ]
  },
  {
   "cell_type": "code",
   "execution_count": 7,
   "metadata": {},
   "outputs": [],
   "source": [
    "df1 = df[df['Year of diagnosis'].between(2004, 2015)]\n",
    "# Drop the out-of-range columns\n",
    "drop_cols1 = ['Derived AJCC T, 7th ed (2010-2015)','Derived AJCC N, 7th ed (2010-2015)','Derived AJCC M, 7th ed (2010-2015)', \n",
    "              'Derived AJCC Stage Group, 7th ed (2010-2015)','Derived SEER Combined T (2016-2017)','Derived SEER Combined N (2016-2017)',\n",
    "              'Derived SEER Combined M (2016-2017)','Derived SEER Cmb Stg Grp (2016-2017)','Derived EOD 2018 T (2018+)',\n",
    "              'Derived EOD 2018 N (2018+)','Derived EOD 2018 M (2018+)','Derived EOD 2018 Stage Group (2018+)','Tumor Size Summary (2016+)']\n",
    "df1 = df1.drop(columns=drop_cols1)\n",
    "\n",
    "df2 = df[df['Year of diagnosis']>= 2018]\n",
    "# Drop the out-of-range columns\n",
    "drop_cols2 = ['Derived AJCC T, 6th ed (2004-2015)', 'Derived AJCC N, 6th ed (2004-2015)','Derived AJCC M, 6th ed (2004-2015)', 'Derived AJCC Stage Group, 6th ed (2004-2015)',\n",
    "              'Derived AJCC T, 7th ed (2010-2015)','Derived AJCC N, 7th ed (2010-2015)','Derived AJCC M, 7th ed (2010-2015)',\n",
    "              'Derived AJCC Stage Group, 7th ed (2010-2015)','Derived SEER Combined T (2016-2017)','Derived SEER Combined N (2016-2017)',\n",
    "              'Derived SEER Combined M (2016-2017)','Derived SEER Cmb Stg Grp (2016-2017)','CS tumor size (2004-2015)']\n",
    "df2 = df2.drop(columns=drop_cols2)"
   ]
  },
  {
   "cell_type": "code",
   "execution_count": 8,
   "metadata": {},
   "outputs": [
    {
     "data": {
      "text/html": [
       "<div>\n",
       "<style scoped>\n",
       "    .dataframe tbody tr th:only-of-type {\n",
       "        vertical-align: middle;\n",
       "    }\n",
       "\n",
       "    .dataframe tbody tr th {\n",
       "        vertical-align: top;\n",
       "    }\n",
       "\n",
       "    .dataframe thead th {\n",
       "        text-align: right;\n",
       "    }\n",
       "</style>\n",
       "<table border=\"1\" class=\"dataframe\">\n",
       "  <thead>\n",
       "    <tr style=\"text-align: right;\">\n",
       "      <th></th>\n",
       "      <th>Patient ID</th>\n",
       "      <th>Age recode with &lt;1 year olds</th>\n",
       "      <th>Marital status at diagnosis</th>\n",
       "      <th>Year of diagnosis</th>\n",
       "      <th>Sex</th>\n",
       "      <th>Race recode (W, B, AI, API)</th>\n",
       "      <th>Derived AJCC T, 6th ed (2004-2015)</th>\n",
       "      <th>Derived AJCC N, 6th ed (2004-2015)</th>\n",
       "      <th>Derived AJCC M, 6th ed (2004-2015)</th>\n",
       "      <th>Derived AJCC Stage Group, 6th ed (2004-2015)</th>\n",
       "      <th>Chemotherapy recode (yes, no/unk)</th>\n",
       "      <th>Radiation recode</th>\n",
       "      <th>RX Summ--Scope Reg LN Sur (2003+)</th>\n",
       "      <th>CS tumor size (2004-2015)</th>\n",
       "      <th>Survival months</th>\n",
       "    </tr>\n",
       "  </thead>\n",
       "  <tbody>\n",
       "    <tr>\n",
       "      <th>0</th>\n",
       "      <td>840290</td>\n",
       "      <td>70-74 years</td>\n",
       "      <td>Married (including common law)</td>\n",
       "      <td>2004</td>\n",
       "      <td>Female</td>\n",
       "      <td>White</td>\n",
       "      <td>T2</td>\n",
       "      <td>N0</td>\n",
       "      <td>M1</td>\n",
       "      <td>IV</td>\n",
       "      <td>Yes</td>\n",
       "      <td>None/Unknown</td>\n",
       "      <td>NaN</td>\n",
       "      <td>025</td>\n",
       "      <td>0008</td>\n",
       "    </tr>\n",
       "    <tr>\n",
       "      <th>1</th>\n",
       "      <td>960311</td>\n",
       "      <td>65-69 years</td>\n",
       "      <td>Separated</td>\n",
       "      <td>2004</td>\n",
       "      <td>Male</td>\n",
       "      <td>White</td>\n",
       "      <td>T3a</td>\n",
       "      <td>N1</td>\n",
       "      <td>M0</td>\n",
       "      <td>IV</td>\n",
       "      <td>Yes</td>\n",
       "      <td>None/Unknown</td>\n",
       "      <td>NaN</td>\n",
       "      <td>999</td>\n",
       "      <td>0053</td>\n",
       "    </tr>\n",
       "    <tr>\n",
       "      <th>2</th>\n",
       "      <td>9035323</td>\n",
       "      <td>55-59 years</td>\n",
       "      <td>Single (never married)</td>\n",
       "      <td>2004</td>\n",
       "      <td>Female</td>\n",
       "      <td>Asian or Pacific Islander</td>\n",
       "      <td>T4</td>\n",
       "      <td>N3</td>\n",
       "      <td>M1</td>\n",
       "      <td>IV</td>\n",
       "      <td>No/Unknown</td>\n",
       "      <td>None/Unknown</td>\n",
       "      <td>NaN</td>\n",
       "      <td>999</td>\n",
       "      <td>0006</td>\n",
       "    </tr>\n",
       "  </tbody>\n",
       "</table>\n",
       "</div>"
      ],
      "text/plain": [
       "   Patient ID Age recode with <1 year olds     Marital status at diagnosis  \\\n",
       "0      840290                  70-74 years  Married (including common law)   \n",
       "1      960311                  65-69 years                       Separated   \n",
       "2     9035323                  55-59 years          Single (never married)   \n",
       "\n",
       "   Year of diagnosis     Sex Race recode (W, B, AI, API)  \\\n",
       "0               2004  Female                       White   \n",
       "1               2004    Male                       White   \n",
       "2               2004  Female   Asian or Pacific Islander   \n",
       "\n",
       "  Derived AJCC T, 6th ed (2004-2015) Derived AJCC N, 6th ed (2004-2015)  \\\n",
       "0                                 T2                                 N0   \n",
       "1                                T3a                                 N1   \n",
       "2                                 T4                                 N3   \n",
       "\n",
       "  Derived AJCC M, 6th ed (2004-2015)  \\\n",
       "0                                 M1   \n",
       "1                                 M0   \n",
       "2                                 M1   \n",
       "\n",
       "  Derived AJCC Stage Group, 6th ed (2004-2015)  \\\n",
       "0                                           IV   \n",
       "1                                           IV   \n",
       "2                                           IV   \n",
       "\n",
       "  Chemotherapy recode (yes, no/unk) Radiation recode  \\\n",
       "0                               Yes     None/Unknown   \n",
       "1                               Yes     None/Unknown   \n",
       "2                        No/Unknown     None/Unknown   \n",
       "\n",
       "  RX Summ--Scope Reg LN Sur (2003+) CS tumor size (2004-2015) Survival months  \n",
       "0                               NaN                       025            0008  \n",
       "1                               NaN                       999            0053  \n",
       "2                               NaN                       999            0006  "
      ]
     },
     "metadata": {},
     "output_type": "display_data"
    },
    {
     "data": {
      "text/plain": [
       "(1192, 15)"
      ]
     },
     "metadata": {},
     "output_type": "display_data"
    },
    {
     "data": {
      "text/html": [
       "<div>\n",
       "<style scoped>\n",
       "    .dataframe tbody tr th:only-of-type {\n",
       "        vertical-align: middle;\n",
       "    }\n",
       "\n",
       "    .dataframe tbody tr th {\n",
       "        vertical-align: top;\n",
       "    }\n",
       "\n",
       "    .dataframe thead th {\n",
       "        text-align: right;\n",
       "    }\n",
       "</style>\n",
       "<table border=\"1\" class=\"dataframe\">\n",
       "  <thead>\n",
       "    <tr style=\"text-align: right;\">\n",
       "      <th></th>\n",
       "      <th>Patient ID</th>\n",
       "      <th>Age recode with &lt;1 year olds</th>\n",
       "      <th>Marital status at diagnosis</th>\n",
       "      <th>Year of diagnosis</th>\n",
       "      <th>Sex</th>\n",
       "      <th>Race recode (W, B, AI, API)</th>\n",
       "      <th>Derived EOD 2018 T (2018+)</th>\n",
       "      <th>Derived EOD 2018 N (2018+)</th>\n",
       "      <th>Derived EOD 2018 M (2018+)</th>\n",
       "      <th>Derived EOD 2018 Stage Group (2018+)</th>\n",
       "      <th>Chemotherapy recode (yes, no/unk)</th>\n",
       "      <th>Radiation recode</th>\n",
       "      <th>RX Summ--Scope Reg LN Sur (2003+)</th>\n",
       "      <th>Tumor Size Summary (2016+)</th>\n",
       "      <th>Survival months</th>\n",
       "    </tr>\n",
       "  </thead>\n",
       "  <tbody>\n",
       "    <tr>\n",
       "      <th>1373</th>\n",
       "      <td>24474114</td>\n",
       "      <td>85+ years</td>\n",
       "      <td>Widowed</td>\n",
       "      <td>2018</td>\n",
       "      <td>Male</td>\n",
       "      <td>White</td>\n",
       "      <td>88</td>\n",
       "      <td>88</td>\n",
       "      <td>88</td>\n",
       "      <td>88</td>\n",
       "      <td>No/Unknown</td>\n",
       "      <td>None/Unknown</td>\n",
       "      <td>NaN</td>\n",
       "      <td>999</td>\n",
       "      <td>0004</td>\n",
       "    </tr>\n",
       "    <tr>\n",
       "      <th>1374</th>\n",
       "      <td>50247258</td>\n",
       "      <td>50-54 years</td>\n",
       "      <td>Married (including common law)</td>\n",
       "      <td>2018</td>\n",
       "      <td>Male</td>\n",
       "      <td>White</td>\n",
       "      <td>T0</td>\n",
       "      <td>N3</td>\n",
       "      <td>M1c</td>\n",
       "      <td>4B</td>\n",
       "      <td>Yes</td>\n",
       "      <td>Beam radiation</td>\n",
       "      <td>NaN</td>\n",
       "      <td>000</td>\n",
       "      <td>0005</td>\n",
       "    </tr>\n",
       "    <tr>\n",
       "      <th>1375</th>\n",
       "      <td>11279220</td>\n",
       "      <td>75-79 years</td>\n",
       "      <td>Divorced</td>\n",
       "      <td>2018</td>\n",
       "      <td>Male</td>\n",
       "      <td>White</td>\n",
       "      <td>T1b</td>\n",
       "      <td>N0</td>\n",
       "      <td>M0</td>\n",
       "      <td>1A2</td>\n",
       "      <td>Yes</td>\n",
       "      <td>Beam radiation</td>\n",
       "      <td>NaN</td>\n",
       "      <td>020</td>\n",
       "      <td>0025</td>\n",
       "    </tr>\n",
       "  </tbody>\n",
       "</table>\n",
       "</div>"
      ],
      "text/plain": [
       "      Patient ID Age recode with <1 year olds     Marital status at diagnosis  \\\n",
       "1373    24474114                    85+ years                         Widowed   \n",
       "1374    50247258                  50-54 years  Married (including common law)   \n",
       "1375    11279220                  75-79 years                        Divorced   \n",
       "\n",
       "      Year of diagnosis   Sex Race recode (W, B, AI, API)  \\\n",
       "1373               2018  Male                       White   \n",
       "1374               2018  Male                       White   \n",
       "1375               2018  Male                       White   \n",
       "\n",
       "     Derived EOD 2018 T (2018+) Derived EOD 2018 N (2018+)  \\\n",
       "1373                         88                         88   \n",
       "1374                         T0                         N3   \n",
       "1375                        T1b                         N0   \n",
       "\n",
       "     Derived EOD 2018 M (2018+) Derived EOD 2018 Stage Group (2018+)  \\\n",
       "1373                         88                                   88   \n",
       "1374                        M1c                                   4B   \n",
       "1375                         M0                                  1A2   \n",
       "\n",
       "     Chemotherapy recode (yes, no/unk) Radiation recode  \\\n",
       "1373                        No/Unknown     None/Unknown   \n",
       "1374                               Yes   Beam radiation   \n",
       "1375                               Yes   Beam radiation   \n",
       "\n",
       "     RX Summ--Scope Reg LN Sur (2003+) Tumor Size Summary (2016+)  \\\n",
       "1373                               NaN                        999   \n",
       "1374                               NaN                        000   \n",
       "1375                               NaN                        020   \n",
       "\n",
       "     Survival months  \n",
       "1373            0004  \n",
       "1374            0005  \n",
       "1375            0025  "
      ]
     },
     "metadata": {},
     "output_type": "display_data"
    },
    {
     "data": {
      "text/plain": [
       "(246, 15)"
      ]
     },
     "metadata": {},
     "output_type": "display_data"
    }
   ],
   "source": [
    "display(df1.head(3),df1.shape,df2.head(3),df2.shape)"
   ]
  },
  {
   "cell_type": "markdown",
   "metadata": {},
   "source": [
    "## Data Cleaning"
   ]
  },
  {
   "cell_type": "markdown",
   "metadata": {},
   "source": [
    "### Age\n",
    "SEER database collection"
   ]
  },
  {
   "cell_type": "code",
   "execution_count": 9,
   "metadata": {},
   "outputs": [
    {
     "data": {
      "text/plain": [
       "Age recode with <1 year olds\n",
       "25-29 years      2\n",
       "30-34 years      1\n",
       "35-39 years      3\n",
       "40-44 years     15\n",
       "45-49 years     39\n",
       "50-54 years     76\n",
       "55-59 years    120\n",
       "60-64 years    152\n",
       "65-69 years    223\n",
       "70-74 years    199\n",
       "75-79 years    175\n",
       "80-84 years    130\n",
       "85+ years       57\n",
       "Name: count, dtype: int64"
      ]
     },
     "execution_count": 9,
     "metadata": {},
     "output_type": "execute_result"
    }
   ],
   "source": [
    "df1['Age recode with <1 year olds'].value_counts(dropna=False).sort_index()"
   ]
  },
  {
   "cell_type": "code",
   "execution_count": 10,
   "metadata": {},
   "outputs": [
    {
     "data": {
      "text/plain": [
       "Age recode with <1 year olds\n",
       "35-39 years     2\n",
       "45-49 years     4\n",
       "50-54 years     2\n",
       "55-59 years    18\n",
       "60-64 years    32\n",
       "65-69 years    48\n",
       "70-74 years    49\n",
       "75-79 years    34\n",
       "80-84 years    33\n",
       "85+ years      24\n",
       "Name: count, dtype: int64"
      ]
     },
     "execution_count": 10,
     "metadata": {},
     "output_type": "execute_result"
    }
   ],
   "source": [
    "df2['Age recode with <1 year olds'].value_counts(dropna=False).sort_index()"
   ]
  },
  {
   "cell_type": "code",
   "execution_count": 11,
   "metadata": {},
   "outputs": [],
   "source": [
    "# Define a mapping function\n",
    "def group_ages1(age):\n",
    "    if age in [ '25-29 years','30-34 years','35-39 years']:\n",
    "        return '25-39 years'\n",
    "    else:\n",
    "        return age\n",
    "    \n",
    "def group_ages2(age):\n",
    "    if age in [ '35-39 years','45-49 years','50-54 years']:\n",
    "        return '35-54 years'\n",
    "    else:\n",
    "        return age"
   ]
  },
  {
   "cell_type": "code",
   "execution_count": 12,
   "metadata": {},
   "outputs": [],
   "source": [
    "# Apply the mapping function to the age column\n",
    "df1['Age recode with <1 year olds'] = df1['Age recode with <1 year olds'].astype(str)\n",
    "df1['Age'] = df1['Age recode with <1 year olds'].apply(group_ages1)\n",
    "\n",
    "df2['Age recode with <1 year olds'] = df2['Age recode with <1 year olds'].astype(str)\n",
    "df2['Age'] = df2['Age recode with <1 year olds'].apply(group_ages2)\n",
    "\n",
    "# Drop the original age column\n",
    "df1 = df1.drop(columns=['Age recode with <1 year olds'])\n",
    "df2 = df2.drop(columns=['Age recode with <1 year olds'])"
   ]
  },
  {
   "cell_type": "markdown",
   "metadata": {},
   "source": [
    "### Marital Status"
   ]
  },
  {
   "cell_type": "code",
   "execution_count": 188,
   "metadata": {},
   "outputs": [],
   "source": [
    "def categorize_marital_status(df, column_name):\n",
    "    # Define the mapping for each status to its group\n",
    "    status_mapping = {\n",
    "        'Married (including common law)': 'Married',\n",
    "        'Unmarried or Domestic Partner': 'Married',  \n",
    "        'Single (never married)': 'Single (never married)',\n",
    "        'Separated': 'Single',  \n",
    "        'Divorced': 'Single',   \n",
    "        'Widowed': 'Single',    \n",
    "        'Unknown': 'Unknown/Other'\n",
    "    }\n",
    "\n",
    "    # Apply the mapping to the specified column\n",
    "    df['Marital Status'] = df[column_name].map(status_mapping).fillna('Unknown/Other')\n",
    "\n",
    "    return df\n",
    "\n",
    "# Apply the function to the 'Marital status at diagnosis' column\n",
    "df1 = categorize_marital_status(df1, 'Marital status at diagnosis')\n",
    "df2 = categorize_marital_status(df2, 'Marital status at diagnosis')\n",
    "\n",
    "# drop old column\n",
    "df1.drop(columns='Marital status at diagnosis', inplace=True)\n",
    "df2.drop(columns='Marital status at diagnosis', inplace=True)"
   ]
  },
  {
   "cell_type": "markdown",
   "metadata": {},
   "source": [
    "### Sex"
   ]
  },
  {
   "cell_type": "code",
   "execution_count": 189,
   "metadata": {},
   "outputs": [
    {
     "data": {
      "text/plain": [
       "Sex\n",
       "Male      703\n",
       "Female    489\n",
       "Name: count, dtype: int64"
      ]
     },
     "execution_count": 189,
     "metadata": {},
     "output_type": "execute_result"
    }
   ],
   "source": [
    "df1['Sex'].value_counts(dropna=False)"
   ]
  },
  {
   "cell_type": "code",
   "execution_count": 190,
   "metadata": {},
   "outputs": [
    {
     "data": {
      "text/plain": [
       "Sex\n",
       "Male      156\n",
       "Female     90\n",
       "Name: count, dtype: int64"
      ]
     },
     "execution_count": 190,
     "metadata": {},
     "output_type": "execute_result"
    }
   ],
   "source": [
    "df2['Sex'].value_counts(dropna=False)"
   ]
  },
  {
   "cell_type": "code",
   "execution_count": 191,
   "metadata": {},
   "outputs": [],
   "source": [
    "# binary encoding\n",
    "df1['Sex_is_male'] = df1['Sex'].map({'Male': 1, 'Female': 0})\n",
    "df2['Sex_is_male'] = df2['Sex'].map({'Male': 1, 'Female': 0})\n",
    "\n",
    "# drop old column\n",
    "df1.drop(columns=['Sex'], inplace=True)\n",
    "df2.drop(columns=['Sex'], inplace=True)"
   ]
  },
  {
   "cell_type": "markdown",
   "metadata": {},
   "source": [
    "### Race"
   ]
  },
  {
   "cell_type": "code",
   "execution_count": 192,
   "metadata": {},
   "outputs": [
    {
     "data": {
      "text/plain": [
       "Race recode (W, B, AI, API)\n",
       "White                            1037\n",
       "Black                             116\n",
       "Asian or Pacific Islander          33\n",
       "American Indian/Alaska Native       6\n",
       "Name: count, dtype: int64"
      ]
     },
     "execution_count": 192,
     "metadata": {},
     "output_type": "execute_result"
    }
   ],
   "source": [
    "df1['Race recode (W, B, AI, API)'].value_counts(dropna=False)"
   ]
  },
  {
   "cell_type": "code",
   "execution_count": 193,
   "metadata": {},
   "outputs": [
    {
     "data": {
      "text/plain": [
       "Race recode (W, B, AI, API)\n",
       "White                            206\n",
       "Black                             27\n",
       "Asian or Pacific Islander          8\n",
       "American Indian/Alaska Native      5\n",
       "Name: count, dtype: int64"
      ]
     },
     "execution_count": 193,
     "metadata": {},
     "output_type": "execute_result"
    }
   ],
   "source": [
    "df2['Race recode (W, B, AI, API)'].value_counts(dropna=False)"
   ]
  },
  {
   "cell_type": "code",
   "execution_count": 194,
   "metadata": {},
   "outputs": [],
   "source": [
    "# Group Asian or Pacific Islander and American Indian/Alaska Native as Other\n",
    "df1['Race']= df1['Race recode (W, B, AI, API)'].replace({\n",
    "        'Asian or Pacific Islander': 'Other', \n",
    "        'American Indian/Alaska Native': 'Other'})\n",
    "df2['Race']= df2['Race recode (W, B, AI, API)'].replace({\n",
    "        'Asian or Pacific Islander': 'Other', \n",
    "        'American Indian/Alaska Native': 'Other'})\n",
    "\n",
    "# drop old column\n",
    "df1.drop('Race recode (W, B, AI, API)', axis=1, inplace=True)\n",
    "df2.drop('Race recode (W, B, AI, API)', axis=1, inplace=True)"
   ]
  },
  {
   "cell_type": "code",
   "execution_count": 195,
   "metadata": {},
   "outputs": [
    {
     "data": {
      "text/plain": [
       "Race\n",
       "White    1037\n",
       "Black     116\n",
       "Other      39\n",
       "Name: count, dtype: int64"
      ]
     },
     "execution_count": 195,
     "metadata": {},
     "output_type": "execute_result"
    }
   ],
   "source": [
    "df1['Race'].value_counts(dropna=False)"
   ]
  },
  {
   "cell_type": "code",
   "execution_count": 196,
   "metadata": {},
   "outputs": [
    {
     "data": {
      "text/plain": [
       "Race\n",
       "White    206\n",
       "Black     27\n",
       "Other     13\n",
       "Name: count, dtype: int64"
      ]
     },
     "execution_count": 196,
     "metadata": {},
     "output_type": "execute_result"
    }
   ],
   "source": [
    "df2['Race'].value_counts(dropna=False)"
   ]
  },
  {
   "cell_type": "markdown",
   "metadata": {},
   "source": [
    "### Chemotherapy recode (yes, no/unk)"
   ]
  },
  {
   "cell_type": "code",
   "execution_count": 197,
   "metadata": {},
   "outputs": [],
   "source": [
    "# map Chemotherapy recode (yes, no/unk) into 1: Yes and 0:No/Unknown\n",
    "df1['Chemotherapy'] = df1['Chemotherapy recode (yes, no/unk)'].map({'Yes': 1, 'No/Unknown': 0})\n",
    "df2['Chemotherapy'] = df2['Chemotherapy recode (yes, no/unk)'].map({'Yes': 1, 'No/Unknown': 0})\n",
    "\n",
    "# drop old column\n",
    "df1.drop('Chemotherapy recode (yes, no/unk)', axis=1, inplace=True)\n",
    "df2.drop('Chemotherapy recode (yes, no/unk)', axis=1, inplace=True)"
   ]
  },
  {
   "cell_type": "code",
   "execution_count": 198,
   "metadata": {},
   "outputs": [
    {
     "data": {
      "text/plain": [
       "Chemotherapy\n",
       "1    719\n",
       "0    473\n",
       "Name: count, dtype: int64"
      ]
     },
     "metadata": {},
     "output_type": "display_data"
    },
    {
     "data": {
      "text/plain": [
       "Chemotherapy\n",
       "1    141\n",
       "0    105\n",
       "Name: count, dtype: int64"
      ]
     },
     "metadata": {},
     "output_type": "display_data"
    }
   ],
   "source": [
    "display(df1['Chemotherapy'].value_counts(dropna=False),df2['Chemotherapy'].value_counts(dropna=False))"
   ]
  },
  {
   "cell_type": "markdown",
   "metadata": {},
   "source": [
    "### Radiation"
   ]
  },
  {
   "cell_type": "code",
   "execution_count": 199,
   "metadata": {},
   "outputs": [
    {
     "data": {
      "text/plain": [
       "Radiation recode\n",
       "None/Unknown                                             661\n",
       "Beam radiation                                           483\n",
       "Refused (1988+)                                           19\n",
       "Recommended, unknown if administered                      14\n",
       "Radiation, NOS  method or source not specified            10\n",
       "Radioactive implants (includes brachytherapy) (1988+)      3\n",
       "Combination of beam with implants or isotopes              2\n",
       "Name: count, dtype: int64"
      ]
     },
     "metadata": {},
     "output_type": "display_data"
    },
    {
     "data": {
      "text/plain": [
       "Radiation recode\n",
       "None/Unknown                            161\n",
       "Beam radiation                           72\n",
       "Refused (1988+)                          10\n",
       "Recommended, unknown if administered      3\n",
       "Name: count, dtype: int64"
      ]
     },
     "metadata": {},
     "output_type": "display_data"
    }
   ],
   "source": [
    "display(df1['Radiation recode'].value_counts(dropna=False),df2['Radiation recode'].value_counts(dropna=False))"
   ]
  },
  {
   "cell_type": "code",
   "execution_count": 200,
   "metadata": {},
   "outputs": [],
   "source": [
    "def map_radiation_values(value):\n",
    "    # Define the values to be mapped to 0\n",
    "    values_for_zero = ['None/Unknown', 'Refused (1988+)',\n",
    "                        'Recommended, unknown if administered']\n",
    "    \n",
    "    # Check if the value is in the list for 0, else return 1\n",
    "    return 0 if value in values_for_zero else 1\n",
    "\n",
    "# Apply the function to the 'Radiation Recode' column\n",
    "df1['Radiation recode'] = df1['Radiation recode'].apply(map_radiation_values)\n",
    "df2['Radiation recode'] = df2['Radiation recode'].apply(map_radiation_values)"
   ]
  },
  {
   "cell_type": "code",
   "execution_count": 201,
   "metadata": {},
   "outputs": [
    {
     "data": {
      "text/plain": [
       "Radiation recode\n",
       "0    694\n",
       "1    498\n",
       "Name: count, dtype: int64"
      ]
     },
     "metadata": {},
     "output_type": "display_data"
    },
    {
     "data": {
      "text/plain": [
       "Radiation recode\n",
       "0    174\n",
       "1     72\n",
       "Name: count, dtype: int64"
      ]
     },
     "metadata": {},
     "output_type": "display_data"
    }
   ],
   "source": [
    "display(df1['Radiation recode'].value_counts(dropna=False),df2['Radiation recode'].value_counts(dropna=False))"
   ]
  },
  {
   "cell_type": "markdown",
   "metadata": {},
   "source": [
    "### RX Summ--Scope Reg LN Sur (2003+)"
   ]
  },
  {
   "cell_type": "code",
   "execution_count": 202,
   "metadata": {},
   "outputs": [
    {
     "data": {
      "text/plain": [
       "RX Summ--Scope Reg LN Sur (2003+)\n",
       "NaN                                                           842\n",
       "4 or more regional lymph nodes removed                        156\n",
       "Biopsy or aspiration of regional lymph node, NOS               92\n",
       "1 to 3 regional lymph nodes removed                            65\n",
       "Unknown or not applicable                                      25\n",
       "Number of regional lymph nodes removed unknown                 11\n",
       "Sentinel node biopsy and lym nd removed same/unstated time      1\n",
       "Name: count, dtype: int64"
      ]
     },
     "metadata": {},
     "output_type": "display_data"
    },
    {
     "data": {
      "text/plain": [
       "RX Summ--Scope Reg LN Sur (2003+)\n",
       "NaN                                                 171\n",
       "Biopsy or aspiration of regional lymph node, NOS     41\n",
       "4 or more regional lymph nodes removed               26\n",
       "1 to 3 regional lymph nodes removed                   4\n",
       "Unknown or not applicable                             3\n",
       "Number of regional lymph nodes removed unknown        1\n",
       "Name: count, dtype: int64"
      ]
     },
     "metadata": {},
     "output_type": "display_data"
    }
   ],
   "source": [
    "display(df1['RX Summ--Scope Reg LN Sur (2003+)'].value_counts(dropna=False),df2['RX Summ--Scope Reg LN Sur (2003+)'].value_counts(dropna=False))"
   ]
  },
  {
   "cell_type": "code",
   "execution_count": 203,
   "metadata": {},
   "outputs": [],
   "source": [
    "# NaN and Unknown or not applicable will be 0, the rest will be 1\n",
    "df1['Surgery'] = np.where(df1['RX Summ--Scope Reg LN Sur (2003+)'].isna() | \n",
    "                            (df1['RX Summ--Scope Reg LN Sur (2003+)'] == 'Unknown or not applicable'), 0, 1)\n",
    "df2['Surgery'] = np.where(df2['RX Summ--Scope Reg LN Sur (2003+)'].isna() |\n",
    "                            (df2['RX Summ--Scope Reg LN Sur (2003+)'] == 'Unknown or not applicable'), 0, 1)\n",
    "\n",
    "# drop old column\n",
    "df1.drop(columns='RX Summ--Scope Reg LN Sur (2003+)', inplace=True)\n",
    "df2.drop(columns='RX Summ--Scope Reg LN Sur (2003+)', inplace=True)"
   ]
  },
  {
   "cell_type": "code",
   "execution_count": 204,
   "metadata": {},
   "outputs": [
    {
     "data": {
      "text/plain": [
       "Surgery\n",
       "0    867\n",
       "1    325\n",
       "Name: count, dtype: int64"
      ]
     },
     "metadata": {},
     "output_type": "display_data"
    },
    {
     "data": {
      "text/plain": [
       "Surgery\n",
       "0    174\n",
       "1     72\n",
       "Name: count, dtype: int64"
      ]
     },
     "metadata": {},
     "output_type": "display_data"
    }
   ],
   "source": [
    "display(df1['Surgery'].value_counts(dropna=False),df2['Surgery'].value_counts(dropna=False))"
   ]
  },
  {
   "cell_type": "markdown",
   "metadata": {},
   "source": [
    "### T, N, M Transformation"
   ]
  },
  {
   "cell_type": "code",
   "execution_count": 205,
   "metadata": {},
   "outputs": [
    {
     "name": "stdout",
     "output_type": "stream",
     "text": [
      "<class 'pandas.core.frame.DataFrame'>\n",
      "Index: 1192 entries, 0 to 1191\n",
      "Data columns (total 15 columns):\n",
      " #   Column                                        Non-Null Count  Dtype \n",
      "---  ------                                        --------------  ----- \n",
      " 0   Patient ID                                    1192 non-null   int64 \n",
      " 1   Year of diagnosis                             1192 non-null   int64 \n",
      " 2   Derived AJCC T, 6th ed (2004-2015)            1177 non-null   object\n",
      " 3   Derived AJCC N, 6th ed (2004-2015)            1177 non-null   object\n",
      " 4   Derived AJCC M, 6th ed (2004-2015)            1177 non-null   object\n",
      " 5   Derived AJCC Stage Group, 6th ed (2004-2015)  1177 non-null   object\n",
      " 6   Radiation recode                              1192 non-null   int64 \n",
      " 7   CS tumor size (2004-2015)                     1192 non-null   object\n",
      " 8   Survival months                               1192 non-null   object\n",
      " 9   Age                                           1192 non-null   object\n",
      " 10  Marital Status                                1192 non-null   object\n",
      " 11  Sex_is_male                                   1192 non-null   int64 \n",
      " 12  Race                                          1192 non-null   object\n",
      " 13  Chemotherapy                                  1192 non-null   int64 \n",
      " 14  Surgery                                       1192 non-null   int32 \n",
      "dtypes: int32(1), int64(5), object(9)\n",
      "memory usage: 144.3+ KB\n"
     ]
    },
    {
     "data": {
      "text/plain": [
       "None"
      ]
     },
     "metadata": {},
     "output_type": "display_data"
    }
   ],
   "source": [
    "display(df1.info())"
   ]
  },
  {
   "cell_type": "code",
   "execution_count": 206,
   "metadata": {},
   "outputs": [
    {
     "name": "stdout",
     "output_type": "stream",
     "text": [
      "<class 'pandas.core.frame.DataFrame'>\n",
      "Index: 246 entries, 1373 to 1618\n",
      "Data columns (total 15 columns):\n",
      " #   Column                                Non-Null Count  Dtype \n",
      "---  ------                                --------------  ----- \n",
      " 0   Patient ID                            246 non-null    int64 \n",
      " 1   Year of diagnosis                     246 non-null    int64 \n",
      " 2   Derived EOD 2018 T (2018+)            246 non-null    object\n",
      " 3   Derived EOD 2018 N (2018+)            246 non-null    object\n",
      " 4   Derived EOD 2018 M (2018+)            246 non-null    object\n",
      " 5   Derived EOD 2018 Stage Group (2018+)  246 non-null    object\n",
      " 6   Radiation recode                      246 non-null    int64 \n",
      " 7   Tumor Size Summary (2016+)            246 non-null    object\n",
      " 8   Survival months                       246 non-null    object\n",
      " 9   Age                                   246 non-null    object\n",
      " 10  Marital Status                        246 non-null    object\n",
      " 11  Sex_is_male                           246 non-null    int64 \n",
      " 12  Race                                  246 non-null    object\n",
      " 13  Chemotherapy                          246 non-null    int64 \n",
      " 14  Surgery                               246 non-null    int32 \n",
      "dtypes: int32(1), int64(5), object(9)\n",
      "memory usage: 29.8+ KB\n"
     ]
    }
   ],
   "source": [
    "df2.info()"
   ]
  },
  {
   "cell_type": "markdown",
   "metadata": {},
   "source": [
    "### T"
   ]
  },
  {
   "cell_type": "code",
   "execution_count": 207,
   "metadata": {},
   "outputs": [
    {
     "data": {
      "text/plain": [
       "Derived AJCC T, 6th ed (2004-2015)\n",
       "T0         6\n",
       "T1       182\n",
       "T1NOS      1\n",
       "T1b        6\n",
       "T1c        1\n",
       "T2       302\n",
       "T2NOS     18\n",
       "T2a       13\n",
       "T2b        8\n",
       "T2c        5\n",
       "T3        62\n",
       "T3NOS      5\n",
       "T3a        8\n",
       "T3b       11\n",
       "T3c        1\n",
       "T4       418\n",
       "T4a        8\n",
       "T4b        3\n",
       "TX       118\n",
       "Tis        1\n",
       "NaN       15\n",
       "Name: count, dtype: int64"
      ]
     },
     "metadata": {},
     "output_type": "display_data"
    },
    {
     "data": {
      "text/plain": [
       "Derived EOD 2018 T (2018+)\n",
       "88      76\n",
       "T0       4\n",
       "T1a      1\n",
       "T1b      8\n",
       "T1c     11\n",
       "T1mi     3\n",
       "T2a     34\n",
       "T2b     11\n",
       "T3      22\n",
       "T4      58\n",
       "T4b      1\n",
       "TX      17\n",
       "Name: count, dtype: int64"
      ]
     },
     "metadata": {},
     "output_type": "display_data"
    }
   ],
   "source": [
    "display(df1['Derived AJCC T, 6th ed (2004-2015)'].value_counts(dropna=False).sort_index(),\n",
    "        df2['Derived EOD 2018 T (2018+)'].value_counts(dropna=False).sort_index())"
   ]
  },
  {
   "cell_type": "code",
   "execution_count": 208,
   "metadata": {},
   "outputs": [
    {
     "data": {
      "text/html": [
       "<div>\n",
       "<style scoped>\n",
       "    .dataframe tbody tr th:only-of-type {\n",
       "        vertical-align: middle;\n",
       "    }\n",
       "\n",
       "    .dataframe tbody tr th {\n",
       "        vertical-align: top;\n",
       "    }\n",
       "\n",
       "    .dataframe thead th {\n",
       "        text-align: right;\n",
       "    }\n",
       "</style>\n",
       "<table border=\"1\" class=\"dataframe\">\n",
       "  <thead>\n",
       "    <tr style=\"text-align: right;\">\n",
       "      <th></th>\n",
       "      <th>Patient ID</th>\n",
       "      <th>Year of diagnosis</th>\n",
       "      <th>Derived EOD 2018 T (2018+)</th>\n",
       "      <th>Derived EOD 2018 N (2018+)</th>\n",
       "      <th>Derived EOD 2018 M (2018+)</th>\n",
       "      <th>Derived EOD 2018 Stage Group (2018+)</th>\n",
       "      <th>Radiation recode</th>\n",
       "      <th>Tumor Size Summary (2016+)</th>\n",
       "      <th>Survival months</th>\n",
       "      <th>Age</th>\n",
       "      <th>Marital Status</th>\n",
       "      <th>Sex_is_male</th>\n",
       "      <th>Race</th>\n",
       "      <th>Chemotherapy</th>\n",
       "      <th>Surgery</th>\n",
       "    </tr>\n",
       "  </thead>\n",
       "  <tbody>\n",
       "    <tr>\n",
       "      <th>1373</th>\n",
       "      <td>24474114</td>\n",
       "      <td>2018</td>\n",
       "      <td>88</td>\n",
       "      <td>88</td>\n",
       "      <td>88</td>\n",
       "      <td>88</td>\n",
       "      <td>0</td>\n",
       "      <td>999</td>\n",
       "      <td>0004</td>\n",
       "      <td>85+ years</td>\n",
       "      <td>Single</td>\n",
       "      <td>1</td>\n",
       "      <td>White</td>\n",
       "      <td>0</td>\n",
       "      <td>0</td>\n",
       "    </tr>\n",
       "    <tr>\n",
       "      <th>1377</th>\n",
       "      <td>11270282</td>\n",
       "      <td>2018</td>\n",
       "      <td>88</td>\n",
       "      <td>88</td>\n",
       "      <td>88</td>\n",
       "      <td>88</td>\n",
       "      <td>0</td>\n",
       "      <td>058</td>\n",
       "      <td>0007</td>\n",
       "      <td>70-74 years</td>\n",
       "      <td>Married</td>\n",
       "      <td>1</td>\n",
       "      <td>White</td>\n",
       "      <td>1</td>\n",
       "      <td>0</td>\n",
       "    </tr>\n",
       "    <tr>\n",
       "      <th>1384</th>\n",
       "      <td>63020463</td>\n",
       "      <td>2018</td>\n",
       "      <td>88</td>\n",
       "      <td>88</td>\n",
       "      <td>88</td>\n",
       "      <td>88</td>\n",
       "      <td>0</td>\n",
       "      <td>050</td>\n",
       "      <td>0026</td>\n",
       "      <td>60-64 years</td>\n",
       "      <td>Married</td>\n",
       "      <td>0</td>\n",
       "      <td>White</td>\n",
       "      <td>1</td>\n",
       "      <td>1</td>\n",
       "    </tr>\n",
       "    <tr>\n",
       "      <th>1388</th>\n",
       "      <td>11116654</td>\n",
       "      <td>2018</td>\n",
       "      <td>88</td>\n",
       "      <td>88</td>\n",
       "      <td>88</td>\n",
       "      <td>88</td>\n",
       "      <td>0</td>\n",
       "      <td>053</td>\n",
       "      <td>0016</td>\n",
       "      <td>70-74 years</td>\n",
       "      <td>Married</td>\n",
       "      <td>1</td>\n",
       "      <td>White</td>\n",
       "      <td>1</td>\n",
       "      <td>1</td>\n",
       "    </tr>\n",
       "    <tr>\n",
       "      <th>1389</th>\n",
       "      <td>35018410</td>\n",
       "      <td>2018</td>\n",
       "      <td>88</td>\n",
       "      <td>88</td>\n",
       "      <td>88</td>\n",
       "      <td>88</td>\n",
       "      <td>0</td>\n",
       "      <td>999</td>\n",
       "      <td>0004</td>\n",
       "      <td>80-84 years</td>\n",
       "      <td>Married</td>\n",
       "      <td>1</td>\n",
       "      <td>White</td>\n",
       "      <td>0</td>\n",
       "      <td>0</td>\n",
       "    </tr>\n",
       "    <tr>\n",
       "      <th>...</th>\n",
       "      <td>...</td>\n",
       "      <td>...</td>\n",
       "      <td>...</td>\n",
       "      <td>...</td>\n",
       "      <td>...</td>\n",
       "      <td>...</td>\n",
       "      <td>...</td>\n",
       "      <td>...</td>\n",
       "      <td>...</td>\n",
       "      <td>...</td>\n",
       "      <td>...</td>\n",
       "      <td>...</td>\n",
       "      <td>...</td>\n",
       "      <td>...</td>\n",
       "      <td>...</td>\n",
       "    </tr>\n",
       "    <tr>\n",
       "      <th>1591</th>\n",
       "      <td>37076784</td>\n",
       "      <td>2020</td>\n",
       "      <td>88</td>\n",
       "      <td>88</td>\n",
       "      <td>88</td>\n",
       "      <td>88</td>\n",
       "      <td>0</td>\n",
       "      <td>999</td>\n",
       "      <td>0006</td>\n",
       "      <td>60-64 years</td>\n",
       "      <td>Single</td>\n",
       "      <td>1</td>\n",
       "      <td>White</td>\n",
       "      <td>0</td>\n",
       "      <td>0</td>\n",
       "    </tr>\n",
       "    <tr>\n",
       "      <th>1597</th>\n",
       "      <td>37064309</td>\n",
       "      <td>2020</td>\n",
       "      <td>88</td>\n",
       "      <td>88</td>\n",
       "      <td>88</td>\n",
       "      <td>88</td>\n",
       "      <td>0</td>\n",
       "      <td>110</td>\n",
       "      <td>0000</td>\n",
       "      <td>70-74 years</td>\n",
       "      <td>Married</td>\n",
       "      <td>1</td>\n",
       "      <td>White</td>\n",
       "      <td>0</td>\n",
       "      <td>0</td>\n",
       "    </tr>\n",
       "    <tr>\n",
       "      <th>1600</th>\n",
       "      <td>49567779</td>\n",
       "      <td>2020</td>\n",
       "      <td>88</td>\n",
       "      <td>88</td>\n",
       "      <td>88</td>\n",
       "      <td>88</td>\n",
       "      <td>0</td>\n",
       "      <td>050</td>\n",
       "      <td>0002</td>\n",
       "      <td>85+ years</td>\n",
       "      <td>Single</td>\n",
       "      <td>0</td>\n",
       "      <td>White</td>\n",
       "      <td>0</td>\n",
       "      <td>0</td>\n",
       "    </tr>\n",
       "    <tr>\n",
       "      <th>1611</th>\n",
       "      <td>27903774</td>\n",
       "      <td>2020</td>\n",
       "      <td>88</td>\n",
       "      <td>88</td>\n",
       "      <td>88</td>\n",
       "      <td>88</td>\n",
       "      <td>0</td>\n",
       "      <td>999</td>\n",
       "      <td>0002</td>\n",
       "      <td>75-79 years</td>\n",
       "      <td>Single</td>\n",
       "      <td>0</td>\n",
       "      <td>Black</td>\n",
       "      <td>0</td>\n",
       "      <td>0</td>\n",
       "    </tr>\n",
       "    <tr>\n",
       "      <th>1615</th>\n",
       "      <td>63105803</td>\n",
       "      <td>2020</td>\n",
       "      <td>88</td>\n",
       "      <td>88</td>\n",
       "      <td>88</td>\n",
       "      <td>88</td>\n",
       "      <td>1</td>\n",
       "      <td>035</td>\n",
       "      <td>0007</td>\n",
       "      <td>80-84 years</td>\n",
       "      <td>Married</td>\n",
       "      <td>1</td>\n",
       "      <td>White</td>\n",
       "      <td>1</td>\n",
       "      <td>0</td>\n",
       "    </tr>\n",
       "  </tbody>\n",
       "</table>\n",
       "<p>76 rows × 15 columns</p>\n",
       "</div>"
      ],
      "text/plain": [
       "      Patient ID  Year of diagnosis Derived EOD 2018 T (2018+)  \\\n",
       "1373    24474114               2018                         88   \n",
       "1377    11270282               2018                         88   \n",
       "1384    63020463               2018                         88   \n",
       "1388    11116654               2018                         88   \n",
       "1389    35018410               2018                         88   \n",
       "...          ...                ...                        ...   \n",
       "1591    37076784               2020                         88   \n",
       "1597    37064309               2020                         88   \n",
       "1600    49567779               2020                         88   \n",
       "1611    27903774               2020                         88   \n",
       "1615    63105803               2020                         88   \n",
       "\n",
       "     Derived EOD 2018 N (2018+) Derived EOD 2018 M (2018+)  \\\n",
       "1373                         88                         88   \n",
       "1377                         88                         88   \n",
       "1384                         88                         88   \n",
       "1388                         88                         88   \n",
       "1389                         88                         88   \n",
       "...                         ...                        ...   \n",
       "1591                         88                         88   \n",
       "1597                         88                         88   \n",
       "1600                         88                         88   \n",
       "1611                         88                         88   \n",
       "1615                         88                         88   \n",
       "\n",
       "     Derived EOD 2018 Stage Group (2018+)  Radiation recode  \\\n",
       "1373                                   88                 0   \n",
       "1377                                   88                 0   \n",
       "1384                                   88                 0   \n",
       "1388                                   88                 0   \n",
       "1389                                   88                 0   \n",
       "...                                   ...               ...   \n",
       "1591                                   88                 0   \n",
       "1597                                   88                 0   \n",
       "1600                                   88                 0   \n",
       "1611                                   88                 0   \n",
       "1615                                   88                 1   \n",
       "\n",
       "     Tumor Size Summary (2016+) Survival months          Age Marital Status  \\\n",
       "1373                        999            0004    85+ years         Single   \n",
       "1377                        058            0007  70-74 years        Married   \n",
       "1384                        050            0026  60-64 years        Married   \n",
       "1388                        053            0016  70-74 years        Married   \n",
       "1389                        999            0004  80-84 years        Married   \n",
       "...                         ...             ...          ...            ...   \n",
       "1591                        999            0006  60-64 years         Single   \n",
       "1597                        110            0000  70-74 years        Married   \n",
       "1600                        050            0002    85+ years         Single   \n",
       "1611                        999            0002  75-79 years         Single   \n",
       "1615                        035            0007  80-84 years        Married   \n",
       "\n",
       "      Sex_is_male   Race  Chemotherapy  Surgery  \n",
       "1373            1  White             0        0  \n",
       "1377            1  White             1        0  \n",
       "1384            0  White             1        1  \n",
       "1388            1  White             1        1  \n",
       "1389            1  White             0        0  \n",
       "...           ...    ...           ...      ...  \n",
       "1591            1  White             0        0  \n",
       "1597            1  White             0        0  \n",
       "1600            0  White             0        0  \n",
       "1611            0  Black             0        0  \n",
       "1615            1  White             1        0  \n",
       "\n",
       "[76 rows x 15 columns]"
      ]
     },
     "execution_count": 208,
     "metadata": {},
     "output_type": "execute_result"
    }
   ],
   "source": [
    "df2[df2['Derived EOD 2018 T (2018+)'] =='88']"
   ]
  },
  {
   "cell_type": "code",
   "execution_count": 209,
   "metadata": {},
   "outputs": [],
   "source": [
    "# drop NaN and 88\n",
    "df1 = df1[df1['Derived AJCC T, 6th ed (2004-2015)'].notna()]\n",
    "df2 = df2[df2['Derived EOD 2018 T (2018+)'] != '88']\n",
    "\n",
    "df1['T'] = df1['Derived AJCC T, 6th ed (2004-2015)'].str.extract(r'(T\\d|TX|Tis)')\n",
    "df2['T'] = df2['Derived EOD 2018 T (2018+)'].str.extract(r'(T\\d|TX|Tis)')"
   ]
  },
  {
   "cell_type": "code",
   "execution_count": 210,
   "metadata": {},
   "outputs": [
    {
     "data": {
      "text/plain": [
       "T\n",
       "T0       6\n",
       "T1     190\n",
       "T2     346\n",
       "T3      87\n",
       "T4     429\n",
       "TX     118\n",
       "Tis      1\n",
       "Name: count, dtype: int64"
      ]
     },
     "metadata": {},
     "output_type": "display_data"
    },
    {
     "data": {
      "text/plain": [
       "T\n",
       "T0     4\n",
       "T1    23\n",
       "T2    45\n",
       "T3    22\n",
       "T4    59\n",
       "TX    17\n",
       "Name: count, dtype: int64"
      ]
     },
     "metadata": {},
     "output_type": "display_data"
    }
   ],
   "source": [
    "display(df1['T'].value_counts(dropna=False).sort_index(),df2['T'].value_counts(dropna=False).sort_index())"
   ]
  },
  {
   "cell_type": "markdown",
   "metadata": {},
   "source": [
    "### N"
   ]
  },
  {
   "cell_type": "code",
   "execution_count": 211,
   "metadata": {},
   "outputs": [
    {
     "data": {
      "text/plain": [
       "Derived AJCC N, 6th ed (2004-2015)\n",
       "N0     352\n",
       "N1     129\n",
       "N2     457\n",
       "N2a      1\n",
       "N2b      2\n",
       "N2c      1\n",
       "N3     145\n",
       "NX      90\n",
       "Name: count, dtype: int64"
      ]
     },
     "metadata": {},
     "output_type": "display_data"
    },
    {
     "data": {
      "text/plain": [
       "Derived EOD 2018 N (2018+)\n",
       "N0    39\n",
       "N1    11\n",
       "N2    70\n",
       "N3    43\n",
       "NX     7\n",
       "Name: count, dtype: int64"
      ]
     },
     "metadata": {},
     "output_type": "display_data"
    }
   ],
   "source": [
    "display(df1['Derived AJCC N, 6th ed (2004-2015)'].value_counts(dropna=False).sort_index(),\n",
    "        df2['Derived EOD 2018 N (2018+)'].value_counts(dropna=False).sort_index())"
   ]
  },
  {
   "cell_type": "code",
   "execution_count": 212,
   "metadata": {},
   "outputs": [],
   "source": [
    "# drop NaN and 88\n",
    "df1 = df1[df1['Derived AJCC N, 6th ed (2004-2015)'].notna()]\n",
    "df2 = df2[df2['Derived EOD 2018 N (2018+)'] != '88']\n",
    "\n",
    "df1['N'] = df1['Derived AJCC N, 6th ed (2004-2015)'].str.extract(r'(N\\d|NX)')\n",
    "df2['N'] = df2['Derived EOD 2018 N (2018+)'].str.extract(r'(N\\d|NX)')"
   ]
  },
  {
   "cell_type": "code",
   "execution_count": 213,
   "metadata": {},
   "outputs": [
    {
     "data": {
      "text/plain": [
       "N\n",
       "N0    352\n",
       "N1    129\n",
       "N2    461\n",
       "N3    145\n",
       "NX     90\n",
       "Name: count, dtype: int64"
      ]
     },
     "metadata": {},
     "output_type": "display_data"
    },
    {
     "data": {
      "text/plain": [
       "N\n",
       "N0    39\n",
       "N1    11\n",
       "N2    70\n",
       "N3    43\n",
       "NX     7\n",
       "Name: count, dtype: int64"
      ]
     },
     "metadata": {},
     "output_type": "display_data"
    }
   ],
   "source": [
    "display(df1['N'].value_counts(dropna=False).sort_index(),df2['N'].value_counts(dropna=False).sort_index())"
   ]
  },
  {
   "cell_type": "markdown",
   "metadata": {},
   "source": [
    "### M"
   ]
  },
  {
   "cell_type": "code",
   "execution_count": 214,
   "metadata": {},
   "outputs": [
    {
     "data": {
      "text/plain": [
       "Derived AJCC M, 6th ed (2004-2015)\n",
       "M0       530\n",
       "M1       568\n",
       "M1NOS      2\n",
       "M1a        4\n",
       "M1b       17\n",
       "M1c        9\n",
       "MX        47\n",
       "Name: count, dtype: int64"
      ]
     },
     "metadata": {},
     "output_type": "display_data"
    },
    {
     "data": {
      "text/plain": [
       "Derived EOD 2018 M (2018+)\n",
       "M0     64\n",
       "M1      7\n",
       "M1a    19\n",
       "M1b    21\n",
       "M1c    59\n",
       "Name: count, dtype: int64"
      ]
     },
     "metadata": {},
     "output_type": "display_data"
    }
   ],
   "source": [
    "display(df1['Derived AJCC M, 6th ed (2004-2015)'].value_counts(dropna=False).sort_index(),\n",
    "        df2['Derived EOD 2018 M (2018+)'].value_counts(dropna=False).sort_index())"
   ]
  },
  {
   "cell_type": "code",
   "execution_count": 215,
   "metadata": {},
   "outputs": [],
   "source": [
    "# drop NaN and 88\n",
    "df1 = df1[df1['Derived AJCC M, 6th ed (2004-2015)'].notna()]\n",
    "df2 = df2[df2['Derived EOD 2018 M (2018+)'] != '88']\n",
    "\n",
    "df1['M'] = df1['Derived AJCC M, 6th ed (2004-2015)'].str.extract(r'(M\\d|MX)')\n",
    "df2['M'] = df2['Derived EOD 2018 M (2018+)'].str.extract(r'(M\\d|MX)')"
   ]
  },
  {
   "cell_type": "code",
   "execution_count": 216,
   "metadata": {},
   "outputs": [
    {
     "data": {
      "text/plain": [
       "M\n",
       "M0    530\n",
       "M1    600\n",
       "MX     47\n",
       "Name: count, dtype: int64"
      ]
     },
     "metadata": {},
     "output_type": "display_data"
    },
    {
     "data": {
      "text/plain": [
       "M\n",
       "M0     64\n",
       "M1    106\n",
       "Name: count, dtype: int64"
      ]
     },
     "metadata": {},
     "output_type": "display_data"
    }
   ],
   "source": [
    "display(df1['M'].value_counts(dropna=False).sort_index(),df2['M'].value_counts(dropna=False).sort_index())"
   ]
  },
  {
   "cell_type": "markdown",
   "metadata": {},
   "source": [
    "### Stage"
   ]
  },
  {
   "cell_type": "code",
   "execution_count": 217,
   "metadata": {},
   "outputs": [
    {
     "data": {
      "text/plain": [
       "Derived AJCC Stage Group, 6th ed (2004-2015)\n",
       "0is            1\n",
       "I              5\n",
       "IA            55\n",
       "IB            62\n",
       "II            20\n",
       "IIA           23\n",
       "IIB           39\n",
       "III           19\n",
       "IIIA         120\n",
       "IIIB         152\n",
       "IIIC           3\n",
       "IV           601\n",
       "IVA            4\n",
       "IVB           11\n",
       "IVC            1\n",
       "IVNOS          2\n",
       "OCCULT         9\n",
       "UNK Stage     50\n",
       "Name: count, dtype: int64"
      ]
     },
     "metadata": {},
     "output_type": "display_data"
    },
    {
     "data": {
      "text/plain": [
       "Derived EOD 2018 Stage Group (2018+)\n",
       "1A1     2\n",
       "1A2     1\n",
       "1A3     4\n",
       "1B      6\n",
       "2B      5\n",
       "3       3\n",
       "3A     22\n",
       "3B     11\n",
       "3C      5\n",
       "4       7\n",
       "4A     40\n",
       "4B     60\n",
       "99      4\n",
       "Name: count, dtype: int64"
      ]
     },
     "metadata": {},
     "output_type": "display_data"
    }
   ],
   "source": [
    "display(df1['Derived AJCC Stage Group, 6th ed (2004-2015)'].value_counts(dropna=False).sort_index(),\n",
    "        df2['Derived EOD 2018 Stage Group (2018+)'].value_counts(dropna=False).sort_index())"
   ]
  },
  {
   "cell_type": "code",
   "execution_count": 218,
   "metadata": {},
   "outputs": [
    {
     "data": {
      "text/plain": [
       "Grouped Stage\n",
       "I        122\n",
       "II        82\n",
       "III      294\n",
       "IV       619\n",
       "Other     60\n",
       "Name: count, dtype: int64"
      ]
     },
     "execution_count": 218,
     "metadata": {},
     "output_type": "execute_result"
    }
   ],
   "source": [
    "# drop NaN for df1\n",
    "df1 = df1[df1['Derived AJCC Stage Group, 6th ed (2004-2015)'].notna()]\n",
    "\n",
    "def group_stage(value):\n",
    "    if value in ['0is', 'OCCULT', 'UNK Stage']:\n",
    "        return 'Other'\n",
    "    elif value.startswith('I') and not value.startswith('II') and not value.startswith('IV'):\n",
    "        return 'I'\n",
    "    elif value.startswith('II') and not value.startswith('III'):\n",
    "        return 'II'\n",
    "    elif value.startswith('III'):\n",
    "        return 'III'\n",
    "    elif value.startswith('IV'):\n",
    "        return 'IV'\n",
    "    else:\n",
    "        return 'Other'  # Catch-all for any values not explicitly matched\n",
    "    \n",
    "df1['Grouped Stage'] = df1['Derived AJCC Stage Group, 6th ed (2004-2015)'].apply(group_stage)\n",
    "\n",
    "df1['Grouped Stage'].value_counts(dropna=False).sort_index()"
   ]
  },
  {
   "cell_type": "code",
   "execution_count": 219,
   "metadata": {},
   "outputs": [
    {
     "data": {
      "text/plain": [
       "Grouped Stage\n",
       "1         13\n",
       "2          5\n",
       "3         41\n",
       "4        107\n",
       "Other      4\n",
       "Name: count, dtype: int64"
      ]
     },
     "execution_count": 219,
     "metadata": {},
     "output_type": "execute_result"
    }
   ],
   "source": [
    "df2['Grouped Stage'] = df2['Derived EOD 2018 Stage Group (2018+)'].apply(lambda x: 'Other' if x == '99' else x[0])\n",
    "\n",
    "df2['Grouped Stage'].value_counts(dropna=False).sort_index()"
   ]
  },
  {
   "cell_type": "code",
   "execution_count": 220,
   "metadata": {},
   "outputs": [],
   "source": [
    "# drop old columns\n",
    "df1.drop(columns=['Derived AJCC T, 6th ed (2004-2015)', 'Derived AJCC N, 6th ed (2004-2015)', 'Derived AJCC M, 6th ed (2004-2015)', 'Derived AJCC Stage Group, 6th ed (2004-2015)'], inplace=True)\n",
    "df2.drop(columns=['Derived EOD 2018 T (2018+)', 'Derived EOD 2018 N (2018+)', 'Derived EOD 2018 M (2018+)', 'Derived EOD 2018 Stage Group (2018+)'], inplace=True)"
   ]
  },
  {
   "cell_type": "markdown",
   "metadata": {},
   "source": [
    "### Tumor size"
   ]
  },
  {
   "cell_type": "code",
   "execution_count": 221,
   "metadata": {},
   "outputs": [
    {
     "data": {
      "text/html": [
       "<div>\n",
       "<style scoped>\n",
       "    .dataframe tbody tr th:only-of-type {\n",
       "        vertical-align: middle;\n",
       "    }\n",
       "\n",
       "    .dataframe tbody tr th {\n",
       "        vertical-align: top;\n",
       "    }\n",
       "\n",
       "    .dataframe thead th {\n",
       "        text-align: right;\n",
       "    }\n",
       "</style>\n",
       "<table border=\"1\" class=\"dataframe\">\n",
       "  <thead>\n",
       "    <tr style=\"text-align: right;\">\n",
       "      <th></th>\n",
       "      <th>Patient ID</th>\n",
       "      <th>Year of diagnosis</th>\n",
       "      <th>Radiation recode</th>\n",
       "      <th>CS tumor size (2004-2015)</th>\n",
       "      <th>Survival months</th>\n",
       "      <th>Age</th>\n",
       "      <th>Marital Status</th>\n",
       "      <th>Sex_is_male</th>\n",
       "      <th>Race</th>\n",
       "      <th>Chemotherapy</th>\n",
       "      <th>Surgery</th>\n",
       "      <th>T</th>\n",
       "      <th>N</th>\n",
       "      <th>M</th>\n",
       "      <th>Grouped Stage</th>\n",
       "    </tr>\n",
       "  </thead>\n",
       "  <tbody>\n",
       "    <tr>\n",
       "      <th>0</th>\n",
       "      <td>840290</td>\n",
       "      <td>2004</td>\n",
       "      <td>0</td>\n",
       "      <td>025</td>\n",
       "      <td>0008</td>\n",
       "      <td>70-74 years</td>\n",
       "      <td>Married</td>\n",
       "      <td>0</td>\n",
       "      <td>White</td>\n",
       "      <td>1</td>\n",
       "      <td>0</td>\n",
       "      <td>T2</td>\n",
       "      <td>N0</td>\n",
       "      <td>M1</td>\n",
       "      <td>IV</td>\n",
       "    </tr>\n",
       "    <tr>\n",
       "      <th>1</th>\n",
       "      <td>960311</td>\n",
       "      <td>2004</td>\n",
       "      <td>0</td>\n",
       "      <td>999</td>\n",
       "      <td>0053</td>\n",
       "      <td>65-69 years</td>\n",
       "      <td>Single</td>\n",
       "      <td>1</td>\n",
       "      <td>White</td>\n",
       "      <td>1</td>\n",
       "      <td>0</td>\n",
       "      <td>T3</td>\n",
       "      <td>N1</td>\n",
       "      <td>M0</td>\n",
       "      <td>IV</td>\n",
       "    </tr>\n",
       "  </tbody>\n",
       "</table>\n",
       "</div>"
      ],
      "text/plain": [
       "   Patient ID  Year of diagnosis  Radiation recode CS tumor size (2004-2015)  \\\n",
       "0      840290               2004                 0                       025   \n",
       "1      960311               2004                 0                       999   \n",
       "\n",
       "  Survival months          Age Marital Status  Sex_is_male   Race  \\\n",
       "0            0008  70-74 years        Married            0  White   \n",
       "1            0053  65-69 years         Single            1  White   \n",
       "\n",
       "   Chemotherapy  Surgery   T   N   M Grouped Stage  \n",
       "0             1        0  T2  N0  M1            IV  \n",
       "1             1        0  T3  N1  M0            IV  "
      ]
     },
     "execution_count": 221,
     "metadata": {},
     "output_type": "execute_result"
    }
   ],
   "source": [
    "df1.head(2)"
   ]
  },
  {
   "cell_type": "code",
   "execution_count": 222,
   "metadata": {},
   "outputs": [
    {
     "data": {
      "text/html": [
       "<div>\n",
       "<style scoped>\n",
       "    .dataframe tbody tr th:only-of-type {\n",
       "        vertical-align: middle;\n",
       "    }\n",
       "\n",
       "    .dataframe tbody tr th {\n",
       "        vertical-align: top;\n",
       "    }\n",
       "\n",
       "    .dataframe thead th {\n",
       "        text-align: right;\n",
       "    }\n",
       "</style>\n",
       "<table border=\"1\" class=\"dataframe\">\n",
       "  <thead>\n",
       "    <tr style=\"text-align: right;\">\n",
       "      <th></th>\n",
       "      <th>Patient ID</th>\n",
       "      <th>Year of diagnosis</th>\n",
       "      <th>Radiation recode</th>\n",
       "      <th>Tumor Size Summary (2016+)</th>\n",
       "      <th>Survival months</th>\n",
       "      <th>Age</th>\n",
       "      <th>Marital Status</th>\n",
       "      <th>Sex_is_male</th>\n",
       "      <th>Race</th>\n",
       "      <th>Chemotherapy</th>\n",
       "      <th>Surgery</th>\n",
       "      <th>T</th>\n",
       "      <th>N</th>\n",
       "      <th>M</th>\n",
       "      <th>Grouped Stage</th>\n",
       "    </tr>\n",
       "  </thead>\n",
       "  <tbody>\n",
       "    <tr>\n",
       "      <th>1374</th>\n",
       "      <td>50247258</td>\n",
       "      <td>2018</td>\n",
       "      <td>1</td>\n",
       "      <td>000</td>\n",
       "      <td>0005</td>\n",
       "      <td>35-54 years</td>\n",
       "      <td>Married</td>\n",
       "      <td>1</td>\n",
       "      <td>White</td>\n",
       "      <td>1</td>\n",
       "      <td>0</td>\n",
       "      <td>T0</td>\n",
       "      <td>N3</td>\n",
       "      <td>M1</td>\n",
       "      <td>4</td>\n",
       "    </tr>\n",
       "    <tr>\n",
       "      <th>1375</th>\n",
       "      <td>11279220</td>\n",
       "      <td>2018</td>\n",
       "      <td>1</td>\n",
       "      <td>020</td>\n",
       "      <td>0025</td>\n",
       "      <td>75-79 years</td>\n",
       "      <td>Single</td>\n",
       "      <td>1</td>\n",
       "      <td>White</td>\n",
       "      <td>1</td>\n",
       "      <td>0</td>\n",
       "      <td>T1</td>\n",
       "      <td>N0</td>\n",
       "      <td>M0</td>\n",
       "      <td>1</td>\n",
       "    </tr>\n",
       "  </tbody>\n",
       "</table>\n",
       "</div>"
      ],
      "text/plain": [
       "      Patient ID  Year of diagnosis  Radiation recode  \\\n",
       "1374    50247258               2018                 1   \n",
       "1375    11279220               2018                 1   \n",
       "\n",
       "     Tumor Size Summary (2016+) Survival months          Age Marital Status  \\\n",
       "1374                        000            0005  35-54 years        Married   \n",
       "1375                        020            0025  75-79 years         Single   \n",
       "\n",
       "      Sex_is_male   Race  Chemotherapy  Surgery   T   N   M Grouped Stage  \n",
       "1374            1  White             1        0  T0  N3  M1             4  \n",
       "1375            1  White             1        0  T1  N0  M0             1  "
      ]
     },
     "execution_count": 222,
     "metadata": {},
     "output_type": "execute_result"
    }
   ],
   "source": [
    "df2.head(2)"
   ]
  },
  {
   "cell_type": "code",
   "execution_count": 223,
   "metadata": {},
   "outputs": [
    {
     "data": {
      "text/plain": [
       "Tumor Size\n",
       "0        6\n",
       "1        1\n",
       "2        1\n",
       "5        1\n",
       "6        2\n",
       "      ... \n",
       "991      1\n",
       "992      1\n",
       "994      3\n",
       "996      1\n",
       "999    308\n",
       "Name: count, Length: 130, dtype: int64"
      ]
     },
     "execution_count": 223,
     "metadata": {},
     "output_type": "execute_result"
    }
   ],
   "source": [
    "# Logic to combine the columns\n",
    "df1['Tumor Size'] = df1['CS tumor size (2004-2015)']\n",
    "df1['Tumor Size'] = df1['Tumor Size'].astype('int64')\n",
    "df1['Tumor Size'].value_counts(dropna=False).sort_index()"
   ]
  },
  {
   "cell_type": "code",
   "execution_count": 224,
   "metadata": {},
   "outputs": [
    {
     "data": {
      "text/plain": [
       "<Axes: >"
      ]
     },
     "execution_count": 224,
     "metadata": {},
     "output_type": "execute_result"
    },
    {
     "data": {
      "image/png": "[encoded data removed]",
      "text/plain": [
       "<Figure size 1000x500 with 1 Axes>"
      ]
     },
     "metadata": {},
     "output_type": "display_data"
    }
   ],
   "source": [
    "df1['Tumor Size'].hist(bins=300, figsize=(10, 5))"
   ]
  },
  {
   "cell_type": "code",
   "execution_count": 225,
   "metadata": {},
   "outputs": [
    {
     "data": {
      "text/plain": [
       "Tumor Size\n",
       "0       1\n",
       "10      1\n",
       "11      4\n",
       "12      1\n",
       "13      1\n",
       "       ..\n",
       "140     1\n",
       "142     1\n",
       "154     1\n",
       "990     1\n",
       "999    31\n",
       "Name: count, Length: 74, dtype: int64"
      ]
     },
     "execution_count": 225,
     "metadata": {},
     "output_type": "execute_result"
    }
   ],
   "source": [
    "df2['Tumor Size'] = df2['Tumor Size Summary (2016+)']\n",
    "df2['Tumor Size'] = df2['Tumor Size'].astype('int64')\n",
    "df2['Tumor Size'].value_counts(dropna=False).sort_index()"
   ]
  },
  {
   "cell_type": "code",
   "execution_count": 226,
   "metadata": {},
   "outputs": [
    {
     "data": {
      "text/plain": [
       "<Axes: >"
      ]
     },
     "execution_count": 226,
     "metadata": {},
     "output_type": "execute_result"
    },
    {
     "data": {
      "image/png": "[encoded data removed]",
      "text/plain": [
       "<Figure size 1000x500 with 1 Axes>"
      ]
     },
     "metadata": {},
     "output_type": "display_data"
    }
   ],
   "source": [
    "df2['Tumor Size'].hist(bins=300, figsize=(10, 5))"
   ]
  },
  {
   "cell_type": "code",
   "execution_count": 227,
   "metadata": {},
   "outputs": [
    {
     "data": {
      "text/plain": [
       "Tumor Size\n",
       "0      6\n",
       "1      1\n",
       "2      1\n",
       "5      1\n",
       "6      2\n",
       "      ..\n",
       "145    1\n",
       "150    1\n",
       "157    1\n",
       "188    1\n",
       "200    1\n",
       "Name: count, Length: 125, dtype: int64"
      ]
     },
     "execution_count": 227,
     "metadata": {},
     "output_type": "execute_result"
    }
   ],
   "source": [
    "df1[df1['Tumor Size'] <= 988]['Tumor Size'].value_counts(dropna=False).sort_index()"
   ]
  },
  {
   "cell_type": "code",
   "execution_count": 228,
   "metadata": {},
   "outputs": [
    {
     "data": {
      "text/plain": [
       "Tumor Size\n",
       "991      1\n",
       "992      1\n",
       "994      3\n",
       "996      1\n",
       "999    308\n",
       "Name: count, dtype: int64"
      ]
     },
     "execution_count": 228,
     "metadata": {},
     "output_type": "execute_result"
    }
   ],
   "source": [
    "df1[df1['Tumor Size'] >= 989]['Tumor Size'].value_counts(dropna=False).sort_index()"
   ]
  },
  {
   "cell_type": "code",
   "execution_count": 229,
   "metadata": {},
   "outputs": [
    {
     "data": {
      "text/plain": [
       "T    N   M   Grouped Stage\n",
       "T1   N0  M0  I                 3\n",
       "         M1  IV                2\n",
       "         MX  Other             1\n",
       "     N1  M1  IV                2\n",
       "     NX  M1  IV                1\n",
       "                              ..\n",
       "TX   N3  MX  Other             2\n",
       "     NX  M0  Other             1\n",
       "         M1  IV               14\n",
       "         MX  Other            17\n",
       "Tis  N0  M0  Other             1\n",
       "Name: count, Length: 61, dtype: int64"
      ]
     },
     "execution_count": 229,
     "metadata": {},
     "output_type": "execute_result"
    }
   ],
   "source": [
    "df1[df1['Tumor Size'] == 999][['T','N','M','Grouped Stage']].value_counts(dropna=False).sort_index()"
   ]
  },
  {
   "cell_type": "code",
   "execution_count": 230,
   "metadata": {},
   "outputs": [
    {
     "data": {
      "text/plain": [
       "Tumor Size\n",
       "0      1\n",
       "10     1\n",
       "11     4\n",
       "12     1\n",
       "13     1\n",
       "      ..\n",
       "136    1\n",
       "137    1\n",
       "140    1\n",
       "142    1\n",
       "154    1\n",
       "Name: count, Length: 72, dtype: int64"
      ]
     },
     "execution_count": 230,
     "metadata": {},
     "output_type": "execute_result"
    }
   ],
   "source": [
    "df2[df2['Tumor Size'] <= 988]['Tumor Size'].value_counts(dropna=False).sort_index()"
   ]
  },
  {
   "cell_type": "code",
   "execution_count": 231,
   "metadata": {},
   "outputs": [
    {
     "data": {
      "text/plain": [
       "Tumor Size\n",
       "990     1\n",
       "999    31\n",
       "Name: count, dtype: int64"
      ]
     },
     "execution_count": 231,
     "metadata": {},
     "output_type": "execute_result"
    }
   ],
   "source": [
    "df2[df2['Tumor Size'] >= 989]['Tumor Size'].value_counts(dropna=False).sort_index()"
   ]
  },
  {
   "cell_type": "code",
   "execution_count": 232,
   "metadata": {},
   "outputs": [
    {
     "data": {
      "text/plain": [
       "T   N   M   Grouped Stage\n",
       "T0  N0  M1  4                1\n",
       "    N2  M1  4                1\n",
       "    N3  M1  4                1\n",
       "T1  N2  M0  3                1\n",
       "T2  N0  M0  1                1\n",
       "        M1  4                1\n",
       "    N2  M0  3                2\n",
       "    N3  M1  4                1\n",
       "T4  N0  M1  4                1\n",
       "    N1  M0  3                1\n",
       "    N2  M0  3                1\n",
       "        M1  4                1\n",
       "    N3  M1  4                3\n",
       "    NX  M1  4                1\n",
       "TX  N0  M0  Other            2\n",
       "        M1  4                1\n",
       "    N1  M1  4                1\n",
       "    N2  M0  3                1\n",
       "        M1  4                4\n",
       "    N3  M0  3                1\n",
       "        M1  4                1\n",
       "    NX  M0  Other            2\n",
       "        M1  4                1\n",
       "Name: count, dtype: int64"
      ]
     },
     "execution_count": 232,
     "metadata": {},
     "output_type": "execute_result"
    }
   ],
   "source": [
    "df2[df2['Tumor Size'] == 999][['T','N','M','Grouped Stage']].value_counts(dropna=False).sort_index()"
   ]
  },
  {
   "cell_type": "code",
   "execution_count": 233,
   "metadata": {},
   "outputs": [],
   "source": [
    "# only keep the countinuous tumor size\n",
    "df1 = df1[df1['Tumor Size'] <= 988]\n",
    "df2 = df2[df2['Tumor Size'] <= 988]"
   ]
  },
  {
   "cell_type": "code",
   "execution_count": 234,
   "metadata": {},
   "outputs": [
    {
     "data": {
      "text/plain": [
       "(863, 16)"
      ]
     },
     "execution_count": 234,
     "metadata": {},
     "output_type": "execute_result"
    }
   ],
   "source": [
    "df1.shape"
   ]
  },
  {
   "cell_type": "code",
   "execution_count": 235,
   "metadata": {},
   "outputs": [
    {
     "data": {
      "text/plain": [
       "(138, 16)"
      ]
     },
     "execution_count": 235,
     "metadata": {},
     "output_type": "execute_result"
    }
   ],
   "source": [
    "df2.shape"
   ]
  },
  {
   "cell_type": "markdown",
   "metadata": {},
   "source": [
    "### Survival months"
   ]
  },
  {
   "cell_type": "code",
   "execution_count": 236,
   "metadata": {},
   "outputs": [
    {
     "data": {
      "text/plain": [
       "Survival months\n",
       "0000    72\n",
       "0001    69\n",
       "0002    47\n",
       "0003    32\n",
       "0004    40\n",
       "        ..\n",
       "0102     1\n",
       "0103     1\n",
       "0112     1\n",
       "0119     1\n",
       "0130     1\n",
       "Name: count, Length: 79, dtype: int64"
      ]
     },
     "execution_count": 236,
     "metadata": {},
     "output_type": "execute_result"
    }
   ],
   "source": [
    "df1['Survival months'].value_counts(dropna=False).sort_index()"
   ]
  },
  {
   "cell_type": "code",
   "execution_count": 237,
   "metadata": {},
   "outputs": [
    {
     "data": {
      "text/plain": [
       "Survival months\n",
       "0000    23\n",
       "0001    13\n",
       "0002    10\n",
       "0003    10\n",
       "0004     7\n",
       "0005    11\n",
       "0006     8\n",
       "0007     7\n",
       "0008     4\n",
       "0009     5\n",
       "0010     4\n",
       "0011     7\n",
       "0012    10\n",
       "0013     1\n",
       "0015     2\n",
       "0017     4\n",
       "0018     2\n",
       "0019     2\n",
       "0020     1\n",
       "0022     2\n",
       "0024     1\n",
       "0025     1\n",
       "0027     1\n",
       "0030     1\n",
       "0033     1\n",
       "Name: count, dtype: int64"
      ]
     },
     "execution_count": 237,
     "metadata": {},
     "output_type": "execute_result"
    }
   ],
   "source": [
    "df2['Survival months'].value_counts(dropna=False).sort_index()"
   ]
  },
  {
   "cell_type": "code",
   "execution_count": 238,
   "metadata": {},
   "outputs": [],
   "source": [
    "# drop the NaN and 'Unknown' values in Survival months\n",
    "df1 = df1[df1['Survival months'].notna()]\n",
    "df2 = df2[df2['Survival months'].notna()]\n",
    "df1 = df1[df1['Survival months'] != 'Unknown']\n",
    "df2 = df2[df2['Survival months'] != 'Unknown']\n",
    "\n",
    "df1['Survival months'] = df1['Survival months'].astype('int64')\n",
    "df2['Survival months'] = df2['Survival months'].astype('int64')"
   ]
  },
  {
   "cell_type": "code",
   "execution_count": 239,
   "metadata": {},
   "outputs": [
    {
     "data": {
      "text/plain": [
       "Survival months\n",
       "0      72\n",
       "1      69\n",
       "2      47\n",
       "3      32\n",
       "4      40\n",
       "       ..\n",
       "102     1\n",
       "103     1\n",
       "112     1\n",
       "119     1\n",
       "130     1\n",
       "Name: count, Length: 79, dtype: int64"
      ]
     },
     "metadata": {},
     "output_type": "display_data"
    },
    {
     "data": {
      "text/plain": [
       "Survival months\n",
       "0     23\n",
       "1     13\n",
       "2     10\n",
       "3     10\n",
       "4      7\n",
       "5     11\n",
       "6      8\n",
       "7      7\n",
       "8      4\n",
       "9      5\n",
       "10     4\n",
       "11     7\n",
       "12    10\n",
       "13     1\n",
       "15     2\n",
       "17     4\n",
       "18     2\n",
       "19     2\n",
       "20     1\n",
       "22     2\n",
       "24     1\n",
       "25     1\n",
       "27     1\n",
       "30     1\n",
       "33     1\n",
       "Name: count, dtype: int64"
      ]
     },
     "metadata": {},
     "output_type": "display_data"
    }
   ],
   "source": [
    "display(df1['Survival months'].value_counts(dropna=False).sort_index(),df2['Survival months'].value_counts(dropna=False).sort_index())"
   ]
  },
  {
   "cell_type": "code",
   "execution_count": 240,
   "metadata": {},
   "outputs": [
    {
     "data": {
      "text/plain": [
       "<Axes: title={'center': 'Survival Months'}, xlabel='Survival Months', ylabel='Frequency'>"
      ]
     },
     "execution_count": 240,
     "metadata": {},
     "output_type": "execute_result"
    },
    {
     "data": {
      "image/png": "[encoded data removed]",
      "text/plain": [
       "<Figure size 1000x500 with 1 Axes>"
      ]
     },
     "metadata": {},
     "output_type": "display_data"
    }
   ],
   "source": [
    "# plot the survival months\n",
    "df1['Survival months'].plot(kind='hist', bins=100,\n",
    "                            figsize=(10, 5), title='Survival Months',\n",
    "                            xlabel='Survival Months', ylabel='Frequency')"
   ]
  },
  {
   "cell_type": "code",
   "execution_count": 241,
   "metadata": {},
   "outputs": [
    {
     "data": {
      "text/plain": [
       "<Axes: title={'center': 'Survival Months'}, xlabel='Survival Months', ylabel='Frequency'>"
      ]
     },
     "execution_count": 241,
     "metadata": {},
     "output_type": "execute_result"
    },
    {
     "data": {
      "image/png": "[encoded data removed]",
      "text/plain": [
       "<Figure size 1000x500 with 1 Axes>"
      ]
     },
     "metadata": {},
     "output_type": "display_data"
    }
   ],
   "source": [
    "df2['Survival months'].plot(kind='hist', bins=100,\n",
    "                            figsize=(10, 5), title='Survival Months',\n",
    "                            xlabel='Survival Months', ylabel='Frequency')"
   ]
  },
  {
   "cell_type": "code",
   "execution_count": 242,
   "metadata": {},
   "outputs": [],
   "source": [
    "# drop Patient ID,Year of diagnosis, CS tumor size (2004-2015), Tumor Size Summary (2016+)\n",
    "df1.drop(columns=['Patient ID','Year of diagnosis', 'CS tumor size (2004-2015)'], inplace=True)\n",
    "df2.drop(columns=['Patient ID','Year of diagnosis', 'Tumor Size Summary (2016+)'], inplace=True)"
   ]
  },
  {
   "cell_type": "code",
   "execution_count": 243,
   "metadata": {},
   "outputs": [
    {
     "data": {
      "text/html": [
       "<div>\n",
       "<style scoped>\n",
       "    .dataframe tbody tr th:only-of-type {\n",
       "        vertical-align: middle;\n",
       "    }\n",
       "\n",
       "    .dataframe tbody tr th {\n",
       "        vertical-align: top;\n",
       "    }\n",
       "\n",
       "    .dataframe thead th {\n",
       "        text-align: right;\n",
       "    }\n",
       "</style>\n",
       "<table border=\"1\" class=\"dataframe\">\n",
       "  <thead>\n",
       "    <tr style=\"text-align: right;\">\n",
       "      <th></th>\n",
       "      <th>Radiation recode</th>\n",
       "      <th>Survival months</th>\n",
       "      <th>Age</th>\n",
       "      <th>Marital Status</th>\n",
       "      <th>Sex_is_male</th>\n",
       "      <th>Race</th>\n",
       "      <th>Chemotherapy</th>\n",
       "      <th>Surgery</th>\n",
       "      <th>T</th>\n",
       "      <th>N</th>\n",
       "      <th>M</th>\n",
       "      <th>Grouped Stage</th>\n",
       "      <th>Tumor Size</th>\n",
       "    </tr>\n",
       "  </thead>\n",
       "  <tbody>\n",
       "    <tr>\n",
       "      <th>0</th>\n",
       "      <td>0</td>\n",
       "      <td>8</td>\n",
       "      <td>70-74 years</td>\n",
       "      <td>Married</td>\n",
       "      <td>0</td>\n",
       "      <td>White</td>\n",
       "      <td>1</td>\n",
       "      <td>0</td>\n",
       "      <td>T2</td>\n",
       "      <td>N0</td>\n",
       "      <td>M1</td>\n",
       "      <td>IV</td>\n",
       "      <td>25</td>\n",
       "    </tr>\n",
       "    <tr>\n",
       "      <th>4</th>\n",
       "      <td>1</td>\n",
       "      <td>19</td>\n",
       "      <td>75-79 years</td>\n",
       "      <td>Married</td>\n",
       "      <td>0</td>\n",
       "      <td>Other</td>\n",
       "      <td>1</td>\n",
       "      <td>0</td>\n",
       "      <td>T1</td>\n",
       "      <td>N0</td>\n",
       "      <td>M0</td>\n",
       "      <td>I</td>\n",
       "      <td>30</td>\n",
       "    </tr>\n",
       "  </tbody>\n",
       "</table>\n",
       "</div>"
      ],
      "text/plain": [
       "   Radiation recode  Survival months          Age Marital Status  Sex_is_male  \\\n",
       "0                 0                8  70-74 years        Married            0   \n",
       "4                 1               19  75-79 years        Married            0   \n",
       "\n",
       "    Race  Chemotherapy  Surgery   T   N   M Grouped Stage  Tumor Size  \n",
       "0  White             1        0  T2  N0  M1            IV          25  \n",
       "4  Other             1        0  T1  N0  M0             I          30  "
      ]
     },
     "metadata": {},
     "output_type": "display_data"
    },
    {
     "data": {
      "text/html": [
       "<div>\n",
       "<style scoped>\n",
       "    .dataframe tbody tr th:only-of-type {\n",
       "        vertical-align: middle;\n",
       "    }\n",
       "\n",
       "    .dataframe tbody tr th {\n",
       "        vertical-align: top;\n",
       "    }\n",
       "\n",
       "    .dataframe thead th {\n",
       "        text-align: right;\n",
       "    }\n",
       "</style>\n",
       "<table border=\"1\" class=\"dataframe\">\n",
       "  <thead>\n",
       "    <tr style=\"text-align: right;\">\n",
       "      <th></th>\n",
       "      <th>Radiation recode</th>\n",
       "      <th>Survival months</th>\n",
       "      <th>Age</th>\n",
       "      <th>Marital Status</th>\n",
       "      <th>Sex_is_male</th>\n",
       "      <th>Race</th>\n",
       "      <th>Chemotherapy</th>\n",
       "      <th>Surgery</th>\n",
       "      <th>T</th>\n",
       "      <th>N</th>\n",
       "      <th>M</th>\n",
       "      <th>Grouped Stage</th>\n",
       "      <th>Tumor Size</th>\n",
       "    </tr>\n",
       "  </thead>\n",
       "  <tbody>\n",
       "    <tr>\n",
       "      <th>1374</th>\n",
       "      <td>1</td>\n",
       "      <td>5</td>\n",
       "      <td>35-54 years</td>\n",
       "      <td>Married</td>\n",
       "      <td>1</td>\n",
       "      <td>White</td>\n",
       "      <td>1</td>\n",
       "      <td>0</td>\n",
       "      <td>T0</td>\n",
       "      <td>N3</td>\n",
       "      <td>M1</td>\n",
       "      <td>4</td>\n",
       "      <td>0</td>\n",
       "    </tr>\n",
       "    <tr>\n",
       "      <th>1375</th>\n",
       "      <td>1</td>\n",
       "      <td>25</td>\n",
       "      <td>75-79 years</td>\n",
       "      <td>Single</td>\n",
       "      <td>1</td>\n",
       "      <td>White</td>\n",
       "      <td>1</td>\n",
       "      <td>0</td>\n",
       "      <td>T1</td>\n",
       "      <td>N0</td>\n",
       "      <td>M0</td>\n",
       "      <td>1</td>\n",
       "      <td>20</td>\n",
       "    </tr>\n",
       "  </tbody>\n",
       "</table>\n",
       "</div>"
      ],
      "text/plain": [
       "      Radiation recode  Survival months          Age Marital Status  \\\n",
       "1374                 1                5  35-54 years        Married   \n",
       "1375                 1               25  75-79 years         Single   \n",
       "\n",
       "      Sex_is_male   Race  Chemotherapy  Surgery   T   N   M Grouped Stage  \\\n",
       "1374            1  White             1        0  T0  N3  M1             4   \n",
       "1375            1  White             1        0  T1  N0  M0             1   \n",
       "\n",
       "      Tumor Size  \n",
       "1374           0  \n",
       "1375          20  "
      ]
     },
     "metadata": {},
     "output_type": "display_data"
    }
   ],
   "source": [
    "display(df1.head(2),df2.head(2))"
   ]
  },
  {
   "cell_type": "code",
   "execution_count": 244,
   "metadata": {},
   "outputs": [],
   "source": [
    "# save the df to a new csv file called cleaned_data.csv\n",
    "df1.to_csv('Data/cleaned_data1.csv', index=False)\n",
    "df2.to_csv('Data/cleaned_data2.csv', index=False)"
   ]
  }
 ],
 "metadata": {
  "kernelspec": {
   "display_name": "Python 3",
   "language": "python",
   "name": "python3"
  },
  "language_info": {
   "codemirror_mode": {
    "name": "ipython",
    "version": 3
   },
   "file_extension": ".py",
   "mimetype": "text/x-python",
   "name": "python",
   "nbconvert_exporter": "python",
   "pygments_lexer": "ipython3",
   "version": "3.11.4"
  }
 },
 "nbformat": 4,
 "nbformat_minor": 2
}
