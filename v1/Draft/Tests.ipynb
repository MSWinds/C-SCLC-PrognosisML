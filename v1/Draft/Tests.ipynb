{
 "cells": [
  {
   "cell_type": "code",
   "execution_count": 91,
   "metadata": {},
   "outputs": [],
   "source": [
    "import pandas as pd\n",
    "import numpy as np\n",
    "# show max columns and rows\n",
    "pd.set_option('display.max_columns', None)\n",
    "pd.set_option('display.max_rows', None)"
   ]
  },
  {
   "cell_type": "code",
   "execution_count": 92,
   "metadata": {},
   "outputs": [],
   "source": [
    "df_raw = pd.read_csv('Data\\export.csv')"
   ]
  },
  {
   "cell_type": "code",
   "execution_count": 93,
   "metadata": {},
   "outputs": [],
   "source": [
    "df = df_raw.copy()"
   ]
  },
  {
   "cell_type": "code",
   "execution_count": 94,
   "metadata": {},
   "outputs": [
    {
     "data": {
      "text/html": [
       "<div>\n",
       "<style scoped>\n",
       "    .dataframe tbody tr th:only-of-type {\n",
       "        vertical-align: middle;\n",
       "    }\n",
       "\n",
       "    .dataframe tbody tr th {\n",
       "        vertical-align: top;\n",
       "    }\n",
       "\n",
       "    .dataframe thead th {\n",
       "        text-align: right;\n",
       "    }\n",
       "</style>\n",
       "<table border=\"1\" class=\"dataframe\">\n",
       "  <thead>\n",
       "    <tr style=\"text-align: right;\">\n",
       "      <th></th>\n",
       "      <th>Patient ID</th>\n",
       "      <th>Marital status at diagnosis</th>\n",
       "      <th>Age recode with &lt;1 year olds</th>\n",
       "      <th>Sex</th>\n",
       "      <th>Race and origin recode (NHW, NHB, NHAIAN, NHAPI, Hispanic)</th>\n",
       "      <th>Primary Site - labeled</th>\n",
       "      <th>Derived EOD 2018 T (2018+)</th>\n",
       "      <th>Derived EOD 2018 N (2018+)</th>\n",
       "      <th>Derived EOD 2018 M (2018+)</th>\n",
       "      <th>Derived EOD 2018 Stage Group (2018+)</th>\n",
       "      <th>Histologic Type ICD-O-3</th>\n",
       "      <th>Median household income inflation adj to 2021</th>\n",
       "      <th>Grade Clinical (2018+)</th>\n",
       "      <th>SEER cause-specific death classification</th>\n",
       "      <th>SEER other cause of death classification</th>\n",
       "      <th>Survival months</th>\n",
       "      <th>Survival months flag</th>\n",
       "    </tr>\n",
       "  </thead>\n",
       "  <tbody>\n",
       "    <tr>\n",
       "      <th>0</th>\n",
       "      <td>693</td>\n",
       "      <td>Divorced</td>\n",
       "      <td>65-69 years</td>\n",
       "      <td>Male</td>\n",
       "      <td>Non-Hispanic White</td>\n",
       "      <td>C34.1-Upper lobe, lung</td>\n",
       "      <td>T3</td>\n",
       "      <td>N1</td>\n",
       "      <td>M0</td>\n",
       "      <td>3A</td>\n",
       "      <td>8140</td>\n",
       "      <td>$75,000+</td>\n",
       "      <td>2</td>\n",
       "      <td>Alive or dead of other cause</td>\n",
       "      <td>Alive or dead due to cancer</td>\n",
       "      <td>0035</td>\n",
       "      <td>Complete dates are available and there are more than 0 days of survival</td>\n",
       "    </tr>\n",
       "    <tr>\n",
       "      <th>1</th>\n",
       "      <td>1434</td>\n",
       "      <td>Single (never married)</td>\n",
       "      <td>65-69 years</td>\n",
       "      <td>Female</td>\n",
       "      <td>Non-Hispanic White</td>\n",
       "      <td>C34.1-Upper lobe, lung</td>\n",
       "      <td>T2a</td>\n",
       "      <td>N0</td>\n",
       "      <td>M0</td>\n",
       "      <td>1B</td>\n",
       "      <td>8140</td>\n",
       "      <td>$75,000+</td>\n",
       "      <td>3</td>\n",
       "      <td>Alive or dead of other cause</td>\n",
       "      <td>Alive or dead due to cancer</td>\n",
       "      <td>0001</td>\n",
       "      <td>Complete dates are available and there are more than 0 days of survival</td>\n",
       "    </tr>\n",
       "  </tbody>\n",
       "</table>\n",
       "</div>"
      ],
      "text/plain": [
       "   Patient ID Marital status at diagnosis Age recode with <1 year olds  \\\n",
       "0         693                    Divorced                  65-69 years   \n",
       "1        1434      Single (never married)                  65-69 years   \n",
       "\n",
       "      Sex Race and origin recode (NHW, NHB, NHAIAN, NHAPI, Hispanic)  \\\n",
       "0    Male                                         Non-Hispanic White   \n",
       "1  Female                                         Non-Hispanic White   \n",
       "\n",
       "   Primary Site - labeled Derived EOD 2018 T (2018+)  \\\n",
       "0  C34.1-Upper lobe, lung                         T3   \n",
       "1  C34.1-Upper lobe, lung                        T2a   \n",
       "\n",
       "  Derived EOD 2018 N (2018+) Derived EOD 2018 M (2018+)  \\\n",
       "0                         N1                         M0   \n",
       "1                         N0                         M0   \n",
       "\n",
       "  Derived EOD 2018 Stage Group (2018+)  Histologic Type ICD-O-3  \\\n",
       "0                                   3A                     8140   \n",
       "1                                   1B                     8140   \n",
       "\n",
       "  Median household income inflation adj to 2021 Grade Clinical (2018+)  \\\n",
       "0                                      $75,000+                      2   \n",
       "1                                      $75,000+                      3   \n",
       "\n",
       "  SEER cause-specific death classification  \\\n",
       "0             Alive or dead of other cause   \n",
       "1             Alive or dead of other cause   \n",
       "\n",
       "  SEER other cause of death classification Survival months  \\\n",
       "0              Alive or dead due to cancer            0035   \n",
       "1              Alive or dead due to cancer            0001   \n",
       "\n",
       "                                                      Survival months flag  \n",
       "0  Complete dates are available and there are more than 0 days of survival  \n",
       "1  Complete dates are available and there are more than 0 days of survival  "
      ]
     },
     "execution_count": 94,
     "metadata": {},
     "output_type": "execute_result"
    }
   ],
   "source": [
    "df.head(2)"
   ]
  },
  {
   "cell_type": "code",
   "execution_count": 95,
   "metadata": {},
   "outputs": [
    {
     "data": {
      "text/plain": [
       "(143573, 17)"
      ]
     },
     "execution_count": 95,
     "metadata": {},
     "output_type": "execute_result"
    }
   ],
   "source": [
    "df.shape"
   ]
  },
  {
   "cell_type": "code",
   "execution_count": 96,
   "metadata": {},
   "outputs": [],
   "source": [
    "# drop SEER cause-specific death classification, SEER other cause of death classification, Survival months flag\n",
    "df.drop(['SEER cause-specific death classification', 'SEER other cause of death classification', 'Survival months flag'], axis=1, inplace=True)"
   ]
  },
  {
   "cell_type": "code",
   "execution_count": 97,
   "metadata": {},
   "outputs": [],
   "source": [
    "# drop Unknown in Survival months\n",
    "df = df[df['Survival months'] != 'Unknown']"
   ]
  },
  {
   "cell_type": "code",
   "execution_count": 98,
   "metadata": {},
   "outputs": [],
   "source": [
    "df['Survival months num'] = df['Survival months'].astype(int)\n",
    "\n",
    "# drop Survival months\n",
    "df.drop(['Survival months'], axis=1, inplace=True)"
   ]
  },
  {
   "cell_type": "markdown",
   "metadata": {},
   "source": [
    "# for only CSCLC"
   ]
  },
  {
   "cell_type": "code",
   "execution_count": 99,
   "metadata": {},
   "outputs": [],
   "source": [
    "df_1 = df.copy()"
   ]
  },
  {
   "cell_type": "code",
   "execution_count": 100,
   "metadata": {},
   "outputs": [
    {
     "data": {
      "text/html": [
       "<div>\n",
       "<style scoped>\n",
       "    .dataframe tbody tr th:only-of-type {\n",
       "        vertical-align: middle;\n",
       "    }\n",
       "\n",
       "    .dataframe tbody tr th {\n",
       "        vertical-align: top;\n",
       "    }\n",
       "\n",
       "    .dataframe thead th {\n",
       "        text-align: right;\n",
       "    }\n",
       "</style>\n",
       "<table border=\"1\" class=\"dataframe\">\n",
       "  <thead>\n",
       "    <tr style=\"text-align: right;\">\n",
       "      <th></th>\n",
       "      <th>Patient ID</th>\n",
       "      <th>Marital status at diagnosis</th>\n",
       "      <th>Age recode with &lt;1 year olds</th>\n",
       "      <th>Sex</th>\n",
       "      <th>Race and origin recode (NHW, NHB, NHAIAN, NHAPI, Hispanic)</th>\n",
       "      <th>Primary Site - labeled</th>\n",
       "      <th>Derived EOD 2018 T (2018+)</th>\n",
       "      <th>Derived EOD 2018 N (2018+)</th>\n",
       "      <th>Derived EOD 2018 M (2018+)</th>\n",
       "      <th>Derived EOD 2018 Stage Group (2018+)</th>\n",
       "      <th>Histologic Type ICD-O-3</th>\n",
       "      <th>Median household income inflation adj to 2021</th>\n",
       "      <th>Grade Clinical (2018+)</th>\n",
       "      <th>Survival months num</th>\n",
       "    </tr>\n",
       "  </thead>\n",
       "  <tbody>\n",
       "    <tr>\n",
       "      <th>215</th>\n",
       "      <td>673920</td>\n",
       "      <td>Widowed</td>\n",
       "      <td>80-84 years</td>\n",
       "      <td>Female</td>\n",
       "      <td>Non-Hispanic White</td>\n",
       "      <td>C34.9-Lung, NOS</td>\n",
       "      <td>TX</td>\n",
       "      <td>N2</td>\n",
       "      <td>M1a</td>\n",
       "      <td>4A</td>\n",
       "      <td>8045</td>\n",
       "      <td>$75,000+</td>\n",
       "      <td>9</td>\n",
       "      <td>2</td>\n",
       "    </tr>\n",
       "    <tr>\n",
       "      <th>641</th>\n",
       "      <td>1081533</td>\n",
       "      <td>Single (never married)</td>\n",
       "      <td>70-74 years</td>\n",
       "      <td>Female</td>\n",
       "      <td>Non-Hispanic White</td>\n",
       "      <td>C34.3-Lower lobe, lung</td>\n",
       "      <td>T1a</td>\n",
       "      <td>N0</td>\n",
       "      <td>M0</td>\n",
       "      <td>1A1</td>\n",
       "      <td>8045</td>\n",
       "      <td>$75,000+</td>\n",
       "      <td>9</td>\n",
       "      <td>11</td>\n",
       "    </tr>\n",
       "  </tbody>\n",
       "</table>\n",
       "</div>"
      ],
      "text/plain": [
       "     Patient ID Marital status at diagnosis Age recode with <1 year olds  \\\n",
       "215      673920                     Widowed                  80-84 years   \n",
       "641     1081533      Single (never married)                  70-74 years   \n",
       "\n",
       "        Sex Race and origin recode (NHW, NHB, NHAIAN, NHAPI, Hispanic)  \\\n",
       "215  Female                                         Non-Hispanic White   \n",
       "641  Female                                         Non-Hispanic White   \n",
       "\n",
       "     Primary Site - labeled Derived EOD 2018 T (2018+)  \\\n",
       "215         C34.9-Lung, NOS                         TX   \n",
       "641  C34.3-Lower lobe, lung                        T1a   \n",
       "\n",
       "    Derived EOD 2018 N (2018+) Derived EOD 2018 M (2018+)  \\\n",
       "215                         N2                        M1a   \n",
       "641                         N0                         M0   \n",
       "\n",
       "    Derived EOD 2018 Stage Group (2018+)  Histologic Type ICD-O-3  \\\n",
       "215                                   4A                     8045   \n",
       "641                                  1A1                     8045   \n",
       "\n",
       "    Median household income inflation adj to 2021 Grade Clinical (2018+)  \\\n",
       "215                                      $75,000+                      9   \n",
       "641                                      $75,000+                      9   \n",
       "\n",
       "     Survival months num  \n",
       "215                    2  \n",
       "641                   11  "
      ]
     },
     "metadata": {},
     "output_type": "display_data"
    },
    {
     "data": {
      "text/plain": [
       "(330, 14)"
      ]
     },
     "metadata": {},
     "output_type": "display_data"
    }
   ],
   "source": [
    "# only keep Histologic Type ICD-O-3 == 8045\n",
    "df_1 = df_1[df_1['Histologic Type ICD-O-3'] == 8045]\n",
    "\n",
    "display(df_1.head(2), df_1.shape)"
   ]
  },
  {
   "cell_type": "code",
   "execution_count": 101,
   "metadata": {},
   "outputs": [
    {
     "data": {
      "text/plain": [
       "count    330.000000\n",
       "mean       9.809091\n",
       "std        9.429465\n",
       "min        0.000000\n",
       "25%        2.000000\n",
       "50%        7.000000\n",
       "75%       15.000000\n",
       "max       35.000000\n",
       "Name: Survival months num, dtype: float64"
      ]
     },
     "execution_count": 101,
     "metadata": {},
     "output_type": "execute_result"
    }
   ],
   "source": [
    "df_1['Survival months num'].describe()"
   ]
  },
  {
   "cell_type": "code",
   "execution_count": 102,
   "metadata": {},
   "outputs": [
    {
     "data": {
      "text/plain": [
       "<Axes: >"
      ]
     },
     "execution_count": 102,
     "metadata": {},
     "output_type": "execute_result"
    },
    {
     "data": {
      "image/png": "[encoded data removed]",
      "text/plain": [
       "<Figure size 640x480 with 1 Axes>"
      ]
     },
     "metadata": {},
     "output_type": "display_data"
    }
   ],
   "source": [
    "df_1['Survival months num'].hist()"
   ]
  },
  {
   "cell_type": "code",
   "execution_count": 103,
   "metadata": {},
   "outputs": [
    {
     "data": {
      "text/plain": [
       "Derived EOD 2018 T (2018+)\n",
       "T0       4\n",
       "T1a     11\n",
       "T1b     35\n",
       "T1c     27\n",
       "T1mi     9\n",
       "T2a     64\n",
       "T2b     22\n",
       "T3      39\n",
       "T4      93\n",
       "TX      26\n",
       "Name: count, dtype: int64"
      ]
     },
     "execution_count": 103,
     "metadata": {},
     "output_type": "execute_result"
    }
   ],
   "source": [
    "df_1['Derived EOD 2018 T (2018+)'].value_counts(dropna=False).sort_index()"
   ]
  },
  {
   "cell_type": "code",
   "execution_count": 104,
   "metadata": {},
   "outputs": [
    {
     "data": {
      "text/plain": [
       "Derived EOD 2018 N (2018+)\n",
       "N0    123\n",
       "N1     29\n",
       "N2    106\n",
       "N3     60\n",
       "NX     12\n",
       "Name: count, dtype: int64"
      ]
     },
     "execution_count": 104,
     "metadata": {},
     "output_type": "execute_result"
    }
   ],
   "source": [
    "df_1['Derived EOD 2018 N (2018+)'].value_counts(dropna=False).sort_index()"
   ]
  },
  {
   "cell_type": "code",
   "execution_count": 105,
   "metadata": {},
   "outputs": [
    {
     "data": {
      "text/plain": [
       "Derived EOD 2018 M (2018+)\n",
       "M0     173\n",
       "M1      11\n",
       "M1a     26\n",
       "M1b     33\n",
       "M1c     87\n",
       "Name: count, dtype: int64"
      ]
     },
     "execution_count": 105,
     "metadata": {},
     "output_type": "execute_result"
    }
   ],
   "source": [
    "df_1['Derived EOD 2018 M (2018+)'].value_counts(dropna=False).sort_index()"
   ]
  },
  {
   "cell_type": "code",
   "execution_count": 106,
   "metadata": {},
   "outputs": [],
   "source": [
    "import pandas as pd\n",
    "pd.set_option('display.max_colwidth', 1000)\n",
    "def check_stats(df):\n",
    "    stats = pd.DataFrame(columns=df.columns, index=[\"counts\", \"unique counts\", \"unique values or range\"])\n",
    "\n",
    "    # Counts\n",
    "    stats.loc[\"counts\"] = df.count()\n",
    "\n",
    "    # Unique Counts\n",
    "    stats.loc[\"unique counts\"] = df.nunique()\n",
    "\n",
    "    # Unique Values or Range\n",
    "    for col in df.columns:\n",
    "        if df[col].dtype == 'object' or df[col].dtype.name == 'category':\n",
    "            # For object or category data\n",
    "            unique_vals = df[col].unique()\n",
    "            stats.at[\"unique values or range\", col] = str(list(unique_vals))\n",
    "        else:\n",
    "            # For numeric data\n",
    "            min_val = df[col].min()\n",
    "            max_val = df[col].max()\n",
    "            stats.at[\"unique values or range\", col] = f\"[{min_val}, {max_val}]\"\n",
    "\n",
    "    return stats\n"
   ]
  },
  {
   "cell_type": "code",
   "execution_count": 107,
   "metadata": {},
   "outputs": [
    {
     "data": {
      "text/html": [
       "<div>\n",
       "<style scoped>\n",
       "    .dataframe tbody tr th:only-of-type {\n",
       "        vertical-align: middle;\n",
       "    }\n",
       "\n",
       "    .dataframe tbody tr th {\n",
       "        vertical-align: top;\n",
       "    }\n",
       "\n",
       "    .dataframe thead th {\n",
       "        text-align: right;\n",
       "    }\n",
       "</style>\n",
       "<table border=\"1\" class=\"dataframe\">\n",
       "  <thead>\n",
       "    <tr style=\"text-align: right;\">\n",
       "      <th></th>\n",
       "      <th>Patient ID</th>\n",
       "      <th>Marital status at diagnosis</th>\n",
       "      <th>Age recode with &lt;1 year olds</th>\n",
       "      <th>Sex</th>\n",
       "      <th>Race and origin recode (NHW, NHB, NHAIAN, NHAPI, Hispanic)</th>\n",
       "      <th>Primary Site - labeled</th>\n",
       "      <th>Derived EOD 2018 T (2018+)</th>\n",
       "      <th>Derived EOD 2018 N (2018+)</th>\n",
       "      <th>Derived EOD 2018 M (2018+)</th>\n",
       "      <th>Derived EOD 2018 Stage Group (2018+)</th>\n",
       "      <th>Histologic Type ICD-O-3</th>\n",
       "      <th>Median household income inflation adj to 2021</th>\n",
       "      <th>Grade Clinical (2018+)</th>\n",
       "      <th>Survival months num</th>\n",
       "    </tr>\n",
       "  </thead>\n",
       "  <tbody>\n",
       "    <tr>\n",
       "      <th>counts</th>\n",
       "      <td>330</td>\n",
       "      <td>330</td>\n",
       "      <td>330</td>\n",
       "      <td>330</td>\n",
       "      <td>330</td>\n",
       "      <td>330</td>\n",
       "      <td>330</td>\n",
       "      <td>330</td>\n",
       "      <td>330</td>\n",
       "      <td>330</td>\n",
       "      <td>330</td>\n",
       "      <td>330</td>\n",
       "      <td>330</td>\n",
       "      <td>330</td>\n",
       "    </tr>\n",
       "    <tr>\n",
       "      <th>unique counts</th>\n",
       "      <td>328</td>\n",
       "      <td>7</td>\n",
       "      <td>10</td>\n",
       "      <td>2</td>\n",
       "      <td>5</td>\n",
       "      <td>6</td>\n",
       "      <td>10</td>\n",
       "      <td>5</td>\n",
       "      <td>5</td>\n",
       "      <td>14</td>\n",
       "      <td>1</td>\n",
       "      <td>10</td>\n",
       "      <td>8</td>\n",
       "      <td>36</td>\n",
       "    </tr>\n",
       "    <tr>\n",
       "      <th>unique values or range</th>\n",
       "      <td>[673920, 63246975]</td>\n",
       "      <td>['Widowed', 'Single (never married)', 'Married (including common law)', 'Divorced', 'Unknown', 'Unmarried or Domestic Partner', 'Separated']</td>\n",
       "      <td>['80-84 years', '70-74 years', '75-79 years', '85+ years', '60-64 years', '55-59 years', '65-69 years', '45-49 years', '50-54 years', '35-39 years']</td>\n",
       "      <td>['Female', 'Male']</td>\n",
       "      <td>['Non-Hispanic White', 'Hispanic (All Races)', 'Non-Hispanic Asian or Pacific Islander', 'Non-Hispanic Black', 'Non-Hispanic American Indian/Alaska Native']</td>\n",
       "      <td>['C34.9-Lung, NOS', 'C34.3-Lower lobe, lung', 'C34.1-Upper lobe, lung', 'C34.8-Overlapping lesion of lung', 'C34.0-Main bronchus', 'C34.2-Middle lobe, lung']</td>\n",
       "      <td>['TX', 'T1a', 'T2a', 'T2b', 'T4', 'T1b', 'T1mi', 'T1c', 'T0', 'T3']</td>\n",
       "      <td>['N2', 'N0', 'N3', 'NX', 'N1']</td>\n",
       "      <td>['M1a', 'M0', 'M1c', 'M1b', 'M1']</td>\n",
       "      <td>['4A', '1A1', '3A', '4B', '1A2', '99', '1B', '3', '3B', '4', '2B', '3C', '1A3', '2A']</td>\n",
       "      <td>[8045, 8045]</td>\n",
       "      <td>['$75,000+', '$70,000 - $74,999', '$55,000 - $59,999', '$60,000 - $64,999', '$50,000 - $54,999', '$65,000 - $69,999', '$45,000 - $49,999', '$35,000 - $39,999', '$40,000 - $44,999', '&lt; $35,000']</td>\n",
       "      <td>['9', '3', '2', '4', '1', 9, 3, 1]</td>\n",
       "      <td>[0, 35]</td>\n",
       "    </tr>\n",
       "  </tbody>\n",
       "</table>\n",
       "</div>"
      ],
      "text/plain": [
       "                                Patient ID  \\\n",
       "counts                                 330   \n",
       "unique counts                          328   \n",
       "unique values or range  [673920, 63246975]   \n",
       "\n",
       "                                                                                                                                         Marital status at diagnosis  \\\n",
       "counts                                                                                                                                                           330   \n",
       "unique counts                                                                                                                                                      7   \n",
       "unique values or range  ['Widowed', 'Single (never married)', 'Married (including common law)', 'Divorced', 'Unknown', 'Unmarried or Domestic Partner', 'Separated']   \n",
       "\n",
       "                                                                                                                                                Age recode with <1 year olds  \\\n",
       "counts                                                                                                                                                                   330   \n",
       "unique counts                                                                                                                                                             10   \n",
       "unique values or range  ['80-84 years', '70-74 years', '75-79 years', '85+ years', '60-64 years', '55-59 years', '65-69 years', '45-49 years', '50-54 years', '35-39 years']   \n",
       "\n",
       "                                       Sex  \\\n",
       "counts                                 330   \n",
       "unique counts                            2   \n",
       "unique values or range  ['Female', 'Male']   \n",
       "\n",
       "                                                                                                                          Race and origin recode (NHW, NHB, NHAIAN, NHAPI, Hispanic)  \\\n",
       "counts                                                                                                                                                                           330   \n",
       "unique counts                                                                                                                                                                      5   \n",
       "unique values or range  ['Non-Hispanic White', 'Hispanic (All Races)', 'Non-Hispanic Asian or Pacific Islander', 'Non-Hispanic Black', 'Non-Hispanic American Indian/Alaska Native']   \n",
       "\n",
       "                                                                                                                                                               Primary Site - labeled  \\\n",
       "counts                                                                                                                                                                            330   \n",
       "unique counts                                                                                                                                                                       6   \n",
       "unique values or range  ['C34.9-Lung, NOS', 'C34.3-Lower lobe, lung', 'C34.1-Upper lobe, lung', 'C34.8-Overlapping lesion of lung', 'C34.0-Main bronchus', 'C34.2-Middle lobe, lung']   \n",
       "\n",
       "                                                                 Derived EOD 2018 T (2018+)  \\\n",
       "counts                                                                                  330   \n",
       "unique counts                                                                            10   \n",
       "unique values or range  ['TX', 'T1a', 'T2a', 'T2b', 'T4', 'T1b', 'T1mi', 'T1c', 'T0', 'T3']   \n",
       "\n",
       "                            Derived EOD 2018 N (2018+)  \\\n",
       "counts                                             330   \n",
       "unique counts                                        5   \n",
       "unique values or range  ['N2', 'N0', 'N3', 'NX', 'N1']   \n",
       "\n",
       "                               Derived EOD 2018 M (2018+)  \\\n",
       "counts                                                330   \n",
       "unique counts                                           5   \n",
       "unique values or range  ['M1a', 'M0', 'M1c', 'M1b', 'M1']   \n",
       "\n",
       "                                                                         Derived EOD 2018 Stage Group (2018+)  \\\n",
       "counts                                                                                                    330   \n",
       "unique counts                                                                                              14   \n",
       "unique values or range  ['4A', '1A1', '3A', '4B', '1A2', '99', '1B', '3', '3B', '4', '2B', '3C', '1A3', '2A']   \n",
       "\n",
       "                       Histologic Type ICD-O-3  \\\n",
       "counts                                     330   \n",
       "unique counts                                1   \n",
       "unique values or range            [8045, 8045]   \n",
       "\n",
       "                                                                                                                                                                            Median household income inflation adj to 2021  \\\n",
       "counts                                                                                                                                                                                                                330   \n",
       "unique counts                                                                                                                                                                                                          10   \n",
       "unique values or range  ['$75,000+', '$70,000 - $74,999', '$55,000 - $59,999', '$60,000 - $64,999', '$50,000 - $54,999', '$65,000 - $69,999', '$45,000 - $49,999', '$35,000 - $39,999', '$40,000 - $44,999', '< $35,000']   \n",
       "\n",
       "                                    Grade Clinical (2018+) Survival months num  \n",
       "counts                                                 330                 330  \n",
       "unique counts                                            8                  36  \n",
       "unique values or range  ['9', '3', '2', '4', '1', 9, 3, 1]             [0, 35]  "
      ]
     },
     "execution_count": 107,
     "metadata": {},
     "output_type": "execute_result"
    }
   ],
   "source": [
    "check_stats(df_1)"
   ]
  },
  {
   "cell_type": "code",
   "execution_count": 108,
   "metadata": {},
   "outputs": [],
   "source": [
    "# drop duplicate rows\n",
    "df_1.drop_duplicates(inplace=True)\n",
    "\n",
    "# drop missing values\n",
    "df_1.dropna(inplace=True)"
   ]
  },
  {
   "cell_type": "code",
   "execution_count": 109,
   "metadata": {},
   "outputs": [
    {
     "data": {
      "text/plain": [
       "(329, 14)"
      ]
     },
     "execution_count": 109,
     "metadata": {},
     "output_type": "execute_result"
    }
   ],
   "source": [
    "df_1.shape"
   ]
  },
  {
   "cell_type": "code",
   "execution_count": 110,
   "metadata": {},
   "outputs": [],
   "source": [
    "# drop patient id\n",
    "df_1.drop(['Patient ID','Histologic Type ICD-O-3'], axis=1, inplace=True)"
   ]
  },
  {
   "cell_type": "code",
   "execution_count": 111,
   "metadata": {},
   "outputs": [],
   "source": [
    "# write a loop to convert object to category\n",
    "for col in df_1.columns:\n",
    "    if df_1[col].dtype == 'object':\n",
    "        df_1[col] = df_1[col].astype('category')"
   ]
  },
  {
   "cell_type": "code",
   "execution_count": 112,
   "metadata": {},
   "outputs": [],
   "source": [
    "from math import ceil\n",
    "# draw multiple plots\n",
    "def transform_exploration(dataframe, x_vars):\n",
    "    # Determine the size of the grid\n",
    "    num_plots = len(x_vars)\n",
    "    num_columns = 2  # We'll use 2 columns for the plots\n",
    "    num_rows = ceil(num_plots / num_columns)  # Calculate the required number of rows\n",
    "\n",
    "    # Create the subplots\n",
    "    fig, axs = plt.subplots(num_rows, num_columns, figsize=(20, 5 * num_rows), squeeze=False)\n",
    "    axs = axs.flatten()  # Flatten the array for easy iteration\n",
    "\n",
    "    # Plot each transformation\n",
    "    for i, var in enumerate(x_vars):\n",
    "        sns.histplot(data=dataframe, x=var, bins=100, multiple=\"dodge\", ax=axs[i])\n",
    "\n",
    "    # Hide any unused subplots\n",
    "    for ax in axs[i+1:]:\n",
    "        ax.set_visible(False)\n",
    "\n",
    "    plt.tight_layout()\n",
    "    plt.show()"
   ]
  },
  {
   "cell_type": "code",
   "execution_count": 113,
   "metadata": {},
   "outputs": [],
   "source": [
    "df1=df_1[['Survival months num']].copy()"
   ]
  },
  {
   "cell_type": "code",
   "execution_count": 114,
   "metadata": {},
   "outputs": [
    {
     "data": {
      "image/png": "[encoded data removed]",
      "text/plain": [
       "<Figure size 2000x1000 with 4 Axes>"
      ]
     },
     "metadata": {},
     "output_type": "display_data"
    }
   ],
   "source": [
    "from scipy.stats import boxcox\n",
    "\n",
    "df1['Survival months num_log'] = np.log(df1['Survival months num']+1)\n",
    "df1['Survival months num_cbrt'] = np.cbrt(df1['Survival months num']+1)\n",
    "df1['Survival months num_boxcox'], lam = boxcox(df1['Survival months num']+1)\n",
    "\n",
    "# test the normality of the data\n",
    "transform_exploration(df1,['Survival months num','Survival months num_log',\n",
    "                           'Survival months num_cbrt','Survival months num_boxcox'])"
   ]
  },
  {
   "cell_type": "code",
   "execution_count": 115,
   "metadata": {},
   "outputs": [],
   "source": [
    "df_1.columns = df_1.columns.str.replace('[\\[\\]\\{\\},]', '', regex=True)"
   ]
  },
  {
   "cell_type": "code",
   "execution_count": 117,
   "metadata": {},
   "outputs": [
    {
     "data": {
      "text/plain": [
       "((230, 11), (99, 11), (230,), (99,))"
      ]
     },
     "execution_count": 117,
     "metadata": {},
     "output_type": "execute_result"
    }
   ],
   "source": [
    "# split data into train and test\n",
    "from sklearn.model_selection import train_test_split\n",
    "X=df_1.drop(['Survival months num'], axis=1)\n",
    "y=df_1['Survival months num']\n",
    "\n",
    "X_train, X_test, y_train, y_test = train_test_split(X, y, test_size=0.3, random_state=123)\n",
    "\n",
    "X_train.shape, X_test.shape, y_train.shape, y_test.shape"
   ]
  },
  {
   "cell_type": "code",
   "execution_count": 118,
   "metadata": {},
   "outputs": [],
   "source": [
    "# define the categorical features\n",
    "categorical_features = df_1.select_dtypes(include=['category']).columns.tolist()"
   ]
  },
  {
   "cell_type": "code",
   "execution_count": 119,
   "metadata": {},
   "outputs": [],
   "source": [
    "import pandas as pd\n",
    "pd.set_option('display.max_columns', None)\n",
    "import numpy as np\n",
    "import matplotlib.pyplot as plt\n",
    "import seaborn as sns\n",
    "import warnings\n",
    "warnings.filterwarnings('ignore')\n",
    "import optuna\n",
    "import lightgbm as lgb\n",
    "from sklearn.model_selection import train_test_split\n",
    "from sklearn.metrics import classification_report\n",
    "from sklearn.utils.class_weight import compute_sample_weight\n",
    "from sklearn.model_selection import cross_val_score\n",
    "\n",
    "import optuna\n",
    "from optuna.integration.lightgbm import LightGBMTunerCV as lgbtcv\n",
    "from lightgbm import early_stopping\n",
    "warnings.filterwarnings('ignore')\n",
    "optuna.logging.set_verbosity(optuna.logging.WARNING)"
   ]
  },
  {
   "cell_type": "code",
   "execution_count": 120,
   "metadata": {},
   "outputs": [
    {
     "name": "stderr",
     "output_type": "stream",
     "text": [
      "feature_fraction, val_score: 8.911279: 100%|##########| 7/7 [00:00<00:00, 38.40it/s]\n"
     ]
    },
    {
     "name": "stdout",
     "output_type": "stream",
     "text": [
      "Training until validation scores don't improve for 10 rounds\n",
      "Early stopping, best iteration is:\n",
      "[34]\tcv_agg's valid rmse: 8.91128 + 0.56243\n",
      "Training until validation scores don't improve for 10 rounds\n",
      "Early stopping, best iteration is:\n",
      "[7]\tcv_agg's valid rmse: 8.91128 + 0.56243\n",
      "Training until validation scores don't improve for 10 rounds\n",
      "Early stopping, best iteration is:\n",
      "[9]\tcv_agg's valid rmse: 8.91128 + 0.56243\n",
      "Training until validation scores don't improve for 10 rounds\n",
      "Early stopping, best iteration is:\n",
      "[9]\tcv_agg's valid rmse: 8.91128 + 0.56243\n",
      "Training until validation scores don't improve for 10 rounds\n",
      "Early stopping, best iteration is:\n",
      "[8]\tcv_agg's valid rmse: 8.91128 + 0.56243\n",
      "Training until validation scores don't improve for 10 rounds\n",
      "Early stopping, best iteration is:\n",
      "[7]\tcv_agg's valid rmse: 8.91128 + 0.56243\n",
      "Training until validation scores don't improve for 10 rounds\n",
      "Early stopping, best iteration is:\n",
      "[7]\tcv_agg's valid rmse: 8.91128 + 0.56243\n"
     ]
    },
    {
     "name": "stderr",
     "output_type": "stream",
     "text": []
    },
    {
     "name": "stdout",
     "output_type": "stream",
     "text": [
      "Training until validation scores don't improve for 10 rounds\n"
     ]
    },
    {
     "name": "stderr",
     "output_type": "stream",
     "text": []
    },
    {
     "name": "stdout",
     "output_type": "stream",
     "text": [
      "Early stopping, best iteration is:\n",
      "[34]\tcv_agg's valid rmse: 8.91128 + 0.56243\n",
      "Training until validation scores don't improve for 10 rounds\n",
      "Early stopping, best iteration is:\n",
      "[34]\tcv_agg's valid rmse: 8.91128 + 0.56243\n",
      "Training until validation scores don't improve for 10 rounds\n",
      "Early stopping, best iteration is:\n",
      "[34]\tcv_agg's valid rmse: 8.91128 + 0.56243\n",
      "Training until validation scores don't improve for 10 rounds\n",
      "Early stopping, best iteration is:\n",
      "[34]\tcv_agg's valid rmse: 8.91128 + 0.56243\n",
      "Training until validation scores don't improve for 10 rounds\n",
      "Early stopping, best iteration is:\n",
      "[34]\tcv_agg's valid rmse: 8.91128 + 0.56243\n"
     ]
    },
    {
     "name": "stderr",
     "output_type": "stream",
     "text": []
    },
    {
     "name": "stdout",
     "output_type": "stream",
     "text": [
      "Training until validation scores don't improve for 10 rounds\n"
     ]
    },
    {
     "name": "stderr",
     "output_type": "stream",
     "text": [
      "\n"
     ]
    },
    {
     "name": "stdout",
     "output_type": "stream",
     "text": [
      "Early stopping, best iteration is:\n",
      "[34]\tcv_agg's valid rmse: 8.91128 + 0.56243\n",
      "Training until validation scores don't improve for 10 rounds\n",
      "Early stopping, best iteration is:\n",
      "[34]\tcv_agg's valid rmse: 8.91128 + 0.56243\n",
      "Training until validation scores don't improve for 10 rounds\n",
      "Early stopping, best iteration is:\n",
      "[34]\tcv_agg's valid rmse: 8.91128 + 0.56243\n",
      "Training until validation scores don't improve for 10 rounds\n",
      "Early stopping, best iteration is:\n",
      "[34]\tcv_agg's valid rmse: 8.91128 + 0.56243\n",
      "Training until validation scores don't improve for 10 rounds\n",
      "Early stopping, best iteration is:\n",
      "[34]\tcv_agg's valid rmse: 8.91128 + 0.56243\n"
     ]
    },
    {
     "name": "stderr",
     "output_type": "stream",
     "text": [
      "num_leaves, val_score: 8.911279:  45%|####5     | 9/20 [00:00<00:00, 23.68it/s]\u001b[A\n"
     ]
    },
    {
     "name": "stdout",
     "output_type": "stream",
     "text": [
      "Training until validation scores don't improve for 10 rounds\n",
      "Early stopping, best iteration is:\n",
      "[34]\tcv_agg's valid rmse: 8.91128 + 0.56243\n"
     ]
    },
    {
     "name": "stderr",
     "output_type": "stream",
     "text": [
      "num_leaves, val_score: 8.911279:  50%|#####     | 10/20 [00:00<00:00, 23.68it/s]\u001b[A"
     ]
    },
    {
     "name": "stdout",
     "output_type": "stream",
     "text": [
      "Training until validation scores don't improve for 10 rounds\n",
      "Early stopping, best iteration is:\n",
      "[34]\tcv_agg's valid rmse: 8.91128 + 0.56243\n",
      "Training until validation scores don't improve for 10 rounds\n",
      "Early stopping, best iteration is:\n",
      "[34]\tcv_agg's valid rmse: 8.91128 + 0.56243\n",
      "Training until validation scores don't improve for 10 rounds\n",
      "Early stopping, best iteration is:\n",
      "[34]\tcv_agg's valid rmse: 8.91128 + 0.56243\n",
      "Training until validation scores don't improve for 10 rounds\n",
      "Early stopping, best iteration is:\n",
      "[34]\tcv_agg's valid rmse: 8.91128 + 0.56243\n"
     ]
    },
    {
     "name": "stderr",
     "output_type": "stream",
     "text": []
    },
    {
     "name": "stdout",
     "output_type": "stream",
     "text": [
      "Training until validation scores don't improve for 10 rounds\n",
      "Early stopping, best iteration is:\n",
      "[34]\tcv_agg's valid rmse: 8.91128 + 0.56243\n"
     ]
    },
    {
     "name": "stderr",
     "output_type": "stream",
     "text": [
      "\n"
     ]
    },
    {
     "name": "stdout",
     "output_type": "stream",
     "text": [
      "Training until validation scores don't improve for 10 rounds\n",
      "Early stopping, best iteration is:\n",
      "[34]\tcv_agg's valid rmse: 8.91128 + 0.56243\n",
      "Training until validation scores don't improve for 10 rounds\n",
      "Early stopping, best iteration is:\n",
      "[34]\tcv_agg's valid rmse: 8.91128 + 0.56243\n",
      "Training until validation scores don't improve for 10 rounds\n",
      "Early stopping, best iteration is:\n",
      "[34]\tcv_agg's valid rmse: 8.91128 + 0.56243\n",
      "Training until validation scores don't improve for 10 rounds\n",
      "Early stopping, best iteration is:\n",
      "[34]\tcv_agg's valid rmse: 8.91128 + 0.56243\n"
     ]
    },
    {
     "name": "stderr",
     "output_type": "stream",
     "text": [
      "num_leaves, val_score: 8.911279: 100%|##########| 20/20 [00:00<00:00, 23.33it/s]\u001b[A\n"
     ]
    },
    {
     "name": "stdout",
     "output_type": "stream",
     "text": [
      "Training until validation scores don't improve for 10 rounds\n",
      "Early stopping, best iteration is:\n",
      "[11]\tcv_agg's valid rmse: 8.91717 + 0.560027\n"
     ]
    },
    {
     "name": "stderr",
     "output_type": "stream",
     "text": [
      "\n"
     ]
    },
    {
     "name": "stdout",
     "output_type": "stream",
     "text": [
      "Training until validation scores don't improve for 10 rounds\n",
      "Early stopping, best iteration is:\n",
      "[34]\tcv_agg's valid rmse: 8.91128 + 0.56243\n",
      "Training until validation scores don't improve for 10 rounds\n",
      "Early stopping, best iteration is:\n",
      "[38]\tcv_agg's valid rmse: 8.90108 + 0.582679\n",
      "Training until validation scores don't improve for 10 rounds\n",
      "Early stopping, best iteration is:\n",
      "[38]\tcv_agg's valid rmse: 8.90351 + 0.585109\n"
     ]
    },
    {
     "name": "stderr",
     "output_type": "stream",
     "text": [
      "bagging, val_score: 8.901078:  30%|###       | 3/10 [00:00<00:00, 18.91it/s]\u001b[A"
     ]
    },
    {
     "name": "stdout",
     "output_type": "stream",
     "text": [
      "Training until validation scores don't improve for 10 rounds\n",
      "Early stopping, best iteration is:\n",
      "[38]\tcv_agg's valid rmse: 8.90301 + 0.583514\n"
     ]
    },
    {
     "name": "stderr",
     "output_type": "stream",
     "text": []
    },
    {
     "name": "stdout",
     "output_type": "stream",
     "text": [
      "Training until validation scores don't improve for 10 rounds\n",
      "Early stopping, best iteration is:\n",
      "[38]\tcv_agg's valid rmse: 8.90281 + 0.583992\n",
      "Training until validation scores don't improve for 10 rounds\n",
      "Early stopping, best iteration is:\n",
      "[38]\tcv_agg's valid rmse: 8.90301 + 0.583514\n",
      "Training until validation scores don't improve for 10 rounds\n"
     ]
    },
    {
     "name": "stderr",
     "output_type": "stream",
     "text": []
    },
    {
     "name": "stdout",
     "output_type": "stream",
     "text": [
      "Early stopping, best iteration is:\n",
      "[38]\tcv_agg's valid rmse: 8.90281 + 0.583992\n",
      "Training until validation scores don't improve for 10 rounds\n",
      "Early stopping, best iteration is:\n",
      "[11]\tcv_agg's valid rmse: 8.9167 + 0.559663\n"
     ]
    },
    {
     "name": "stderr",
     "output_type": "stream",
     "text": [
      "bagging, val_score: 8.901078: 100%|##########| 10/10 [00:00<00:00, 18.88it/s]\n"
     ]
    },
    {
     "name": "stdout",
     "output_type": "stream",
     "text": [
      "Training until validation scores don't improve for 10 rounds\n",
      "Early stopping, best iteration is:\n",
      "[11]\tcv_agg's valid rmse: 8.91687 + 0.560293\n"
     ]
    },
    {
     "name": "stderr",
     "output_type": "stream",
     "text": [
      "\n"
     ]
    },
    {
     "name": "stdout",
     "output_type": "stream",
     "text": [
      "Training until validation scores don't improve for 10 rounds\n",
      "Early stopping, best iteration is:\n",
      "[19]\tcv_agg's valid rmse: 8.91266 + 0.566577\n",
      "Training until validation scores don't improve for 10 rounds\n",
      "Early stopping, best iteration is:\n",
      "[19]\tcv_agg's valid rmse: 8.91266 + 0.566577\n"
     ]
    },
    {
     "name": "stderr",
     "output_type": "stream",
     "text": [
      "feature_fraction_stage2, val_score: 8.901078: 100%|##########| 3/3 [00:00<00:00, 23.81it/s]\u001b[A\n"
     ]
    },
    {
     "name": "stdout",
     "output_type": "stream",
     "text": [
      "Training until validation scores don't improve for 10 rounds\n",
      "Early stopping, best iteration is:\n",
      "[19]\tcv_agg's valid rmse: 8.91266 + 0.566577\n"
     ]
    },
    {
     "name": "stderr",
     "output_type": "stream",
     "text": []
    },
    {
     "name": "stdout",
     "output_type": "stream",
     "text": [
      "Training until validation scores don't improve for 10 rounds\n",
      "Early stopping, best iteration is:\n",
      "[38]\tcv_agg's valid rmse: 8.9011 + 0.582615\n"
     ]
    },
    {
     "name": "stderr",
     "output_type": "stream",
     "text": [
      "\n"
     ]
    },
    {
     "name": "stdout",
     "output_type": "stream",
     "text": [
      "Training until validation scores don't improve for 10 rounds\n",
      "Early stopping, best iteration is:\n",
      "[38]\tcv_agg's valid rmse: 8.90111 + 0.582576\n",
      "Training until validation scores don't improve for 10 rounds\n",
      "Early stopping, best iteration is:\n",
      "[38]\tcv_agg's valid rmse: 8.90117 + 0.582395\n"
     ]
    },
    {
     "name": "stderr",
     "output_type": "stream",
     "text": [
      "regularization_factors, val_score: 8.901078:  10%|#         | 2/20 [00:00<00:00, 18.56it/s]\u001b[A"
     ]
    },
    {
     "name": "stdout",
     "output_type": "stream",
     "text": [
      "Training until validation scores don't improve for 10 rounds\n",
      "Early stopping, best iteration is:\n",
      "[38]\tcv_agg's valid rmse: 8.90117 + 0.5824\n"
     ]
    },
    {
     "name": "stderr",
     "output_type": "stream",
     "text": []
    },
    {
     "name": "stdout",
     "output_type": "stream",
     "text": [
      "Training until validation scores don't improve for 10 rounds\n",
      "Early stopping, best iteration is:\n",
      "[38]\tcv_agg's valid rmse: 8.90116 + 0.582441\n"
     ]
    },
    {
     "name": "stderr",
     "output_type": "stream",
     "text": []
    },
    {
     "name": "stdout",
     "output_type": "stream",
     "text": [
      "Training until validation scores don't improve for 10 rounds\n",
      "Early stopping, best iteration is:\n",
      "[38]\tcv_agg's valid rmse: 8.90112 + 0.582564\n"
     ]
    },
    {
     "name": "stderr",
     "output_type": "stream",
     "text": []
    },
    {
     "name": "stdout",
     "output_type": "stream",
     "text": [
      "Training until validation scores don't improve for 10 rounds\n",
      "Early stopping, best iteration is:\n",
      "[38]\tcv_agg's valid rmse: 8.90111 + 0.58257\n"
     ]
    },
    {
     "name": "stderr",
     "output_type": "stream",
     "text": [
      "\n"
     ]
    },
    {
     "name": "stdout",
     "output_type": "stream",
     "text": [
      "Training until validation scores don't improve for 10 rounds\n",
      "Early stopping, best iteration is:\n",
      "[38]\tcv_agg's valid rmse: 8.90109 + 0.582651\n"
     ]
    },
    {
     "name": "stderr",
     "output_type": "stream",
     "text": [
      "regularization_factors, val_score: 8.901078:  35%|###5      | 7/20 [00:00<00:00, 16.70it/s]\u001b[A\n"
     ]
    },
    {
     "name": "stdout",
     "output_type": "stream",
     "text": [
      "Training until validation scores don't improve for 10 rounds\n",
      "Early stopping, best iteration is:\n",
      "[38]\tcv_agg's valid rmse: 8.90108 + 0.582678\n",
      "Training until validation scores don't improve for 10 rounds\n",
      "Early stopping, best iteration is:\n",
      "[38]\tcv_agg's valid rmse: 8.90108 + 0.582679\n"
     ]
    },
    {
     "name": "stderr",
     "output_type": "stream",
     "text": [
      "regularization_factors, val_score: 8.901078:  45%|####5     | 9/20 [00:00<00:00, 16.40it/s]\u001b[A"
     ]
    },
    {
     "name": "stdout",
     "output_type": "stream",
     "text": [
      "Training until validation scores don't improve for 10 rounds\n"
     ]
    },
    {
     "name": "stderr",
     "output_type": "stream",
     "text": [
      "\n"
     ]
    },
    {
     "name": "stdout",
     "output_type": "stream",
     "text": [
      "Early stopping, best iteration is:\n",
      "[38]\tcv_agg's valid rmse: 8.90108 + 0.582679\n",
      "Training until validation scores don't improve for 10 rounds\n",
      "Early stopping, best iteration is:\n",
      "[38]\tcv_agg's valid rmse: 8.90108 + 0.582679\n"
     ]
    },
    {
     "name": "stderr",
     "output_type": "stream",
     "text": [
      "regularization_factors, val_score: 8.901078:  55%|#####5    | 11/20 [00:00<00:00, 17.23it/s]\u001b[A\n"
     ]
    },
    {
     "name": "stdout",
     "output_type": "stream",
     "text": [
      "Training until validation scores don't improve for 10 rounds\n",
      "Early stopping, best iteration is:\n",
      "[38]\tcv_agg's valid rmse: 8.90108 + 0.582679\n",
      "Training until validation scores don't improve for 10 rounds\n",
      "Early stopping, best iteration is:\n",
      "[38]\tcv_agg's valid rmse: 8.90108 + 0.582679\n"
     ]
    },
    {
     "name": "stderr",
     "output_type": "stream",
     "text": [
      "regularization_factors, val_score: 8.901078:  65%|######5   | 13/20 [00:00<00:00, 17.59it/s]\u001b[A"
     ]
    },
    {
     "name": "stdout",
     "output_type": "stream",
     "text": [
      "Training until validation scores don't improve for 10 rounds\n",
      "Early stopping, best iteration is:\n",
      "[38]\tcv_agg's valid rmse: 8.90108 + 0.582679\n",
      "Training until validation scores don't improve for 10 rounds\n",
      "Early stopping, best iteration is:\n",
      "[38]\tcv_agg's valid rmse: 8.90108 + 0.582679\n"
     ]
    },
    {
     "name": "stderr",
     "output_type": "stream",
     "text": []
    },
    {
     "name": "stdout",
     "output_type": "stream",
     "text": [
      "Training until validation scores don't improve for 10 rounds\n",
      "Early stopping, best iteration is:\n",
      "[38]\tcv_agg's valid rmse: 8.90108 + 0.582679\n",
      "Training until validation scores don't improve for 10 rounds\n"
     ]
    },
    {
     "name": "stderr",
     "output_type": "stream",
     "text": []
    },
    {
     "name": "stdout",
     "output_type": "stream",
     "text": [
      "Early stopping, best iteration is:\n",
      "[38]\tcv_agg's valid rmse: 8.90108 + 0.582679\n",
      "Training until validation scores don't improve for 10 rounds\n",
      "Early stopping, best iteration is:\n",
      "[38]\tcv_agg's valid rmse: 8.90108 + 0.582679\n",
      "Training until validation scores don't improve for 10 rounds\n",
      "Early stopping, best iteration is:\n",
      "[38]\tcv_agg's valid rmse: 8.90108 + 0.582679\n"
     ]
    },
    {
     "name": "stderr",
     "output_type": "stream",
     "text": [
      "regularization_factors, val_score: 8.901078: 100%|##########| 20/20 [00:01<00:00, 17.17it/s]\n",
      "\n"
     ]
    },
    {
     "name": "stdout",
     "output_type": "stream",
     "text": [
      "Training until validation scores don't improve for 10 rounds\n",
      "Early stopping, best iteration is:\n",
      "[38]\tcv_agg's valid rmse: 8.90108 + 0.582679\n"
     ]
    },
    {
     "name": "stderr",
     "output_type": "stream",
     "text": [
      "min_child_samples, val_score: 8.901078:   0%|          | 0/5 [00:00<?, ?it/s]\u001b[A"
     ]
    },
    {
     "name": "stdout",
     "output_type": "stream",
     "text": [
      "Training until validation scores don't improve for 10 rounds\n",
      "Early stopping, best iteration is:\n",
      "[38]\tcv_agg's valid rmse: 8.90108 + 0.582679\n",
      "Training until validation scores don't improve for 10 rounds\n",
      "Early stopping, best iteration is:\n",
      "[1]\tcv_agg's valid rmse: 8.91775 + 0.559802\n",
      "Training until validation scores don't improve for 10 rounds\n",
      "Early stopping, best iteration is:\n",
      "[38]\tcv_agg's valid rmse: 8.90108 + 0.582679\n"
     ]
    },
    {
     "name": "stderr",
     "output_type": "stream",
     "text": [
      "min_child_samples, val_score: 8.901078: 100%|##########| 5/5 [00:00<00:00, 20.32it/s]"
     ]
    },
    {
     "name": "stdout",
     "output_type": "stream",
     "text": [
      "Training until validation scores don't improve for 10 rounds\n",
      "Early stopping, best iteration is:\n",
      "[38]\tcv_agg's valid rmse: 8.90108 + 0.582679\n"
     ]
    },
    {
     "name": "stderr",
     "output_type": "stream",
     "text": [
      "\n"
     ]
    }
   ],
   "source": [
    "# Define parameters for LightGBM\n",
    "params = {\n",
    "    \"objective\": \"regression\",\n",
    "    \"metric\": \"rmse\",\n",
    "    \"verbosity\": -1,\n",
    "    \"boosting_type\": \"gbdt\",\n",
    "}\n",
    "\n",
    "# Create LightGBM dataset\n",
    "dtrain_trans = lgb.Dataset(X_train, label=y_train, categorical_feature=categorical_features)\n",
    "\n",
    "study_auto_lgbr_trans = optuna.create_study(direction='minimize', study_name='LightGBM Tuner CV Regression')\n",
    "# Perform cross-validation\n",
    "auto_lgbr_tuner_trans = lgbtcv(\n",
    "    params=params,  # Parameters for task\n",
    "    train_set=dtrain_trans,  # Data to be trained on\n",
    "    num_boost_round=100,  # Number of boosting iterations\n",
    "    nfold=5,  # Number of folds in CV\n",
    "    stratified=False,  # Not using stratified sampling for regression\n",
    "    seed=66,  # Fix random seed for reproducibility of cv\n",
    "    optuna_seed=66,  # Fix random seed for reproducibility of optuna trials\n",
    "    shuffle=True,  # Shuffle data before creating folds\n",
    "    callbacks=[early_stopping(10)],  # Early stopping rounds\n",
    "    study=study_auto_lgbr_trans\n",
    ")\n",
    "\n",
    "\n",
    "auto_lgbr_tuner_trans.run()"
   ]
  },
  {
   "cell_type": "code",
   "execution_count": 121,
   "metadata": {},
   "outputs": [
    {
     "name": "stdout",
     "output_type": "stream",
     "text": [
      "Best Params: {'objective': 'regression', 'metric': 'rmse', 'verbosity': -1, 'boosting_type': 'gbdt', 'feature_pre_filter': False, 'lambda_l1': 0.0, 'lambda_l2': 0.0, 'num_leaves': 31, 'feature_fraction': 0.4, 'bagging_fraction': 0.7051063765092334, 'bagging_freq': 2, 'min_child_samples': 20}\n"
     ]
    }
   ],
   "source": [
    "auto_params_trans = auto_lgbr_tuner_trans.best_params\n",
    "auto_lgbr_best_model_trans = lgb.LGBMRegressor(**auto_params_trans, random_state=66)\n",
    "auto_lgbr_best_model_trans.fit(X_train, y_train, categorical_feature=categorical_features)\n",
    "print('Best Params:', auto_params_trans)"
   ]
  },
  {
   "cell_type": "code",
   "execution_count": 122,
   "metadata": {},
   "outputs": [
    {
     "name": "stdout",
     "output_type": "stream",
     "text": [
      "Root Mean Squared Error: 10.427672559151912\n",
      "R2 Training: 0.005124281359833782\n",
      "R2 Testing: -0.0038137957001200817\n",
      "Adjusted R2 Training: -0.04507586958072496\n",
      "Adjusted R2 Testing: -0.05446495052902511\n"
     ]
    }
   ],
   "source": [
    "from sklearn.metrics import mean_squared_error\n",
    "# Make predictions and evaluate\n",
    "y_pred_lgbr_trans = auto_lgbr_best_model_trans.predict(X_test)\n",
    "rmse_lgbr_trans = mean_squared_error(y_test, y_pred_lgbr_trans, squared=False)\n",
    "r2_testing_lgbr_trans = auto_lgbr_best_model_trans.score(X_test, y_test)\n",
    "r2_training_lgbr_trans = auto_lgbr_best_model_trans.score(X_train, y_train)\n",
    "# Adjusted R2 Calculation\n",
    "def adjusted_r2(r_square, n, p):\n",
    "    return 1 - (1 - r_square) * (n - 1) / (n - p - 1)\n",
    "adjusted_r2_training_lgbr_trans = adjusted_r2(r2_training_lgbr_trans, X_train.shape[0], X_train.shape[1])\n",
    "adjusted_r2_testing_lgbr_trans = adjusted_r2(r2_testing_lgbr_trans, X_train.shape[0], X_train.shape[1])\n",
    "\n",
    "print('Root Mean Squared Error:', rmse_lgbr_trans)\n",
    "print('R2 Training:', r2_training_lgbr_trans)\n",
    "print('R2 Testing:', r2_testing_lgbr_trans)\n",
    "print('Adjusted R2 Training:', adjusted_r2_training_lgbr_trans)\n",
    "print('Adjusted R2 Testing:', adjusted_r2_testing_lgbr_trans)"
   ]
  }
 ],
 "metadata": {
  "kernelspec": {
   "display_name": "Python 3",
   "language": "python",
   "name": "python3"
  },
  "language_info": {
   "codemirror_mode": {
    "name": "ipython",
    "version": 3
   },
   "file_extension": ".py",
   "mimetype": "text/x-python",
   "name": "python",
   "nbconvert_exporter": "python",
   "pygments_lexer": "ipython3",
   "version": "3.11.4"
  }
 },
 "nbformat": 4,
 "nbformat_minor": 2
}
