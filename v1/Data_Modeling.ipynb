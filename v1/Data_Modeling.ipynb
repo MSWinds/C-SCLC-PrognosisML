{
 "cells": [
  {
   "cell_type": "code",
   "execution_count": 62,
   "metadata": {},
   "outputs": [],
   "source": [
    "import pandas as pd\n",
    "import numpy as np\n",
    "# show max columns and rows\n",
    "pd.set_option('display.max_columns', None)\n",
    "pd.set_option('display.max_rows', None)\n",
    "import matplotlib.pyplot as plt\n",
    "import seaborn as sns\n",
    "from utils.exploration import *\n",
    "from sklearn.preprocessing import label_binarize\n",
    "from sklearn.metrics import confusion_matrix, classification_report\n",
    "from sklearn.metrics import log_loss, roc_auc_score"
   ]
  },
  {
   "cell_type": "markdown",
   "metadata": {},
   "source": [
    "## Read Data"
   ]
  },
  {
   "cell_type": "code",
   "execution_count": 16,
   "metadata": {},
   "outputs": [],
   "source": [
    "df_raw = pd.read_csv('Data\\SEER_Final_Data_vf1_cleaned.csv')"
   ]
  },
  {
   "cell_type": "code",
   "execution_count": 17,
   "metadata": {},
   "outputs": [],
   "source": [
    "df = df_raw.copy()"
   ]
  },
  {
   "cell_type": "code",
   "execution_count": 18,
   "metadata": {},
   "outputs": [
    {
     "data": {
      "text/html": [
       "<div>\n",
       "<style scoped>\n",
       "    .dataframe tbody tr th:only-of-type {\n",
       "        vertical-align: middle;\n",
       "    }\n",
       "\n",
       "    .dataframe tbody tr th {\n",
       "        vertical-align: top;\n",
       "    }\n",
       "\n",
       "    .dataframe thead th {\n",
       "        text-align: right;\n",
       "    }\n",
       "</style>\n",
       "<table border=\"1\" class=\"dataframe\">\n",
       "  <thead>\n",
       "    <tr style=\"text-align: right;\">\n",
       "      <th></th>\n",
       "      <th>Patient ID</th>\n",
       "      <th>Histologic Type ICD-O-3</th>\n",
       "      <th>Year of diagnosis</th>\n",
       "      <th>Sex</th>\n",
       "      <th>Race</th>\n",
       "      <th>Radiation recode</th>\n",
       "      <th>Bone Metastasis</th>\n",
       "      <th>Brain Metastasis</th>\n",
       "      <th>Liver Metastasis</th>\n",
       "      <th>Lung Metastasis</th>\n",
       "      <th>T</th>\n",
       "      <th>N</th>\n",
       "      <th>M</th>\n",
       "      <th>Grouped Stage</th>\n",
       "      <th>Chemotherapy</th>\n",
       "      <th>Tumor Size</th>\n",
       "      <th>Surgery</th>\n",
       "      <th>Age</th>\n",
       "      <th>Survival Months</th>\n",
       "      <th>Survival Months Group</th>\n",
       "    </tr>\n",
       "  </thead>\n",
       "  <tbody>\n",
       "    <tr>\n",
       "      <th>0</th>\n",
       "      <td>194350</td>\n",
       "      <td>0</td>\n",
       "      <td>2010</td>\n",
       "      <td>Female</td>\n",
       "      <td>Black</td>\n",
       "      <td>1</td>\n",
       "      <td>0</td>\n",
       "      <td>0</td>\n",
       "      <td>0</td>\n",
       "      <td>0</td>\n",
       "      <td>T4</td>\n",
       "      <td>N1</td>\n",
       "      <td>M1</td>\n",
       "      <td>IV</td>\n",
       "      <td>1</td>\n",
       "      <td>46</td>\n",
       "      <td>0</td>\n",
       "      <td>75-79 years</td>\n",
       "      <td>14</td>\n",
       "      <td>12-24 months</td>\n",
       "    </tr>\n",
       "    <tr>\n",
       "      <th>1</th>\n",
       "      <td>674026</td>\n",
       "      <td>0</td>\n",
       "      <td>2010</td>\n",
       "      <td>Female</td>\n",
       "      <td>White</td>\n",
       "      <td>0</td>\n",
       "      <td>0</td>\n",
       "      <td>0</td>\n",
       "      <td>0</td>\n",
       "      <td>0</td>\n",
       "      <td>T2</td>\n",
       "      <td>N2</td>\n",
       "      <td>M0</td>\n",
       "      <td>III</td>\n",
       "      <td>1</td>\n",
       "      <td>50</td>\n",
       "      <td>0</td>\n",
       "      <td>60-64 years</td>\n",
       "      <td>66</td>\n",
       "      <td>Over 24 months</td>\n",
       "    </tr>\n",
       "    <tr>\n",
       "      <th>2</th>\n",
       "      <td>462906</td>\n",
       "      <td>0</td>\n",
       "      <td>2010</td>\n",
       "      <td>Female</td>\n",
       "      <td>White</td>\n",
       "      <td>1</td>\n",
       "      <td>1</td>\n",
       "      <td>1</td>\n",
       "      <td>0</td>\n",
       "      <td>1</td>\n",
       "      <td>T4</td>\n",
       "      <td>N2</td>\n",
       "      <td>M1</td>\n",
       "      <td>IV</td>\n",
       "      <td>1</td>\n",
       "      <td>70</td>\n",
       "      <td>0</td>\n",
       "      <td>70-74 years</td>\n",
       "      <td>2</td>\n",
       "      <td>0-12 months</td>\n",
       "    </tr>\n",
       "  </tbody>\n",
       "</table>\n",
       "</div>"
      ],
      "text/plain": [
       "   Patient ID  Histologic Type ICD-O-3  Year of diagnosis     Sex   Race  \\\n",
       "0      194350                        0               2010  Female  Black   \n",
       "1      674026                        0               2010  Female  White   \n",
       "2      462906                        0               2010  Female  White   \n",
       "\n",
       "   Radiation recode  Bone Metastasis  Brain Metastasis  Liver Metastasis  \\\n",
       "0                 1                0                 0                 0   \n",
       "1                 0                0                 0                 0   \n",
       "2                 1                1                 1                 0   \n",
       "\n",
       "   Lung Metastasis   T   N   M Grouped Stage  Chemotherapy  Tumor Size  \\\n",
       "0                0  T4  N1  M1            IV             1          46   \n",
       "1                0  T2  N2  M0           III             1          50   \n",
       "2                1  T4  N2  M1            IV             1          70   \n",
       "\n",
       "   Surgery          Age  Survival Months Survival Months Group  \n",
       "0        0  75-79 years               14          12-24 months  \n",
       "1        0  60-64 years               66        Over 24 months  \n",
       "2        0  70-74 years                2           0-12 months  "
      ]
     },
     "metadata": {},
     "output_type": "display_data"
    },
    {
     "data": {
      "text/plain": [
       "(28882, 20)"
      ]
     },
     "metadata": {},
     "output_type": "display_data"
    }
   ],
   "source": [
    "display(df.head(3), df.shape)"
   ]
  },
  {
   "cell_type": "code",
   "execution_count": 19,
   "metadata": {},
   "outputs": [
    {
     "data": {
      "text/plain": [
       "count    28882.000000\n",
       "mean         9.672876\n",
       "std         11.455663\n",
       "min          0.000000\n",
       "25%          2.000000\n",
       "50%          7.000000\n",
       "75%         13.000000\n",
       "max        128.000000\n",
       "Name: Survival Months, dtype: float64"
      ]
     },
     "execution_count": 19,
     "metadata": {},
     "output_type": "execute_result"
    }
   ],
   "source": [
    "df['Survival Months'].describe()"
   ]
  },
  {
   "cell_type": "code",
   "execution_count": 20,
   "metadata": {},
   "outputs": [
    {
     "data": {
      "text/plain": [
       "<Axes: >"
      ]
     },
     "execution_count": 20,
     "metadata": {},
     "output_type": "execute_result"
    },
    {
     "data": {
      "image/png": "[encoded data removed]",
      "text/plain": [
       "<Figure size 640x480 with 1 Axes>"
      ]
     },
     "metadata": {},
     "output_type": "display_data"
    }
   ],
   "source": [
    "df['Survival Months'].hist(bins=129)"
   ]
  },
  {
   "cell_type": "code",
   "execution_count": 21,
   "metadata": {},
   "outputs": [],
   "source": [
    "# Define the bins and labels\n",
    "bins = [0, 6, 12, float('inf')]  \n",
    "labels = ['0-6 months', '6-12 months', 'Over 12 months']\n",
    "\n",
    "# Use pd.cut to create the new column\n",
    "df['Grouped Survival Months'] = pd.cut(df['Survival Months'], bins=bins, labels=labels, right=False)\n",
    "\n",
    "df['Survival Months Group'] = df['Grouped Survival Months'].astype('category')\n",
    "\n",
    "# drop the old column\n",
    "df.drop(columns='Grouped Survival Months', inplace=True)\n",
    "df.drop(columns='Survival Months', inplace=True)"
   ]
  },
  {
   "cell_type": "code",
   "execution_count": 23,
   "metadata": {},
   "outputs": [
    {
     "name": "stdout",
     "output_type": "stream",
     "text": [
      "Counts and percentages of unique values in Survival Months Group:\n",
      "                       Count  Percentage\n",
      "Survival Months Group                   \n",
      "0-6 months             12400   42.933315\n",
      "Over 12 months          8493   29.405858\n",
      "6-12 months             7989   27.660827\n"
     ]
    },
    {
     "data": {
      "image/png": "[encoded data removed]",
      "text/plain": [
       "<Figure size 640x480 with 1 Axes>"
      ]
     },
     "metadata": {},
     "output_type": "display_data"
    }
   ],
   "source": [
    "data_exploration(df, 'Survival Months Group')"
   ]
  },
  {
   "cell_type": "markdown",
   "metadata": {},
   "source": [
    "## Data Preprocessing"
   ]
  },
  {
   "cell_type": "code",
   "execution_count": 24,
   "metadata": {},
   "outputs": [
    {
     "data": {
      "text/plain": [
       "Patient ID                 0\n",
       "Histologic Type ICD-O-3    0\n",
       "Year of diagnosis          0\n",
       "Sex                        0\n",
       "Race                       0\n",
       "Radiation recode           0\n",
       "Bone Metastasis            0\n",
       "Brain Metastasis           0\n",
       "Liver Metastasis           0\n",
       "Lung Metastasis            0\n",
       "T                          0\n",
       "N                          0\n",
       "M                          0\n",
       "Grouped Stage              0\n",
       "Chemotherapy               0\n",
       "Tumor Size                 0\n",
       "Surgery                    0\n",
       "Age                        0\n",
       "Survival Months Group      0\n",
       "dtype: int64"
      ]
     },
     "execution_count": 24,
     "metadata": {},
     "output_type": "execute_result"
    }
   ],
   "source": [
    "# check missing values\n",
    "df.isnull().sum()"
   ]
  },
  {
   "cell_type": "code",
   "execution_count": 25,
   "metadata": {},
   "outputs": [],
   "source": [
    "# drop Year of diagnosis, Patient ID\n",
    "df.drop(columns=['Year of diagnosis', 'Patient ID'], inplace=True)"
   ]
  },
  {
   "cell_type": "code",
   "execution_count": 30,
   "metadata": {},
   "outputs": [
    {
     "data": {
      "text/plain": [
       "Sex\n",
       "Female    14532\n",
       "Male      14350\n",
       "Name: count, dtype: int64"
      ]
     },
     "execution_count": 30,
     "metadata": {},
     "output_type": "execute_result"
    }
   ],
   "source": [
    "df['Sex'].value_counts(dropna=False)"
   ]
  },
  {
   "cell_type": "code",
   "execution_count": 31,
   "metadata": {},
   "outputs": [],
   "source": [
    "df['Sex'] = df['Sex'].map({'Female': 0, 'Male': 1})"
   ]
  },
  {
   "cell_type": "code",
   "execution_count": 32,
   "metadata": {},
   "outputs": [
    {
     "data": {
      "text/plain": [
       "Race\n",
       "White    25143\n",
       "Black     2506\n",
       "Other     1233\n",
       "Name: count, dtype: int64"
      ]
     },
     "execution_count": 32,
     "metadata": {},
     "output_type": "execute_result"
    }
   ],
   "source": [
    "df['Race'].value_counts(dropna=False) # we will do one hot encoding later"
   ]
  },
  {
   "cell_type": "code",
   "execution_count": 33,
   "metadata": {},
   "outputs": [
    {
     "data": {
      "text/plain": [
       "Radiation recode\n",
       "0    15252\n",
       "1    13630\n",
       "Name: count, dtype: int64"
      ]
     },
     "execution_count": 33,
     "metadata": {},
     "output_type": "execute_result"
    }
   ],
   "source": [
    "df['Radiation recode'].value_counts(dropna=False)"
   ]
  },
  {
   "cell_type": "code",
   "execution_count": 34,
   "metadata": {},
   "outputs": [
    {
     "data": {
      "text/plain": [
       "Bone Metastasis\n",
       "0    21610\n",
       "1     7272\n",
       "Name: count, dtype: int64"
      ]
     },
     "execution_count": 34,
     "metadata": {},
     "output_type": "execute_result"
    }
   ],
   "source": [
    "df['Bone Metastasis'].value_counts(dropna=False)"
   ]
  },
  {
   "cell_type": "code",
   "execution_count": 35,
   "metadata": {},
   "outputs": [
    {
     "data": {
      "text/plain": [
       "T\n",
       "T4    10560\n",
       "T2     7306\n",
       "T3     6364\n",
       "T1     4652\n",
       "Name: count, dtype: int64"
      ]
     },
     "execution_count": 35,
     "metadata": {},
     "output_type": "execute_result"
    }
   ],
   "source": [
    "df['T'].value_counts(dropna=False) # we will do one hot encoding on T N M Stage later"
   ]
  },
  {
   "cell_type": "code",
   "execution_count": 36,
   "metadata": {},
   "outputs": [
    {
     "data": {
      "text/plain": [
       "Chemotherapy\n",
       "1    20599\n",
       "0     8283\n",
       "Name: count, dtype: int64"
      ]
     },
     "execution_count": 36,
     "metadata": {},
     "output_type": "execute_result"
    }
   ],
   "source": [
    "df['Chemotherapy'].value_counts(dropna=False)"
   ]
  },
  {
   "cell_type": "code",
   "execution_count": 37,
   "metadata": {},
   "outputs": [
    {
     "data": {
      "text/plain": [
       "Surgery\n",
       "0    22880\n",
       "1     6002\n",
       "Name: count, dtype: int64"
      ]
     },
     "execution_count": 37,
     "metadata": {},
     "output_type": "execute_result"
    }
   ],
   "source": [
    "df['Surgery'].value_counts(dropna=False)"
   ]
  },
  {
   "cell_type": "code",
   "execution_count": 38,
   "metadata": {},
   "outputs": [
    {
     "data": {
      "text/plain": [
       "Age\n",
       "65-69 years    5599\n",
       "70-74 years    5224\n",
       "60-64 years    4583\n",
       "75-79 years    4080\n",
       "55-59 years    3241\n",
       "80-84 years    2474\n",
       "50-54 years    1669\n",
       "85+ years      1246\n",
       "45-49 years     580\n",
       "20-44 years     186\n",
       "Name: count, dtype: int64"
      ]
     },
     "execution_count": 38,
     "metadata": {},
     "output_type": "execute_result"
    }
   ],
   "source": [
    "df['Age'].value_counts(dropna=False)"
   ]
  },
  {
   "cell_type": "code",
   "execution_count": 39,
   "metadata": {},
   "outputs": [
    {
     "data": {
      "text/plain": [
       "Histologic Type ICD-O-3       int64\n",
       "Sex                           int64\n",
       "Race                         object\n",
       "Radiation recode              int64\n",
       "Bone Metastasis               int64\n",
       "Brain Metastasis              int64\n",
       "Liver Metastasis              int64\n",
       "Lung Metastasis               int64\n",
       "T                            object\n",
       "N                            object\n",
       "M                            object\n",
       "Grouped Stage                object\n",
       "Chemotherapy                  int64\n",
       "Tumor Size                    int64\n",
       "Surgery                       int64\n",
       "Age                          object\n",
       "Survival Months Group      category\n",
       "dtype: object"
      ]
     },
     "execution_count": 39,
     "metadata": {},
     "output_type": "execute_result"
    }
   ],
   "source": [
    "df.dtypes"
   ]
  },
  {
   "cell_type": "code",
   "execution_count": 40,
   "metadata": {},
   "outputs": [],
   "source": [
    "# a loop to convert all object columns to category\n",
    "for col in df.columns:\n",
    "    if df[col].dtype == 'object':\n",
    "        df[col] = df[col].astype('category')"
   ]
  },
  {
   "cell_type": "code",
   "execution_count": 41,
   "metadata": {},
   "outputs": [
    {
     "data": {
      "text/plain": [
       "Histologic Type ICD-O-3       int64\n",
       "Sex                           int64\n",
       "Race                       category\n",
       "Radiation recode              int64\n",
       "Bone Metastasis               int64\n",
       "Brain Metastasis              int64\n",
       "Liver Metastasis              int64\n",
       "Lung Metastasis               int64\n",
       "T                          category\n",
       "N                          category\n",
       "M                          category\n",
       "Grouped Stage              category\n",
       "Chemotherapy                  int64\n",
       "Tumor Size                    int64\n",
       "Surgery                       int64\n",
       "Age                        category\n",
       "Survival Months Group      category\n",
       "dtype: object"
      ]
     },
     "execution_count": 41,
     "metadata": {},
     "output_type": "execute_result"
    }
   ],
   "source": [
    "df.dtypes"
   ]
  },
  {
   "cell_type": "markdown",
   "metadata": {},
   "source": [
    "## Modeling\n",
    "\n",
    "| Models                         | Normalization of Numeric Columns? | Directly Handle Categorical Columns? | Linear Assumptions and Correlations? | Output Probabilities? |\n",
    "|--------------------------------|-----------------------------------|-------------------------------------|--------------------------------------|-----------------------|\n",
    "| Decision Trees and Random Forests | No                              | Yes                                 | No                                   | Yes                   |\n",
    "| Gradient Boosting Machines (XGBoost, LightGBM) | Not necessary, but can be beneficial | Yes                             | No                                   | Yes                   |\n",
    "| Support Vector Machines (SVM)  | Yes                              | No                                  | Yes (for linear kernel)              | Yes (with probability estimates enabled) |\n",
    "| k-Nearest Neighbors (k-NN)     | Yes                              | No (requires one-hot or similar encoding) | No                               | Yes                   |\n",
    "| Neural Networks                | Yes                              | No (requires one-hot or similar encoding) | No                               | Yes                   |\n",
    "| Logistic Regression            | Yes                              | No (requires one-hot encoding)      | Yes                                  | Yes                   |\n"
   ]
  },
  {
   "cell_type": "markdown",
   "metadata": {},
   "source": [
    "So for the sufficiency of the data, we can use the following models: \n",
    "- Decision Trees and Random Forests\n",
    "- Gradient Boosting Machines (XGBoost, LightGBM)\n",
    "- k-Nearest Neighbors (k-NN)\n",
    "- Neural Networks"
   ]
  },
  {
   "cell_type": "markdown",
   "metadata": {},
   "source": [
    "## Tree-based Models"
   ]
  },
  {
   "cell_type": "code",
   "execution_count": 42,
   "metadata": {},
   "outputs": [],
   "source": [
    "df_t = df.copy()"
   ]
  },
  {
   "cell_type": "code",
   "execution_count": 43,
   "metadata": {},
   "outputs": [
    {
     "data": {
      "text/plain": [
       "{'0-6 months': 0, '6-12 months': 1, 'Over 12 months': 2}"
      ]
     },
     "execution_count": 43,
     "metadata": {},
     "output_type": "execute_result"
    }
   ],
   "source": [
    "from sklearn.preprocessing import LabelEncoder\n",
    "\n",
    "# label encoding the Survival Months Group\n",
    "smg_le = LabelEncoder()\n",
    "df_t['Survival Months Group'] = smg_le.fit_transform(df_t['Survival Months Group'])\n",
    "\n",
    "# show the mapping\n",
    "dict(zip(smg_le.classes_, smg_le.transform(smg_le.classes_)))"
   ]
  },
  {
   "cell_type": "code",
   "execution_count": 49,
   "metadata": {},
   "outputs": [
    {
     "name": "stdout",
     "output_type": "stream",
     "text": [
      "(23105, 16) (5777, 16) (23105,) (5777,)\n",
      "Catgorical features: ['Race', 'T', 'N', 'M', 'Grouped Stage', 'Age']\n"
     ]
    }
   ],
   "source": [
    "# split the data into train and test\n",
    "from sklearn.model_selection import train_test_split\n",
    "\n",
    "X = df_t.drop(columns='Survival Months Group')\n",
    "y = df_t['Survival Months Group']\n",
    "\n",
    "categorical_features = [col for col in X.columns if X[col].dtype == 'category']\n",
    "\n",
    "X_train, X_test, y_train, y_test = train_test_split(X, y, test_size=0.2, random_state=123, stratify=y)\n",
    "\n",
    "# check the shape\n",
    "print(X_train.shape, X_test.shape, y_train.shape, y_test.shape)\n",
    "print(f'Catgorical features: {categorical_features}')"
   ]
  },
  {
   "cell_type": "markdown",
   "metadata": {},
   "source": [
    "### Decision Tree"
   ]
  },
  {
   "cell_type": "code",
   "execution_count": 51,
   "metadata": {},
   "outputs": [
    {
     "name": "stdout",
     "output_type": "stream",
     "text": [
      "(23105, 31) (5777, 31) (23105,) (5777,)\n"
     ]
    }
   ],
   "source": [
    "# one hot encoding for categorical variables only\n",
    "from sklearn.preprocessing import OneHotEncoder\n",
    "\n",
    "X_train_ohe= pd.get_dummies(X_train, columns=categorical_features, drop_first=True)\n",
    "X_test_ohe = pd.get_dummies(X_test, columns=categorical_features, drop_first=True)\n",
    "\n",
    "# loop to change boolean columns to int\n",
    "for col in X_train_ohe.columns:\n",
    "    if X_train_ohe[col].dtype == 'bool':\n",
    "        X_train_ohe[col] = X_train_ohe[col].astype('int')\n",
    "        X_test_ohe[col] = X_test_ohe[col].astype('int')\n",
    "\n",
    "for col in X_test_ohe.columns:\n",
    "    if X_test_ohe[col].dtype == 'bool':\n",
    "        X_train_ohe[col] = X_train_ohe[col].astype('int')\n",
    "        X_test_ohe[col] = X_test_ohe[col].astype('int')\n",
    "\n",
    "# check the shape\n",
    "print(X_train_ohe.shape, X_test_ohe.shape, y_train.shape, y_test.shape)"
   ]
  },
  {
   "cell_type": "code",
   "execution_count": 53,
   "metadata": {},
   "outputs": [],
   "source": [
    "from sklearn.metrics import fbeta_score, make_scorer\n",
    "# Custom F2 scorer\n",
    "f2_scorer = make_scorer(fbeta_score, beta=2, average='weighted')"
   ]
  },
  {
   "cell_type": "code",
   "execution_count": 54,
   "metadata": {},
   "outputs": [
    {
     "data": {
      "text/html": [
       "<style>#sk-container-id-1 {color: black;}#sk-container-id-1 pre{padding: 0;}#sk-container-id-1 div.sk-toggleable {background-color: white;}#sk-container-id-1 label.sk-toggleable__label {cursor: pointer;display: block;width: 100%;margin-bottom: 0;padding: 0.3em;box-sizing: border-box;text-align: center;}#sk-container-id-1 label.sk-toggleable__label-arrow:before {content: \"▸\";float: left;margin-right: 0.25em;color: #696969;}#sk-container-id-1 label.sk-toggleable__label-arrow:hover:before {color: black;}#sk-container-id-1 div.sk-estimator:hover label.sk-toggleable__label-arrow:before {color: black;}#sk-container-id-1 div.sk-toggleable__content {max-height: 0;max-width: 0;overflow: hidden;text-align: left;background-color: #f0f8ff;}#sk-container-id-1 div.sk-toggleable__content pre {margin: 0.2em;color: black;border-radius: 0.25em;background-color: #f0f8ff;}#sk-container-id-1 input.sk-toggleable__control:checked~div.sk-toggleable__content {max-height: 200px;max-width: 100%;overflow: auto;}#sk-container-id-1 input.sk-toggleable__control:checked~label.sk-toggleable__label-arrow:before {content: \"▾\";}#sk-container-id-1 div.sk-estimator input.sk-toggleable__control:checked~label.sk-toggleable__label {background-color: #d4ebff;}#sk-container-id-1 div.sk-label input.sk-toggleable__control:checked~label.sk-toggleable__label {background-color: #d4ebff;}#sk-container-id-1 input.sk-hidden--visually {border: 0;clip: rect(1px 1px 1px 1px);clip: rect(1px, 1px, 1px, 1px);height: 1px;margin: -1px;overflow: hidden;padding: 0;position: absolute;width: 1px;}#sk-container-id-1 div.sk-estimator {font-family: monospace;background-color: #f0f8ff;border: 1px dotted black;border-radius: 0.25em;box-sizing: border-box;margin-bottom: 0.5em;}#sk-container-id-1 div.sk-estimator:hover {background-color: #d4ebff;}#sk-container-id-1 div.sk-parallel-item::after {content: \"\";width: 100%;border-bottom: 1px solid gray;flex-grow: 1;}#sk-container-id-1 div.sk-label:hover label.sk-toggleable__label {background-color: #d4ebff;}#sk-container-id-1 div.sk-serial::before {content: \"\";position: absolute;border-left: 1px solid gray;box-sizing: border-box;top: 0;bottom: 0;left: 50%;z-index: 0;}#sk-container-id-1 div.sk-serial {display: flex;flex-direction: column;align-items: center;background-color: white;padding-right: 0.2em;padding-left: 0.2em;position: relative;}#sk-container-id-1 div.sk-item {position: relative;z-index: 1;}#sk-container-id-1 div.sk-parallel {display: flex;align-items: stretch;justify-content: center;background-color: white;position: relative;}#sk-container-id-1 div.sk-item::before, #sk-container-id-1 div.sk-parallel-item::before {content: \"\";position: absolute;border-left: 1px solid gray;box-sizing: border-box;top: 0;bottom: 0;left: 50%;z-index: -1;}#sk-container-id-1 div.sk-parallel-item {display: flex;flex-direction: column;z-index: 1;position: relative;background-color: white;}#sk-container-id-1 div.sk-parallel-item:first-child::after {align-self: flex-end;width: 50%;}#sk-container-id-1 div.sk-parallel-item:last-child::after {align-self: flex-start;width: 50%;}#sk-container-id-1 div.sk-parallel-item:only-child::after {width: 0;}#sk-container-id-1 div.sk-dashed-wrapped {border: 1px dashed gray;margin: 0 0.4em 0.5em 0.4em;box-sizing: border-box;padding-bottom: 0.4em;background-color: white;}#sk-container-id-1 div.sk-label label {font-family: monospace;font-weight: bold;display: inline-block;line-height: 1.2em;}#sk-container-id-1 div.sk-label-container {text-align: center;}#sk-container-id-1 div.sk-container {/* jupyter's `normalize.less` sets `[hidden] { display: none; }` but bootstrap.min.css set `[hidden] { display: none !important; }` so we also need the `!important` here to be able to override the default hidden behavior on the sphinx rendered scikit-learn.org. See: https://github.com/scikit-learn/scikit-learn/issues/21755 */display: inline-block !important;position: relative;}#sk-container-id-1 div.sk-text-repr-fallback {display: none;}</style><div id=\"sk-container-id-1\" class=\"sk-top-container\"><div class=\"sk-text-repr-fallback\"><pre>RandomizedSearchCV(cv=10, estimator=DecisionTreeClassifier(), n_iter=100,\n",
       "                   param_distributions={&#x27;ccp_alpha&#x27;: array([0.        , 0.01010101, 0.02020202, 0.03030303, 0.04040404,\n",
       "       0.05050505, 0.06060606, 0.07070707, 0.08080808, 0.09090909,\n",
       "       0.1010101 , 0.11111111, 0.12121212, 0.13131313, 0.14141414,\n",
       "       0.15151515, 0.16161616, 0.17171717, 0.18181818, 0.19191919,\n",
       "       0.2020202 , 0.21212121, 0.22222...\n",
       "       0.85858586, 0.86868687, 0.87878788, 0.88888889, 0.8989899 ,\n",
       "       0.90909091, 0.91919192, 0.92929293, 0.93939394, 0.94949495,\n",
       "       0.95959596, 0.96969697, 0.97979798, 0.98989899, 1.        ]),\n",
       "                                        &#x27;criterion&#x27;: [&#x27;gini&#x27;, &#x27;entropy&#x27;],\n",
       "                                        &#x27;max_depth&#x27;: range(3, 21),\n",
       "                                        &#x27;max_features&#x27;: [&#x27;sqrt&#x27;, &#x27;log2&#x27;, None],\n",
       "                                        &#x27;min_samples_leaf&#x27;: range(5, 400)},\n",
       "                   random_state=123,\n",
       "                   scoring=make_scorer(fbeta_score, beta=2, average=weighted))</pre><b>In a Jupyter environment, please rerun this cell to show the HTML representation or trust the notebook. <br />On GitHub, the HTML representation is unable to render, please try loading this page with nbviewer.org.</b></div><div class=\"sk-container\" hidden><div class=\"sk-item sk-dashed-wrapped\"><div class=\"sk-label-container\"><div class=\"sk-label sk-toggleable\"><input class=\"sk-toggleable__control sk-hidden--visually\" id=\"sk-estimator-id-1\" type=\"checkbox\" ><label for=\"sk-estimator-id-1\" class=\"sk-toggleable__label sk-toggleable__label-arrow\">RandomizedSearchCV</label><div class=\"sk-toggleable__content\"><pre>RandomizedSearchCV(cv=10, estimator=DecisionTreeClassifier(), n_iter=100,\n",
       "                   param_distributions={&#x27;ccp_alpha&#x27;: array([0.        , 0.01010101, 0.02020202, 0.03030303, 0.04040404,\n",
       "       0.05050505, 0.06060606, 0.07070707, 0.08080808, 0.09090909,\n",
       "       0.1010101 , 0.11111111, 0.12121212, 0.13131313, 0.14141414,\n",
       "       0.15151515, 0.16161616, 0.17171717, 0.18181818, 0.19191919,\n",
       "       0.2020202 , 0.21212121, 0.22222...\n",
       "       0.85858586, 0.86868687, 0.87878788, 0.88888889, 0.8989899 ,\n",
       "       0.90909091, 0.91919192, 0.92929293, 0.93939394, 0.94949495,\n",
       "       0.95959596, 0.96969697, 0.97979798, 0.98989899, 1.        ]),\n",
       "                                        &#x27;criterion&#x27;: [&#x27;gini&#x27;, &#x27;entropy&#x27;],\n",
       "                                        &#x27;max_depth&#x27;: range(3, 21),\n",
       "                                        &#x27;max_features&#x27;: [&#x27;sqrt&#x27;, &#x27;log2&#x27;, None],\n",
       "                                        &#x27;min_samples_leaf&#x27;: range(5, 400)},\n",
       "                   random_state=123,\n",
       "                   scoring=make_scorer(fbeta_score, beta=2, average=weighted))</pre></div></div></div><div class=\"sk-parallel\"><div class=\"sk-parallel-item\"><div class=\"sk-item\"><div class=\"sk-label-container\"><div class=\"sk-label sk-toggleable\"><input class=\"sk-toggleable__control sk-hidden--visually\" id=\"sk-estimator-id-2\" type=\"checkbox\" ><label for=\"sk-estimator-id-2\" class=\"sk-toggleable__label sk-toggleable__label-arrow\">estimator: DecisionTreeClassifier</label><div class=\"sk-toggleable__content\"><pre>DecisionTreeClassifier()</pre></div></div></div><div class=\"sk-serial\"><div class=\"sk-item\"><div class=\"sk-estimator sk-toggleable\"><input class=\"sk-toggleable__control sk-hidden--visually\" id=\"sk-estimator-id-3\" type=\"checkbox\" ><label for=\"sk-estimator-id-3\" class=\"sk-toggleable__label sk-toggleable__label-arrow\">DecisionTreeClassifier</label><div class=\"sk-toggleable__content\"><pre>DecisionTreeClassifier()</pre></div></div></div></div></div></div></div></div></div></div>"
      ],
      "text/plain": [
       "RandomizedSearchCV(cv=10, estimator=DecisionTreeClassifier(), n_iter=100,\n",
       "                   param_distributions={'ccp_alpha': array([0.        , 0.01010101, 0.02020202, 0.03030303, 0.04040404,\n",
       "       0.05050505, 0.06060606, 0.07070707, 0.08080808, 0.09090909,\n",
       "       0.1010101 , 0.11111111, 0.12121212, 0.13131313, 0.14141414,\n",
       "       0.15151515, 0.16161616, 0.17171717, 0.18181818, 0.19191919,\n",
       "       0.2020202 , 0.21212121, 0.22222...\n",
       "       0.85858586, 0.86868687, 0.87878788, 0.88888889, 0.8989899 ,\n",
       "       0.90909091, 0.91919192, 0.92929293, 0.93939394, 0.94949495,\n",
       "       0.95959596, 0.96969697, 0.97979798, 0.98989899, 1.        ]),\n",
       "                                        'criterion': ['gini', 'entropy'],\n",
       "                                        'max_depth': range(3, 21),\n",
       "                                        'max_features': ['sqrt', 'log2', None],\n",
       "                                        'min_samples_leaf': range(5, 400)},\n",
       "                   random_state=123,\n",
       "                   scoring=make_scorer(fbeta_score, beta=2, average=weighted))"
      ]
     },
     "execution_count": 54,
     "metadata": {},
     "output_type": "execute_result"
    }
   ],
   "source": [
    "from sklearn.tree import DecisionTreeClassifier\n",
    "from sklearn.model_selection import RandomizedSearchCV\n",
    "\n",
    "\n",
    "# Define the parameter grid\n",
    "param_dist = {\n",
    "    'max_depth': range(3, 21),\n",
    "    'min_samples_leaf': range(5, 400),\n",
    "    'criterion': ['gini', 'entropy'],\n",
    "    'max_features': ['sqrt', 'log2', None],\n",
    "    'ccp_alpha': np.linspace(0, 1, 100)\n",
    "}\n",
    "\n",
    "# Decision Tree classifier\n",
    "dt = DecisionTreeClassifier()\n",
    "\n",
    "# Random search with cross-validation\n",
    "random_search = RandomizedSearchCV(dt, param_dist, n_iter=100, scoring=f2_scorer, cv=10, random_state=123)\n",
    "\n",
    "# Fit the model\n",
    "random_search.fit(X_train_ohe, y_train)\n"
   ]
  },
  {
   "cell_type": "code",
   "execution_count": 56,
   "metadata": {},
   "outputs": [
    {
     "name": "stdout",
     "output_type": "stream",
     "text": [
      "{'min_samples_leaf': 52, 'max_features': 'sqrt', 'max_depth': 19, 'criterion': 'entropy', 'ccp_alpha': 0.0}\n"
     ]
    }
   ],
   "source": [
    "# print the best parameters\n",
    "print(random_search.best_params_)"
   ]
  },
  {
   "cell_type": "code",
   "execution_count": 60,
   "metadata": {},
   "outputs": [
    {
     "name": "stdout",
     "output_type": "stream",
     "text": [
      "Train score: 0.5541\n",
      "Test score: 0.5603\n",
      "[[1784  356  340]\n",
      " [ 559  444  595]\n",
      " [ 364  291 1044]]\n",
      "              precision    recall  f1-score   support\n",
      "\n",
      "           0       0.66      0.72      0.69      2480\n",
      "           1       0.41      0.28      0.33      1598\n",
      "           2       0.53      0.61      0.57      1699\n",
      "\n",
      "    accuracy                           0.57      5777\n",
      "   macro avg       0.53      0.54      0.53      5777\n",
      "weighted avg       0.55      0.57      0.55      5777\n",
      "\n"
     ]
    }
   ],
   "source": [
    "# predict on the test set\n",
    "y_pred = random_search.predict(X_test_ohe)\n",
    "\n",
    "# print the train and test scores, confusion matrix, classification report\n",
    "print(f'Train score: {random_search.best_score_:.4f}')\n",
    "print(f'Test score: {random_search.score(X_test_ohe, y_test):.4f}')\n",
    "print(confusion_matrix(y_test, y_pred))\n",
    "print(classification_report(y_test, y_pred))"
   ]
  },
  {
   "cell_type": "code",
   "execution_count": 64,
   "metadata": {},
   "outputs": [
    {
     "name": "stdout",
     "output_type": "stream",
     "text": [
      "Log loss: 0.9203\n",
      "AUC-ROC score: 0.7493\n"
     ]
    }
   ],
   "source": [
    "# print log loss and auc-roc score\n",
    "y_pred_proba = random_search.predict_proba(X_test_ohe)\n",
    "# Log Loss\n",
    "print(f'Log loss: {log_loss(y_test, y_pred_proba):.4f}')\n",
    "\n",
    "# AUC-ROC for Multiclass\n",
    "# Binarize y_test for multiclass ROC AUC\n",
    "y_test_binarized = label_binarize(y_test, classes=[0, 1, 2])  # adjust classes as needed\n",
    "roc_auc = roc_auc_score(y_test_binarized, y_pred_proba, multi_class='ovr')\n",
    "print(f'AUC-ROC score: {roc_auc:.4f}')"
   ]
  },
  {
   "cell_type": "markdown",
   "metadata": {},
   "source": [
    "### LightGBM"
   ]
  },
  {
   "cell_type": "code",
   "execution_count": 65,
   "metadata": {},
   "outputs": [],
   "source": [
    "from optuna.integration.lightgbm import LightGBMTunerCV as lgbtcv\n",
    "from lightgbm import early_stopping\n",
    "import optuna\n",
    "import warnings\n",
    "warnings.filterwarnings('ignore')\n",
    "optuna.logging.set_verbosity(optuna.logging.WARNING)\n",
    "from lightgbm import Dataset as lgbDataset\n",
    "from sklearn.metrics import fbeta_score"
   ]
  },
  {
   "cell_type": "code",
   "execution_count": 66,
   "metadata": {},
   "outputs": [],
   "source": [
    "# Define the custom F2 evaluation function\n",
    "def lgb_f2_eval(preds, data):\n",
    "    labels = data.get_label()\n",
    "    preds = preds.reshape(len(np.unique(labels)), -1)\n",
    "    preds = preds.argmax(axis=0)\n",
    "    return 'lgb_f2_eval', -fbeta_score(labels, preds, beta=2, average='weighted'), False  # Return the negative F2 score\n"
   ]
  },
  {
   "cell_type": "code",
   "execution_count": null,
   "metadata": {},
   "outputs": [],
   "source": [
    "# Parameters for LightGBM for multiclass classification\n",
    "params = {\n",
    "    \"objective\": \"multiclass\",  # Objective for multiclass classification\n",
    "    \"num_class\": 3,  # Number of classes\n",
    "    \"metric\": \"multi_logloss\",  # Use custom metric\n",
    "    \"boosting_type\": \"gbdt\",\n",
    "    \"verbosity\": -1,\n",
    "}\n",
    "\n",
    "# Create LightGBM dataset (assuming X1_a_train and y1_a_train are defined)\n",
    "dtrain = lgbDataset(X_train, label=y_train, categorical_feature=categorical_features)\n",
    "\n",
    "# Create an Optuna study object\n",
    "study_auto_lgb = optuna.create_study(direction='minimize', study_name='LightGBM Tuner CV for Multiclass Classification')\n",
    "\n",
    "# Perform cross-validation with Optuna\n",
    "auto_lgb_tuner = lgbtcv(\n",
    "    params=params, \n",
    "    train_set=dtrain,  \n",
    "    num_boost_round=100,  # Number of boosting iterations\n",
    "    nfold=10,  \n",
    "    stratified=True,  # Perform stratified sampling\n",
    "    seed=123,  # Fix random seed for reproducibility of cv\n",
    "    optuna_seed=123,  # Fix random seed for reproducibility of optuna trials\n",
    "    shuffle=True,  # Shuffle data before creating folds\n",
    "    callbacks=[early_stopping(15)],\n",
    "    study=study_auto_lgb,\n",
    "    feval=lgb_f2_eval\n",
    ")\n",
    "\n",
    "auto_lgb_tuner.run()\n"
   ]
  },
  {
   "cell_type": "code",
   "execution_count": 74,
   "metadata": {},
   "outputs": [
    {
     "name": "stdout",
     "output_type": "stream",
     "text": [
      "Best trial parameters: {'objective': 'multiclass', 'num_class': 3, 'metric': 'multi_logloss', 'boosting_type': 'gbdt', 'verbosity': -1, 'feature_pre_filter': False, 'lambda_l1': 0.0008398254425324348, 'lambda_l2': 0.00016989826159034577, 'num_leaves': 31, 'feature_fraction': 0.7, 'bagging_fraction': 1.0, 'bagging_freq': 0, 'min_child_samples': 20}\n",
      "Best score: 0.9709672691507738\n",
      "Train score: 0.9709672691507738\n",
      "Test score: 0.5602731822859333\n",
      "[[1784  356  340]\n",
      " [ 559  444  595]\n",
      " [ 364  291 1044]]\n",
      "              precision    recall  f1-score   support\n",
      "\n",
      "           0       0.66      0.72      0.69      2480\n",
      "           1       0.41      0.28      0.33      1598\n",
      "           2       0.53      0.61      0.57      1699\n",
      "\n",
      "    accuracy                           0.57      5777\n",
      "   macro avg       0.53      0.54      0.53      5777\n",
      "weighted avg       0.55      0.57      0.55      5777\n",
      "\n"
     ]
    }
   ],
   "source": [
    "import lightgbm as lgb\n",
    "# print the best trial's parameters and fit model with the best parameters\n",
    "print(f'Best trial parameters: {auto_lgb_tuner.best_params}')\n",
    "print(f'Best score: {auto_lgb_tuner.best_score}')\n",
    "\n",
    "# predict on the test set\n",
    "auto_params = auto_lgb_tuner.best_params\n",
    "auto_best_lgb_model = lgb.LGBMClassifier(**auto_params, random_state=123)\n",
    "auto_best_lgb_model.fit(X_train, y_train, categorical_feature=categorical_features)\n",
    "\n",
    "# print the train and test scores, confusion matrix, classification report\n",
    "print(f'Train score: {auto_lgb_tuner.best_score}')\n",
    "print(f'Test score: {fbeta_score(y_test, y_pred, beta=2, average=\"weighted\")}')\n",
    "print(confusion_matrix(y_test, y_pred))\n",
    "print(classification_report(y_test, y_pred))"
   ]
  },
  {
   "cell_type": "code",
   "execution_count": 75,
   "metadata": {},
   "outputs": [
    {
     "data": {
      "image/png": "[encoded data removed]",
      "text/plain": [
       "<Figure size 2000x1000 with 1 Axes>"
      ]
     },
     "metadata": {},
     "output_type": "display_data"
    }
   ],
   "source": [
    "# plot feature importance sorted from highest to lowest\n",
    "feature_imp = pd.DataFrame(sorted(zip(auto_best_lgb_model.feature_importances_, X_train.columns)), columns=['Value','Feature'])\n",
    "\n",
    "plt.figure(figsize=(20, 10))\n",
    "sns.barplot(x=\"Value\", y=\"Feature\", data=feature_imp.sort_values(by=\"Value\", ascending=False))\n",
    "plt.title('LightGBM Features')\n",
    "plt.tight_layout()\n",
    "plt.show()"
   ]
  }
 ],
 "metadata": {
  "kernelspec": {
   "display_name": "Python 3",
   "language": "python",
   "name": "python3"
  },
  "language_info": {
   "codemirror_mode": {
    "name": "ipython",
    "version": 3
   },
   "file_extension": ".py",
   "mimetype": "text/x-python",
   "name": "python",
   "nbconvert_exporter": "python",
   "pygments_lexer": "ipython3",
   "version": "3.11.4"
  }
 },
 "nbformat": 4,
 "nbformat_minor": 2
}
