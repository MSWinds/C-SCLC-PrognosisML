{
 "cells": [
  {
   "cell_type": "code",
   "execution_count": 49,
   "metadata": {},
   "outputs": [],
   "source": [
    "import pandas as pd\n",
    "import numpy as np\n",
    "# show max columns and rows\n",
    "pd.set_option('display.max_columns', None)\n",
    "pd.set_option('display.max_rows', None)\n",
    "import matplotlib.pyplot as plt\n",
    "import seaborn as sns\n",
    "from utils.exploration import *\n",
    "from sklearn.preprocessing import label_binarize\n",
    "from sklearn.metrics import confusion_matrix, classification_report\n",
    "from sklearn.metrics import log_loss, roc_auc_score"
   ]
  },
  {
   "cell_type": "markdown",
   "metadata": {},
   "source": [
    "## Read Data"
   ]
  },
  {
   "cell_type": "code",
   "execution_count": 50,
   "metadata": {},
   "outputs": [],
   "source": [
    "df_raw = pd.read_csv('Data\\SEER_Final_Data_vf1_cleaned.csv')"
   ]
  },
  {
   "cell_type": "code",
   "execution_count": 51,
   "metadata": {},
   "outputs": [],
   "source": [
    "df = df_raw.copy()"
   ]
  },
  {
   "cell_type": "code",
   "execution_count": 52,
   "metadata": {},
   "outputs": [
    {
     "data": {
      "text/html": [
       "<div>\n",
       "<style scoped>\n",
       "    .dataframe tbody tr th:only-of-type {\n",
       "        vertical-align: middle;\n",
       "    }\n",
       "\n",
       "    .dataframe tbody tr th {\n",
       "        vertical-align: top;\n",
       "    }\n",
       "\n",
       "    .dataframe thead th {\n",
       "        text-align: right;\n",
       "    }\n",
       "</style>\n",
       "<table border=\"1\" class=\"dataframe\">\n",
       "  <thead>\n",
       "    <tr style=\"text-align: right;\">\n",
       "      <th></th>\n",
       "      <th>Patient ID</th>\n",
       "      <th>Histologic Type ICD-O-3</th>\n",
       "      <th>Year of diagnosis</th>\n",
       "      <th>Sex</th>\n",
       "      <th>Race</th>\n",
       "      <th>Radiation recode</th>\n",
       "      <th>Bone Metastasis</th>\n",
       "      <th>Brain Metastasis</th>\n",
       "      <th>Liver Metastasis</th>\n",
       "      <th>Lung Metastasis</th>\n",
       "      <th>T</th>\n",
       "      <th>N</th>\n",
       "      <th>M</th>\n",
       "      <th>Grouped Stage</th>\n",
       "      <th>Chemotherapy</th>\n",
       "      <th>Tumor Size</th>\n",
       "      <th>Surgery</th>\n",
       "      <th>Age</th>\n",
       "      <th>Survival Months</th>\n",
       "      <th>Survival Months Group</th>\n",
       "    </tr>\n",
       "  </thead>\n",
       "  <tbody>\n",
       "    <tr>\n",
       "      <th>0</th>\n",
       "      <td>194350</td>\n",
       "      <td>0</td>\n",
       "      <td>2010</td>\n",
       "      <td>Female</td>\n",
       "      <td>Black</td>\n",
       "      <td>1</td>\n",
       "      <td>0</td>\n",
       "      <td>0</td>\n",
       "      <td>0</td>\n",
       "      <td>0</td>\n",
       "      <td>T4</td>\n",
       "      <td>N1</td>\n",
       "      <td>M1</td>\n",
       "      <td>IV</td>\n",
       "      <td>1</td>\n",
       "      <td>46</td>\n",
       "      <td>0</td>\n",
       "      <td>75-79 years</td>\n",
       "      <td>14</td>\n",
       "      <td>12-24 months</td>\n",
       "    </tr>\n",
       "    <tr>\n",
       "      <th>1</th>\n",
       "      <td>674026</td>\n",
       "      <td>0</td>\n",
       "      <td>2010</td>\n",
       "      <td>Female</td>\n",
       "      <td>White</td>\n",
       "      <td>0</td>\n",
       "      <td>0</td>\n",
       "      <td>0</td>\n",
       "      <td>0</td>\n",
       "      <td>0</td>\n",
       "      <td>T2</td>\n",
       "      <td>N2</td>\n",
       "      <td>M0</td>\n",
       "      <td>III</td>\n",
       "      <td>1</td>\n",
       "      <td>50</td>\n",
       "      <td>0</td>\n",
       "      <td>60-64 years</td>\n",
       "      <td>66</td>\n",
       "      <td>Over 24 months</td>\n",
       "    </tr>\n",
       "    <tr>\n",
       "      <th>2</th>\n",
       "      <td>462906</td>\n",
       "      <td>0</td>\n",
       "      <td>2010</td>\n",
       "      <td>Female</td>\n",
       "      <td>White</td>\n",
       "      <td>1</td>\n",
       "      <td>1</td>\n",
       "      <td>1</td>\n",
       "      <td>0</td>\n",
       "      <td>1</td>\n",
       "      <td>T4</td>\n",
       "      <td>N2</td>\n",
       "      <td>M1</td>\n",
       "      <td>IV</td>\n",
       "      <td>1</td>\n",
       "      <td>70</td>\n",
       "      <td>0</td>\n",
       "      <td>70-74 years</td>\n",
       "      <td>2</td>\n",
       "      <td>0-12 months</td>\n",
       "    </tr>\n",
       "  </tbody>\n",
       "</table>\n",
       "</div>"
      ],
      "text/plain": [
       "   Patient ID  Histologic Type ICD-O-3  Year of diagnosis     Sex   Race  \\\n",
       "0      194350                        0               2010  Female  Black   \n",
       "1      674026                        0               2010  Female  White   \n",
       "2      462906                        0               2010  Female  White   \n",
       "\n",
       "   Radiation recode  Bone Metastasis  Brain Metastasis  Liver Metastasis  \\\n",
       "0                 1                0                 0                 0   \n",
       "1                 0                0                 0                 0   \n",
       "2                 1                1                 1                 0   \n",
       "\n",
       "   Lung Metastasis   T   N   M Grouped Stage  Chemotherapy  Tumor Size  \\\n",
       "0                0  T4  N1  M1            IV             1          46   \n",
       "1                0  T2  N2  M0           III             1          50   \n",
       "2                1  T4  N2  M1            IV             1          70   \n",
       "\n",
       "   Surgery          Age  Survival Months Survival Months Group  \n",
       "0        0  75-79 years               14          12-24 months  \n",
       "1        0  60-64 years               66        Over 24 months  \n",
       "2        0  70-74 years                2           0-12 months  "
      ]
     },
     "metadata": {},
     "output_type": "display_data"
    },
    {
     "data": {
      "text/plain": [
       "(28882, 20)"
      ]
     },
     "metadata": {},
     "output_type": "display_data"
    }
   ],
   "source": [
    "display(df.head(3), df.shape)"
   ]
  },
  {
   "cell_type": "code",
   "execution_count": 53,
   "metadata": {},
   "outputs": [
    {
     "data": {
      "text/plain": [
       "count    28882.000000\n",
       "mean         9.672876\n",
       "std         11.455663\n",
       "min          0.000000\n",
       "25%          2.000000\n",
       "50%          7.000000\n",
       "75%         13.000000\n",
       "max        128.000000\n",
       "Name: Survival Months, dtype: float64"
      ]
     },
     "execution_count": 53,
     "metadata": {},
     "output_type": "execute_result"
    }
   ],
   "source": [
    "df['Survival Months'].describe()"
   ]
  },
  {
   "cell_type": "code",
   "execution_count": 54,
   "metadata": {},
   "outputs": [
    {
     "data": {
      "image/png": "[encoded data removed]",
      "text/plain": [
       "<Figure size 640x480 with 1 Axes>"
      ]
     },
     "metadata": {},
     "output_type": "display_data"
    }
   ],
   "source": [
    "df['Survival Months'].hist(bins=129)\n",
    "plt.xlabel('Survival Months')\n",
    "plt.ylabel('Count')\n",
    "plt.title('Distribution of Survival Months')\n",
    "plt.show()"
   ]
  },
  {
   "cell_type": "code",
   "execution_count": 7,
   "metadata": {},
   "outputs": [],
   "source": [
    "# Define the bins and labels\n",
    "bins = [0, 12, float('inf')]  \n",
    "labels = ['0-12 months', 'Over 12 months']\n",
    "\n",
    "# Use pd.cut to create the new column\n",
    "df['Grouped Survival Months'] = pd.cut(df['Survival Months'], bins=bins, labels=labels, right=False)\n",
    "\n",
    "df['Survival Months Group'] = df['Grouped Survival Months'].astype('category')\n",
    "\n",
    "# drop the old column\n",
    "df.drop(columns='Grouped Survival Months', inplace=True)\n",
    "df.drop(columns='Survival Months', inplace=True)"
   ]
  },
  {
   "cell_type": "code",
   "execution_count": 8,
   "metadata": {},
   "outputs": [
    {
     "data": {
      "text/plain": [
       "Histologic Type ICD-O-3\n",
       "0    28325\n",
       "1      557\n",
       "Name: count, dtype: int64"
      ]
     },
     "execution_count": 8,
     "metadata": {},
     "output_type": "execute_result"
    }
   ],
   "source": [
    "df['Histologic Type ICD-O-3'].value_counts(dropna=False)"
   ]
  },
  {
   "cell_type": "code",
   "execution_count": 9,
   "metadata": {},
   "outputs": [],
   "source": [
    "# drop df['Histologic Type ICD-O-3'] = 0\n",
    "df = df[df['Histologic Type ICD-O-3'] != 0]\n",
    "\n",
    "# drop the df['Histologic Type ICD-O-3']\n",
    "df.drop(columns='Histologic Type ICD-O-3', inplace=True)"
   ]
  },
  {
   "cell_type": "code",
   "execution_count": 10,
   "metadata": {},
   "outputs": [
    {
     "name": "stdout",
     "output_type": "stream",
     "text": [
      "Counts and percentages of unique values in Survival Months Group:\n",
      "                       Count  Percentage\n",
      "Survival Months Group                   \n",
      "0-12 months              340   61.041293\n",
      "Over 12 months           217   38.958707\n"
     ]
    },
    {
     "data": {
      "image/png": "[encoded data removed]",
      "text/plain": [
       "<Figure size 640x480 with 1 Axes>"
      ]
     },
     "metadata": {},
     "output_type": "display_data"
    }
   ],
   "source": [
    "data_exploration(df, 'Survival Months Group')"
   ]
  },
  {
   "cell_type": "markdown",
   "metadata": {},
   "source": [
    "## Data Preprocessing"
   ]
  },
  {
   "cell_type": "code",
   "execution_count": 11,
   "metadata": {},
   "outputs": [
    {
     "data": {
      "text/plain": [
       "Patient ID               0\n",
       "Year of diagnosis        0\n",
       "Sex                      0\n",
       "Race                     0\n",
       "Radiation recode         0\n",
       "Bone Metastasis          0\n",
       "Brain Metastasis         0\n",
       "Liver Metastasis         0\n",
       "Lung Metastasis          0\n",
       "T                        0\n",
       "N                        0\n",
       "M                        0\n",
       "Grouped Stage            0\n",
       "Chemotherapy             0\n",
       "Tumor Size               0\n",
       "Surgery                  0\n",
       "Age                      0\n",
       "Survival Months Group    0\n",
       "dtype: int64"
      ]
     },
     "execution_count": 11,
     "metadata": {},
     "output_type": "execute_result"
    }
   ],
   "source": [
    "# check missing values\n",
    "df.isnull().sum()"
   ]
  },
  {
   "cell_type": "code",
   "execution_count": 12,
   "metadata": {},
   "outputs": [],
   "source": [
    "# drop Year of diagnosis, Patient ID\n",
    "df.drop(columns=['Year of diagnosis', 'Patient ID'], inplace=True)"
   ]
  },
  {
   "cell_type": "code",
   "execution_count": 13,
   "metadata": {},
   "outputs": [
    {
     "data": {
      "text/plain": [
       "Sex\n",
       "Male      307\n",
       "Female    250\n",
       "Name: count, dtype: int64"
      ]
     },
     "execution_count": 13,
     "metadata": {},
     "output_type": "execute_result"
    }
   ],
   "source": [
    "df['Sex'].value_counts(dropna=False)"
   ]
  },
  {
   "cell_type": "code",
   "execution_count": 14,
   "metadata": {},
   "outputs": [],
   "source": [
    "df['Sex'] = df['Sex'].map({'Female': 0, 'Male': 1})"
   ]
  },
  {
   "cell_type": "code",
   "execution_count": 15,
   "metadata": {},
   "outputs": [
    {
     "data": {
      "text/plain": [
       "Race\n",
       "White    466\n",
       "Black     59\n",
       "Other     32\n",
       "Name: count, dtype: int64"
      ]
     },
     "execution_count": 15,
     "metadata": {},
     "output_type": "execute_result"
    }
   ],
   "source": [
    "df['Race'].value_counts(dropna=False) # we will do one hot encoding later"
   ]
  },
  {
   "cell_type": "code",
   "execution_count": 16,
   "metadata": {},
   "outputs": [
    {
     "data": {
      "text/plain": [
       "Radiation recode\n",
       "0    304\n",
       "1    253\n",
       "Name: count, dtype: int64"
      ]
     },
     "execution_count": 16,
     "metadata": {},
     "output_type": "execute_result"
    }
   ],
   "source": [
    "df['Radiation recode'].value_counts(dropna=False)"
   ]
  },
  {
   "cell_type": "code",
   "execution_count": 17,
   "metadata": {},
   "outputs": [
    {
     "data": {
      "text/plain": [
       "Bone Metastasis\n",
       "0    454\n",
       "1    103\n",
       "Name: count, dtype: int64"
      ]
     },
     "execution_count": 17,
     "metadata": {},
     "output_type": "execute_result"
    }
   ],
   "source": [
    "df['Bone Metastasis'].value_counts(dropna=False)"
   ]
  },
  {
   "cell_type": "code",
   "execution_count": 18,
   "metadata": {},
   "outputs": [
    {
     "data": {
      "text/plain": [
       "T\n",
       "T2    168\n",
       "T4    141\n",
       "T3    129\n",
       "T1    119\n",
       "Name: count, dtype: int64"
      ]
     },
     "execution_count": 18,
     "metadata": {},
     "output_type": "execute_result"
    }
   ],
   "source": [
    "df['T'].value_counts(dropna=False) # we will do one hot encoding on T N M Stage later"
   ]
  },
  {
   "cell_type": "code",
   "execution_count": 19,
   "metadata": {},
   "outputs": [
    {
     "data": {
      "text/plain": [
       "Chemotherapy\n",
       "1    386\n",
       "0    171\n",
       "Name: count, dtype: int64"
      ]
     },
     "execution_count": 19,
     "metadata": {},
     "output_type": "execute_result"
    }
   ],
   "source": [
    "df['Chemotherapy'].value_counts(dropna=False)"
   ]
  },
  {
   "cell_type": "code",
   "execution_count": 20,
   "metadata": {},
   "outputs": [
    {
     "data": {
      "text/plain": [
       "Surgery\n",
       "0    331\n",
       "1    226\n",
       "Name: count, dtype: int64"
      ]
     },
     "execution_count": 20,
     "metadata": {},
     "output_type": "execute_result"
    }
   ],
   "source": [
    "df['Surgery'].value_counts(dropna=False)"
   ]
  },
  {
   "cell_type": "code",
   "execution_count": 21,
   "metadata": {},
   "outputs": [
    {
     "data": {
      "text/plain": [
       "Age\n",
       "65-69 years    118\n",
       "70-74 years    108\n",
       "75-79 years     82\n",
       "60-64 years     75\n",
       "55-59 years     61\n",
       "80-84 years     50\n",
       "85+ years       28\n",
       "50-54 years     21\n",
       "45-49 years     12\n",
       "20-44 years      2\n",
       "Name: count, dtype: int64"
      ]
     },
     "execution_count": 21,
     "metadata": {},
     "output_type": "execute_result"
    }
   ],
   "source": [
    "df['Age'].value_counts(dropna=False)"
   ]
  },
  {
   "cell_type": "code",
   "execution_count": 22,
   "metadata": {},
   "outputs": [
    {
     "data": {
      "text/plain": [
       "Sex                         int64\n",
       "Race                       object\n",
       "Radiation recode            int64\n",
       "Bone Metastasis             int64\n",
       "Brain Metastasis            int64\n",
       "Liver Metastasis            int64\n",
       "Lung Metastasis             int64\n",
       "T                          object\n",
       "N                          object\n",
       "M                          object\n",
       "Grouped Stage              object\n",
       "Chemotherapy                int64\n",
       "Tumor Size                  int64\n",
       "Surgery                     int64\n",
       "Age                        object\n",
       "Survival Months Group    category\n",
       "dtype: object"
      ]
     },
     "execution_count": 22,
     "metadata": {},
     "output_type": "execute_result"
    }
   ],
   "source": [
    "df.dtypes"
   ]
  },
  {
   "cell_type": "code",
   "execution_count": 23,
   "metadata": {},
   "outputs": [],
   "source": [
    "# a loop to convert all object columns to category\n",
    "for col in df.columns:\n",
    "    if df[col].dtype == 'object':\n",
    "        df[col] = df[col].astype('category')"
   ]
  },
  {
   "cell_type": "code",
   "execution_count": 24,
   "metadata": {},
   "outputs": [
    {
     "data": {
      "text/plain": [
       "Sex                         int64\n",
       "Race                     category\n",
       "Radiation recode            int64\n",
       "Bone Metastasis             int64\n",
       "Brain Metastasis            int64\n",
       "Liver Metastasis            int64\n",
       "Lung Metastasis             int64\n",
       "T                        category\n",
       "N                        category\n",
       "M                        category\n",
       "Grouped Stage            category\n",
       "Chemotherapy                int64\n",
       "Tumor Size                  int64\n",
       "Surgery                     int64\n",
       "Age                      category\n",
       "Survival Months Group    category\n",
       "dtype: object"
      ]
     },
     "execution_count": 24,
     "metadata": {},
     "output_type": "execute_result"
    }
   ],
   "source": [
    "df.dtypes"
   ]
  },
  {
   "cell_type": "markdown",
   "metadata": {},
   "source": [
    "## Modeling\n",
    "\n",
    "| Models                         | Normalization of Numeric Columns? | Directly Handle Categorical Columns? | Linear Assumptions and Correlations? | Output Probabilities? |\n",
    "|--------------------------------|-----------------------------------|-------------------------------------|--------------------------------------|-----------------------|\n",
    "| Decision Trees and Random Forests | No                              | Yes                                 | No                                   | Yes                   |\n",
    "| Gradient Boosting Machines (XGBoost, LightGBM) | Not necessary, but can be beneficial | Yes                             | No                                   | Yes                   |\n",
    "| Support Vector Machines (SVM)  | Yes                              | No                                  | Yes (for linear kernel)              | Yes (with probability estimates enabled) |\n",
    "| k-Nearest Neighbors (k-NN)     | Yes                              | No (requires one-hot or similar encoding) | No                               | Yes                   |\n",
    "| Neural Networks                | Yes                              | No (requires one-hot or similar encoding) | No                               | Yes                   |\n",
    "| Logistic Regression            | Yes                              | No (requires one-hot encoding)      | Yes                                  | Yes                   |\n"
   ]
  },
  {
   "cell_type": "markdown",
   "metadata": {},
   "source": [
    "So for the sufficiency of the data, we can use the following models: \n",
    "- Decision Trees and Random Forests\n",
    "- Gradient Boosting Machines (XGBoost, LightGBM)\n"
   ]
  },
  {
   "cell_type": "markdown",
   "metadata": {},
   "source": [
    "## Tree-based Models"
   ]
  },
  {
   "cell_type": "code",
   "execution_count": 25,
   "metadata": {},
   "outputs": [],
   "source": [
    "df_t = df.copy()"
   ]
  },
  {
   "cell_type": "code",
   "execution_count": 26,
   "metadata": {},
   "outputs": [
    {
     "data": {
      "text/plain": [
       "Survival Months Group\n",
       "1    340\n",
       "0    217\n",
       "Name: count, dtype: int64"
      ]
     },
     "execution_count": 26,
     "metadata": {},
     "output_type": "execute_result"
    }
   ],
   "source": [
    "\n",
    "\n",
    "# binarize the target variable {'0-12 months': 1, 'Over 12 months': 0}\n",
    "df_t['Survival Months Group'] = df_t['Survival Months Group'].map({'0-12 months': 1, 'Over 12 months': 0})\n",
    "\n",
    "# set it to int\n",
    "df_t['Survival Months Group'] = df_t['Survival Months Group'].astype(int)\n",
    "\n",
    "df_t['Survival Months Group'].value_counts(dropna=False)"
   ]
  },
  {
   "cell_type": "code",
   "execution_count": 27,
   "metadata": {},
   "outputs": [
    {
     "name": "stdout",
     "output_type": "stream",
     "text": [
      "(445, 15) (112, 15) (445,) (112,)\n",
      "Catgorical features: ['Race', 'T', 'N', 'M', 'Grouped Stage', 'Age']\n"
     ]
    }
   ],
   "source": [
    "# split the data into train and test\n",
    "from sklearn.model_selection import train_test_split\n",
    "\n",
    "X = df_t.drop(columns='Survival Months Group')\n",
    "y = df_t['Survival Months Group']\n",
    "\n",
    "categorical_features = [col for col in X.columns if X[col].dtype == 'category']\n",
    "\n",
    "X_train, X_test, y_train, y_test = train_test_split(X, y, test_size=0.2, random_state=123, stratify=y)\n",
    "\n",
    "# check the shape\n",
    "print(X_train.shape, X_test.shape, y_train.shape, y_test.shape)\n",
    "print(f'Catgorical features: {categorical_features}')"
   ]
  },
  {
   "cell_type": "markdown",
   "metadata": {},
   "source": [
    "### Decision Tree"
   ]
  },
  {
   "cell_type": "code",
   "execution_count": 28,
   "metadata": {},
   "outputs": [
    {
     "name": "stdout",
     "output_type": "stream",
     "text": [
      "(445, 30) (112, 30) (445,) (112,)\n"
     ]
    }
   ],
   "source": [
    "# one hot encoding for categorical variables only\n",
    "from sklearn.preprocessing import OneHotEncoder\n",
    "\n",
    "X_train_ohe= pd.get_dummies(X_train, columns=categorical_features, drop_first=True)\n",
    "X_test_ohe = pd.get_dummies(X_test, columns=categorical_features, drop_first=True)\n",
    "\n",
    "# loop to change boolean columns to int\n",
    "for col in X_train_ohe.columns:\n",
    "    if X_train_ohe[col].dtype == 'bool':\n",
    "        X_train_ohe[col] = X_train_ohe[col].astype('int')\n",
    "        X_test_ohe[col] = X_test_ohe[col].astype('int')\n",
    "\n",
    "for col in X_test_ohe.columns:\n",
    "    if X_test_ohe[col].dtype == 'bool':\n",
    "        X_train_ohe[col] = X_train_ohe[col].astype('int')\n",
    "        X_test_ohe[col] = X_test_ohe[col].astype('int')\n",
    "\n",
    "# check the shape\n",
    "print(X_train_ohe.shape, X_test_ohe.shape, y_train.shape, y_test.shape)"
   ]
  },
  {
   "cell_type": "code",
   "execution_count": 29,
   "metadata": {},
   "outputs": [],
   "source": [
    "from sklearn.metrics import fbeta_score, make_scorer\n",
    "# Custom F2 scorer\n",
    "f2_scorer = make_scorer(fbeta_score, beta=2, average='weighted')"
   ]
  },
  {
   "cell_type": "code",
   "execution_count": 46,
   "metadata": {},
   "outputs": [
    {
     "data": {
      "text/html": [
       "<style>#sk-container-id-4 {color: black;}#sk-container-id-4 pre{padding: 0;}#sk-container-id-4 div.sk-toggleable {background-color: white;}#sk-container-id-4 label.sk-toggleable__label {cursor: pointer;display: block;width: 100%;margin-bottom: 0;padding: 0.3em;box-sizing: border-box;text-align: center;}#sk-container-id-4 label.sk-toggleable__label-arrow:before {content: \"▸\";float: left;margin-right: 0.25em;color: #696969;}#sk-container-id-4 label.sk-toggleable__label-arrow:hover:before {color: black;}#sk-container-id-4 div.sk-estimator:hover label.sk-toggleable__label-arrow:before {color: black;}#sk-container-id-4 div.sk-toggleable__content {max-height: 0;max-width: 0;overflow: hidden;text-align: left;background-color: #f0f8ff;}#sk-container-id-4 div.sk-toggleable__content pre {margin: 0.2em;color: black;border-radius: 0.25em;background-color: #f0f8ff;}#sk-container-id-4 input.sk-toggleable__control:checked~div.sk-toggleable__content {max-height: 200px;max-width: 100%;overflow: auto;}#sk-container-id-4 input.sk-toggleable__control:checked~label.sk-toggleable__label-arrow:before {content: \"▾\";}#sk-container-id-4 div.sk-estimator input.sk-toggleable__control:checked~label.sk-toggleable__label {background-color: #d4ebff;}#sk-container-id-4 div.sk-label input.sk-toggleable__control:checked~label.sk-toggleable__label {background-color: #d4ebff;}#sk-container-id-4 input.sk-hidden--visually {border: 0;clip: rect(1px 1px 1px 1px);clip: rect(1px, 1px, 1px, 1px);height: 1px;margin: -1px;overflow: hidden;padding: 0;position: absolute;width: 1px;}#sk-container-id-4 div.sk-estimator {font-family: monospace;background-color: #f0f8ff;border: 1px dotted black;border-radius: 0.25em;box-sizing: border-box;margin-bottom: 0.5em;}#sk-container-id-4 div.sk-estimator:hover {background-color: #d4ebff;}#sk-container-id-4 div.sk-parallel-item::after {content: \"\";width: 100%;border-bottom: 1px solid gray;flex-grow: 1;}#sk-container-id-4 div.sk-label:hover label.sk-toggleable__label {background-color: #d4ebff;}#sk-container-id-4 div.sk-serial::before {content: \"\";position: absolute;border-left: 1px solid gray;box-sizing: border-box;top: 0;bottom: 0;left: 50%;z-index: 0;}#sk-container-id-4 div.sk-serial {display: flex;flex-direction: column;align-items: center;background-color: white;padding-right: 0.2em;padding-left: 0.2em;position: relative;}#sk-container-id-4 div.sk-item {position: relative;z-index: 1;}#sk-container-id-4 div.sk-parallel {display: flex;align-items: stretch;justify-content: center;background-color: white;position: relative;}#sk-container-id-4 div.sk-item::before, #sk-container-id-4 div.sk-parallel-item::before {content: \"\";position: absolute;border-left: 1px solid gray;box-sizing: border-box;top: 0;bottom: 0;left: 50%;z-index: -1;}#sk-container-id-4 div.sk-parallel-item {display: flex;flex-direction: column;z-index: 1;position: relative;background-color: white;}#sk-container-id-4 div.sk-parallel-item:first-child::after {align-self: flex-end;width: 50%;}#sk-container-id-4 div.sk-parallel-item:last-child::after {align-self: flex-start;width: 50%;}#sk-container-id-4 div.sk-parallel-item:only-child::after {width: 0;}#sk-container-id-4 div.sk-dashed-wrapped {border: 1px dashed gray;margin: 0 0.4em 0.5em 0.4em;box-sizing: border-box;padding-bottom: 0.4em;background-color: white;}#sk-container-id-4 div.sk-label label {font-family: monospace;font-weight: bold;display: inline-block;line-height: 1.2em;}#sk-container-id-4 div.sk-label-container {text-align: center;}#sk-container-id-4 div.sk-container {/* jupyter's `normalize.less` sets `[hidden] { display: none; }` but bootstrap.min.css set `[hidden] { display: none !important; }` so we also need the `!important` here to be able to override the default hidden behavior on the sphinx rendered scikit-learn.org. See: https://github.com/scikit-learn/scikit-learn/issues/21755 */display: inline-block !important;position: relative;}#sk-container-id-4 div.sk-text-repr-fallback {display: none;}</style><div id=\"sk-container-id-4\" class=\"sk-top-container\"><div class=\"sk-text-repr-fallback\"><pre>RandomizedSearchCV(cv=10, estimator=DecisionTreeClassifier(), n_iter=200,\n",
       "                   param_distributions={&#x27;ccp_alpha&#x27;: array([0.        , 0.01010101, 0.02020202, 0.03030303, 0.04040404,\n",
       "       0.05050505, 0.06060606, 0.07070707, 0.08080808, 0.09090909,\n",
       "       0.1010101 , 0.11111111, 0.12121212, 0.13131313, 0.14141414,\n",
       "       0.15151515, 0.16161616, 0.17171717, 0.18181818, 0.19191919,\n",
       "       0.2020202 , 0.21212121, 0.22222...\n",
       "       0.85858586, 0.86868687, 0.87878788, 0.88888889, 0.8989899 ,\n",
       "       0.90909091, 0.91919192, 0.92929293, 0.93939394, 0.94949495,\n",
       "       0.95959596, 0.96969697, 0.97979798, 0.98989899, 1.        ]),\n",
       "                                        &#x27;criterion&#x27;: [&#x27;gini&#x27;, &#x27;entropy&#x27;],\n",
       "                                        &#x27;max_depth&#x27;: range(3, 21),\n",
       "                                        &#x27;max_features&#x27;: [&#x27;sqrt&#x27;, &#x27;log2&#x27;, None],\n",
       "                                        &#x27;min_samples_leaf&#x27;: range(1, 40)},\n",
       "                   random_state=123,\n",
       "                   scoring=make_scorer(fbeta_score, beta=2, average=weighted))</pre><b>In a Jupyter environment, please rerun this cell to show the HTML representation or trust the notebook. <br />On GitHub, the HTML representation is unable to render, please try loading this page with nbviewer.org.</b></div><div class=\"sk-container\" hidden><div class=\"sk-item sk-dashed-wrapped\"><div class=\"sk-label-container\"><div class=\"sk-label sk-toggleable\"><input class=\"sk-toggleable__control sk-hidden--visually\" id=\"sk-estimator-id-10\" type=\"checkbox\" ><label for=\"sk-estimator-id-10\" class=\"sk-toggleable__label sk-toggleable__label-arrow\">RandomizedSearchCV</label><div class=\"sk-toggleable__content\"><pre>RandomizedSearchCV(cv=10, estimator=DecisionTreeClassifier(), n_iter=200,\n",
       "                   param_distributions={&#x27;ccp_alpha&#x27;: array([0.        , 0.01010101, 0.02020202, 0.03030303, 0.04040404,\n",
       "       0.05050505, 0.06060606, 0.07070707, 0.08080808, 0.09090909,\n",
       "       0.1010101 , 0.11111111, 0.12121212, 0.13131313, 0.14141414,\n",
       "       0.15151515, 0.16161616, 0.17171717, 0.18181818, 0.19191919,\n",
       "       0.2020202 , 0.21212121, 0.22222...\n",
       "       0.85858586, 0.86868687, 0.87878788, 0.88888889, 0.8989899 ,\n",
       "       0.90909091, 0.91919192, 0.92929293, 0.93939394, 0.94949495,\n",
       "       0.95959596, 0.96969697, 0.97979798, 0.98989899, 1.        ]),\n",
       "                                        &#x27;criterion&#x27;: [&#x27;gini&#x27;, &#x27;entropy&#x27;],\n",
       "                                        &#x27;max_depth&#x27;: range(3, 21),\n",
       "                                        &#x27;max_features&#x27;: [&#x27;sqrt&#x27;, &#x27;log2&#x27;, None],\n",
       "                                        &#x27;min_samples_leaf&#x27;: range(1, 40)},\n",
       "                   random_state=123,\n",
       "                   scoring=make_scorer(fbeta_score, beta=2, average=weighted))</pre></div></div></div><div class=\"sk-parallel\"><div class=\"sk-parallel-item\"><div class=\"sk-item\"><div class=\"sk-label-container\"><div class=\"sk-label sk-toggleable\"><input class=\"sk-toggleable__control sk-hidden--visually\" id=\"sk-estimator-id-11\" type=\"checkbox\" ><label for=\"sk-estimator-id-11\" class=\"sk-toggleable__label sk-toggleable__label-arrow\">estimator: DecisionTreeClassifier</label><div class=\"sk-toggleable__content\"><pre>DecisionTreeClassifier()</pre></div></div></div><div class=\"sk-serial\"><div class=\"sk-item\"><div class=\"sk-estimator sk-toggleable\"><input class=\"sk-toggleable__control sk-hidden--visually\" id=\"sk-estimator-id-12\" type=\"checkbox\" ><label for=\"sk-estimator-id-12\" class=\"sk-toggleable__label sk-toggleable__label-arrow\">DecisionTreeClassifier</label><div class=\"sk-toggleable__content\"><pre>DecisionTreeClassifier()</pre></div></div></div></div></div></div></div></div></div></div>"
      ],
      "text/plain": [
       "RandomizedSearchCV(cv=10, estimator=DecisionTreeClassifier(), n_iter=200,\n",
       "                   param_distributions={'ccp_alpha': array([0.        , 0.01010101, 0.02020202, 0.03030303, 0.04040404,\n",
       "       0.05050505, 0.06060606, 0.07070707, 0.08080808, 0.09090909,\n",
       "       0.1010101 , 0.11111111, 0.12121212, 0.13131313, 0.14141414,\n",
       "       0.15151515, 0.16161616, 0.17171717, 0.18181818, 0.19191919,\n",
       "       0.2020202 , 0.21212121, 0.22222...\n",
       "       0.85858586, 0.86868687, 0.87878788, 0.88888889, 0.8989899 ,\n",
       "       0.90909091, 0.91919192, 0.92929293, 0.93939394, 0.94949495,\n",
       "       0.95959596, 0.96969697, 0.97979798, 0.98989899, 1.        ]),\n",
       "                                        'criterion': ['gini', 'entropy'],\n",
       "                                        'max_depth': range(3, 21),\n",
       "                                        'max_features': ['sqrt', 'log2', None],\n",
       "                                        'min_samples_leaf': range(1, 40)},\n",
       "                   random_state=123,\n",
       "                   scoring=make_scorer(fbeta_score, beta=2, average=weighted))"
      ]
     },
     "execution_count": 46,
     "metadata": {},
     "output_type": "execute_result"
    }
   ],
   "source": [
    "from sklearn.tree import DecisionTreeClassifier\n",
    "from sklearn.model_selection import RandomizedSearchCV\n",
    "\n",
    "# build a decision tree classifier\n",
    "# Define the parameter grid\n",
    "param_dist = {\n",
    "    'max_depth': range(3, 21),\n",
    "    'min_samples_leaf': range(1, 40),\n",
    "    'criterion': ['gini', 'entropy'],\n",
    "    'max_features': ['sqrt', 'log2', None],\n",
    "    'ccp_alpha': np.linspace(0, 1, 100)\n",
    "}\n",
    "\n",
    "# Decision Tree classifier\n",
    "dt = DecisionTreeClassifier()\n",
    "\n",
    "# Random search with cross-validation\n",
    "random_search = RandomizedSearchCV(dt, param_dist, n_iter=200, scoring=f2_scorer, cv=10, random_state=123)\n",
    "\n",
    "# Fit the model\n",
    "random_search.fit(X_train_ohe, y_train)\n"
   ]
  },
  {
   "cell_type": "code",
   "execution_count": 47,
   "metadata": {},
   "outputs": [
    {
     "name": "stdout",
     "output_type": "stream",
     "text": [
      "{'min_samples_leaf': 17, 'max_features': None, 'max_depth': 14, 'criterion': 'entropy', 'ccp_alpha': 0.020202020202020204}\n"
     ]
    }
   ],
   "source": [
    "# print the best parameters\n",
    "print(random_search.best_params_)"
   ]
  },
  {
   "cell_type": "markdown",
   "metadata": {},
   "source": [
    "Result"
   ]
  },
  {
   "cell_type": "code",
   "execution_count": 48,
   "metadata": {},
   "outputs": [
    {
     "name": "stdout",
     "output_type": "stream",
     "text": [
      "Train score: 0.7098\n",
      "Test score: 0.7326\n",
      "[[31 13]\n",
      " [17 51]]\n",
      "              precision    recall  f1-score   support\n",
      "\n",
      "           0       0.65      0.70      0.67        44\n",
      "           1       0.80      0.75      0.77        68\n",
      "\n",
      "    accuracy                           0.73       112\n",
      "   macro avg       0.72      0.73      0.72       112\n",
      "weighted avg       0.74      0.73      0.73       112\n",
      "\n"
     ]
    }
   ],
   "source": [
    "# predict on the test set\n",
    "y_pred = random_search.predict(X_test_ohe)\n",
    "\n",
    "# print the train and test scores, confusion matrix, classification report\n",
    "print(f'Train score: {random_search.best_score_:.4f}')\n",
    "print(f'Test score: {random_search.score(X_test_ohe, y_test):.4f}')\n",
    "print(confusion_matrix(y_test, y_pred))\n",
    "print(classification_report(y_test, y_pred))"
   ]
  },
  {
   "cell_type": "code",
   "execution_count": 33,
   "metadata": {},
   "outputs": [
    {
     "name": "stdout",
     "output_type": "stream",
     "text": [
      "ROC AUC score: 0.7640\n"
     ]
    }
   ],
   "source": [
    "# ROC AUC score\n",
    "print(f'ROC AUC score: {roc_auc_score(y_test, y_pred):.4f}')"
   ]
  },
  {
   "cell_type": "markdown",
   "metadata": {},
   "source": [
    "Select important features"
   ]
  },
  {
   "cell_type": "code",
   "execution_count": 34,
   "metadata": {},
   "outputs": [
    {
     "data": {
      "image/png": "[encoded data removed]",
      "text/plain": [
       "<Figure size 2000x1000 with 3 Axes>"
      ]
     },
     "metadata": {},
     "output_type": "display_data"
    }
   ],
   "source": [
    "from sklearn.ensemble import RandomForestClassifier, GradientBoostingClassifier\n",
    "from sklearn.linear_model import LassoCV\n",
    "\n",
    "# RandomForestClassifier\n",
    "rf_clf = RandomForestClassifier()\n",
    "rf_clf.fit(X_train_ohe, y_train)\n",
    "feature_importances_rf = pd.Series(data=rf_clf.feature_importances_, index=X_train_ohe.columns)\n",
    "\n",
    "# LassoCV\n",
    "lasso = LassoCV(cv=5)  # Assuming a 5-fold cross-validation\n",
    "X_train_ohe_std = X_train_ohe.copy()\n",
    "# Standardize the 'Tumor Size' column\n",
    "X_train_ohe_std['Tumor Size'] = (X_train_ohe['Tumor Size'] - X_train_ohe['Tumor Size'].mean()) / X_train_ohe['Tumor Size'].std()\n",
    "lasso.fit(X_train_ohe_std, y_train)\n",
    "feature_importances_lasso = pd.Series(data=lasso.coef_, index=X_train_ohe.columns)\n",
    "\n",
    "# GradientBoostingClassifier\n",
    "gbc = GradientBoostingClassifier()\n",
    "gbc.fit(X_train_ohe, y_train)\n",
    "feature_importances_gb = pd.Series(data=gbc.feature_importances_, index=X_train_ohe.columns)\n",
    "\n",
    "# Sorting feature importances\n",
    "importances_sorted_rf = feature_importances_rf.sort_values()\n",
    "importances_sorted_lasso = feature_importances_lasso.sort_values()\n",
    "importances_sorted_gb = feature_importances_gb.sort_values()\n",
    "\n",
    "# Creating subplots\n",
    "fig, axs = plt.subplots(1, 3, figsize=(20, 10))\n",
    "\n",
    "# Plotting feature importances\n",
    "importances_sorted_rf.plot(kind='barh', color='lightgreen', ax=axs[0])\n",
    "axs[0].set_title('Random Forest Feature Importances')\n",
    "\n",
    "importances_sorted_lasso.plot(kind='barh', color='lightblue', ax=axs[1])\n",
    "axs[1].set_title('LASSO Feature Importances')\n",
    "\n",
    "importances_sorted_gb.plot(kind='barh', color='lightcoral', ax=axs[2])\n",
    "axs[2].set_title('Gradient Boosting Feature Importances')\n",
    "\n",
    "# Adjust layout for better readability\n",
    "plt.tight_layout()\n",
    "plt.show()"
   ]
  },
  {
   "cell_type": "code",
   "execution_count": 35,
   "metadata": {},
   "outputs": [],
   "source": [
    "# Random Forest - Top 15\n",
    "top_features_rf = importances_sorted_rf.nlargest(10).index.tolist()\n",
    "\n",
    "# LassoCV - Top 7 (consider absolute values)\n",
    "top_features_lasso = feature_importances_lasso.abs().nlargest(10).index.tolist()\n",
    "\n",
    "# Gradient Boosting - Top 15\n",
    "top_features_gb = importances_sorted_gb.nlargest(10).index.tolist()\n",
    "\n",
    "# SelectKBest - Top 10\n",
    "from sklearn.feature_selection import SelectKBest, f_classif\n",
    "\n",
    "selector = SelectKBest(f_classif, k=10)\n",
    "selector.fit(X_train_ohe_std, y_train)\n",
    "top_features_kbest = X_train_ohe_std.columns[selector.get_support(indices=True)].tolist()"
   ]
  },
  {
   "cell_type": "code",
   "execution_count": 36,
   "metadata": {},
   "outputs": [
    {
     "name": "stdout",
     "output_type": "stream",
     "text": [
      "All Important Features: {'Grouped Stage_IV', 'Tumor Size', 'T_T2', 'Bone Metastasis', 'Brain Metastasis', 'Sex', 'Surgery', 'Radiation recode', 'Liver Metastasis', 'N_N2', 'Age_85+ years', 'M_M1', 'Chemotherapy', 'Grouped Stage_III', 'N_N1', 'T_T4', 'Lung Metastasis', 'Race_White'}\n",
      "Consistently Important Features: {'M_M1', 'Surgery', 'Chemotherapy', 'Tumor Size'}\n"
     ]
    }
   ],
   "source": [
    "# Combine all important features\n",
    "all_important_features = set(top_features_rf + top_features_lasso + top_features_gb + top_features_kbest)\n",
    "\n",
    "# Find consistently important features\n",
    "consistently_important_features = set(top_features_rf).intersection(top_features_lasso, top_features_gb, top_features_kbest)\n",
    "\n",
    "# Print results\n",
    "print(\"All Important Features:\", all_important_features)\n",
    "print(\"Consistently Important Features:\", consistently_important_features)"
   ]
  },
  {
   "cell_type": "code",
   "execution_count": 37,
   "metadata": {},
   "outputs": [
    {
     "data": {
      "image/png": "[encoded data removed]",
      "text/plain": [
       "<Figure size 1000x1000 with 1 Axes>"
      ]
     },
     "metadata": {},
     "output_type": "display_data"
    }
   ],
   "source": [
    "# Viualize the filtered feature importances\n",
    "importances_filtered_rf = feature_importances_rf[feature_importances_rf.index.isin(all_important_features)]\n",
    "importances_sorted_rf = importances_filtered_rf.sort_values()\n",
    "\n",
    "plt.figure(figsize=(10, 10))\n",
    "importances_sorted_rf.plot(kind='barh')\n",
    "plt.title('Filtered Random Forest Feature Importances')\n",
    "plt.show()"
   ]
  },
  {
   "cell_type": "markdown",
   "metadata": {},
   "source": [
    "### Decision Tree with selected features"
   ]
  },
  {
   "cell_type": "code",
   "execution_count": 38,
   "metadata": {},
   "outputs": [
    {
     "name": "stdout",
     "output_type": "stream",
     "text": [
      "(445, 18)\n",
      "(112, 18)\n"
     ]
    }
   ],
   "source": [
    "# retrain the model with the filtered features\n",
    "important_features_list = list(all_important_features)\n",
    "X_train_filtered = X_train_ohe[important_features_list]\n",
    "X_test_filtered = X_test_ohe[important_features_list]\n",
    "\n",
    "# print the shape of the filtered train and test set\n",
    "print(X_train_filtered.shape)\n",
    "print(X_test_filtered.shape)"
   ]
  },
  {
   "cell_type": "code",
   "execution_count": 39,
   "metadata": {},
   "outputs": [
    {
     "data": {
      "text/html": [
       "<style>#sk-container-id-2 {color: black;}#sk-container-id-2 pre{padding: 0;}#sk-container-id-2 div.sk-toggleable {background-color: white;}#sk-container-id-2 label.sk-toggleable__label {cursor: pointer;display: block;width: 100%;margin-bottom: 0;padding: 0.3em;box-sizing: border-box;text-align: center;}#sk-container-id-2 label.sk-toggleable__label-arrow:before {content: \"▸\";float: left;margin-right: 0.25em;color: #696969;}#sk-container-id-2 label.sk-toggleable__label-arrow:hover:before {color: black;}#sk-container-id-2 div.sk-estimator:hover label.sk-toggleable__label-arrow:before {color: black;}#sk-container-id-2 div.sk-toggleable__content {max-height: 0;max-width: 0;overflow: hidden;text-align: left;background-color: #f0f8ff;}#sk-container-id-2 div.sk-toggleable__content pre {margin: 0.2em;color: black;border-radius: 0.25em;background-color: #f0f8ff;}#sk-container-id-2 input.sk-toggleable__control:checked~div.sk-toggleable__content {max-height: 200px;max-width: 100%;overflow: auto;}#sk-container-id-2 input.sk-toggleable__control:checked~label.sk-toggleable__label-arrow:before {content: \"▾\";}#sk-container-id-2 div.sk-estimator input.sk-toggleable__control:checked~label.sk-toggleable__label {background-color: #d4ebff;}#sk-container-id-2 div.sk-label input.sk-toggleable__control:checked~label.sk-toggleable__label {background-color: #d4ebff;}#sk-container-id-2 input.sk-hidden--visually {border: 0;clip: rect(1px 1px 1px 1px);clip: rect(1px, 1px, 1px, 1px);height: 1px;margin: -1px;overflow: hidden;padding: 0;position: absolute;width: 1px;}#sk-container-id-2 div.sk-estimator {font-family: monospace;background-color: #f0f8ff;border: 1px dotted black;border-radius: 0.25em;box-sizing: border-box;margin-bottom: 0.5em;}#sk-container-id-2 div.sk-estimator:hover {background-color: #d4ebff;}#sk-container-id-2 div.sk-parallel-item::after {content: \"\";width: 100%;border-bottom: 1px solid gray;flex-grow: 1;}#sk-container-id-2 div.sk-label:hover label.sk-toggleable__label {background-color: #d4ebff;}#sk-container-id-2 div.sk-serial::before {content: \"\";position: absolute;border-left: 1px solid gray;box-sizing: border-box;top: 0;bottom: 0;left: 50%;z-index: 0;}#sk-container-id-2 div.sk-serial {display: flex;flex-direction: column;align-items: center;background-color: white;padding-right: 0.2em;padding-left: 0.2em;position: relative;}#sk-container-id-2 div.sk-item {position: relative;z-index: 1;}#sk-container-id-2 div.sk-parallel {display: flex;align-items: stretch;justify-content: center;background-color: white;position: relative;}#sk-container-id-2 div.sk-item::before, #sk-container-id-2 div.sk-parallel-item::before {content: \"\";position: absolute;border-left: 1px solid gray;box-sizing: border-box;top: 0;bottom: 0;left: 50%;z-index: -1;}#sk-container-id-2 div.sk-parallel-item {display: flex;flex-direction: column;z-index: 1;position: relative;background-color: white;}#sk-container-id-2 div.sk-parallel-item:first-child::after {align-self: flex-end;width: 50%;}#sk-container-id-2 div.sk-parallel-item:last-child::after {align-self: flex-start;width: 50%;}#sk-container-id-2 div.sk-parallel-item:only-child::after {width: 0;}#sk-container-id-2 div.sk-dashed-wrapped {border: 1px dashed gray;margin: 0 0.4em 0.5em 0.4em;box-sizing: border-box;padding-bottom: 0.4em;background-color: white;}#sk-container-id-2 div.sk-label label {font-family: monospace;font-weight: bold;display: inline-block;line-height: 1.2em;}#sk-container-id-2 div.sk-label-container {text-align: center;}#sk-container-id-2 div.sk-container {/* jupyter's `normalize.less` sets `[hidden] { display: none; }` but bootstrap.min.css set `[hidden] { display: none !important; }` so we also need the `!important` here to be able to override the default hidden behavior on the sphinx rendered scikit-learn.org. See: https://github.com/scikit-learn/scikit-learn/issues/21755 */display: inline-block !important;position: relative;}#sk-container-id-2 div.sk-text-repr-fallback {display: none;}</style><div id=\"sk-container-id-2\" class=\"sk-top-container\"><div class=\"sk-text-repr-fallback\"><pre>RandomizedSearchCV(cv=10, estimator=DecisionTreeClassifier(), n_iter=200,\n",
       "                   param_distributions={&#x27;ccp_alpha&#x27;: array([0.        , 0.01010101, 0.02020202, 0.03030303, 0.04040404,\n",
       "       0.05050505, 0.06060606, 0.07070707, 0.08080808, 0.09090909,\n",
       "       0.1010101 , 0.11111111, 0.12121212, 0.13131313, 0.14141414,\n",
       "       0.15151515, 0.16161616, 0.17171717, 0.18181818, 0.19191919,\n",
       "       0.2020202 , 0.21212121, 0.22222...\n",
       "       0.85858586, 0.86868687, 0.87878788, 0.88888889, 0.8989899 ,\n",
       "       0.90909091, 0.91919192, 0.92929293, 0.93939394, 0.94949495,\n",
       "       0.95959596, 0.96969697, 0.97979798, 0.98989899, 1.        ]),\n",
       "                                        &#x27;criterion&#x27;: [&#x27;gini&#x27;, &#x27;entropy&#x27;],\n",
       "                                        &#x27;max_depth&#x27;: range(3, 21),\n",
       "                                        &#x27;max_features&#x27;: [&#x27;sqrt&#x27;, &#x27;log2&#x27;, None],\n",
       "                                        &#x27;min_samples_leaf&#x27;: range(1, 40)},\n",
       "                   random_state=123,\n",
       "                   scoring=make_scorer(fbeta_score, beta=2, average=weighted))</pre><b>In a Jupyter environment, please rerun this cell to show the HTML representation or trust the notebook. <br />On GitHub, the HTML representation is unable to render, please try loading this page with nbviewer.org.</b></div><div class=\"sk-container\" hidden><div class=\"sk-item sk-dashed-wrapped\"><div class=\"sk-label-container\"><div class=\"sk-label sk-toggleable\"><input class=\"sk-toggleable__control sk-hidden--visually\" id=\"sk-estimator-id-4\" type=\"checkbox\" ><label for=\"sk-estimator-id-4\" class=\"sk-toggleable__label sk-toggleable__label-arrow\">RandomizedSearchCV</label><div class=\"sk-toggleable__content\"><pre>RandomizedSearchCV(cv=10, estimator=DecisionTreeClassifier(), n_iter=200,\n",
       "                   param_distributions={&#x27;ccp_alpha&#x27;: array([0.        , 0.01010101, 0.02020202, 0.03030303, 0.04040404,\n",
       "       0.05050505, 0.06060606, 0.07070707, 0.08080808, 0.09090909,\n",
       "       0.1010101 , 0.11111111, 0.12121212, 0.13131313, 0.14141414,\n",
       "       0.15151515, 0.16161616, 0.17171717, 0.18181818, 0.19191919,\n",
       "       0.2020202 , 0.21212121, 0.22222...\n",
       "       0.85858586, 0.86868687, 0.87878788, 0.88888889, 0.8989899 ,\n",
       "       0.90909091, 0.91919192, 0.92929293, 0.93939394, 0.94949495,\n",
       "       0.95959596, 0.96969697, 0.97979798, 0.98989899, 1.        ]),\n",
       "                                        &#x27;criterion&#x27;: [&#x27;gini&#x27;, &#x27;entropy&#x27;],\n",
       "                                        &#x27;max_depth&#x27;: range(3, 21),\n",
       "                                        &#x27;max_features&#x27;: [&#x27;sqrt&#x27;, &#x27;log2&#x27;, None],\n",
       "                                        &#x27;min_samples_leaf&#x27;: range(1, 40)},\n",
       "                   random_state=123,\n",
       "                   scoring=make_scorer(fbeta_score, beta=2, average=weighted))</pre></div></div></div><div class=\"sk-parallel\"><div class=\"sk-parallel-item\"><div class=\"sk-item\"><div class=\"sk-label-container\"><div class=\"sk-label sk-toggleable\"><input class=\"sk-toggleable__control sk-hidden--visually\" id=\"sk-estimator-id-5\" type=\"checkbox\" ><label for=\"sk-estimator-id-5\" class=\"sk-toggleable__label sk-toggleable__label-arrow\">estimator: DecisionTreeClassifier</label><div class=\"sk-toggleable__content\"><pre>DecisionTreeClassifier()</pre></div></div></div><div class=\"sk-serial\"><div class=\"sk-item\"><div class=\"sk-estimator sk-toggleable\"><input class=\"sk-toggleable__control sk-hidden--visually\" id=\"sk-estimator-id-6\" type=\"checkbox\" ><label for=\"sk-estimator-id-6\" class=\"sk-toggleable__label sk-toggleable__label-arrow\">DecisionTreeClassifier</label><div class=\"sk-toggleable__content\"><pre>DecisionTreeClassifier()</pre></div></div></div></div></div></div></div></div></div></div>"
      ],
      "text/plain": [
       "RandomizedSearchCV(cv=10, estimator=DecisionTreeClassifier(), n_iter=200,\n",
       "                   param_distributions={'ccp_alpha': array([0.        , 0.01010101, 0.02020202, 0.03030303, 0.04040404,\n",
       "       0.05050505, 0.06060606, 0.07070707, 0.08080808, 0.09090909,\n",
       "       0.1010101 , 0.11111111, 0.12121212, 0.13131313, 0.14141414,\n",
       "       0.15151515, 0.16161616, 0.17171717, 0.18181818, 0.19191919,\n",
       "       0.2020202 , 0.21212121, 0.22222...\n",
       "       0.85858586, 0.86868687, 0.87878788, 0.88888889, 0.8989899 ,\n",
       "       0.90909091, 0.91919192, 0.92929293, 0.93939394, 0.94949495,\n",
       "       0.95959596, 0.96969697, 0.97979798, 0.98989899, 1.        ]),\n",
       "                                        'criterion': ['gini', 'entropy'],\n",
       "                                        'max_depth': range(3, 21),\n",
       "                                        'max_features': ['sqrt', 'log2', None],\n",
       "                                        'min_samples_leaf': range(1, 40)},\n",
       "                   random_state=123,\n",
       "                   scoring=make_scorer(fbeta_score, beta=2, average=weighted))"
      ]
     },
     "execution_count": 39,
     "metadata": {},
     "output_type": "execute_result"
    }
   ],
   "source": [
    "# Define the parameter grid\n",
    "param_dist = {\n",
    "    'max_depth': range(3, 21),\n",
    "    'min_samples_leaf': range(1, 40),\n",
    "    'criterion': ['gini', 'entropy'],\n",
    "    'max_features': ['sqrt', 'log2', None],\n",
    "    'ccp_alpha': np.linspace(0, 1, 100)\n",
    "}\n",
    "\n",
    "# Decision Tree classifier\n",
    "dt2 = DecisionTreeClassifier()\n",
    "\n",
    "# Random search with cross-validation\n",
    "random_search2 = RandomizedSearchCV(dt2, param_dist, n_iter=200, scoring=f2_scorer, cv=10, random_state=123)\n",
    "\n",
    "# Fit the model\n",
    "random_search2.fit(X_train_filtered, y_train)"
   ]
  },
  {
   "cell_type": "code",
   "execution_count": 40,
   "metadata": {},
   "outputs": [
    {
     "name": "stdout",
     "output_type": "stream",
     "text": [
      "{'min_samples_leaf': 17, 'max_features': None, 'max_depth': 14, 'criterion': 'entropy', 'ccp_alpha': 0.020202020202020204}\n"
     ]
    }
   ],
   "source": [
    "# print the best parameters\n",
    "print(random_search2.best_params_)\n",
    "# predict on the test set\n",
    "y_pred2 = random_search2.predict(X_test_filtered)"
   ]
  },
  {
   "cell_type": "markdown",
   "metadata": {},
   "source": [
    "Result"
   ]
  },
  {
   "cell_type": "code",
   "execution_count": 41,
   "metadata": {},
   "outputs": [
    {
     "name": "stdout",
     "output_type": "stream",
     "text": [
      "Train score: 0.7098\n",
      "Test score: 0.7326\n",
      "[[31 13]\n",
      " [17 51]]\n",
      "              precision    recall  f1-score   support\n",
      "\n",
      "           0       0.65      0.70      0.67        44\n",
      "           1       0.80      0.75      0.77        68\n",
      "\n",
      "    accuracy                           0.73       112\n",
      "   macro avg       0.72      0.73      0.72       112\n",
      "weighted avg       0.74      0.73      0.73       112\n",
      "\n"
     ]
    }
   ],
   "source": [
    "# print the train and test scores, confusion matrix, classification report\n",
    "print(f'Train score: {random_search2.best_score_:.4f}')\n",
    "print(f'Test score: {random_search2.score(X_test_filtered, y_test):.4f}')\n",
    "print(confusion_matrix(y_test, y_pred2))\n",
    "print(classification_report(y_test, y_pred2))\n"
   ]
  },
  {
   "cell_type": "markdown",
   "metadata": {},
   "source": [
    "### Random Forest"
   ]
  },
  {
   "cell_type": "code",
   "execution_count": 42,
   "metadata": {},
   "outputs": [
    {
     "data": {
      "text/html": [
       "<style>#sk-container-id-3 {color: black;}#sk-container-id-3 pre{padding: 0;}#sk-container-id-3 div.sk-toggleable {background-color: white;}#sk-container-id-3 label.sk-toggleable__label {cursor: pointer;display: block;width: 100%;margin-bottom: 0;padding: 0.3em;box-sizing: border-box;text-align: center;}#sk-container-id-3 label.sk-toggleable__label-arrow:before {content: \"▸\";float: left;margin-right: 0.25em;color: #696969;}#sk-container-id-3 label.sk-toggleable__label-arrow:hover:before {color: black;}#sk-container-id-3 div.sk-estimator:hover label.sk-toggleable__label-arrow:before {color: black;}#sk-container-id-3 div.sk-toggleable__content {max-height: 0;max-width: 0;overflow: hidden;text-align: left;background-color: #f0f8ff;}#sk-container-id-3 div.sk-toggleable__content pre {margin: 0.2em;color: black;border-radius: 0.25em;background-color: #f0f8ff;}#sk-container-id-3 input.sk-toggleable__control:checked~div.sk-toggleable__content {max-height: 200px;max-width: 100%;overflow: auto;}#sk-container-id-3 input.sk-toggleable__control:checked~label.sk-toggleable__label-arrow:before {content: \"▾\";}#sk-container-id-3 div.sk-estimator input.sk-toggleable__control:checked~label.sk-toggleable__label {background-color: #d4ebff;}#sk-container-id-3 div.sk-label input.sk-toggleable__control:checked~label.sk-toggleable__label {background-color: #d4ebff;}#sk-container-id-3 input.sk-hidden--visually {border: 0;clip: rect(1px 1px 1px 1px);clip: rect(1px, 1px, 1px, 1px);height: 1px;margin: -1px;overflow: hidden;padding: 0;position: absolute;width: 1px;}#sk-container-id-3 div.sk-estimator {font-family: monospace;background-color: #f0f8ff;border: 1px dotted black;border-radius: 0.25em;box-sizing: border-box;margin-bottom: 0.5em;}#sk-container-id-3 div.sk-estimator:hover {background-color: #d4ebff;}#sk-container-id-3 div.sk-parallel-item::after {content: \"\";width: 100%;border-bottom: 1px solid gray;flex-grow: 1;}#sk-container-id-3 div.sk-label:hover label.sk-toggleable__label {background-color: #d4ebff;}#sk-container-id-3 div.sk-serial::before {content: \"\";position: absolute;border-left: 1px solid gray;box-sizing: border-box;top: 0;bottom: 0;left: 50%;z-index: 0;}#sk-container-id-3 div.sk-serial {display: flex;flex-direction: column;align-items: center;background-color: white;padding-right: 0.2em;padding-left: 0.2em;position: relative;}#sk-container-id-3 div.sk-item {position: relative;z-index: 1;}#sk-container-id-3 div.sk-parallel {display: flex;align-items: stretch;justify-content: center;background-color: white;position: relative;}#sk-container-id-3 div.sk-item::before, #sk-container-id-3 div.sk-parallel-item::before {content: \"\";position: absolute;border-left: 1px solid gray;box-sizing: border-box;top: 0;bottom: 0;left: 50%;z-index: -1;}#sk-container-id-3 div.sk-parallel-item {display: flex;flex-direction: column;z-index: 1;position: relative;background-color: white;}#sk-container-id-3 div.sk-parallel-item:first-child::after {align-self: flex-end;width: 50%;}#sk-container-id-3 div.sk-parallel-item:last-child::after {align-self: flex-start;width: 50%;}#sk-container-id-3 div.sk-parallel-item:only-child::after {width: 0;}#sk-container-id-3 div.sk-dashed-wrapped {border: 1px dashed gray;margin: 0 0.4em 0.5em 0.4em;box-sizing: border-box;padding-bottom: 0.4em;background-color: white;}#sk-container-id-3 div.sk-label label {font-family: monospace;font-weight: bold;display: inline-block;line-height: 1.2em;}#sk-container-id-3 div.sk-label-container {text-align: center;}#sk-container-id-3 div.sk-container {/* jupyter's `normalize.less` sets `[hidden] { display: none; }` but bootstrap.min.css set `[hidden] { display: none !important; }` so we also need the `!important` here to be able to override the default hidden behavior on the sphinx rendered scikit-learn.org. See: https://github.com/scikit-learn/scikit-learn/issues/21755 */display: inline-block !important;position: relative;}#sk-container-id-3 div.sk-text-repr-fallback {display: none;}</style><div id=\"sk-container-id-3\" class=\"sk-top-container\"><div class=\"sk-text-repr-fallback\"><pre>RandomizedSearchCV(cv=10, estimator=RandomForestClassifier(), n_iter=100,\n",
       "                   param_distributions={&#x27;ccp_alpha&#x27;: array([0.        , 0.01010101, 0.02020202, 0.03030303, 0.04040404,\n",
       "       0.05050505, 0.06060606, 0.07070707, 0.08080808, 0.09090909,\n",
       "       0.1010101 , 0.11111111, 0.12121212, 0.13131313, 0.14141414,\n",
       "       0.15151515, 0.16161616, 0.17171717, 0.18181818, 0.19191919,\n",
       "       0.2020202 , 0.21212121, 0.22222...\n",
       "       0.85858586, 0.86868687, 0.87878788, 0.88888889, 0.8989899 ,\n",
       "       0.90909091, 0.91919192, 0.92929293, 0.93939394, 0.94949495,\n",
       "       0.95959596, 0.96969697, 0.97979798, 0.98989899, 1.        ]),\n",
       "                                        &#x27;criterion&#x27;: [&#x27;gini&#x27;, &#x27;entropy&#x27;],\n",
       "                                        &#x27;max_depth&#x27;: range(3, 21),\n",
       "                                        &#x27;max_features&#x27;: [&#x27;sqrt&#x27;, &#x27;log2&#x27;, None],\n",
       "                                        &#x27;min_samples_leaf&#x27;: range(1, 40),\n",
       "                                        &#x27;n_estimators&#x27;: range(100, 1001, 100)},\n",
       "                   random_state=123,\n",
       "                   scoring=make_scorer(fbeta_score, beta=2, average=weighted))</pre><b>In a Jupyter environment, please rerun this cell to show the HTML representation or trust the notebook. <br />On GitHub, the HTML representation is unable to render, please try loading this page with nbviewer.org.</b></div><div class=\"sk-container\" hidden><div class=\"sk-item sk-dashed-wrapped\"><div class=\"sk-label-container\"><div class=\"sk-label sk-toggleable\"><input class=\"sk-toggleable__control sk-hidden--visually\" id=\"sk-estimator-id-7\" type=\"checkbox\" ><label for=\"sk-estimator-id-7\" class=\"sk-toggleable__label sk-toggleable__label-arrow\">RandomizedSearchCV</label><div class=\"sk-toggleable__content\"><pre>RandomizedSearchCV(cv=10, estimator=RandomForestClassifier(), n_iter=100,\n",
       "                   param_distributions={&#x27;ccp_alpha&#x27;: array([0.        , 0.01010101, 0.02020202, 0.03030303, 0.04040404,\n",
       "       0.05050505, 0.06060606, 0.07070707, 0.08080808, 0.09090909,\n",
       "       0.1010101 , 0.11111111, 0.12121212, 0.13131313, 0.14141414,\n",
       "       0.15151515, 0.16161616, 0.17171717, 0.18181818, 0.19191919,\n",
       "       0.2020202 , 0.21212121, 0.22222...\n",
       "       0.85858586, 0.86868687, 0.87878788, 0.88888889, 0.8989899 ,\n",
       "       0.90909091, 0.91919192, 0.92929293, 0.93939394, 0.94949495,\n",
       "       0.95959596, 0.96969697, 0.97979798, 0.98989899, 1.        ]),\n",
       "                                        &#x27;criterion&#x27;: [&#x27;gini&#x27;, &#x27;entropy&#x27;],\n",
       "                                        &#x27;max_depth&#x27;: range(3, 21),\n",
       "                                        &#x27;max_features&#x27;: [&#x27;sqrt&#x27;, &#x27;log2&#x27;, None],\n",
       "                                        &#x27;min_samples_leaf&#x27;: range(1, 40),\n",
       "                                        &#x27;n_estimators&#x27;: range(100, 1001, 100)},\n",
       "                   random_state=123,\n",
       "                   scoring=make_scorer(fbeta_score, beta=2, average=weighted))</pre></div></div></div><div class=\"sk-parallel\"><div class=\"sk-parallel-item\"><div class=\"sk-item\"><div class=\"sk-label-container\"><div class=\"sk-label sk-toggleable\"><input class=\"sk-toggleable__control sk-hidden--visually\" id=\"sk-estimator-id-8\" type=\"checkbox\" ><label for=\"sk-estimator-id-8\" class=\"sk-toggleable__label sk-toggleable__label-arrow\">estimator: RandomForestClassifier</label><div class=\"sk-toggleable__content\"><pre>RandomForestClassifier()</pre></div></div></div><div class=\"sk-serial\"><div class=\"sk-item\"><div class=\"sk-estimator sk-toggleable\"><input class=\"sk-toggleable__control sk-hidden--visually\" id=\"sk-estimator-id-9\" type=\"checkbox\" ><label for=\"sk-estimator-id-9\" class=\"sk-toggleable__label sk-toggleable__label-arrow\">RandomForestClassifier</label><div class=\"sk-toggleable__content\"><pre>RandomForestClassifier()</pre></div></div></div></div></div></div></div></div></div></div>"
      ],
      "text/plain": [
       "RandomizedSearchCV(cv=10, estimator=RandomForestClassifier(), n_iter=100,\n",
       "                   param_distributions={'ccp_alpha': array([0.        , 0.01010101, 0.02020202, 0.03030303, 0.04040404,\n",
       "       0.05050505, 0.06060606, 0.07070707, 0.08080808, 0.09090909,\n",
       "       0.1010101 , 0.11111111, 0.12121212, 0.13131313, 0.14141414,\n",
       "       0.15151515, 0.16161616, 0.17171717, 0.18181818, 0.19191919,\n",
       "       0.2020202 , 0.21212121, 0.22222...\n",
       "       0.85858586, 0.86868687, 0.87878788, 0.88888889, 0.8989899 ,\n",
       "       0.90909091, 0.91919192, 0.92929293, 0.93939394, 0.94949495,\n",
       "       0.95959596, 0.96969697, 0.97979798, 0.98989899, 1.        ]),\n",
       "                                        'criterion': ['gini', 'entropy'],\n",
       "                                        'max_depth': range(3, 21),\n",
       "                                        'max_features': ['sqrt', 'log2', None],\n",
       "                                        'min_samples_leaf': range(1, 40),\n",
       "                                        'n_estimators': range(100, 1001, 100)},\n",
       "                   random_state=123,\n",
       "                   scoring=make_scorer(fbeta_score, beta=2, average=weighted))"
      ]
     },
     "execution_count": 42,
     "metadata": {},
     "output_type": "execute_result"
    }
   ],
   "source": [
    "# build a random forest classifier\n",
    "# Define the parameter grid\n",
    "param_dist = {\n",
    "    'n_estimators': range(100, 1001, 100),\n",
    "    'max_depth': range(3, 21),\n",
    "    'min_samples_leaf': range(1, 40),\n",
    "    'criterion': ['gini', 'entropy'],\n",
    "    'max_features': ['sqrt', 'log2', None],\n",
    "    'ccp_alpha': np.linspace(0, 1, 100)\n",
    "}\n",
    "\n",
    "# Random Forest classifier\n",
    "rf = RandomForestClassifier()\n",
    "\n",
    "# Random search with cross-validation\n",
    "random_search1 = RandomizedSearchCV(rf, param_dist, n_iter=100, scoring=f2_scorer, cv=10, random_state=123)\n",
    "\n",
    "# Fit the model\n",
    "random_search1.fit(X_train_ohe, y_train) # 8mins"
   ]
  },
  {
   "cell_type": "code",
   "execution_count": 43,
   "metadata": {},
   "outputs": [
    {
     "name": "stdout",
     "output_type": "stream",
     "text": [
      "{'n_estimators': 800, 'min_samples_leaf': 17, 'max_features': 'log2', 'max_depth': 19, 'criterion': 'entropy', 'ccp_alpha': 0.0}\n"
     ]
    }
   ],
   "source": [
    "# print the best parameters\n",
    "print(random_search1.best_params_)\n",
    "# predict on the test set\n",
    "y_pred = random_search1.predict(X_test_ohe)"
   ]
  },
  {
   "cell_type": "markdown",
   "metadata": {},
   "source": [
    "Result"
   ]
  },
  {
   "cell_type": "code",
   "execution_count": 44,
   "metadata": {},
   "outputs": [
    {
     "name": "stdout",
     "output_type": "stream",
     "text": [
      "Train score: 0.7040\n",
      "Test score: 0.7300\n",
      "[[26 18]\n",
      " [12 56]]\n",
      "              precision    recall  f1-score   support\n",
      "\n",
      "           0       0.68      0.59      0.63        44\n",
      "           1       0.76      0.82      0.79        68\n",
      "\n",
      "    accuracy                           0.73       112\n",
      "   macro avg       0.72      0.71      0.71       112\n",
      "weighted avg       0.73      0.73      0.73       112\n",
      "\n"
     ]
    }
   ],
   "source": [
    "# print the train and test scores, confusion matrix, classification report\n",
    "print(f'Train score: {random_search1.best_score_:.4f}')\n",
    "print(f'Test score: {random_search1.score(X_test_ohe, y_test):.4f}')\n",
    "print(confusion_matrix(y_test, y_pred))\n",
    "print(classification_report(y_test, y_pred))"
   ]
  },
  {
   "cell_type": "markdown",
   "metadata": {},
   "source": [
    "### Catboost"
   ]
  },
  {
   "cell_type": "code",
   "execution_count": 83,
   "metadata": {},
   "outputs": [
    {
     "data": {
      "text/html": [
       "<style>#sk-container-id-12 {color: black;}#sk-container-id-12 pre{padding: 0;}#sk-container-id-12 div.sk-toggleable {background-color: white;}#sk-container-id-12 label.sk-toggleable__label {cursor: pointer;display: block;width: 100%;margin-bottom: 0;padding: 0.3em;box-sizing: border-box;text-align: center;}#sk-container-id-12 label.sk-toggleable__label-arrow:before {content: \"▸\";float: left;margin-right: 0.25em;color: #696969;}#sk-container-id-12 label.sk-toggleable__label-arrow:hover:before {color: black;}#sk-container-id-12 div.sk-estimator:hover label.sk-toggleable__label-arrow:before {color: black;}#sk-container-id-12 div.sk-toggleable__content {max-height: 0;max-width: 0;overflow: hidden;text-align: left;background-color: #f0f8ff;}#sk-container-id-12 div.sk-toggleable__content pre {margin: 0.2em;color: black;border-radius: 0.25em;background-color: #f0f8ff;}#sk-container-id-12 input.sk-toggleable__control:checked~div.sk-toggleable__content {max-height: 200px;max-width: 100%;overflow: auto;}#sk-container-id-12 input.sk-toggleable__control:checked~label.sk-toggleable__label-arrow:before {content: \"▾\";}#sk-container-id-12 div.sk-estimator input.sk-toggleable__control:checked~label.sk-toggleable__label {background-color: #d4ebff;}#sk-container-id-12 div.sk-label input.sk-toggleable__control:checked~label.sk-toggleable__label {background-color: #d4ebff;}#sk-container-id-12 input.sk-hidden--visually {border: 0;clip: rect(1px 1px 1px 1px);clip: rect(1px, 1px, 1px, 1px);height: 1px;margin: -1px;overflow: hidden;padding: 0;position: absolute;width: 1px;}#sk-container-id-12 div.sk-estimator {font-family: monospace;background-color: #f0f8ff;border: 1px dotted black;border-radius: 0.25em;box-sizing: border-box;margin-bottom: 0.5em;}#sk-container-id-12 div.sk-estimator:hover {background-color: #d4ebff;}#sk-container-id-12 div.sk-parallel-item::after {content: \"\";width: 100%;border-bottom: 1px solid gray;flex-grow: 1;}#sk-container-id-12 div.sk-label:hover label.sk-toggleable__label {background-color: #d4ebff;}#sk-container-id-12 div.sk-serial::before {content: \"\";position: absolute;border-left: 1px solid gray;box-sizing: border-box;top: 0;bottom: 0;left: 50%;z-index: 0;}#sk-container-id-12 div.sk-serial {display: flex;flex-direction: column;align-items: center;background-color: white;padding-right: 0.2em;padding-left: 0.2em;position: relative;}#sk-container-id-12 div.sk-item {position: relative;z-index: 1;}#sk-container-id-12 div.sk-parallel {display: flex;align-items: stretch;justify-content: center;background-color: white;position: relative;}#sk-container-id-12 div.sk-item::before, #sk-container-id-12 div.sk-parallel-item::before {content: \"\";position: absolute;border-left: 1px solid gray;box-sizing: border-box;top: 0;bottom: 0;left: 50%;z-index: -1;}#sk-container-id-12 div.sk-parallel-item {display: flex;flex-direction: column;z-index: 1;position: relative;background-color: white;}#sk-container-id-12 div.sk-parallel-item:first-child::after {align-self: flex-end;width: 50%;}#sk-container-id-12 div.sk-parallel-item:last-child::after {align-self: flex-start;width: 50%;}#sk-container-id-12 div.sk-parallel-item:only-child::after {width: 0;}#sk-container-id-12 div.sk-dashed-wrapped {border: 1px dashed gray;margin: 0 0.4em 0.5em 0.4em;box-sizing: border-box;padding-bottom: 0.4em;background-color: white;}#sk-container-id-12 div.sk-label label {font-family: monospace;font-weight: bold;display: inline-block;line-height: 1.2em;}#sk-container-id-12 div.sk-label-container {text-align: center;}#sk-container-id-12 div.sk-container {/* jupyter's `normalize.less` sets `[hidden] { display: none; }` but bootstrap.min.css set `[hidden] { display: none !important; }` so we also need the `!important` here to be able to override the default hidden behavior on the sphinx rendered scikit-learn.org. See: https://github.com/scikit-learn/scikit-learn/issues/21755 */display: inline-block !important;position: relative;}#sk-container-id-12 div.sk-text-repr-fallback {display: none;}</style><div id=\"sk-container-id-12\" class=\"sk-top-container\"><div class=\"sk-text-repr-fallback\"><pre>RandomizedSearchCV(cv=3,\n",
       "                   estimator=&lt;catboost.core.CatBoostClassifier object at 0x0000012523484210&gt;,\n",
       "                   n_iter=50,\n",
       "                   param_distributions={&#x27;colsample_bylevel&#x27;: array([0.05, 0.1 , 0.15, 0.2 , 0.25, 0.3 , 0.35, 0.4 , 0.45, 0.5 , 0.55,\n",
       "       0.6 , 0.65, 0.7 , 0.75, 0.8 , 0.85, 0.9 , 0.95, 1.  ]),\n",
       "                                        &#x27;depth&#x27;: array([ 1,  2,  3,  4,  5,  6,  7,  8,  9, 10, 11, 12, 13, 14, 15]),\n",
       "                                        &#x27;iterations&#x27;: array([100, 150, 200, 250, 300, 350, 400]),\n",
       "                                        &#x27;le...\n",
       "       0.0379269 , 0.0483293 , 0.06158482, 0.078476  , 0.1       ]),\n",
       "                                        &#x27;min_data_in_leaf&#x27;: array([ 2,  3,  4,  5,  6,  7,  8,  9, 10, 11, 12, 13, 14, 15, 16, 17, 18,\n",
       "       19, 20, 21, 22, 23, 24, 25, 26, 27, 28, 29, 30, 31, 32, 33, 34, 35,\n",
       "       36, 37, 38, 39]),\n",
       "                                        &#x27;subsample&#x27;: array([0.05, 0.1 , 0.15, 0.2 , 0.25, 0.3 , 0.35, 0.4 , 0.45, 0.5 , 0.55,\n",
       "       0.6 , 0.65, 0.7 , 0.75, 0.8 , 0.85, 0.9 , 0.95, 1.  ])},\n",
       "                   random_state=123,\n",
       "                   scoring=make_scorer(fbeta_score, beta=2, average=weighted),\n",
       "                   verbose=False)</pre><b>In a Jupyter environment, please rerun this cell to show the HTML representation or trust the notebook. <br />On GitHub, the HTML representation is unable to render, please try loading this page with nbviewer.org.</b></div><div class=\"sk-container\" hidden><div class=\"sk-item sk-dashed-wrapped\"><div class=\"sk-label-container\"><div class=\"sk-label sk-toggleable\"><input class=\"sk-toggleable__control sk-hidden--visually\" id=\"sk-estimator-id-34\" type=\"checkbox\" ><label for=\"sk-estimator-id-34\" class=\"sk-toggleable__label sk-toggleable__label-arrow\">RandomizedSearchCV</label><div class=\"sk-toggleable__content\"><pre>RandomizedSearchCV(cv=3,\n",
       "                   estimator=&lt;catboost.core.CatBoostClassifier object at 0x0000012523484210&gt;,\n",
       "                   n_iter=50,\n",
       "                   param_distributions={&#x27;colsample_bylevel&#x27;: array([0.05, 0.1 , 0.15, 0.2 , 0.25, 0.3 , 0.35, 0.4 , 0.45, 0.5 , 0.55,\n",
       "       0.6 , 0.65, 0.7 , 0.75, 0.8 , 0.85, 0.9 , 0.95, 1.  ]),\n",
       "                                        &#x27;depth&#x27;: array([ 1,  2,  3,  4,  5,  6,  7,  8,  9, 10, 11, 12, 13, 14, 15]),\n",
       "                                        &#x27;iterations&#x27;: array([100, 150, 200, 250, 300, 350, 400]),\n",
       "                                        &#x27;le...\n",
       "       0.0379269 , 0.0483293 , 0.06158482, 0.078476  , 0.1       ]),\n",
       "                                        &#x27;min_data_in_leaf&#x27;: array([ 2,  3,  4,  5,  6,  7,  8,  9, 10, 11, 12, 13, 14, 15, 16, 17, 18,\n",
       "       19, 20, 21, 22, 23, 24, 25, 26, 27, 28, 29, 30, 31, 32, 33, 34, 35,\n",
       "       36, 37, 38, 39]),\n",
       "                                        &#x27;subsample&#x27;: array([0.05, 0.1 , 0.15, 0.2 , 0.25, 0.3 , 0.35, 0.4 , 0.45, 0.5 , 0.55,\n",
       "       0.6 , 0.65, 0.7 , 0.75, 0.8 , 0.85, 0.9 , 0.95, 1.  ])},\n",
       "                   random_state=123,\n",
       "                   scoring=make_scorer(fbeta_score, beta=2, average=weighted),\n",
       "                   verbose=False)</pre></div></div></div><div class=\"sk-parallel\"><div class=\"sk-parallel-item\"><div class=\"sk-item\"><div class=\"sk-label-container\"><div class=\"sk-label sk-toggleable\"><input class=\"sk-toggleable__control sk-hidden--visually\" id=\"sk-estimator-id-35\" type=\"checkbox\" ><label for=\"sk-estimator-id-35\" class=\"sk-toggleable__label sk-toggleable__label-arrow\">estimator: CatBoostClassifier</label><div class=\"sk-toggleable__content\"><pre>&lt;catboost.core.CatBoostClassifier object at 0x0000012523484210&gt;</pre></div></div></div><div class=\"sk-serial\"><div class=\"sk-item\"><div class=\"sk-estimator sk-toggleable\"><input class=\"sk-toggleable__control sk-hidden--visually\" id=\"sk-estimator-id-36\" type=\"checkbox\" ><label for=\"sk-estimator-id-36\" class=\"sk-toggleable__label sk-toggleable__label-arrow\">CatBoostClassifier</label><div class=\"sk-toggleable__content\"><pre>&lt;catboost.core.CatBoostClassifier object at 0x0000012523484210&gt;</pre></div></div></div></div></div></div></div></div></div></div>"
      ],
      "text/plain": [
       "RandomizedSearchCV(cv=3,\n",
       "                   estimator=<catboost.core.CatBoostClassifier object at 0x0000012523484210>,\n",
       "                   n_iter=50,\n",
       "                   param_distributions={'colsample_bylevel': array([0.05, 0.1 , 0.15, 0.2 , 0.25, 0.3 , 0.35, 0.4 , 0.45, 0.5 , 0.55,\n",
       "       0.6 , 0.65, 0.7 , 0.75, 0.8 , 0.85, 0.9 , 0.95, 1.  ]),\n",
       "                                        'depth': array([ 1,  2,  3,  4,  5,  6,  7,  8,  9, 10, 11, 12, 13, 14, 15]),\n",
       "                                        'iterations': array([100, 150, 200, 250, 300, 350, 400]),\n",
       "                                        'le...\n",
       "       0.0379269 , 0.0483293 , 0.06158482, 0.078476  , 0.1       ]),\n",
       "                                        'min_data_in_leaf': array([ 2,  3,  4,  5,  6,  7,  8,  9, 10, 11, 12, 13, 14, 15, 16, 17, 18,\n",
       "       19, 20, 21, 22, 23, 24, 25, 26, 27, 28, 29, 30, 31, 32, 33, 34, 35,\n",
       "       36, 37, 38, 39]),\n",
       "                                        'subsample': array([0.05, 0.1 , 0.15, 0.2 , 0.25, 0.3 , 0.35, 0.4 , 0.45, 0.5 , 0.55,\n",
       "       0.6 , 0.65, 0.7 , 0.75, 0.8 , 0.85, 0.9 , 0.95, 1.  ])},\n",
       "                   random_state=123,\n",
       "                   scoring=make_scorer(fbeta_score, beta=2, average=weighted),\n",
       "                   verbose=False)"
      ]
     },
     "execution_count": 83,
     "metadata": {},
     "output_type": "execute_result"
    }
   ],
   "source": [
    "# build a catboost classifier\n",
    "from catboost import CatBoostClassifier\n",
    "\n",
    "# Parameter grid for RandomizedSearchCV\n",
    "param_dist = {\n",
    "    \"iterations\": np.arange(100, 401, 50),\n",
    "    \"learning_rate\": np.logspace(np.log10(1e-3), np.log10(0.1), num=20),\n",
    "    \"depth\": np.arange(1, 16, 1),\n",
    "    \"subsample\": np.linspace(0.05, 1.0, num=20),\n",
    "    \"colsample_bylevel\": np.linspace(0.05, 1.0, num=20),\n",
    "    \"min_data_in_leaf\": np.arange(2, 40, 1)\n",
    "}\n",
    "\n",
    "# CatBoost Classifier\n",
    "catboost_model = CatBoostClassifier(verbose=False, random_state=123, cat_features=categorical_features)\n",
    "\n",
    "# RandomizedSearchCV\n",
    "random_search3 = RandomizedSearchCV(\n",
    "    catboost_model, param_distributions=param_dist, n_iter=50, \n",
    "    scoring=f2_scorer, cv=3, random_state=123, verbose=False\n",
    ")\n",
    "\n",
    "# Fit the model\n",
    "random_search3.fit(X_train, y_train) # 42mins"
   ]
  },
  {
   "cell_type": "code",
   "execution_count": 84,
   "metadata": {},
   "outputs": [
    {
     "name": "stdout",
     "output_type": "stream",
     "text": [
      "{'subsample': 0.15, 'min_data_in_leaf': 16, 'learning_rate': 0.0379269019073225, 'iterations': 150, 'depth': 12, 'colsample_bylevel': 0.9}\n"
     ]
    }
   ],
   "source": [
    "# print the best parameters\n",
    "print(random_search3.best_params_)\n",
    "# predict on the test set\n",
    "y_pred3 = random_search3.predict(X_test)"
   ]
  },
  {
   "cell_type": "markdown",
   "metadata": {},
   "source": [
    "Result"
   ]
  },
  {
   "cell_type": "code",
   "execution_count": 85,
   "metadata": {},
   "outputs": [
    {
     "name": "stdout",
     "output_type": "stream",
     "text": [
      "Train score: 0.7105\n",
      "Test score: 0.7300\n",
      "[[26 18]\n",
      " [12 56]]\n",
      "              precision    recall  f1-score   support\n",
      "\n",
      "           0       0.68      0.59      0.63        44\n",
      "           1       0.76      0.82      0.79        68\n",
      "\n",
      "    accuracy                           0.73       112\n",
      "   macro avg       0.72      0.71      0.71       112\n",
      "weighted avg       0.73      0.73      0.73       112\n",
      "\n"
     ]
    }
   ],
   "source": [
    "# print the train and test scores, confusion matrix, classification report\n",
    "print(f'Train score: {random_search3.best_score_:.4f}')\n",
    "print(f'Test score: {random_search3.score(X_test, y_test):.4f}')\n",
    "print(confusion_matrix(y_test, y_pred3))\n",
    "print(classification_report(y_test, y_pred3))\n"
   ]
  },
  {
   "cell_type": "markdown",
   "metadata": {},
   "source": [
    "### Lightgbm"
   ]
  },
  {
   "cell_type": "code",
   "execution_count": 109,
   "metadata": {},
   "outputs": [],
   "source": [
    "# label encode the Age column\n",
    "from sklearn.preprocessing import LabelEncoder\n",
    "age_le = LabelEncoder()\n",
    "X_train['Age'] = age_le.fit_transform(X_train['Age'])\n",
    "X_test['Age'] = age_le.transform(X_test['Age'])\n",
    "\n",
    "# label encode the Stage Group column\n",
    "stage_le = LabelEncoder()\n",
    "X_train['Grouped Stage'] = stage_le.fit_transform(X_train['Grouped Stage'])\n",
    "X_test['Grouped Stage'] = stage_le.transform(X_test['Grouped Stage'])"
   ]
  },
  {
   "cell_type": "code",
   "execution_count": 113,
   "metadata": {},
   "outputs": [],
   "source": [
    "from optuna.integration.lightgbm import LightGBMTunerCV as lgbtcv\n",
    "from lightgbm import early_stopping\n",
    "import optuna\n",
    "import warnings\n",
    "warnings.filterwarnings('ignore')\n",
    "optuna.logging.set_verbosity(optuna.logging.WARNING)\n",
    "from lightgbm import Dataset as lgbDataset\n",
    "from sklearn.metrics import fbeta_score"
   ]
  },
  {
   "cell_type": "code",
   "execution_count": 114,
   "metadata": {},
   "outputs": [],
   "source": [
    "# Define the custom F2 evaluation function\n",
    "def lgb_f2_eval(preds, data):\n",
    "    labels = data.get_label()\n",
    "    preds = np.round(preds)\n",
    "    return 'lgb_f2_eval', -fbeta_score(labels, preds, beta=2), False  # Return the negative F2 score\n"
   ]
  },
  {
   "cell_type": "code",
   "execution_count": 119,
   "metadata": {},
   "outputs": [
    {
     "name": "stderr",
     "output_type": "stream",
     "text": [
      "feature_fraction, val_score: -0.887135:  14%|#4        | 1/7 [00:00<00:00,  8.07it/s]"
     ]
    },
    {
     "name": "stdout",
     "output_type": "stream",
     "text": [
      "Training until validation scores don't improve for 10 rounds\n",
      "Early stopping, best iteration is:\n",
      "[1]\tcv_agg's valid lgb_f2_eval: -0.887135 + 0.00231317\n",
      "Training until validation scores don't improve for 10 rounds\n"
     ]
    },
    {
     "name": "stderr",
     "output_type": "stream",
     "text": [
      "feature_fraction, val_score: -0.887135:  43%|####2     | 3/7 [00:00<00:00,  7.74it/s]"
     ]
    },
    {
     "name": "stdout",
     "output_type": "stream",
     "text": [
      "Early stopping, best iteration is:\n",
      "[1]\tcv_agg's valid lgb_f2_eval: -0.887135 + 0.00231317\n",
      "Training until validation scores don't improve for 10 rounds\n",
      "Early stopping, best iteration is:\n",
      "[1]\tcv_agg's valid lgb_f2_eval: -0.887135 + 0.00231317\n",
      "Training until validation scores don't improve for 10 rounds\n"
     ]
    },
    {
     "name": "stderr",
     "output_type": "stream",
     "text": [
      "feature_fraction, val_score: -0.887135:  71%|#######1  | 5/7 [00:00<00:00,  7.67it/s]"
     ]
    },
    {
     "name": "stdout",
     "output_type": "stream",
     "text": [
      "Early stopping, best iteration is:\n",
      "[1]\tcv_agg's valid lgb_f2_eval: -0.887135 + 0.00231317\n",
      "Training until validation scores don't improve for 10 rounds\n",
      "Early stopping, best iteration is:\n",
      "[1]\tcv_agg's valid lgb_f2_eval: -0.887135 + 0.00231317\n",
      "Training until validation scores don't improve for 10 rounds\n"
     ]
    },
    {
     "name": "stderr",
     "output_type": "stream",
     "text": [
      "feature_fraction, val_score: -0.887135: 100%|##########| 7/7 [00:00<00:00,  7.71it/s]\n"
     ]
    },
    {
     "name": "stdout",
     "output_type": "stream",
     "text": [
      "Early stopping, best iteration is:\n",
      "[1]\tcv_agg's valid lgb_f2_eval: -0.887135 + 0.00231317\n",
      "Training until validation scores don't improve for 10 rounds\n",
      "Early stopping, best iteration is:\n",
      "[1]\tcv_agg's valid lgb_f2_eval: -0.887135 + 0.00231317\n"
     ]
    },
    {
     "name": "stderr",
     "output_type": "stream",
     "text": [
      "num_leaves, val_score: -0.887135:   0%|          | 0/20 [00:00<?, ?it/s]"
     ]
    },
    {
     "name": "stdout",
     "output_type": "stream",
     "text": [
      "Training until validation scores don't improve for 10 rounds\n"
     ]
    },
    {
     "name": "stderr",
     "output_type": "stream",
     "text": [
      "num_leaves, val_score: -0.887135:   5%|5         | 1/20 [00:00<00:02,  8.17it/s]"
     ]
    },
    {
     "name": "stdout",
     "output_type": "stream",
     "text": [
      "Early stopping, best iteration is:\n",
      "[1]\tcv_agg's valid lgb_f2_eval: -0.887135 + 0.00231317\n",
      "Training until validation scores don't improve for 10 rounds\n"
     ]
    },
    {
     "name": "stderr",
     "output_type": "stream",
     "text": [
      "num_leaves, val_score: -0.887135:  10%|#         | 2/20 [00:00<00:02,  7.55it/s]"
     ]
    },
    {
     "name": "stdout",
     "output_type": "stream",
     "text": [
      "Early stopping, best iteration is:\n",
      "[1]\tcv_agg's valid lgb_f2_eval: -0.887135 + 0.00231317\n",
      "Training until validation scores don't improve for 10 rounds\n"
     ]
    },
    {
     "name": "stderr",
     "output_type": "stream",
     "text": [
      "num_leaves, val_score: -0.887135:  15%|#5        | 3/20 [00:00<00:02,  7.44it/s]"
     ]
    },
    {
     "name": "stdout",
     "output_type": "stream",
     "text": [
      "Early stopping, best iteration is:\n",
      "[1]\tcv_agg's valid lgb_f2_eval: -0.887135 + 0.00231317\n",
      "Training until validation scores don't improve for 10 rounds\n"
     ]
    },
    {
     "name": "stderr",
     "output_type": "stream",
     "text": [
      "num_leaves, val_score: -0.887135:  20%|##        | 4/20 [00:00<00:02,  7.62it/s]"
     ]
    },
    {
     "name": "stdout",
     "output_type": "stream",
     "text": [
      "Early stopping, best iteration is:\n",
      "[1]\tcv_agg's valid lgb_f2_eval: -0.887135 + 0.00231317\n",
      "Training until validation scores don't improve for 10 rounds\n"
     ]
    },
    {
     "name": "stderr",
     "output_type": "stream",
     "text": [
      "num_leaves, val_score: -0.887135:  25%|##5       | 5/20 [00:00<00:01,  8.09it/s]"
     ]
    },
    {
     "name": "stdout",
     "output_type": "stream",
     "text": [
      "Early stopping, best iteration is:\n",
      "[1]\tcv_agg's valid lgb_f2_eval: -0.887135 + 0.00231317\n",
      "Training until validation scores don't improve for 10 rounds\n"
     ]
    },
    {
     "name": "stderr",
     "output_type": "stream",
     "text": [
      "num_leaves, val_score: -0.887135:  30%|###       | 6/20 [00:00<00:01,  7.73it/s]"
     ]
    },
    {
     "name": "stdout",
     "output_type": "stream",
     "text": [
      "Early stopping, best iteration is:\n",
      "[1]\tcv_agg's valid lgb_f2_eval: -0.887135 + 0.00231317\n",
      "Training until validation scores don't improve for 10 rounds\n"
     ]
    },
    {
     "name": "stderr",
     "output_type": "stream",
     "text": [
      "num_leaves, val_score: -0.887135:  35%|###5      | 7/20 [00:00<00:01,  7.34it/s]"
     ]
    },
    {
     "name": "stdout",
     "output_type": "stream",
     "text": [
      "Early stopping, best iteration is:\n",
      "[1]\tcv_agg's valid lgb_f2_eval: -0.887135 + 0.00231317\n",
      "Training until validation scores don't improve for 10 rounds\n"
     ]
    },
    {
     "name": "stderr",
     "output_type": "stream",
     "text": [
      "num_leaves, val_score: -0.887135:  40%|####      | 8/20 [00:01<00:01,  7.37it/s]"
     ]
    },
    {
     "name": "stdout",
     "output_type": "stream",
     "text": [
      "Early stopping, best iteration is:\n",
      "[1]\tcv_agg's valid lgb_f2_eval: -0.887135 + 0.00231317\n",
      "Training until validation scores don't improve for 10 rounds\n"
     ]
    },
    {
     "name": "stderr",
     "output_type": "stream",
     "text": [
      "num_leaves, val_score: -0.887135:  45%|####5     | 9/20 [00:01<00:01,  7.76it/s]"
     ]
    },
    {
     "name": "stdout",
     "output_type": "stream",
     "text": [
      "Early stopping, best iteration is:\n",
      "[1]\tcv_agg's valid lgb_f2_eval: -0.887135 + 0.00231317\n",
      "Training until validation scores don't improve for 10 rounds\n"
     ]
    },
    {
     "name": "stderr",
     "output_type": "stream",
     "text": [
      "num_leaves, val_score: -0.887135:  50%|#####     | 10/20 [00:01<00:01,  7.68it/s]"
     ]
    },
    {
     "name": "stdout",
     "output_type": "stream",
     "text": [
      "Early stopping, best iteration is:\n",
      "[1]\tcv_agg's valid lgb_f2_eval: -0.887135 + 0.00231317\n",
      "Training until validation scores don't improve for 10 rounds\n"
     ]
    },
    {
     "name": "stderr",
     "output_type": "stream",
     "text": [
      "num_leaves, val_score: -0.887135:  55%|#####5    | 11/20 [00:01<00:01,  7.82it/s]"
     ]
    },
    {
     "name": "stdout",
     "output_type": "stream",
     "text": [
      "Early stopping, best iteration is:\n",
      "[1]\tcv_agg's valid lgb_f2_eval: -0.887135 + 0.00231317\n",
      "Training until validation scores don't improve for 10 rounds\n"
     ]
    },
    {
     "name": "stderr",
     "output_type": "stream",
     "text": [
      "num_leaves, val_score: -0.887135:  60%|######    | 12/20 [00:01<00:01,  7.83it/s]"
     ]
    },
    {
     "name": "stdout",
     "output_type": "stream",
     "text": [
      "Early stopping, best iteration is:\n",
      "[1]\tcv_agg's valid lgb_f2_eval: -0.887135 + 0.00231317\n",
      "Training until validation scores don't improve for 10 rounds\n"
     ]
    },
    {
     "name": "stderr",
     "output_type": "stream",
     "text": [
      "num_leaves, val_score: -0.887135:  65%|######5   | 13/20 [00:01<00:00,  7.57it/s]"
     ]
    },
    {
     "name": "stdout",
     "output_type": "stream",
     "text": [
      "Early stopping, best iteration is:\n",
      "[1]\tcv_agg's valid lgb_f2_eval: -0.887135 + 0.00231317\n",
      "Training until validation scores don't improve for 10 rounds\n"
     ]
    },
    {
     "name": "stderr",
     "output_type": "stream",
     "text": [
      "num_leaves, val_score: -0.887135:  70%|#######   | 14/20 [00:01<00:00,  7.23it/s]"
     ]
    },
    {
     "name": "stdout",
     "output_type": "stream",
     "text": [
      "Early stopping, best iteration is:\n",
      "[1]\tcv_agg's valid lgb_f2_eval: -0.887135 + 0.00231317\n",
      "Training until validation scores don't improve for 10 rounds\n"
     ]
    },
    {
     "name": "stderr",
     "output_type": "stream",
     "text": [
      "num_leaves, val_score: -0.887135:  75%|#######5  | 15/20 [00:02<00:00,  7.09it/s]"
     ]
    },
    {
     "name": "stdout",
     "output_type": "stream",
     "text": [
      "Early stopping, best iteration is:\n",
      "[1]\tcv_agg's valid lgb_f2_eval: -0.887135 + 0.00231317\n",
      "Training until validation scores don't improve for 10 rounds\n"
     ]
    },
    {
     "name": "stderr",
     "output_type": "stream",
     "text": [
      "num_leaves, val_score: -0.887135:  80%|########  | 16/20 [00:02<00:00,  7.26it/s]"
     ]
    },
    {
     "name": "stdout",
     "output_type": "stream",
     "text": [
      "Early stopping, best iteration is:\n",
      "[1]\tcv_agg's valid lgb_f2_eval: -0.887135 + 0.00231317\n",
      "Training until validation scores don't improve for 10 rounds\n"
     ]
    },
    {
     "name": "stderr",
     "output_type": "stream",
     "text": [
      "num_leaves, val_score: -0.887135:  85%|########5 | 17/20 [00:02<00:00,  7.37it/s]"
     ]
    },
    {
     "name": "stdout",
     "output_type": "stream",
     "text": [
      "Early stopping, best iteration is:\n",
      "[1]\tcv_agg's valid lgb_f2_eval: -0.887135 + 0.00231317\n",
      "Training until validation scores don't improve for 10 rounds\n"
     ]
    },
    {
     "name": "stderr",
     "output_type": "stream",
     "text": [
      "num_leaves, val_score: -0.887135:  90%|######### | 18/20 [00:02<00:00,  7.45it/s]"
     ]
    },
    {
     "name": "stdout",
     "output_type": "stream",
     "text": [
      "Early stopping, best iteration is:\n",
      "[1]\tcv_agg's valid lgb_f2_eval: -0.887135 + 0.00231317\n",
      "Training until validation scores don't improve for 10 rounds\n"
     ]
    },
    {
     "name": "stderr",
     "output_type": "stream",
     "text": [
      "num_leaves, val_score: -0.887135:  95%|#########5| 19/20 [00:02<00:00,  7.29it/s]"
     ]
    },
    {
     "name": "stdout",
     "output_type": "stream",
     "text": [
      "Early stopping, best iteration is:\n",
      "[1]\tcv_agg's valid lgb_f2_eval: -0.887135 + 0.00231317\n",
      "Training until validation scores don't improve for 10 rounds\n"
     ]
    },
    {
     "name": "stderr",
     "output_type": "stream",
     "text": [
      "num_leaves, val_score: -0.887135: 100%|##########| 20/20 [00:02<00:00,  7.51it/s]\n"
     ]
    },
    {
     "name": "stdout",
     "output_type": "stream",
     "text": [
      "Early stopping, best iteration is:\n",
      "[1]\tcv_agg's valid lgb_f2_eval: -0.887135 + 0.00231317\n"
     ]
    },
    {
     "name": "stderr",
     "output_type": "stream",
     "text": [
      "bagging, val_score: -0.887135:   0%|          | 0/10 [00:00<?, ?it/s]"
     ]
    },
    {
     "name": "stdout",
     "output_type": "stream",
     "text": [
      "Training until validation scores don't improve for 10 rounds\n"
     ]
    },
    {
     "name": "stderr",
     "output_type": "stream",
     "text": [
      "bagging, val_score: -0.888294:  10%|#         | 1/10 [00:00<00:01,  6.57it/s]"
     ]
    },
    {
     "name": "stdout",
     "output_type": "stream",
     "text": [
      "Early stopping, best iteration is:\n",
      "[3]\tcv_agg's valid lgb_f2_eval: -0.888294 + 0.00415925\n",
      "Training until validation scores don't improve for 10 rounds\n"
     ]
    },
    {
     "name": "stderr",
     "output_type": "stream",
     "text": [
      "bagging, val_score: -0.888294:  20%|##        | 2/10 [00:00<00:01,  7.32it/s]"
     ]
    },
    {
     "name": "stdout",
     "output_type": "stream",
     "text": [
      "Early stopping, best iteration is:\n",
      "[1]\tcv_agg's valid lgb_f2_eval: -0.887135 + 0.00231317\n",
      "Training until validation scores don't improve for 10 rounds\n"
     ]
    },
    {
     "name": "stderr",
     "output_type": "stream",
     "text": [
      "bagging, val_score: -0.888294:  30%|###       | 3/10 [00:00<00:00,  7.76it/s]"
     ]
    },
    {
     "name": "stdout",
     "output_type": "stream",
     "text": [
      "Early stopping, best iteration is:\n",
      "[1]\tcv_agg's valid lgb_f2_eval: -0.887135 + 0.00231317\n",
      "Training until validation scores don't improve for 10 rounds\n"
     ]
    },
    {
     "name": "stderr",
     "output_type": "stream",
     "text": [
      "bagging, val_score: -0.888294:  40%|####      | 4/10 [00:00<00:00,  7.03it/s]"
     ]
    },
    {
     "name": "stdout",
     "output_type": "stream",
     "text": [
      "Early stopping, best iteration is:\n",
      "[1]\tcv_agg's valid lgb_f2_eval: -0.887135 + 0.00231317\n",
      "Training until validation scores don't improve for 10 rounds\n"
     ]
    },
    {
     "name": "stderr",
     "output_type": "stream",
     "text": [
      "bagging, val_score: -0.888294:  50%|#####     | 5/10 [00:00<00:00,  7.31it/s]"
     ]
    },
    {
     "name": "stdout",
     "output_type": "stream",
     "text": [
      "Early stopping, best iteration is:\n",
      "[1]\tcv_agg's valid lgb_f2_eval: -0.887135 + 0.00231317\n",
      "Training until validation scores don't improve for 10 rounds\n"
     ]
    },
    {
     "name": "stderr",
     "output_type": "stream",
     "text": [
      "bagging, val_score: -0.888294:  60%|######    | 6/10 [00:00<00:00,  7.79it/s]"
     ]
    },
    {
     "name": "stdout",
     "output_type": "stream",
     "text": [
      "Early stopping, best iteration is:\n",
      "[1]\tcv_agg's valid lgb_f2_eval: -0.887135 + 0.00231317\n",
      "Training until validation scores don't improve for 10 rounds\n"
     ]
    },
    {
     "name": "stderr",
     "output_type": "stream",
     "text": [
      "bagging, val_score: -0.888294:  70%|#######   | 7/10 [00:00<00:00,  7.83it/s]"
     ]
    },
    {
     "name": "stdout",
     "output_type": "stream",
     "text": [
      "Early stopping, best iteration is:\n",
      "[1]\tcv_agg's valid lgb_f2_eval: -0.887135 + 0.00231317\n",
      "Training until validation scores don't improve for 10 rounds\n"
     ]
    },
    {
     "name": "stderr",
     "output_type": "stream",
     "text": [
      "bagging, val_score: -0.888294:  80%|########  | 8/10 [00:01<00:00,  7.50it/s]"
     ]
    },
    {
     "name": "stdout",
     "output_type": "stream",
     "text": [
      "Early stopping, best iteration is:\n",
      "[1]\tcv_agg's valid lgb_f2_eval: -0.887135 + 0.00231317\n",
      "Training until validation scores don't improve for 10 rounds\n"
     ]
    },
    {
     "name": "stderr",
     "output_type": "stream",
     "text": [
      "bagging, val_score: -0.888294:  90%|######### | 9/10 [00:01<00:00,  7.59it/s]"
     ]
    },
    {
     "name": "stdout",
     "output_type": "stream",
     "text": [
      "Early stopping, best iteration is:\n",
      "[1]\tcv_agg's valid lgb_f2_eval: -0.887135 + 0.00231317\n",
      "Training until validation scores don't improve for 10 rounds\n"
     ]
    },
    {
     "name": "stderr",
     "output_type": "stream",
     "text": [
      "bagging, val_score: -0.888294: 100%|##########| 10/10 [00:01<00:00,  7.50it/s]\n"
     ]
    },
    {
     "name": "stdout",
     "output_type": "stream",
     "text": [
      "Early stopping, best iteration is:\n",
      "[1]\tcv_agg's valid lgb_f2_eval: -0.887135 + 0.00231317\n"
     ]
    },
    {
     "name": "stderr",
     "output_type": "stream",
     "text": [
      "feature_fraction_stage2, val_score: -0.888294:   0%|          | 0/6 [00:00<?, ?it/s]"
     ]
    },
    {
     "name": "stdout",
     "output_type": "stream",
     "text": [
      "Training until validation scores don't improve for 10 rounds\n"
     ]
    },
    {
     "name": "stderr",
     "output_type": "stream",
     "text": [
      "feature_fraction_stage2, val_score: -0.888294:  17%|#6        | 1/6 [00:00<00:00,  6.51it/s]"
     ]
    },
    {
     "name": "stdout",
     "output_type": "stream",
     "text": [
      "Early stopping, best iteration is:\n",
      "[3]\tcv_agg's valid lgb_f2_eval: -0.888294 + 0.00415925\n",
      "Training until validation scores don't improve for 10 rounds\n"
     ]
    },
    {
     "name": "stderr",
     "output_type": "stream",
     "text": [
      "feature_fraction_stage2, val_score: -0.888294:  33%|###3      | 2/6 [00:00<00:00,  6.54it/s]"
     ]
    },
    {
     "name": "stdout",
     "output_type": "stream",
     "text": [
      "Early stopping, best iteration is:\n",
      "[1]\tcv_agg's valid lgb_f2_eval: -0.887135 + 0.00231317\n",
      "Training until validation scores don't improve for 10 rounds\n"
     ]
    },
    {
     "name": "stderr",
     "output_type": "stream",
     "text": [
      "feature_fraction_stage2, val_score: -0.888294:  50%|#####     | 3/6 [00:00<00:00,  6.87it/s]"
     ]
    },
    {
     "name": "stdout",
     "output_type": "stream",
     "text": [
      "Early stopping, best iteration is:\n",
      "[1]\tcv_agg's valid lgb_f2_eval: -0.887135 + 0.00231317\n",
      "Training until validation scores don't improve for 10 rounds\n"
     ]
    },
    {
     "name": "stderr",
     "output_type": "stream",
     "text": [
      "feature_fraction_stage2, val_score: -0.888294:  67%|######6   | 4/6 [00:00<00:00,  6.65it/s]"
     ]
    },
    {
     "name": "stdout",
     "output_type": "stream",
     "text": [
      "Early stopping, best iteration is:\n",
      "[3]\tcv_agg's valid lgb_f2_eval: -0.888294 + 0.00415925\n",
      "Training until validation scores don't improve for 10 rounds\n"
     ]
    },
    {
     "name": "stderr",
     "output_type": "stream",
     "text": [
      "feature_fraction_stage2, val_score: -0.888294:  83%|########3 | 5/6 [00:00<00:00,  6.95it/s]"
     ]
    },
    {
     "name": "stdout",
     "output_type": "stream",
     "text": [
      "Early stopping, best iteration is:\n",
      "[1]\tcv_agg's valid lgb_f2_eval: -0.887135 + 0.00231317\n",
      "Training until validation scores don't improve for 10 rounds\n"
     ]
    },
    {
     "name": "stderr",
     "output_type": "stream",
     "text": [
      "feature_fraction_stage2, val_score: -0.888294: 100%|##########| 6/6 [00:00<00:00,  6.54it/s]"
     ]
    },
    {
     "name": "stdout",
     "output_type": "stream",
     "text": [
      "Early stopping, best iteration is:\n",
      "[3]\tcv_agg's valid lgb_f2_eval: -0.888294 + 0.00415925\n"
     ]
    },
    {
     "name": "stderr",
     "output_type": "stream",
     "text": [
      "\n",
      "regularization_factors, val_score: -0.888294:   5%|5         | 1/20 [00:00<00:03,  6.21it/s]"
     ]
    },
    {
     "name": "stdout",
     "output_type": "stream",
     "text": [
      "Training until validation scores don't improve for 10 rounds\n",
      "Early stopping, best iteration is:\n",
      "[3]\tcv_agg's valid lgb_f2_eval: -0.888294 + 0.00415925\n",
      "Training until validation scores don't improve for 10 rounds\n"
     ]
    },
    {
     "name": "stderr",
     "output_type": "stream",
     "text": [
      "regularization_factors, val_score: -0.888294:  10%|#         | 2/20 [00:00<00:03,  5.81it/s]"
     ]
    },
    {
     "name": "stdout",
     "output_type": "stream",
     "text": [
      "Early stopping, best iteration is:\n",
      "[3]\tcv_agg's valid lgb_f2_eval: -0.888294 + 0.00415925\n",
      "Training until validation scores don't improve for 10 rounds\n"
     ]
    },
    {
     "name": "stderr",
     "output_type": "stream",
     "text": [
      "regularization_factors, val_score: -0.888294:  15%|#5        | 3/20 [00:00<00:02,  6.72it/s]"
     ]
    },
    {
     "name": "stdout",
     "output_type": "stream",
     "text": [
      "Early stopping, best iteration is:\n",
      "[1]\tcv_agg's valid lgb_f2_eval: -0.887135 + 0.00231317\n",
      "Training until validation scores don't improve for 10 rounds\n"
     ]
    },
    {
     "name": "stderr",
     "output_type": "stream",
     "text": [
      "regularization_factors, val_score: -0.888294:  20%|##        | 4/20 [00:00<00:02,  7.13it/s]"
     ]
    },
    {
     "name": "stdout",
     "output_type": "stream",
     "text": [
      "Early stopping, best iteration is:\n",
      "[1]\tcv_agg's valid lgb_f2_eval: -0.887135 + 0.00231317\n",
      "Training until validation scores don't improve for 10 rounds\n"
     ]
    },
    {
     "name": "stderr",
     "output_type": "stream",
     "text": [
      "regularization_factors, val_score: -0.888294:  25%|##5       | 5/20 [00:00<00:02,  6.61it/s]"
     ]
    },
    {
     "name": "stdout",
     "output_type": "stream",
     "text": [
      "Early stopping, best iteration is:\n",
      "[3]\tcv_agg's valid lgb_f2_eval: -0.888294 + 0.00415925\n"
     ]
    },
    {
     "name": "stderr",
     "output_type": "stream",
     "text": [
      "regularization_factors, val_score: -0.888294:  30%|###       | 6/20 [00:00<00:02,  6.39it/s]"
     ]
    },
    {
     "name": "stdout",
     "output_type": "stream",
     "text": [
      "Training until validation scores don't improve for 10 rounds\n",
      "Early stopping, best iteration is:\n",
      "[3]\tcv_agg's valid lgb_f2_eval: -0.888294 + 0.00415925\n",
      "Training until validation scores don't improve for 10 rounds\n"
     ]
    },
    {
     "name": "stderr",
     "output_type": "stream",
     "text": [
      "regularization_factors, val_score: -0.888294:  35%|###5      | 7/20 [00:01<00:02,  6.47it/s]"
     ]
    },
    {
     "name": "stdout",
     "output_type": "stream",
     "text": [
      "Early stopping, best iteration is:\n",
      "[3]\tcv_agg's valid lgb_f2_eval: -0.888294 + 0.00415925\n",
      "Training until validation scores don't improve for 10 rounds\n"
     ]
    },
    {
     "name": "stderr",
     "output_type": "stream",
     "text": [
      "regularization_factors, val_score: -0.888294:  40%|####      | 8/20 [00:01<00:01,  7.04it/s]"
     ]
    },
    {
     "name": "stdout",
     "output_type": "stream",
     "text": [
      "Early stopping, best iteration is:\n",
      "[1]\tcv_agg's valid lgb_f2_eval: -0.887135 + 0.00231317\n",
      "Training until validation scores don't improve for 10 rounds\n"
     ]
    },
    {
     "name": "stderr",
     "output_type": "stream",
     "text": [
      "regularization_factors, val_score: -0.888294:  45%|####5     | 9/20 [00:01<00:01,  6.76it/s]"
     ]
    },
    {
     "name": "stdout",
     "output_type": "stream",
     "text": [
      "Early stopping, best iteration is:\n",
      "[3]\tcv_agg's valid lgb_f2_eval: -0.888294 + 0.00415925\n",
      "Training until validation scores don't improve for 10 rounds\n"
     ]
    },
    {
     "name": "stderr",
     "output_type": "stream",
     "text": [
      "regularization_factors, val_score: -0.888294:  50%|#####     | 10/20 [00:01<00:01,  6.88it/s]"
     ]
    },
    {
     "name": "stdout",
     "output_type": "stream",
     "text": [
      "Early stopping, best iteration is:\n",
      "[3]\tcv_agg's valid lgb_f2_eval: -0.888294 + 0.00415925\n",
      "Training until validation scores don't improve for 10 rounds\n"
     ]
    },
    {
     "name": "stderr",
     "output_type": "stream",
     "text": [
      "regularization_factors, val_score: -0.888294:  55%|#####5    | 11/20 [00:01<00:01,  6.91it/s]"
     ]
    },
    {
     "name": "stdout",
     "output_type": "stream",
     "text": [
      "Early stopping, best iteration is:\n",
      "[3]\tcv_agg's valid lgb_f2_eval: -0.888294 + 0.00415925\n",
      "Training until validation scores don't improve for 10 rounds\n"
     ]
    },
    {
     "name": "stderr",
     "output_type": "stream",
     "text": [
      "regularization_factors, val_score: -0.888294:  60%|######    | 12/20 [00:01<00:01,  6.83it/s]"
     ]
    },
    {
     "name": "stdout",
     "output_type": "stream",
     "text": [
      "Early stopping, best iteration is:\n",
      "[3]\tcv_agg's valid lgb_f2_eval: -0.888294 + 0.00415925\n",
      "Training until validation scores don't improve for 10 rounds\n"
     ]
    },
    {
     "name": "stderr",
     "output_type": "stream",
     "text": [
      "regularization_factors, val_score: -0.888294:  65%|######5   | 13/20 [00:01<00:01,  6.70it/s]"
     ]
    },
    {
     "name": "stdout",
     "output_type": "stream",
     "text": [
      "Early stopping, best iteration is:\n",
      "[3]\tcv_agg's valid lgb_f2_eval: -0.888294 + 0.00415925\n"
     ]
    },
    {
     "name": "stderr",
     "output_type": "stream",
     "text": [
      "regularization_factors, val_score: -0.888294:  65%|######5   | 13/20 [00:02<00:01,  6.70it/s]"
     ]
    },
    {
     "name": "stdout",
     "output_type": "stream",
     "text": [
      "Training until validation scores don't improve for 10 rounds\n",
      "Early stopping, best iteration is:\n",
      "[1]\tcv_agg's valid lgb_f2_eval: -0.887135 + 0.00231317\n"
     ]
    },
    {
     "name": "stderr",
     "output_type": "stream",
     "text": [
      "regularization_factors, val_score: -0.888294:  70%|#######   | 14/20 [00:02<00:00,  6.26it/s]"
     ]
    },
    {
     "name": "stdout",
     "output_type": "stream",
     "text": [
      "Training until validation scores don't improve for 10 rounds\n"
     ]
    },
    {
     "name": "stderr",
     "output_type": "stream",
     "text": [
      "regularization_factors, val_score: -0.888294:  75%|#######5  | 15/20 [00:02<00:00,  6.35it/s]"
     ]
    },
    {
     "name": "stdout",
     "output_type": "stream",
     "text": [
      "Early stopping, best iteration is:\n",
      "[3]\tcv_agg's valid lgb_f2_eval: -0.888294 + 0.00415925\n",
      "Training until validation scores don't improve for 10 rounds\n"
     ]
    },
    {
     "name": "stderr",
     "output_type": "stream",
     "text": [
      "regularization_factors, val_score: -0.888294:  80%|########  | 16/20 [00:02<00:00,  6.53it/s]"
     ]
    },
    {
     "name": "stdout",
     "output_type": "stream",
     "text": [
      "Early stopping, best iteration is:\n",
      "[1]\tcv_agg's valid lgb_f2_eval: -0.887135 + 0.00231317\n",
      "Training until validation scores don't improve for 10 rounds\n"
     ]
    },
    {
     "name": "stderr",
     "output_type": "stream",
     "text": [
      "regularization_factors, val_score: -0.888294:  85%|########5 | 17/20 [00:02<00:00,  6.40it/s]"
     ]
    },
    {
     "name": "stdout",
     "output_type": "stream",
     "text": [
      "Early stopping, best iteration is:\n",
      "[3]\tcv_agg's valid lgb_f2_eval: -0.888294 + 0.00415925\n"
     ]
    },
    {
     "name": "stderr",
     "output_type": "stream",
     "text": [
      "regularization_factors, val_score: -0.888294:  90%|######### | 18/20 [00:02<00:00,  6.33it/s]"
     ]
    },
    {
     "name": "stdout",
     "output_type": "stream",
     "text": [
      "Training until validation scores don't improve for 10 rounds\n",
      "Early stopping, best iteration is:\n",
      "[3]\tcv_agg's valid lgb_f2_eval: -0.888294 + 0.00415925\n",
      "Training until validation scores don't improve for 10 rounds\n"
     ]
    },
    {
     "name": "stderr",
     "output_type": "stream",
     "text": [
      "regularization_factors, val_score: -0.888294: 100%|##########| 20/20 [00:03<00:00,  6.52it/s]\n"
     ]
    },
    {
     "name": "stdout",
     "output_type": "stream",
     "text": [
      "Early stopping, best iteration is:\n",
      "[3]\tcv_agg's valid lgb_f2_eval: -0.888294 + 0.00415925\n",
      "Training until validation scores don't improve for 10 rounds\n",
      "Early stopping, best iteration is:\n",
      "[3]\tcv_agg's valid lgb_f2_eval: -0.888294 + 0.00415925\n"
     ]
    },
    {
     "name": "stderr",
     "output_type": "stream",
     "text": [
      "min_child_samples, val_score: -0.888294:   0%|          | 0/5 [00:00<?, ?it/s]"
     ]
    },
    {
     "name": "stdout",
     "output_type": "stream",
     "text": [
      "Training until validation scores don't improve for 10 rounds\n"
     ]
    },
    {
     "name": "stderr",
     "output_type": "stream",
     "text": [
      "min_child_samples, val_score: -0.888294:  20%|##        | 1/5 [00:00<00:00,  8.78it/s]"
     ]
    },
    {
     "name": "stdout",
     "output_type": "stream",
     "text": [
      "Early stopping, best iteration is:\n",
      "[1]\tcv_agg's valid lgb_f2_eval: -0.887135 + 0.00231317\n",
      "Training until validation scores don't improve for 10 rounds\n",
      "Early stopping, best iteration is:\n",
      "[1]\tcv_agg's valid lgb_f2_eval: -0.887135 + 0.00231317\n"
     ]
    },
    {
     "name": "stderr",
     "output_type": "stream",
     "text": [
      "min_child_samples, val_score: -0.888294:  40%|####      | 2/5 [00:00<00:00,  9.05it/s]"
     ]
    },
    {
     "name": "stdout",
     "output_type": "stream",
     "text": [
      "Training until validation scores don't improve for 10 rounds\n"
     ]
    },
    {
     "name": "stderr",
     "output_type": "stream",
     "text": [
      "min_child_samples, val_score: -0.888294:  60%|######    | 3/5 [00:00<00:00,  6.59it/s]"
     ]
    },
    {
     "name": "stdout",
     "output_type": "stream",
     "text": [
      "Early stopping, best iteration is:\n",
      "[1]\tcv_agg's valid lgb_f2_eval: -0.887135 + 0.00231317\n",
      "Training until validation scores don't improve for 10 rounds\n"
     ]
    },
    {
     "name": "stderr",
     "output_type": "stream",
     "text": [
      "min_child_samples, val_score: -0.888294:  80%|########  | 4/5 [00:00<00:00,  6.59it/s]"
     ]
    },
    {
     "name": "stdout",
     "output_type": "stream",
     "text": [
      "Early stopping, best iteration is:\n",
      "[1]\tcv_agg's valid lgb_f2_eval: -0.887135 + 0.00231317\n",
      "Training until validation scores don't improve for 10 rounds\n"
     ]
    },
    {
     "name": "stderr",
     "output_type": "stream",
     "text": [
      "min_child_samples, val_score: -0.888294: 100%|##########| 5/5 [00:00<00:00,  7.21it/s]"
     ]
    },
    {
     "name": "stdout",
     "output_type": "stream",
     "text": [
      "Early stopping, best iteration is:\n",
      "[3]\tcv_agg's valid lgb_f2_eval: -0.888068 + 0.010144\n"
     ]
    },
    {
     "name": "stderr",
     "output_type": "stream",
     "text": [
      "\n"
     ]
    }
   ],
   "source": [
    "# Parameters for LightGBM for multiclass classification\n",
    "params = {\n",
    "    \"objective\": \"binary\",  # Objective for multiclass classification\n",
    "    \"metric\": \"lgb_f2_eval\",  # Use custom metric\n",
    "    \"boosting_type\": \"gbdt\",\n",
    "    \"verbosity\": -1,\n",
    "}\n",
    "\n",
    "# Create LightGBM dataset (assuming X1_a_train and y1_a_train are defined)\n",
    "dtrain = lgbDataset(X_train, label=y_train, categorical_feature=categorical_features)\n",
    "\n",
    "# Create an Optuna study object\n",
    "study_auto_lgb = optuna.create_study(direction='minimize', study_name='LightGBM Tuner CV for Survival Months')\n",
    "\n",
    "# Perform cross-validation with Optuna\n",
    "auto_lgb_tuner = lgbtcv(\n",
    "    params=params, \n",
    "    train_set=dtrain,  \n",
    "    num_boost_round=200,  # Number of boosting iterations\n",
    "    nfold=5,  \n",
    "    stratified=True,  # Perform stratified sampling\n",
    "    seed=123,  # Fix random seed for reproducibility of cv\n",
    "    optuna_seed=123,  # Fix random seed for reproducibility of optuna trials\n",
    "    shuffle=True,  # Shuffle data before creating folds\n",
    "    callbacks=[early_stopping(10)],\n",
    "    study=study_auto_lgb,\n",
    "    feval=lgb_f2_eval\n",
    ")\n",
    "\n",
    "auto_lgb_tuner.run()\n"
   ]
  },
  {
   "cell_type": "markdown",
   "metadata": {},
   "source": [
    "Result"
   ]
  },
  {
   "cell_type": "code",
   "execution_count": 120,
   "metadata": {},
   "outputs": [
    {
     "name": "stdout",
     "output_type": "stream",
     "text": [
      "Best trial parameters: {'objective': 'binary', 'metric': 'lgb_f2_eval', 'boosting_type': 'gbdt', 'verbosity': -1, 'feature_pre_filter': False, 'lambda_l1': 0.0, 'lambda_l2': 0.0, 'num_leaves': 31, 'feature_fraction': 0.5, 'bagging_fraction': 0.8290966202970955, 'bagging_freq': 5, 'min_child_samples': 20}\n",
      "Train score: 0.888294162954238\n",
      "Test score: 0.7765833003349574\n",
      "[[31 13]\n",
      " [12 56]]\n",
      "              precision    recall  f1-score   support\n",
      "\n",
      "           0       0.72      0.70      0.71        44\n",
      "           1       0.81      0.82      0.82        68\n",
      "\n",
      "    accuracy                           0.78       112\n",
      "   macro avg       0.77      0.76      0.77       112\n",
      "weighted avg       0.78      0.78      0.78       112\n",
      "\n"
     ]
    }
   ],
   "source": [
    "import lightgbm as lgb\n",
    "# print the best trial's parameters and fit model with the best parameters\n",
    "print(f'Best trial parameters: {auto_lgb_tuner.best_params}')\n",
    "\n",
    "# predict on the test set\n",
    "auto_params = auto_lgb_tuner.best_params\n",
    "auto_best_lgb_model = lgb.LGBMClassifier(**auto_params, random_state=123)\n",
    "auto_best_lgb_model.fit(X_train, y_train, categorical_feature=categorical_features)\n",
    "\n",
    "# print the train and test scores, confusion matrix, classification report\n",
    "print(f'Train score: {-auto_lgb_tuner.best_score}')\n",
    "print(f'Test score: {fbeta_score(y_test, y_pred, beta=2, average=\"weighted\")}')\n",
    "print(confusion_matrix(y_test, y_pred))\n",
    "print(classification_report(y_test, y_pred))"
   ]
  },
  {
   "cell_type": "markdown",
   "metadata": {},
   "source": [
    "## All results"
   ]
  },
  {
   "cell_type": "code",
   "execution_count": 45,
   "metadata": {},
   "outputs": [
    {
     "data": {
      "text/html": [
       "<div>\n",
       "<style scoped>\n",
       "    .dataframe tbody tr th:only-of-type {\n",
       "        vertical-align: middle;\n",
       "    }\n",
       "\n",
       "    .dataframe tbody tr th {\n",
       "        vertical-align: top;\n",
       "    }\n",
       "\n",
       "    .dataframe thead th {\n",
       "        text-align: right;\n",
       "    }\n",
       "</style>\n",
       "<table border=\"1\" class=\"dataframe\">\n",
       "  <thead>\n",
       "    <tr style=\"text-align: right;\">\n",
       "      <th></th>\n",
       "      <th>Model</th>\n",
       "      <th>Accuracy</th>\n",
       "      <th>F2 score</th>\n",
       "      <th>Precision</th>\n",
       "      <th>Recall</th>\n",
       "    </tr>\n",
       "  </thead>\n",
       "  <tbody>\n",
       "    <tr>\n",
       "      <th>0</th>\n",
       "      <td>Decision Tree</td>\n",
       "      <td>0.78</td>\n",
       "      <td>0.776600</td>\n",
       "      <td>0.81</td>\n",
       "      <td>0.82</td>\n",
       "    </tr>\n",
       "    <tr>\n",
       "      <th>1</th>\n",
       "      <td>Decision Tree with selected features</td>\n",
       "      <td>0.73</td>\n",
       "      <td>0.732600</td>\n",
       "      <td>0.80</td>\n",
       "      <td>0.75</td>\n",
       "    </tr>\n",
       "    <tr>\n",
       "      <th>2</th>\n",
       "      <td>Random Forest</td>\n",
       "      <td>0.73</td>\n",
       "      <td>0.730000</td>\n",
       "      <td>0.76</td>\n",
       "      <td>0.82</td>\n",
       "    </tr>\n",
       "    <tr>\n",
       "      <th>3</th>\n",
       "      <td>CatBoost</td>\n",
       "      <td>0.73</td>\n",
       "      <td>0.730000</td>\n",
       "      <td>0.76</td>\n",
       "      <td>0.82</td>\n",
       "    </tr>\n",
       "    <tr>\n",
       "      <th>4</th>\n",
       "      <td>LightGBM</td>\n",
       "      <td>0.78</td>\n",
       "      <td>0.776583</td>\n",
       "      <td>0.81</td>\n",
       "      <td>0.82</td>\n",
       "    </tr>\n",
       "  </tbody>\n",
       "</table>\n",
       "</div>"
      ],
      "text/plain": [
       "                                  Model  Accuracy  F2 score  Precision  Recall\n",
       "0                         Decision Tree      0.78  0.776600       0.81    0.82\n",
       "1  Decision Tree with selected features      0.73  0.732600       0.80    0.75\n",
       "2                         Random Forest      0.73  0.730000       0.76    0.82\n",
       "3                              CatBoost      0.73  0.730000       0.76    0.82\n",
       "4                              LightGBM      0.78  0.776583       0.81    0.82"
      ]
     },
     "execution_count": 45,
     "metadata": {},
     "output_type": "execute_result"
    }
   ],
   "source": [
    "# put all the result for all the models into a dataframe, accuracy, f2 score, precision, recall\n",
    "# create a dataframe to store the results\n",
    "results = pd.DataFrame(columns=['Model', 'Accuracy', 'F2 score', 'Precision', 'Recall'])\n",
    "\n",
    "# add the results to the dataframe\n",
    "results.loc[0] = ['Decision Tree', 0.73, 0.7326, 0.80, 0.75]\n",
    "results.loc[1] = ['Decision Tree with selected features', 0.73, 0.7326, 0.80, 0.75]\n",
    "results.loc[2] = ['Random Forest', 0.73, 0.7300, 0.76, 0.82]\n",
    "results.loc[3] = ['CatBoost', 0.73, 0.7300, 0.76, 0.82]\n",
    "results.loc[4] = ['LightGBM', 0.78, 0.7765833003349574, 0.81, 0.82]\n",
    "\n",
    "# print the results\n",
    "results"
   ]
  },
  {
   "cell_type": "code",
   "execution_count": 121,
   "metadata": {},
   "outputs": [
    {
     "data": {
      "image/png": "[encoded data removed]",
      "text/plain": [
       "<Figure size 2000x1000 with 1 Axes>"
      ]
     },
     "metadata": {},
     "output_type": "display_data"
    }
   ],
   "source": [
    "# plot feature importance sorted from highest to lowest\n",
    "feature_imp = pd.DataFrame(sorted(zip(auto_best_lgb_model.feature_importances_, X_train.columns)), columns=['Value','Feature'])\n",
    "\n",
    "plt.figure(figsize=(20, 10))\n",
    "sns.barplot(x=\"Value\", y=\"Feature\", data=feature_imp.sort_values(by=\"Value\", ascending=False))\n",
    "plt.title('LightGBM Features')\n",
    "plt.tight_layout()\n",
    "plt.show()"
   ]
  }
 ],
 "metadata": {
  "kernelspec": {
   "display_name": "Python 3",
   "language": "python",
   "name": "python3"
  },
  "language_info": {
   "codemirror_mode": {
    "name": "ipython",
    "version": 3
   },
   "file_extension": ".py",
   "mimetype": "text/x-python",
   "name": "python",
   "nbconvert_exporter": "python",
   "pygments_lexer": "ipython3",
   "version": "3.11.4"
  }
 },
 "nbformat": 4,
 "nbformat_minor": 2
}
