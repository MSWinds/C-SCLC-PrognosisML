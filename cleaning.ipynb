{
 "cells": [
  {
   "cell_type": "code",
   "execution_count": 1,
   "metadata": {},
   "outputs": [],
   "source": [
    "import pandas as pd\n",
    "import numpy as np\n",
    "# show max columns and rows\n",
    "pd.set_option('display.max_columns', None)\n",
    "pd.set_option('display.max_rows', None)\n",
    "import matplotlib.pyplot as plt\n",
    "import seaborn as sns"
   ]
  },
  {
   "cell_type": "code",
   "execution_count": 2,
   "metadata": {},
   "outputs": [
    {
     "name": "stderr",
     "output_type": "stream",
     "text": [
      "C:\\Users\\yuyum\\AppData\\Local\\Temp\\ipykernel_19128\\2454838026.py:1: DtypeWarning: Columns (10,34,35) have mixed types. Specify dtype option on import or set low_memory=False.\n",
      "  df_raw = pd.read_csv('Data\\export.csv')\n"
     ]
    }
   ],
   "source": [
    "df_raw = pd.read_csv('Data\\export.csv')"
   ]
  },
  {
   "cell_type": "code",
   "execution_count": 3,
   "metadata": {},
   "outputs": [],
   "source": [
    "df = df_raw.copy()"
   ]
  },
  {
   "cell_type": "code",
   "execution_count": 4,
   "metadata": {},
   "outputs": [
    {
     "data": {
      "text/html": [
       "<div>\n",
       "<style scoped>\n",
       "    .dataframe tbody tr th:only-of-type {\n",
       "        vertical-align: middle;\n",
       "    }\n",
       "\n",
       "    .dataframe tbody tr th {\n",
       "        vertical-align: top;\n",
       "    }\n",
       "\n",
       "    .dataframe thead th {\n",
       "        text-align: right;\n",
       "    }\n",
       "</style>\n",
       "<table border=\"1\" class=\"dataframe\">\n",
       "  <thead>\n",
       "    <tr style=\"text-align: right;\">\n",
       "      <th></th>\n",
       "      <th>Patient ID</th>\n",
       "      <th>Age recode with &lt;1 year olds</th>\n",
       "      <th>Marital status at diagnosis</th>\n",
       "      <th>Histologic Type ICD-O-3</th>\n",
       "      <th>Year of diagnosis</th>\n",
       "      <th>Sex</th>\n",
       "      <th>Race recode (W, B, AI, API)</th>\n",
       "      <th>T value - based on AJCC 3rd (1988-2003)</th>\n",
       "      <th>N value - based on AJCC 3rd (1988-2003)</th>\n",
       "      <th>M value - based on AJCC 3rd (1988-2003)</th>\n",
       "      <th>SEER modified AJCC stage 3rd (1988-2003)</th>\n",
       "      <th>Derived AJCC T, 6th ed (2004-2015)</th>\n",
       "      <th>Derived AJCC N, 6th ed (2004-2015)</th>\n",
       "      <th>Derived AJCC M, 6th ed (2004-2015)</th>\n",
       "      <th>Derived AJCC Stage Group, 6th ed (2004-2015)</th>\n",
       "      <th>Derived AJCC T, 7th ed (2010-2015)</th>\n",
       "      <th>Derived AJCC N, 7th ed (2010-2015)</th>\n",
       "      <th>Derived AJCC M, 7th ed (2010-2015)</th>\n",
       "      <th>Derived AJCC Stage Group, 7th ed (2010-2015)</th>\n",
       "      <th>Derived SEER Combined T (2016-2017)</th>\n",
       "      <th>Derived SEER Combined N (2016-2017)</th>\n",
       "      <th>Derived SEER Combined M (2016-2017)</th>\n",
       "      <th>Derived SEER Cmb Stg Grp (2016-2017)</th>\n",
       "      <th>Derived EOD 2018 T (2018+)</th>\n",
       "      <th>Derived EOD 2018 N (2018+)</th>\n",
       "      <th>Derived EOD 2018 M (2018+)</th>\n",
       "      <th>Derived EOD 2018 Stage Group (2018+)</th>\n",
       "      <th>Chemotherapy recode (yes, no/unk)</th>\n",
       "      <th>Radiation recode</th>\n",
       "      <th>RX Summ--Scope Reg LN Sur (2003+)</th>\n",
       "      <th>SEER Combined Mets at DX-bone (2010+)</th>\n",
       "      <th>SEER Combined Mets at DX-brain (2010+)</th>\n",
       "      <th>SEER Combined Mets at DX-liver (2010+)</th>\n",
       "      <th>SEER Combined Mets at DX-lung (2010+)</th>\n",
       "      <th>CS tumor size (2004-2015)</th>\n",
       "      <th>Tumor Size Summary (2016+)</th>\n",
       "      <th>Vital status recode (study cutoff used)</th>\n",
       "      <th>Survival months</th>\n",
       "    </tr>\n",
       "  </thead>\n",
       "  <tbody>\n",
       "    <tr>\n",
       "      <th>0</th>\n",
       "      <td>3339</td>\n",
       "      <td>60-64 years</td>\n",
       "      <td>Unknown</td>\n",
       "      <td>8140</td>\n",
       "      <td>2000</td>\n",
       "      <td>Female</td>\n",
       "      <td>White</td>\n",
       "      <td>TX</td>\n",
       "      <td>N0</td>\n",
       "      <td>M1</td>\n",
       "      <td>40</td>\n",
       "      <td>Blank(s)</td>\n",
       "      <td>Blank(s)</td>\n",
       "      <td>Blank(s)</td>\n",
       "      <td>Blank(s)</td>\n",
       "      <td>Blank(s)</td>\n",
       "      <td>Blank(s)</td>\n",
       "      <td>Blank(s)</td>\n",
       "      <td>Blank(s)</td>\n",
       "      <td>Blank(s)</td>\n",
       "      <td>Blank(s)</td>\n",
       "      <td>Blank(s)</td>\n",
       "      <td>Blank(s)</td>\n",
       "      <td>Blank(s)</td>\n",
       "      <td>Blank(s)</td>\n",
       "      <td>Blank(s)</td>\n",
       "      <td>Blank(s)</td>\n",
       "      <td>No/Unknown</td>\n",
       "      <td>Beam radiation</td>\n",
       "      <td>Blank(s)</td>\n",
       "      <td>Blank(s)</td>\n",
       "      <td>Blank(s)</td>\n",
       "      <td>Blank(s)</td>\n",
       "      <td>Blank(s)</td>\n",
       "      <td>Blank(s)</td>\n",
       "      <td>Blank(s)</td>\n",
       "      <td>Dead</td>\n",
       "      <td>0023</td>\n",
       "    </tr>\n",
       "    <tr>\n",
       "      <th>1</th>\n",
       "      <td>3654</td>\n",
       "      <td>80-84 years</td>\n",
       "      <td>Married (including common law)</td>\n",
       "      <td>8046</td>\n",
       "      <td>2000</td>\n",
       "      <td>Male</td>\n",
       "      <td>White</td>\n",
       "      <td>TX</td>\n",
       "      <td>N2</td>\n",
       "      <td>M1</td>\n",
       "      <td>40</td>\n",
       "      <td>Blank(s)</td>\n",
       "      <td>Blank(s)</td>\n",
       "      <td>Blank(s)</td>\n",
       "      <td>Blank(s)</td>\n",
       "      <td>Blank(s)</td>\n",
       "      <td>Blank(s)</td>\n",
       "      <td>Blank(s)</td>\n",
       "      <td>Blank(s)</td>\n",
       "      <td>Blank(s)</td>\n",
       "      <td>Blank(s)</td>\n",
       "      <td>Blank(s)</td>\n",
       "      <td>Blank(s)</td>\n",
       "      <td>Blank(s)</td>\n",
       "      <td>Blank(s)</td>\n",
       "      <td>Blank(s)</td>\n",
       "      <td>Blank(s)</td>\n",
       "      <td>Yes</td>\n",
       "      <td>None/Unknown</td>\n",
       "      <td>Blank(s)</td>\n",
       "      <td>Blank(s)</td>\n",
       "      <td>Blank(s)</td>\n",
       "      <td>Blank(s)</td>\n",
       "      <td>Blank(s)</td>\n",
       "      <td>Blank(s)</td>\n",
       "      <td>Blank(s)</td>\n",
       "      <td>Dead</td>\n",
       "      <td>0004</td>\n",
       "    </tr>\n",
       "    <tr>\n",
       "      <th>2</th>\n",
       "      <td>349412</td>\n",
       "      <td>75-79 years</td>\n",
       "      <td>Widowed</td>\n",
       "      <td>8010</td>\n",
       "      <td>2000</td>\n",
       "      <td>Female</td>\n",
       "      <td>White</td>\n",
       "      <td>TX</td>\n",
       "      <td>N0</td>\n",
       "      <td>M1</td>\n",
       "      <td>40</td>\n",
       "      <td>Blank(s)</td>\n",
       "      <td>Blank(s)</td>\n",
       "      <td>Blank(s)</td>\n",
       "      <td>Blank(s)</td>\n",
       "      <td>Blank(s)</td>\n",
       "      <td>Blank(s)</td>\n",
       "      <td>Blank(s)</td>\n",
       "      <td>Blank(s)</td>\n",
       "      <td>Blank(s)</td>\n",
       "      <td>Blank(s)</td>\n",
       "      <td>Blank(s)</td>\n",
       "      <td>Blank(s)</td>\n",
       "      <td>Blank(s)</td>\n",
       "      <td>Blank(s)</td>\n",
       "      <td>Blank(s)</td>\n",
       "      <td>Blank(s)</td>\n",
       "      <td>No/Unknown</td>\n",
       "      <td>None/Unknown</td>\n",
       "      <td>Blank(s)</td>\n",
       "      <td>Blank(s)</td>\n",
       "      <td>Blank(s)</td>\n",
       "      <td>Blank(s)</td>\n",
       "      <td>Blank(s)</td>\n",
       "      <td>Blank(s)</td>\n",
       "      <td>Blank(s)</td>\n",
       "      <td>Dead</td>\n",
       "      <td>0007</td>\n",
       "    </tr>\n",
       "    <tr>\n",
       "      <th>3</th>\n",
       "      <td>10055</td>\n",
       "      <td>70-74 years</td>\n",
       "      <td>Single (never married)</td>\n",
       "      <td>8140</td>\n",
       "      <td>2000</td>\n",
       "      <td>Male</td>\n",
       "      <td>White</td>\n",
       "      <td>TX</td>\n",
       "      <td>N0</td>\n",
       "      <td>M1</td>\n",
       "      <td>40</td>\n",
       "      <td>Blank(s)</td>\n",
       "      <td>Blank(s)</td>\n",
       "      <td>Blank(s)</td>\n",
       "      <td>Blank(s)</td>\n",
       "      <td>Blank(s)</td>\n",
       "      <td>Blank(s)</td>\n",
       "      <td>Blank(s)</td>\n",
       "      <td>Blank(s)</td>\n",
       "      <td>Blank(s)</td>\n",
       "      <td>Blank(s)</td>\n",
       "      <td>Blank(s)</td>\n",
       "      <td>Blank(s)</td>\n",
       "      <td>Blank(s)</td>\n",
       "      <td>Blank(s)</td>\n",
       "      <td>Blank(s)</td>\n",
       "      <td>Blank(s)</td>\n",
       "      <td>No/Unknown</td>\n",
       "      <td>Beam radiation</td>\n",
       "      <td>Blank(s)</td>\n",
       "      <td>Blank(s)</td>\n",
       "      <td>Blank(s)</td>\n",
       "      <td>Blank(s)</td>\n",
       "      <td>Blank(s)</td>\n",
       "      <td>Blank(s)</td>\n",
       "      <td>Blank(s)</td>\n",
       "      <td>Dead</td>\n",
       "      <td>0005</td>\n",
       "    </tr>\n",
       "    <tr>\n",
       "      <th>4</th>\n",
       "      <td>52893</td>\n",
       "      <td>65-69 years</td>\n",
       "      <td>Married (including common law)</td>\n",
       "      <td>8140</td>\n",
       "      <td>2000</td>\n",
       "      <td>Female</td>\n",
       "      <td>White</td>\n",
       "      <td>TX</td>\n",
       "      <td>N2</td>\n",
       "      <td>M1</td>\n",
       "      <td>40</td>\n",
       "      <td>Blank(s)</td>\n",
       "      <td>Blank(s)</td>\n",
       "      <td>Blank(s)</td>\n",
       "      <td>Blank(s)</td>\n",
       "      <td>Blank(s)</td>\n",
       "      <td>Blank(s)</td>\n",
       "      <td>Blank(s)</td>\n",
       "      <td>Blank(s)</td>\n",
       "      <td>Blank(s)</td>\n",
       "      <td>Blank(s)</td>\n",
       "      <td>Blank(s)</td>\n",
       "      <td>Blank(s)</td>\n",
       "      <td>Blank(s)</td>\n",
       "      <td>Blank(s)</td>\n",
       "      <td>Blank(s)</td>\n",
       "      <td>Blank(s)</td>\n",
       "      <td>No/Unknown</td>\n",
       "      <td>Beam radiation</td>\n",
       "      <td>Blank(s)</td>\n",
       "      <td>Blank(s)</td>\n",
       "      <td>Blank(s)</td>\n",
       "      <td>Blank(s)</td>\n",
       "      <td>Blank(s)</td>\n",
       "      <td>Blank(s)</td>\n",
       "      <td>Blank(s)</td>\n",
       "      <td>Dead</td>\n",
       "      <td>0016</td>\n",
       "    </tr>\n",
       "  </tbody>\n",
       "</table>\n",
       "</div>"
      ],
      "text/plain": [
       "   Patient ID Age recode with <1 year olds     Marital status at diagnosis  \\\n",
       "0        3339                  60-64 years                         Unknown   \n",
       "1        3654                  80-84 years  Married (including common law)   \n",
       "2      349412                  75-79 years                         Widowed   \n",
       "3       10055                  70-74 years          Single (never married)   \n",
       "4       52893                  65-69 years  Married (including common law)   \n",
       "\n",
       "   Histologic Type ICD-O-3  Year of diagnosis     Sex  \\\n",
       "0                     8140               2000  Female   \n",
       "1                     8046               2000    Male   \n",
       "2                     8010               2000  Female   \n",
       "3                     8140               2000    Male   \n",
       "4                     8140               2000  Female   \n",
       "\n",
       "  Race recode (W, B, AI, API) T value - based on AJCC 3rd (1988-2003)  \\\n",
       "0                       White                                      TX   \n",
       "1                       White                                      TX   \n",
       "2                       White                                      TX   \n",
       "3                       White                                      TX   \n",
       "4                       White                                      TX   \n",
       "\n",
       "  N value - based on AJCC 3rd (1988-2003)  \\\n",
       "0                                      N0   \n",
       "1                                      N2   \n",
       "2                                      N0   \n",
       "3                                      N0   \n",
       "4                                      N2   \n",
       "\n",
       "  M value - based on AJCC 3rd (1988-2003)  \\\n",
       "0                                      M1   \n",
       "1                                      M1   \n",
       "2                                      M1   \n",
       "3                                      M1   \n",
       "4                                      M1   \n",
       "\n",
       "  SEER modified AJCC stage 3rd (1988-2003) Derived AJCC T, 6th ed (2004-2015)  \\\n",
       "0                                       40                           Blank(s)   \n",
       "1                                       40                           Blank(s)   \n",
       "2                                       40                           Blank(s)   \n",
       "3                                       40                           Blank(s)   \n",
       "4                                       40                           Blank(s)   \n",
       "\n",
       "  Derived AJCC N, 6th ed (2004-2015) Derived AJCC M, 6th ed (2004-2015)  \\\n",
       "0                           Blank(s)                           Blank(s)   \n",
       "1                           Blank(s)                           Blank(s)   \n",
       "2                           Blank(s)                           Blank(s)   \n",
       "3                           Blank(s)                           Blank(s)   \n",
       "4                           Blank(s)                           Blank(s)   \n",
       "\n",
       "  Derived AJCC Stage Group, 6th ed (2004-2015)  \\\n",
       "0                                     Blank(s)   \n",
       "1                                     Blank(s)   \n",
       "2                                     Blank(s)   \n",
       "3                                     Blank(s)   \n",
       "4                                     Blank(s)   \n",
       "\n",
       "  Derived AJCC T, 7th ed (2010-2015) Derived AJCC N, 7th ed (2010-2015)  \\\n",
       "0                           Blank(s)                           Blank(s)   \n",
       "1                           Blank(s)                           Blank(s)   \n",
       "2                           Blank(s)                           Blank(s)   \n",
       "3                           Blank(s)                           Blank(s)   \n",
       "4                           Blank(s)                           Blank(s)   \n",
       "\n",
       "  Derived AJCC M, 7th ed (2010-2015)  \\\n",
       "0                           Blank(s)   \n",
       "1                           Blank(s)   \n",
       "2                           Blank(s)   \n",
       "3                           Blank(s)   \n",
       "4                           Blank(s)   \n",
       "\n",
       "  Derived AJCC Stage Group, 7th ed (2010-2015)  \\\n",
       "0                                     Blank(s)   \n",
       "1                                     Blank(s)   \n",
       "2                                     Blank(s)   \n",
       "3                                     Blank(s)   \n",
       "4                                     Blank(s)   \n",
       "\n",
       "  Derived SEER Combined T (2016-2017) Derived SEER Combined N (2016-2017)  \\\n",
       "0                            Blank(s)                            Blank(s)   \n",
       "1                            Blank(s)                            Blank(s)   \n",
       "2                            Blank(s)                            Blank(s)   \n",
       "3                            Blank(s)                            Blank(s)   \n",
       "4                            Blank(s)                            Blank(s)   \n",
       "\n",
       "  Derived SEER Combined M (2016-2017) Derived SEER Cmb Stg Grp (2016-2017)  \\\n",
       "0                            Blank(s)                             Blank(s)   \n",
       "1                            Blank(s)                             Blank(s)   \n",
       "2                            Blank(s)                             Blank(s)   \n",
       "3                            Blank(s)                             Blank(s)   \n",
       "4                            Blank(s)                             Blank(s)   \n",
       "\n",
       "  Derived EOD 2018 T (2018+) Derived EOD 2018 N (2018+)  \\\n",
       "0                   Blank(s)                   Blank(s)   \n",
       "1                   Blank(s)                   Blank(s)   \n",
       "2                   Blank(s)                   Blank(s)   \n",
       "3                   Blank(s)                   Blank(s)   \n",
       "4                   Blank(s)                   Blank(s)   \n",
       "\n",
       "  Derived EOD 2018 M (2018+) Derived EOD 2018 Stage Group (2018+)  \\\n",
       "0                   Blank(s)                             Blank(s)   \n",
       "1                   Blank(s)                             Blank(s)   \n",
       "2                   Blank(s)                             Blank(s)   \n",
       "3                   Blank(s)                             Blank(s)   \n",
       "4                   Blank(s)                             Blank(s)   \n",
       "\n",
       "  Chemotherapy recode (yes, no/unk) Radiation recode  \\\n",
       "0                        No/Unknown   Beam radiation   \n",
       "1                               Yes     None/Unknown   \n",
       "2                        No/Unknown     None/Unknown   \n",
       "3                        No/Unknown   Beam radiation   \n",
       "4                        No/Unknown   Beam radiation   \n",
       "\n",
       "  RX Summ--Scope Reg LN Sur (2003+) SEER Combined Mets at DX-bone (2010+)  \\\n",
       "0                          Blank(s)                              Blank(s)   \n",
       "1                          Blank(s)                              Blank(s)   \n",
       "2                          Blank(s)                              Blank(s)   \n",
       "3                          Blank(s)                              Blank(s)   \n",
       "4                          Blank(s)                              Blank(s)   \n",
       "\n",
       "  SEER Combined Mets at DX-brain (2010+)  \\\n",
       "0                               Blank(s)   \n",
       "1                               Blank(s)   \n",
       "2                               Blank(s)   \n",
       "3                               Blank(s)   \n",
       "4                               Blank(s)   \n",
       "\n",
       "  SEER Combined Mets at DX-liver (2010+)  \\\n",
       "0                               Blank(s)   \n",
       "1                               Blank(s)   \n",
       "2                               Blank(s)   \n",
       "3                               Blank(s)   \n",
       "4                               Blank(s)   \n",
       "\n",
       "  SEER Combined Mets at DX-lung (2010+) CS tumor size (2004-2015)  \\\n",
       "0                              Blank(s)                  Blank(s)   \n",
       "1                              Blank(s)                  Blank(s)   \n",
       "2                              Blank(s)                  Blank(s)   \n",
       "3                              Blank(s)                  Blank(s)   \n",
       "4                              Blank(s)                  Blank(s)   \n",
       "\n",
       "  Tumor Size Summary (2016+) Vital status recode (study cutoff used)  \\\n",
       "0                   Blank(s)                                    Dead   \n",
       "1                   Blank(s)                                    Dead   \n",
       "2                   Blank(s)                                    Dead   \n",
       "3                   Blank(s)                                    Dead   \n",
       "4                   Blank(s)                                    Dead   \n",
       "\n",
       "  Survival months  \n",
       "0            0023  \n",
       "1            0004  \n",
       "2            0007  \n",
       "3            0005  \n",
       "4            0016  "
      ]
     },
     "metadata": {},
     "output_type": "display_data"
    },
    {
     "data": {
      "text/plain": [
       "(860158, 38)"
      ]
     },
     "metadata": {},
     "output_type": "display_data"
    }
   ],
   "source": [
    "display(df.head(), df.shape)"
   ]
  },
  {
   "cell_type": "code",
   "execution_count": 5,
   "metadata": {},
   "outputs": [
    {
     "name": "stdout",
     "output_type": "stream",
     "text": [
      "<class 'pandas.core.frame.DataFrame'>\n",
      "RangeIndex: 860158 entries, 0 to 860157\n",
      "Data columns (total 38 columns):\n",
      " #   Column                                        Non-Null Count   Dtype \n",
      "---  ------                                        --------------   ----- \n",
      " 0   Patient ID                                    860158 non-null  int64 \n",
      " 1   Age recode with <1 year olds                  860158 non-null  object\n",
      " 2   Marital status at diagnosis                   860158 non-null  object\n",
      " 3   Histologic Type ICD-O-3                       860158 non-null  int64 \n",
      " 4   Year of diagnosis                             860158 non-null  int64 \n",
      " 5   Sex                                           860158 non-null  object\n",
      " 6   Race recode (W, B, AI, API)                   860158 non-null  object\n",
      " 7   T value - based on AJCC 3rd (1988-2003)       860158 non-null  object\n",
      " 8   N value - based on AJCC 3rd (1988-2003)       860158 non-null  object\n",
      " 9   M value - based on AJCC 3rd (1988-2003)       860158 non-null  object\n",
      " 10  SEER modified AJCC stage 3rd (1988-2003)      860158 non-null  object\n",
      " 11  Derived AJCC T, 6th ed (2004-2015)            851131 non-null  object\n",
      " 12  Derived AJCC N, 6th ed (2004-2015)            851131 non-null  object\n",
      " 13  Derived AJCC M, 6th ed (2004-2015)            851131 non-null  object\n",
      " 14  Derived AJCC Stage Group, 6th ed (2004-2015)  853196 non-null  object\n",
      " 15  Derived AJCC T, 7th ed (2010-2015)            858180 non-null  object\n",
      " 16  Derived AJCC N, 7th ed (2010-2015)            858180 non-null  object\n",
      " 17  Derived AJCC M, 7th ed (2010-2015)            858180 non-null  object\n",
      " 18  Derived AJCC Stage Group, 7th ed (2010-2015)  859324 non-null  object\n",
      " 19  Derived SEER Combined T (2016-2017)           860158 non-null  object\n",
      " 20  Derived SEER Combined N (2016-2017)           860158 non-null  object\n",
      " 21  Derived SEER Combined M (2016-2017)           860158 non-null  object\n",
      " 22  Derived SEER Cmb Stg Grp (2016-2017)          860158 non-null  object\n",
      " 23  Derived EOD 2018 T (2018+)                    860158 non-null  object\n",
      " 24  Derived EOD 2018 N (2018+)                    860158 non-null  object\n",
      " 25  Derived EOD 2018 M (2018+)                    860158 non-null  object\n",
      " 26  Derived EOD 2018 Stage Group (2018+)          860158 non-null  object\n",
      " 27  Chemotherapy recode (yes, no/unk)             860158 non-null  object\n",
      " 28  Radiation recode                              860158 non-null  object\n",
      " 29  RX Summ--Scope Reg LN Sur (2003+)             331700 non-null  object\n",
      " 30  SEER Combined Mets at DX-bone (2010+)         858475 non-null  object\n",
      " 31  SEER Combined Mets at DX-brain (2010+)        858456 non-null  object\n",
      " 32  SEER Combined Mets at DX-liver (2010+)        858455 non-null  object\n",
      " 33  SEER Combined Mets at DX-lung (2010+)         857922 non-null  object\n",
      " 34  CS tumor size (2004-2015)                     860158 non-null  object\n",
      " 35  Tumor Size Summary (2016+)                    860158 non-null  object\n",
      " 36  Vital status recode (study cutoff used)       860158 non-null  object\n",
      " 37  Survival months                               860158 non-null  object\n",
      "dtypes: int64(3), object(35)\n",
      "memory usage: 249.4+ MB\n"
     ]
    }
   ],
   "source": [
    "df.info()"
   ]
  },
  {
   "cell_type": "markdown",
   "metadata": {},
   "source": [
    "# Histologic\n",
    "\n",
    "needs reference"
   ]
  },
  {
   "cell_type": "code",
   "execution_count": 6,
   "metadata": {},
   "outputs": [],
   "source": [
    "# Filter the DataFrame\n",
    "df_filtered = df[(df['Histologic Type ICD-O-3']==8045) & (df['Year of diagnosis'] >= 2004)].copy()"
   ]
  },
  {
   "cell_type": "code",
   "execution_count": 7,
   "metadata": {},
   "outputs": [
    {
     "data": {
      "text/plain": [
       "Year of diagnosis\n",
       "2004    100\n",
       "2005     76\n",
       "2006     94\n",
       "2007    107\n",
       "2008     95\n",
       "2009     89\n",
       "2010     91\n",
       "2011     87\n",
       "2012     89\n",
       "2013     88\n",
       "2014     98\n",
       "2015     85\n",
       "2016     87\n",
       "2017     84\n",
       "2018    105\n",
       "2019    101\n",
       "2020     98\n",
       "Name: count, dtype: int64"
      ]
     },
     "execution_count": 7,
     "metadata": {},
     "output_type": "execute_result"
    }
   ],
   "source": [
    "df_filtered['Year of diagnosis'].value_counts(dropna=False).sort_index()"
   ]
  },
  {
   "cell_type": "markdown",
   "metadata": {},
   "source": [
    "## Age\n",
    "SEER database collection"
   ]
  },
  {
   "cell_type": "code",
   "execution_count": 8,
   "metadata": {},
   "outputs": [
    {
     "data": {
      "text/plain": [
       "Age recode with <1 year olds\n",
       "35-39 years      3\n",
       "40-44 years      8\n",
       "45-49 years     38\n",
       "50-54 years     93\n",
       "55-59 years    175\n",
       "60-64 years    211\n",
       "65-69 years    309\n",
       "70-74 years    292\n",
       "75-79 years    223\n",
       "80-84 years    152\n",
       "85+ years       70\n",
       "Name: count, dtype: int64"
      ]
     },
     "execution_count": 8,
     "metadata": {},
     "output_type": "execute_result"
    }
   ],
   "source": [
    "df_filtered['Age recode with <1 year olds'].value_counts(dropna=False).sort_index()"
   ]
  },
  {
   "cell_type": "code",
   "execution_count": 9,
   "metadata": {},
   "outputs": [],
   "source": [
    "# Define a mapping function\n",
    "def group_ages(age):\n",
    "    if age in [ '35-39 years', '40-44 years', '45-49 years']:\n",
    "        return '35-49 years'\n",
    "    else:\n",
    "        return age"
   ]
  },
  {
   "cell_type": "code",
   "execution_count": 10,
   "metadata": {},
   "outputs": [],
   "source": [
    "# Apply the mapping function to the age column\n",
    "df_filtered['Age recode with <1 year olds'] = df_filtered['Age recode with <1 year olds'].astype(str)\n",
    "df_filtered['Age'] = df_filtered['Age recode with <1 year olds'].apply(group_ages)\n",
    "\n",
    "# drop the original age column\n",
    "df_filtered.drop('Age recode with <1 year olds', axis=1, inplace=True)"
   ]
  },
  {
   "cell_type": "code",
   "execution_count": 11,
   "metadata": {},
   "outputs": [
    {
     "data": {
      "text/plain": [
       "Age\n",
       "35-49 years     49\n",
       "50-54 years     93\n",
       "55-59 years    175\n",
       "60-64 years    211\n",
       "65-69 years    309\n",
       "70-74 years    292\n",
       "75-79 years    223\n",
       "80-84 years    152\n",
       "85+ years       70\n",
       "Name: count, dtype: int64"
      ]
     },
     "execution_count": 11,
     "metadata": {},
     "output_type": "execute_result"
    }
   ],
   "source": [
    "df_filtered['Age'].value_counts(dropna=False).sort_index()"
   ]
  },
  {
   "cell_type": "markdown",
   "metadata": {},
   "source": [
    "## Marital status at diagnosis\n"
   ]
  },
  {
   "cell_type": "code",
   "execution_count": 12,
   "metadata": {},
   "outputs": [
    {
     "data": {
      "text/plain": [
       "Marital status at diagnosis\n",
       "Married (including common law)    857\n",
       "Widowed                           227\n",
       "Single (never married)            212\n",
       "Divorced                          194\n",
       "Unknown                            67\n",
       "Separated                          14\n",
       "Unmarried or Domestic Partner       3\n",
       "Name: count, dtype: int64"
      ]
     },
     "execution_count": 12,
     "metadata": {},
     "output_type": "execute_result"
    }
   ],
   "source": [
    "df_filtered['Marital status at diagnosis'].value_counts(dropna=False)"
   ]
  },
  {
   "cell_type": "code",
   "execution_count": 13,
   "metadata": {},
   "outputs": [],
   "source": [
    "def categorize_marital_status(df, column_name):\n",
    "    # Define the mapping for each status to its group\n",
    "    status_mapping = {\n",
    "        'Married (including common law)': 'Married',\n",
    "        'Unmarried or Domestic Partner': 'Married',  # Optional\n",
    "        'Single (never married)': 'Single (never married)',\n",
    "        'Separated': 'Single',  # Optional\n",
    "        'Divorced': 'Single',   # Optional\n",
    "        'Widowed': 'Single',    # Optional\n",
    "        'Unknown': 'Unknown/Other'\n",
    "    }\n",
    "\n",
    "    # Apply the mapping to the specified column\n",
    "    df['Grouped Marital Status'] = df[column_name].map(status_mapping).fillna('Unknown/Other')\n",
    "\n",
    "    return df\n",
    "\n",
    "# Apply the function to the 'Marital status at diagnosis' column\n",
    "df_filtered = categorize_marital_status(df_filtered, 'Marital status at diagnosis')\n",
    "\n",
    "# drop old column\n",
    "df_filtered.drop(columns='Marital status at diagnosis', inplace=True)\n",
    "\n",
    "# rename the 'Grouped Marital Status' column to 'Marital Status'\n",
    "df_filtered.rename(columns={'Grouped Marital Status': 'Marital Status'}, inplace=True)"
   ]
  },
  {
   "cell_type": "markdown",
   "metadata": {},
   "source": [
    "## Sex"
   ]
  },
  {
   "cell_type": "code",
   "execution_count": 14,
   "metadata": {},
   "outputs": [
    {
     "data": {
      "text/plain": [
       "Sex\n",
       "Male      870\n",
       "Female    704\n",
       "Name: count, dtype: int64"
      ]
     },
     "execution_count": 14,
     "metadata": {},
     "output_type": "execute_result"
    }
   ],
   "source": [
    "df_filtered['Sex'].value_counts(dropna=False)"
   ]
  },
  {
   "cell_type": "markdown",
   "metadata": {},
   "source": [
    "## Race"
   ]
  },
  {
   "cell_type": "code",
   "execution_count": 15,
   "metadata": {},
   "outputs": [
    {
     "data": {
      "text/plain": [
       "Race recode (W, B, AI, API)\n",
       "White                            1337\n",
       "Black                             161\n",
       "Asian or Pacific Islander          63\n",
       "American Indian/Alaska Native      13\n",
       "Name: count, dtype: int64"
      ]
     },
     "execution_count": 15,
     "metadata": {},
     "output_type": "execute_result"
    }
   ],
   "source": [
    "df_filtered['Race recode (W, B, AI, API)'].value_counts(dropna=False)"
   ]
  },
  {
   "cell_type": "code",
   "execution_count": 16,
   "metadata": {},
   "outputs": [],
   "source": [
    "df_filtered.rename(columns={'Race recode (W, B, AI, API)': 'Race'}, inplace=True)"
   ]
  },
  {
   "cell_type": "markdown",
   "metadata": {},
   "source": [
    "## Chemotherapy recode (yes, no/unk)"
   ]
  },
  {
   "cell_type": "code",
   "execution_count": 17,
   "metadata": {},
   "outputs": [
    {
     "data": {
      "text/plain": [
       "Chemotherapy recode (yes, no/unk)\n",
       "Yes           997\n",
       "No/Unknown    577\n",
       "Name: count, dtype: int64"
      ]
     },
     "execution_count": 17,
     "metadata": {},
     "output_type": "execute_result"
    }
   ],
   "source": [
    "df_filtered['Chemotherapy recode (yes, no/unk)'].value_counts(dropna=False)"
   ]
  },
  {
   "cell_type": "code",
   "execution_count": 18,
   "metadata": {},
   "outputs": [],
   "source": [
    "# map Chemotherapy recode (yes, no/unk) into 1: Yes and 0:No/Unknown\n",
    "df_filtered['Chemotherapy'] = df_filtered['Chemotherapy recode (yes, no/unk)'].map({'Yes': 1, 'No/Unknown': 0})\n",
    "\n",
    "# drop original column\n",
    "df_filtered.drop(columns=['Chemotherapy recode (yes, no/unk)'], inplace=True)"
   ]
  },
  {
   "cell_type": "markdown",
   "metadata": {},
   "source": [
    "## Radiation recode"
   ]
  },
  {
   "cell_type": "code",
   "execution_count": 19,
   "metadata": {},
   "outputs": [
    {
     "data": {
      "text/plain": [
       "Radiation recode\n",
       "None/Unknown                                             843\n",
       "Beam radiation                                           660\n",
       "Refused (1988+)                                           28\n",
       "Recommended, unknown if administered                      25\n",
       "Radiation, NOS  method or source not specified            15\n",
       "Radioactive implants (includes brachytherapy) (1988+)      2\n",
       "Combination of beam with implants or isotopes              1\n",
       "Name: count, dtype: int64"
      ]
     },
     "execution_count": 19,
     "metadata": {},
     "output_type": "execute_result"
    }
   ],
   "source": [
    "df_filtered['Radiation recode'].value_counts(dropna=False)"
   ]
  },
  {
   "cell_type": "code",
   "execution_count": 20,
   "metadata": {},
   "outputs": [
    {
     "name": "stdout",
     "output_type": "stream",
     "text": [
      "Radiation recode\n",
      "0    896\n",
      "1    678\n",
      "Name: count, dtype: int64\n"
     ]
    }
   ],
   "source": [
    "def map_radiation_values(value):\n",
    "    # Define the values to be mapped to 0\n",
    "    values_for_zero = ['None/Unknown', 'Refused (1988+)', 'Recommended, unknown if administered']\n",
    "    \n",
    "    # Check if the value is in the list for 0, else return 1\n",
    "    return 0 if value in values_for_zero else 1\n",
    "\n",
    "# Apply the function to the 'Radiation Recode' column\n",
    "df_filtered['Radiation recode'] = df_filtered['Radiation recode'].apply(map_radiation_values)\n",
    "\n",
    "# Display the updated DataFrame\n",
    "print(df_filtered['Radiation recode'].value_counts())"
   ]
  },
  {
   "cell_type": "markdown",
   "metadata": {},
   "source": [
    "## RX Summ--Scope Reg LN Sur (2003+)"
   ]
  },
  {
   "cell_type": "code",
   "execution_count": 21,
   "metadata": {},
   "outputs": [
    {
     "data": {
      "text/plain": [
       "RX Summ--Scope Reg LN Sur (2003+)\n",
       "NaN                                                           1013\n",
       "4 or more regional lymph nodes removed                         260\n",
       "Biopsy or aspiration of regional lymph node, NOS               187\n",
       "1 to 3 regional lymph nodes removed                             82\n",
       "Number of regional lymph nodes removed unknown                  16\n",
       "Unknown or not applicable                                       15\n",
       "Sentinel node biopsy and lym nd removed same/unstated time       1\n",
       "Name: count, dtype: int64"
      ]
     },
     "execution_count": 21,
     "metadata": {},
     "output_type": "execute_result"
    }
   ],
   "source": [
    "df_filtered['RX Summ--Scope Reg LN Sur (2003+)'].value_counts(dropna=False)"
   ]
  },
  {
   "cell_type": "code",
   "execution_count": 22,
   "metadata": {},
   "outputs": [
    {
     "data": {
      "text/plain": [
       "Surgery\n",
       "0    1028\n",
       "1     546\n",
       "Name: count, dtype: int64"
      ]
     },
     "execution_count": 22,
     "metadata": {},
     "output_type": "execute_result"
    }
   ],
   "source": [
    "# NaN and Unknown or not applicable will be 0, the rest will be 1\n",
    "df_filtered['Surgery'] = np.where(df_filtered['RX Summ--Scope Reg LN Sur (2003+)'].isna() | \n",
    "                         (df_filtered['RX Summ--Scope Reg LN Sur (2003+)'] == 'Unknown or not applicable'), 0, 1)\n",
    "\n",
    "# drop old column\n",
    "df_filtered.drop(columns='RX Summ--Scope Reg LN Sur (2003+)', inplace=True)\n",
    "\n",
    "df_filtered['Surgery'].value_counts(dropna=False)"
   ]
  },
  {
   "cell_type": "markdown",
   "metadata": {},
   "source": [
    "## T, N, M Transformation"
   ]
  },
  {
   "cell_type": "code",
   "execution_count": 23,
   "metadata": {},
   "outputs": [],
   "source": [
    "drop_list=['SEER Combined Mets at DX-bone (2010+)','SEER Combined Mets at DX-lung (2010+)',\n",
    "           'SEER Combined Mets at DX-brain (2010+)','SEER Combined Mets at DX-liver (2010+)',\n",
    "           'T value - based on AJCC 3rd (1988-2003)','N value - based on AJCC 3rd (1988-2003)',\n",
    "           'M value - based on AJCC 3rd (1988-2003)','SEER modified AJCC stage 3rd (1988-2003)',\n",
    "           ]\n",
    "\n",
    "df_filtered.drop(columns=drop_list, inplace=True)"
   ]
  },
  {
   "cell_type": "code",
   "execution_count": 24,
   "metadata": {},
   "outputs": [
    {
     "data": {
      "text/plain": [
       "Index(['Patient ID', 'Histologic Type ICD-O-3', 'Year of diagnosis', 'Sex',\n",
       "       'Race', 'Derived AJCC T, 6th ed (2004-2015)',\n",
       "       'Derived AJCC N, 6th ed (2004-2015)',\n",
       "       'Derived AJCC M, 6th ed (2004-2015)',\n",
       "       'Derived AJCC Stage Group, 6th ed (2004-2015)',\n",
       "       'Derived AJCC T, 7th ed (2010-2015)',\n",
       "       'Derived AJCC N, 7th ed (2010-2015)',\n",
       "       'Derived AJCC M, 7th ed (2010-2015)',\n",
       "       'Derived AJCC Stage Group, 7th ed (2010-2015)',\n",
       "       'Derived SEER Combined T (2016-2017)',\n",
       "       'Derived SEER Combined N (2016-2017)',\n",
       "       'Derived SEER Combined M (2016-2017)',\n",
       "       'Derived SEER Cmb Stg Grp (2016-2017)', 'Derived EOD 2018 T (2018+)',\n",
       "       'Derived EOD 2018 N (2018+)', 'Derived EOD 2018 M (2018+)',\n",
       "       'Derived EOD 2018 Stage Group (2018+)', 'Radiation recode',\n",
       "       'CS tumor size (2004-2015)', 'Tumor Size Summary (2016+)',\n",
       "       'Vital status recode (study cutoff used)', 'Survival months', 'Age',\n",
       "       'Marital Status', 'Chemotherapy', 'Surgery'],\n",
       "      dtype='object')"
      ]
     },
     "execution_count": 24,
     "metadata": {},
     "output_type": "execute_result"
    }
   ],
   "source": [
    "df_filtered.columns"
   ]
  },
  {
   "cell_type": "code",
   "execution_count": 25,
   "metadata": {},
   "outputs": [],
   "source": [
    "df_filtered_test = df_filtered.copy()"
   ]
  },
  {
   "cell_type": "code",
   "execution_count": 26,
   "metadata": {},
   "outputs": [
    {
     "data": {
      "text/plain": [
       "Index(['Patient ID', 'Histologic Type ICD-O-3', 'Year of diagnosis', 'Sex',\n",
       "       'Race', 'Derived AJCC Stage Group, 6th ed (2004-2015)',\n",
       "       'Derived AJCC Stage Group, 7th ed (2010-2015)',\n",
       "       'Derived SEER Cmb Stg Grp (2016-2017)',\n",
       "       'Derived EOD 2018 Stage Group (2018+)', 'Radiation recode',\n",
       "       'CS tumor size (2004-2015)', 'Tumor Size Summary (2016+)',\n",
       "       'Vital status recode (study cutoff used)', 'Survival months', 'Age',\n",
       "       'Marital Status', 'Chemotherapy', 'Surgery', 'T', 'N', 'M'],\n",
       "      dtype='object')"
      ]
     },
     "execution_count": 26,
     "metadata": {},
     "output_type": "execute_result"
    }
   ],
   "source": [
    "# Logic to combine the columns\n",
    "df_filtered_test['T'] = df_filtered_test['Derived AJCC T, 6th ed (2004-2015)']\n",
    "df_filtered_test.loc[df_filtered_test['Year of diagnosis'].between(2010, 2015), 'T'] = df_filtered_test['Derived AJCC T, 7th ed (2010-2015)']\n",
    "df_filtered_test.loc[df_filtered_test['Year of diagnosis'].between(2016, 2017), 'T'] = df_filtered_test['Derived SEER Combined T (2016-2017)']\n",
    "df_filtered_test.loc[df_filtered_test['Year of diagnosis'] >= 2018, 'T'] = df_filtered_test['Derived EOD 2018 T (2018+)']\n",
    "\n",
    "df_filtered_test['N'] = df_filtered_test['Derived AJCC N, 6th ed (2004-2015)']\n",
    "df_filtered_test.loc[df_filtered_test['Year of diagnosis'].between(2010, 2015), 'N'] = df_filtered_test['Derived AJCC N, 7th ed (2010-2015)']\n",
    "df_filtered_test.loc[df_filtered_test['Year of diagnosis'].between(2016, 2017), 'N'] = df_filtered_test['Derived SEER Combined N (2016-2017)']\n",
    "df_filtered_test.loc[df_filtered_test['Year of diagnosis'] >= 2018, 'N'] = df_filtered_test['Derived EOD 2018 N (2018+)']\n",
    "\n",
    "df_filtered_test['M'] = df_filtered_test['Derived AJCC M, 6th ed (2004-2015)']\n",
    "df_filtered_test.loc[df_filtered_test['Year of diagnosis'].between(2010, 2015), 'M'] = df_filtered_test['Derived AJCC M, 7th ed (2010-2015)']\n",
    "df_filtered_test.loc[df_filtered_test['Year of diagnosis'].between(2016, 2017), 'M'] = df_filtered_test['Derived SEER Combined M (2016-2017)']\n",
    "df_filtered_test.loc[df_filtered_test['Year of diagnosis'] >= 2018, 'M'] = df_filtered_test['Derived EOD 2018 M (2018+)']\n",
    "\n",
    "# Dropping old columns\n",
    "columns_to_drop = [\n",
    "    'Derived AJCC T, 6th ed (2004-2015)',\n",
    "    'Derived AJCC N, 6th ed (2004-2015)',\n",
    "    'Derived AJCC M, 6th ed (2004-2015)',\n",
    "    'Derived AJCC T, 7th ed (2010-2015)',\n",
    "    'Derived AJCC N, 7th ed (2010-2015)',\n",
    "    'Derived AJCC M, 7th ed (2010-2015)',\n",
    "    'Derived SEER Combined T (2016-2017)',\n",
    "    'Derived SEER Combined N (2016-2017)',\n",
    "    'Derived SEER Combined M (2016-2017)',\n",
    "    'Derived EOD 2018 T (2018+)',\n",
    "    'Derived EOD 2018 N (2018+)',\n",
    "    'Derived EOD 2018 M (2018+)'\n",
    "]\n",
    "\n",
    "df_filtered_test.drop(columns=columns_to_drop, inplace=True)\n",
    "\n",
    "df_filtered_test.columns"
   ]
  },
  {
   "cell_type": "code",
   "execution_count": 27,
   "metadata": {},
   "outputs": [
    {
     "data": {
      "text/plain": [
       "T\n",
       "T4          425\n",
       "T3          171\n",
       "T2a         165\n",
       "T2          160\n",
       "TX          137\n",
       "T1           94\n",
       "T1b          77\n",
       "T1a          75\n",
       "T2b          44\n",
       "c4           31\n",
       "c3           29\n",
       "T1c          26\n",
       "cX           18\n",
       "p2A          15\n",
       "c2A          14\n",
       "T2NOS        12\n",
       "c2B          11\n",
       "p1A          10\n",
       "c1A          10\n",
       "T0           10\n",
       "p1B          10\n",
       "p3            7\n",
       "c1B           7\n",
       "T1mi          7\n",
       "Blank(s)      4\n",
       "c2            2\n",
       "p2B           2\n",
       "p2            1\n",
       "Name: count, dtype: int64"
      ]
     },
     "execution_count": 27,
     "metadata": {},
     "output_type": "execute_result"
    }
   ],
   "source": [
    "df_filtered_test['T'].value_counts(dropna=False)"
   ]
  },
  {
   "cell_type": "code",
   "execution_count": 28,
   "metadata": {},
   "outputs": [
    {
     "data": {
      "text/plain": [
       "N\n",
       "N2          554\n",
       "N0          434\n",
       "N3          206\n",
       "N1          125\n",
       "NX           84\n",
       "c2           53\n",
       "c0           33\n",
       "p0           25\n",
       "c3           19\n",
       "c1           13\n",
       "p1            8\n",
       "cX            8\n",
       "p2            7\n",
       "Blank(s)      4\n",
       "p3            1\n",
       "Name: count, dtype: int64"
      ]
     },
     "execution_count": 28,
     "metadata": {},
     "output_type": "execute_result"
    }
   ],
   "source": [
    "df_filtered_test['N'].value_counts(dropna=False)"
   ]
  },
  {
   "cell_type": "code",
   "execution_count": 29,
   "metadata": {},
   "outputs": [
    {
     "data": {
      "text/plain": [
       "M\n",
       "M0          691\n",
       "M1          290\n",
       "M1b         235\n",
       "c0           84\n",
       "M1a          77\n",
       "M1c          76\n",
       "c1B          36\n",
       "MX           31\n",
       "p1B          22\n",
       "c1A          12\n",
       "c1            8\n",
       "Blank(s)      4\n",
       "M1NOS         3\n",
       "p1A           3\n",
       "p1            2\n",
       "Name: count, dtype: int64"
      ]
     },
     "execution_count": 29,
     "metadata": {},
     "output_type": "execute_result"
    }
   ],
   "source": [
    "df_filtered_test['M'].value_counts(dropna=False)"
   ]
  },
  {
   "cell_type": "code",
   "execution_count": 30,
   "metadata": {},
   "outputs": [],
   "source": [
    "def replace_first_char(row, column_name):\n",
    "    # Check if the value is a string and starts with 'p' or 'c'\n",
    "    if isinstance(row, str) and row[0] in ['p', 'c']:\n",
    "        return column_name + row[1:]\n",
    "    else:\n",
    "        return row\n",
    "\n",
    "# Applying the function to each column\n",
    "df_filtered_test['T'] = df_filtered_test['T'].apply(lambda x: replace_first_char(x, 'T'))\n",
    "df_filtered_test['N'] = df_filtered_test['N'].apply(lambda x: replace_first_char(x, 'N'))\n",
    "df_filtered_test['M'] = df_filtered_test['M'].apply(lambda x: replace_first_char(x, 'M'))"
   ]
  },
  {
   "cell_type": "code",
   "execution_count": 31,
   "metadata": {},
   "outputs": [
    {
     "data": {
      "text/plain": [
       "T\n",
       "T4          456\n",
       "T3          207\n",
       "T2a         165\n",
       "T2          163\n",
       "TX          155\n",
       "T1           94\n",
       "T1b          77\n",
       "T1a          75\n",
       "T2b          44\n",
       "T2A          29\n",
       "T1c          26\n",
       "T1A          20\n",
       "T1B          17\n",
       "T2B          13\n",
       "T2NOS        12\n",
       "T0           10\n",
       "T1mi          7\n",
       "Blank(s)      4\n",
       "Name: count, dtype: int64"
      ]
     },
     "execution_count": 31,
     "metadata": {},
     "output_type": "execute_result"
    }
   ],
   "source": [
    "df_filtered_test['T'].value_counts(dropna=False)"
   ]
  },
  {
   "cell_type": "code",
   "execution_count": 32,
   "metadata": {},
   "outputs": [
    {
     "data": {
      "text/plain": [
       "N\n",
       "N2          614\n",
       "N0          492\n",
       "N3          226\n",
       "N1          146\n",
       "NX           92\n",
       "Blank(s)      4\n",
       "Name: count, dtype: int64"
      ]
     },
     "execution_count": 32,
     "metadata": {},
     "output_type": "execute_result"
    }
   ],
   "source": [
    "df_filtered_test['N'].value_counts(dropna=False)    "
   ]
  },
  {
   "cell_type": "code",
   "execution_count": 33,
   "metadata": {},
   "outputs": [
    {
     "data": {
      "text/plain": [
       "M\n",
       "M0          775\n",
       "M1          300\n",
       "M1b         235\n",
       "M1a          77\n",
       "M1c          76\n",
       "M1B          58\n",
       "MX           31\n",
       "M1A          15\n",
       "Blank(s)      4\n",
       "M1NOS         3\n",
       "Name: count, dtype: int64"
      ]
     },
     "execution_count": 33,
     "metadata": {},
     "output_type": "execute_result"
    }
   ],
   "source": [
    "df_filtered_test['M'].value_counts(dropna=False)"
   ]
  },
  {
   "cell_type": "code",
   "execution_count": 34,
   "metadata": {},
   "outputs": [],
   "source": [
    "# Dropping rows when T = '88', 'Blank(s)', 'Not applicable', 'TX', 'Tis'\n",
    "df_filtered_test = df_filtered_test[~df_filtered_test['T'].isin(['88', 'Blank(s)', 'Not applicable', 'TX', 'Tis', 'T0'])].copy()\n",
    "\n",
    "# Dropping rows when N = '88', 'Blank(s)', 'Not applicable', 'NX'\n",
    "df_filtered_test = df_filtered_test[~df_filtered_test['N'].isin(['88', 'Blank(s)', 'Not applicable', 'NX'])].copy()\n",
    "\n",
    "# Dropping rows when M = '88', 'Blank(s)', 'Not applicable'\n",
    "df_filtered_test = df_filtered_test[~df_filtered_test['M'].isin(['88', 'Blank(s)', 'Not applicable'])].copy()"
   ]
  },
  {
   "cell_type": "code",
   "execution_count": 35,
   "metadata": {},
   "outputs": [],
   "source": [
    "df_filtered_test2 = df_filtered_test.copy()"
   ]
  },
  {
   "cell_type": "code",
   "execution_count": 36,
   "metadata": {},
   "outputs": [
    {
     "name": "stdout",
     "output_type": "stream",
     "text": [
      "T\n",
      "T1    309\n",
      "T2    415\n",
      "T3    203\n",
      "T4    430\n",
      "Name: count, dtype: int64\n"
     ]
    }
   ],
   "source": [
    "def extract_main_category(value):\n",
    "    if isinstance(value, str):\n",
    "        # Find the first occurrence of a digit in the string\n",
    "        for i, char in enumerate(value):\n",
    "            if char.isdigit():\n",
    "                # Return the string up to the second digit (inclusive)\n",
    "                return value[:i+1]\n",
    "    return value\n",
    "\n",
    "# Apply the function to the 'T' column\n",
    "df_filtered_test2['T'] = df_filtered_test2['T'].apply(extract_main_category)\n",
    "\n",
    "# Display the updated DataFrame\n",
    "print(df_filtered_test2['T'].value_counts(dropna=False).sort_index())"
   ]
  },
  {
   "cell_type": "code",
   "execution_count": 37,
   "metadata": {},
   "outputs": [
    {
     "name": "stdout",
     "output_type": "stream",
     "text": [
      "N\n",
      "N0    460\n",
      "N1    136\n",
      "N2    559\n",
      "N3    202\n",
      "Name: count, dtype: int64\n"
     ]
    }
   ],
   "source": [
    "# Apply the function to the 'N' column\n",
    "df_filtered_test2['N'] = df_filtered_test2['N'].apply(extract_main_category)\n",
    "\n",
    "# Display the updated DataFrame\n",
    "print(df_filtered_test2['N'].value_counts(dropna=False).sort_index())"
   ]
  },
  {
   "cell_type": "code",
   "execution_count": 38,
   "metadata": {},
   "outputs": [
    {
     "name": "stdout",
     "output_type": "stream",
     "text": [
      "M\n",
      "M0    718\n",
      "M1    630\n",
      "MX      9\n",
      "Name: count, dtype: int64\n"
     ]
    }
   ],
   "source": [
    "# Apply the function to the 'M' column\n",
    "df_filtered_test2['M'] = df_filtered_test2['M'].apply(extract_main_category)\n",
    "\n",
    "# Display the updated DataFrame\n",
    "print(df_filtered_test2['M'].value_counts(dropna=False).sort_index())"
   ]
  },
  {
   "cell_type": "markdown",
   "metadata": {},
   "source": [
    "Citing from xxx, we need to drop MX"
   ]
  },
  {
   "cell_type": "code",
   "execution_count": 39,
   "metadata": {},
   "outputs": [],
   "source": [
    "# drop MX in M column\n",
    "df_filtered_test2 = df_filtered_test2[~df_filtered_test2['M'].isin(['MX'])].copy()"
   ]
  },
  {
   "cell_type": "code",
   "execution_count": 40,
   "metadata": {},
   "outputs": [
    {
     "data": {
      "text/plain": [
       "M\n",
       "M0    718\n",
       "M1    630\n",
       "Name: count, dtype: int64"
      ]
     },
     "execution_count": 40,
     "metadata": {},
     "output_type": "execute_result"
    }
   ],
   "source": [
    "df_filtered_test2['M'].value_counts(dropna=False).sort_index()"
   ]
  },
  {
   "cell_type": "markdown",
   "metadata": {},
   "source": [
    "## Group stage"
   ]
  },
  {
   "cell_type": "code",
   "execution_count": 41,
   "metadata": {},
   "outputs": [
    {
     "data": {
      "text/plain": [
       "Index(['Patient ID', 'Histologic Type ICD-O-3', 'Year of diagnosis', 'Sex',\n",
       "       'Race', 'Derived AJCC Stage Group, 6th ed (2004-2015)',\n",
       "       'Derived AJCC Stage Group, 7th ed (2010-2015)',\n",
       "       'Derived SEER Cmb Stg Grp (2016-2017)',\n",
       "       'Derived EOD 2018 Stage Group (2018+)', 'Radiation recode',\n",
       "       'CS tumor size (2004-2015)', 'Tumor Size Summary (2016+)',\n",
       "       'Vital status recode (study cutoff used)', 'Survival months', 'Age',\n",
       "       'Marital Status', 'Chemotherapy', 'Surgery', 'T', 'N', 'M'],\n",
       "      dtype='object')"
      ]
     },
     "execution_count": 41,
     "metadata": {},
     "output_type": "execute_result"
    }
   ],
   "source": [
    "df_filtered_test2.columns  "
   ]
  },
  {
   "cell_type": "code",
   "execution_count": 42,
   "metadata": {},
   "outputs": [],
   "source": [
    "# Logic to combine the columns\n",
    "df_filtered_test2['SEER Combined/AJCC Cancer Stage Group'] = df_filtered_test2['Derived AJCC Stage Group, 6th ed (2004-2015)']\n",
    "df_filtered_test2.loc[df_filtered_test2['Year of diagnosis'].between(2010, 2015), 'SEER Combined/AJCC Cancer Stage Group'] = df_filtered_test2['Derived AJCC Stage Group, 7th ed (2010-2015)']\n",
    "df_filtered_test2.loc[df_filtered_test2['Year of diagnosis'].between(2016, 2017), 'SEER Combined/AJCC Cancer Stage Group'] = df_filtered_test2['Derived SEER Cmb Stg Grp (2016-2017)']\n",
    "df_filtered_test2.loc[df_filtered_test2['Year of diagnosis'] >= 2018, 'SEER Combined/AJCC Cancer Stage Group'] = df_filtered_test2['Derived EOD 2018 Stage Group (2018+)']\n",
    "\n",
    "# dropping old columns\n",
    "columns_to_drop = [\n",
    "    'Derived AJCC Stage Group, 6th ed (2004-2015)',\n",
    "    'Derived AJCC Stage Group, 7th ed (2010-2015)',\n",
    "    'Derived SEER Cmb Stg Grp (2016-2017)',\n",
    "    'Derived EOD 2018 Stage Group (2018+)'\n",
    "]\n",
    "\n",
    "df_filtered_test2.drop(columns=columns_to_drop, inplace=True)"
   ]
  },
  {
   "cell_type": "code",
   "execution_count": 43,
   "metadata": {},
   "outputs": [
    {
     "data": {
      "text/plain": [
       "Grouped Stage\n",
       "I      255\n",
       "II     111\n",
       "III    351\n",
       "IV     630\n",
       "UNK      1\n",
       "Name: count, dtype: int64"
      ]
     },
     "execution_count": 43,
     "metadata": {},
     "output_type": "execute_result"
    }
   ],
   "source": [
    "def categorize_stage(df, column_name):\n",
    "    # Define the mapping for each stage to its group\n",
    "    stage_mapping = {\n",
    "        '1A': 'I', '1A1': 'I', '1A2': 'I', '1A3': 'I', '1B': 'I', 'IA': 'I', 'IB': 'I',\n",
    "        '2': 'II', '2A': 'II', '2B': 'II', 'II': 'II', 'IIA': 'II', 'IIB': 'II',\n",
    "        '3A': 'III', '3B': 'III', '3C': 'III', 'IIIA': 'III', 'IIIB': 'III',\n",
    "        '4': 'IV', '4A': 'IV', '4B': 'IV', 'IV': 'IV',\n",
    "        '99': 'UNK', 'UNK Stage': 'UNK'\n",
    "    }\n",
    "\n",
    "    # Apply the mapping to the specified column\n",
    "    df['Grouped Stage'] = df[column_name].map(stage_mapping).fillna('UNK')\n",
    "\n",
    "    return df\n",
    "\n",
    "\n",
    "df_filtered_test2 = categorize_stage(df_filtered_test2, 'SEER Combined/AJCC Cancer Stage Group')\n",
    "\n",
    "df_filtered_test2['Grouped Stage'].value_counts(dropna=False).sort_index()"
   ]
  },
  {
   "cell_type": "code",
   "execution_count": 44,
   "metadata": {},
   "outputs": [],
   "source": [
    "# drop old column\n",
    "df_filtered_test2.drop(columns='SEER Combined/AJCC Cancer Stage Group', inplace=True)\n",
    "\n",
    "# drop UNK rows\n",
    "df_filtered_test2 = df_filtered_test2[df_filtered_test2['Grouped Stage'] != 'UNK'].copy()"
   ]
  },
  {
   "cell_type": "markdown",
   "metadata": {},
   "source": [
    "## Tumor size"
   ]
  },
  {
   "cell_type": "code",
   "execution_count": 45,
   "metadata": {},
   "outputs": [],
   "source": [
    "# Logic to combine the columns\n",
    "df_filtered_test2['Tumor Size'] = df_filtered_test2['CS tumor size (2004-2015)']\n",
    "df_filtered_test2.loc[df_filtered_test2['Year of diagnosis'] >= 2016, 'Tumor Size'] = df_filtered_test2['Tumor Size Summary (2016+)']\n",
    "\n",
    "\n",
    "# drop old columns\n",
    "columns_to_drop = [\n",
    "    'CS tumor size (2004-2015)',\n",
    "    'Tumor Size Summary (2016+)'\n",
    "]\n",
    "\n",
    "df_filtered_test2.drop(columns=columns_to_drop, inplace=True)\n",
    "\n"
   ]
  },
  {
   "cell_type": "code",
   "execution_count": 46,
   "metadata": {},
   "outputs": [
    {
     "data": {
      "text/plain": [
       "Tumor Size\n",
       "999    160\n",
       "30      44\n",
       "25      42\n",
       "40      40\n",
       "15      38\n",
       "20      38\n",
       "35      33\n",
       "50      32\n",
       "60      27\n",
       "22      23\n",
       "18      23\n",
       "80      23\n",
       "28      22\n",
       "12      21\n",
       "24      21\n",
       "23      20\n",
       "55      19\n",
       "90      19\n",
       "13      18\n",
       "17      18\n",
       "10      17\n",
       "32      17\n",
       "70      17\n",
       "31      16\n",
       "21      16\n",
       "16      16\n",
       "45      15\n",
       "27      14\n",
       "11      14\n",
       "29      14\n",
       "14      14\n",
       "36      13\n",
       "19      12\n",
       "34      11\n",
       "42      11\n",
       "100     11\n",
       "65      11\n",
       "39      11\n",
       "43      10\n",
       "41      10\n",
       "26      10\n",
       "44      10\n",
       "56       9\n",
       "66       9\n",
       "75       9\n",
       "46       9\n",
       "52       9\n",
       "53       8\n",
       "38       8\n",
       "47       8\n",
       "9        8\n",
       "999      7\n",
       "37       7\n",
       "78       7\n",
       "62       7\n",
       "54       7\n",
       "48       7\n",
       "8        6\n",
       "59       6\n",
       "63       6\n",
       "77       6\n",
       "33       6\n",
       "64       6\n",
       "120      5\n",
       "72       5\n",
       "7        5\n",
       "57       5\n",
       "040      5\n",
       "130      5\n",
       "73       4\n",
       "140      4\n",
       "68       4\n",
       "85       4\n",
       "030      4\n",
       "67       4\n",
       "51       4\n",
       "83       4\n",
       "91       4\n",
       "82       4\n",
       "49       4\n",
       "87       4\n",
       "97       3\n",
       "98       3\n",
       "029      3\n",
       "92       3\n",
       "94       3\n",
       "110      3\n",
       "115      3\n",
       "060      3\n",
       "61       3\n",
       "103      3\n",
       "79       3\n",
       "71       3\n",
       "58       3\n",
       "106      3\n",
       "015      2\n",
       "129      2\n",
       "022      2\n",
       "104      2\n",
       "76       2\n",
       "043      2\n",
       "058      2\n",
       "010      2\n",
       "016      2\n",
       "018      2\n",
       "84       2\n",
       "74       2\n",
       "101      2\n",
       "69       2\n",
       "93       2\n",
       "102      2\n",
       "020      2\n",
       "109      2\n",
       "127      2\n",
       "6        2\n",
       "121      2\n",
       "96       2\n",
       "048      2\n",
       "057      2\n",
       "994      2\n",
       "031      1\n",
       "025      1\n",
       "032      1\n",
       "118      1\n",
       "130      1\n",
       "067      1\n",
       "013      1\n",
       "108      1\n",
       "077      1\n",
       "050      1\n",
       "026      1\n",
       "045      1\n",
       "113      1\n",
       "95       1\n",
       "033      1\n",
       "147      1\n",
       "167      1\n",
       "154      1\n",
       "117      1\n",
       "990      1\n",
       "142      1\n",
       "136      1\n",
       "137      1\n",
       "3        1\n",
       "037      1\n",
       "095      1\n",
       "009      1\n",
       "157      1\n",
       "111      1\n",
       "135      1\n",
       "2        1\n",
       "86       1\n",
       "1        1\n",
       "126      1\n",
       "125      1\n",
       "81       1\n",
       "992      1\n",
       "5        1\n",
       "991      1\n",
       "035      1\n",
       "144      1\n",
       "023      1\n",
       "145      1\n",
       "073      1\n",
       "036      1\n",
       "064      1\n",
       "008      1\n",
       "105      1\n",
       "055      1\n",
       "021      1\n",
       "88       1\n",
       "Name: count, dtype: int64"
      ]
     },
     "execution_count": 46,
     "metadata": {},
     "output_type": "execute_result"
    }
   ],
   "source": [
    "df_filtered_test2['Tumor Size'].value_counts(dropna=False)"
   ]
  },
  {
   "cell_type": "code",
   "execution_count": 47,
   "metadata": {},
   "outputs": [],
   "source": [
    "# Convert the 'CS Tumor Size (2004-2015)' column to strings\n",
    "df_filtered_test2['Tumor Size'] = df_filtered_test2['Tumor Size'].astype(str)\n",
    "\n",
    "# Strip leading zeros from the strings\n",
    "df_filtered_test2['Tumor Size'] = df_filtered_test2['Tumor Size'].str.lstrip('0')\n",
    "\n",
    "# Replace empty strings with '0' (for cases where original value was '000')\n",
    "df_filtered_test2['Tumor Size'].replace('', '0', inplace=True)\n",
    "\n",
    "# Filter the DataFrame to keep only valid numeric values\n",
    "df_filtered_test2 = df_filtered_test2[df_filtered_test2['Tumor Size'].apply(lambda x: x.isnumeric() and 1 <= int(x) <= 988 or x == '989')]\n",
    "\n",
    "df_filtered_test2['Tumor Size'] = df_filtered_test2['Tumor Size'].astype(int)"
   ]
  },
  {
   "cell_type": "code",
   "execution_count": 48,
   "metadata": {},
   "outputs": [
    {
     "data": {
      "text/plain": [
       "Tumor Size\n",
       "30     48\n",
       "40     45\n",
       "25     43\n",
       "15     40\n",
       "20     40\n",
       "35     34\n",
       "50     33\n",
       "60     30\n",
       "18     25\n",
       "22     25\n",
       "80     23\n",
       "28     22\n",
       "24     21\n",
       "23     21\n",
       "12     21\n",
       "55     20\n",
       "10     19\n",
       "90     19\n",
       "13     19\n",
       "32     18\n",
       "16     18\n",
       "17     18\n",
       "29     17\n",
       "70     17\n",
       "31     17\n",
       "21     17\n",
       "45     16\n",
       "11     14\n",
       "14     14\n",
       "27     14\n",
       "36     14\n",
       "43     12\n",
       "19     12\n",
       "26     11\n",
       "34     11\n",
       "42     11\n",
       "65     11\n",
       "39     11\n",
       "100    11\n",
       "41     10\n",
       "44     10\n",
       "75      9\n",
       "46      9\n",
       "9       9\n",
       "66      9\n",
       "56      9\n",
       "48      9\n",
       "52      9\n",
       "53      8\n",
       "37      8\n",
       "38      8\n",
       "47      8\n",
       "62      7\n",
       "57      7\n",
       "64      7\n",
       "78      7\n",
       "54      7\n",
       "8       7\n",
       "77      7\n",
       "33      7\n",
       "59      6\n",
       "63      6\n",
       "130     6\n",
       "73      5\n",
       "120     5\n",
       "72      5\n",
       "67      5\n",
       "7       5\n",
       "58      5\n",
       "82      4\n",
       "51      4\n",
       "91      4\n",
       "68      4\n",
       "85      4\n",
       "83      4\n",
       "140     4\n",
       "49      4\n",
       "87      4\n",
       "94      3\n",
       "97      3\n",
       "79      3\n",
       "98      3\n",
       "110     3\n",
       "103     3\n",
       "106     3\n",
       "71      3\n",
       "115     3\n",
       "92      3\n",
       "61      3\n",
       "84      2\n",
       "129     2\n",
       "95      2\n",
       "101     2\n",
       "69      2\n",
       "6       2\n",
       "93      2\n",
       "121     2\n",
       "109     2\n",
       "74      2\n",
       "127     2\n",
       "104     2\n",
       "76      2\n",
       "102     2\n",
       "96      2\n",
       "126     1\n",
       "108     1\n",
       "3       1\n",
       "137     1\n",
       "136     1\n",
       "142     1\n",
       "117     1\n",
       "154     1\n",
       "167     1\n",
       "147     1\n",
       "86      1\n",
       "113     1\n",
       "105     1\n",
       "135     1\n",
       "145     1\n",
       "125     1\n",
       "144     1\n",
       "5       1\n",
       "157     1\n",
       "118     1\n",
       "1       1\n",
       "111     1\n",
       "81      1\n",
       "2       1\n",
       "88      1\n",
       "Name: count, dtype: int64"
      ]
     },
     "execution_count": 48,
     "metadata": {},
     "output_type": "execute_result"
    }
   ],
   "source": [
    "df_filtered_test2['Tumor Size'].value_counts(dropna=False)"
   ]
  },
  {
   "cell_type": "code",
   "execution_count": 49,
   "metadata": {},
   "outputs": [
    {
     "data": {
      "text/plain": [
       "(1175, 17)"
      ]
     },
     "execution_count": 49,
     "metadata": {},
     "output_type": "execute_result"
    }
   ],
   "source": [
    "df_filtered_test2.shape"
   ]
  },
  {
   "cell_type": "code",
   "execution_count": 50,
   "metadata": {},
   "outputs": [
    {
     "data": {
      "text/plain": [
       "Vital status recode (study cutoff used)\n",
       "Dead     947\n",
       "Alive    228\n",
       "Name: count, dtype: int64"
      ]
     },
     "execution_count": 50,
     "metadata": {},
     "output_type": "execute_result"
    }
   ],
   "source": [
    "df_filtered_test2['Vital status recode (study cutoff used)'].value_counts(dropna=False)"
   ]
  },
  {
   "cell_type": "code",
   "execution_count": 51,
   "metadata": {},
   "outputs": [
    {
     "data": {
      "text/plain": [
       "(947, 17)"
      ]
     },
     "execution_count": 51,
     "metadata": {},
     "output_type": "execute_result"
    }
   ],
   "source": [
    "df_filtered_test2[df_filtered_test2['Vital status recode (study cutoff used)']=='Dead'].shape"
   ]
  },
  {
   "cell_type": "markdown",
   "metadata": {},
   "source": [
    "Survival months"
   ]
  },
  {
   "cell_type": "code",
   "execution_count": 58,
   "metadata": {},
   "outputs": [],
   "source": [
    "df_filtered_test2['Survival Months'] = df_filtered_test2['Survival months'].astype(int)\n",
    "\n",
    "# drop old column\n",
    "df_filtered_test2.drop(columns='Survival months', inplace=True)"
   ]
  },
  {
   "cell_type": "code",
   "execution_count": 62,
   "metadata": {},
   "outputs": [
    {
     "data": {
      "image/png": "[encoded data removed]",
      "text/plain": [
       "<Figure size 1000x600 with 1 Axes>"
      ]
     },
     "metadata": {},
     "output_type": "display_data"
    }
   ],
   "source": [
    "# plot the survival months when the patient is alive\n",
    "plt.figure(figsize=(10, 6))\n",
    "sns.histplot(df_filtered_test2[df_filtered_test2['Vital status recode (study cutoff used)'] == 'Alive']['Survival Months'], kde=True)\n",
    "plt.title('Survival Months for Alive Patients')\n",
    "plt.show()"
   ]
  },
  {
   "cell_type": "code",
   "execution_count": 63,
   "metadata": {},
   "outputs": [],
   "source": [
    "# only keep the patients that are dead\n",
    "df_filtered_test2 = df_filtered_test2[df_filtered_test2['Vital status recode (study cutoff used)'] == 'Dead'].copy()\n",
    "\n",
    "# drop the 'Vital status recode (study cutoff used)' column\n",
    "df_filtered_test2.drop(columns='Vital status recode (study cutoff used)', inplace=True)"
   ]
  },
  {
   "cell_type": "code",
   "execution_count": 64,
   "metadata": {},
   "outputs": [
    {
     "data": {
      "text/plain": [
       "(947, 16)"
      ]
     },
     "metadata": {},
     "output_type": "display_data"
    },
    {
     "data": {
      "text/html": [
       "<div>\n",
       "<style scoped>\n",
       "    .dataframe tbody tr th:only-of-type {\n",
       "        vertical-align: middle;\n",
       "    }\n",
       "\n",
       "    .dataframe tbody tr th {\n",
       "        vertical-align: top;\n",
       "    }\n",
       "\n",
       "    .dataframe thead th {\n",
       "        text-align: right;\n",
       "    }\n",
       "</style>\n",
       "<table border=\"1\" class=\"dataframe\">\n",
       "  <thead>\n",
       "    <tr style=\"text-align: right;\">\n",
       "      <th></th>\n",
       "      <th>Patient ID</th>\n",
       "      <th>Histologic Type ICD-O-3</th>\n",
       "      <th>Year of diagnosis</th>\n",
       "      <th>Sex</th>\n",
       "      <th>Race</th>\n",
       "      <th>Radiation recode</th>\n",
       "      <th>Age</th>\n",
       "      <th>Marital Status</th>\n",
       "      <th>Chemotherapy</th>\n",
       "      <th>Surgery</th>\n",
       "      <th>T</th>\n",
       "      <th>N</th>\n",
       "      <th>M</th>\n",
       "      <th>Grouped Stage</th>\n",
       "      <th>Tumor Size</th>\n",
       "      <th>Survival Months</th>\n",
       "    </tr>\n",
       "  </thead>\n",
       "  <tbody>\n",
       "    <tr>\n",
       "      <th>154636</th>\n",
       "      <td>62012497</td>\n",
       "      <td>8045</td>\n",
       "      <td>2004</td>\n",
       "      <td>Male</td>\n",
       "      <td>White</td>\n",
       "      <td>0</td>\n",
       "      <td>65-69 years</td>\n",
       "      <td>Married</td>\n",
       "      <td>0</td>\n",
       "      <td>0</td>\n",
       "      <td>T2</td>\n",
       "      <td>N2</td>\n",
       "      <td>M1</td>\n",
       "      <td>IV</td>\n",
       "      <td>40</td>\n",
       "      <td>1</td>\n",
       "    </tr>\n",
       "    <tr>\n",
       "      <th>154644</th>\n",
       "      <td>62010191</td>\n",
       "      <td>8045</td>\n",
       "      <td>2004</td>\n",
       "      <td>Female</td>\n",
       "      <td>White</td>\n",
       "      <td>1</td>\n",
       "      <td>35-49 years</td>\n",
       "      <td>Married</td>\n",
       "      <td>1</td>\n",
       "      <td>1</td>\n",
       "      <td>T2</td>\n",
       "      <td>N2</td>\n",
       "      <td>M0</td>\n",
       "      <td>III</td>\n",
       "      <td>40</td>\n",
       "      <td>97</td>\n",
       "    </tr>\n",
       "    <tr>\n",
       "      <th>154707</th>\n",
       "      <td>62055106</td>\n",
       "      <td>8045</td>\n",
       "      <td>2004</td>\n",
       "      <td>Female</td>\n",
       "      <td>White</td>\n",
       "      <td>1</td>\n",
       "      <td>35-49 years</td>\n",
       "      <td>Single</td>\n",
       "      <td>1</td>\n",
       "      <td>1</td>\n",
       "      <td>T1</td>\n",
       "      <td>N2</td>\n",
       "      <td>M0</td>\n",
       "      <td>III</td>\n",
       "      <td>30</td>\n",
       "      <td>14</td>\n",
       "    </tr>\n",
       "    <tr>\n",
       "      <th>154987</th>\n",
       "      <td>53263519</td>\n",
       "      <td>8045</td>\n",
       "      <td>2004</td>\n",
       "      <td>Male</td>\n",
       "      <td>Black</td>\n",
       "      <td>0</td>\n",
       "      <td>70-74 years</td>\n",
       "      <td>Single</td>\n",
       "      <td>0</td>\n",
       "      <td>1</td>\n",
       "      <td>T2</td>\n",
       "      <td>N0</td>\n",
       "      <td>M0</td>\n",
       "      <td>I</td>\n",
       "      <td>40</td>\n",
       "      <td>18</td>\n",
       "    </tr>\n",
       "    <tr>\n",
       "      <th>157075</th>\n",
       "      <td>54207748</td>\n",
       "      <td>8045</td>\n",
       "      <td>2004</td>\n",
       "      <td>Female</td>\n",
       "      <td>White</td>\n",
       "      <td>0</td>\n",
       "      <td>75-79 years</td>\n",
       "      <td>Unknown/Other</td>\n",
       "      <td>0</td>\n",
       "      <td>0</td>\n",
       "      <td>T2</td>\n",
       "      <td>N0</td>\n",
       "      <td>M0</td>\n",
       "      <td>I</td>\n",
       "      <td>45</td>\n",
       "      <td>57</td>\n",
       "    </tr>\n",
       "  </tbody>\n",
       "</table>\n",
       "</div>"
      ],
      "text/plain": [
       "        Patient ID  Histologic Type ICD-O-3  Year of diagnosis     Sex   Race  \\\n",
       "154636    62012497                     8045               2004    Male  White   \n",
       "154644    62010191                     8045               2004  Female  White   \n",
       "154707    62055106                     8045               2004  Female  White   \n",
       "154987    53263519                     8045               2004    Male  Black   \n",
       "157075    54207748                     8045               2004  Female  White   \n",
       "\n",
       "        Radiation recode          Age Marital Status  Chemotherapy  Surgery  \\\n",
       "154636                 0  65-69 years        Married             0        0   \n",
       "154644                 1  35-49 years        Married             1        1   \n",
       "154707                 1  35-49 years         Single             1        1   \n",
       "154987                 0  70-74 years         Single             0        1   \n",
       "157075                 0  75-79 years  Unknown/Other             0        0   \n",
       "\n",
       "         T   N   M Grouped Stage  Tumor Size  Survival Months  \n",
       "154636  T2  N2  M1            IV          40                1  \n",
       "154644  T2  N2  M0           III          40               97  \n",
       "154707  T1  N2  M0           III          30               14  \n",
       "154987  T2  N0  M0             I          40               18  \n",
       "157075  T2  N0  M0             I          45               57  "
      ]
     },
     "metadata": {},
     "output_type": "display_data"
    }
   ],
   "source": [
    "# check shape and head\n",
    "display(df_filtered_test2.shape, df_filtered_test2.head())"
   ]
  },
  {
   "cell_type": "code",
   "execution_count": null,
   "metadata": {},
   "outputs": [],
   "source": [
    "# save the cleaned data\n",
    "df_filtered_test2.to_csv('Data\\cleaned_data.csv', index=False)"
   ]
  }
 ],
 "metadata": {
  "kernelspec": {
   "display_name": "Python 3",
   "language": "python",
   "name": "python3"
  },
  "language_info": {
   "codemirror_mode": {
    "name": "ipython",
    "version": 3
   },
   "file_extension": ".py",
   "mimetype": "text/x-python",
   "name": "python",
   "nbconvert_exporter": "python",
   "pygments_lexer": "ipython3",
   "version": "3.11.4"
  }
 },
 "nbformat": 4,
 "nbformat_minor": 2
}
