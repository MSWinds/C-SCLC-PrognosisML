{
 "cells": [
  {
   "cell_type": "code",
   "execution_count": 41,
   "metadata": {},
   "outputs": [],
   "source": [
    "import pandas as pd\n",
    "import numpy as np"
   ]
  },
  {
   "cell_type": "code",
   "execution_count": 42,
   "metadata": {},
   "outputs": [],
   "source": [
    "df = pd.read_csv('Data/SEER_Raw_Data.csv')"
   ]
  },
  {
   "cell_type": "code",
   "execution_count": 43,
   "metadata": {},
   "outputs": [
    {
     "data": {
      "text/html": [
       "<div>\n",
       "<style scoped>\n",
       "    .dataframe tbody tr th:only-of-type {\n",
       "        vertical-align: middle;\n",
       "    }\n",
       "\n",
       "    .dataframe tbody tr th {\n",
       "        vertical-align: top;\n",
       "    }\n",
       "\n",
       "    .dataframe thead th {\n",
       "        text-align: right;\n",
       "    }\n",
       "</style>\n",
       "<table border=\"1\" class=\"dataframe\">\n",
       "  <thead>\n",
       "    <tr style=\"text-align: right;\">\n",
       "      <th></th>\n",
       "      <th>ICD-O-3 Hist/behav</th>\n",
       "      <th>Primary Site - labeled</th>\n",
       "    </tr>\n",
       "  </thead>\n",
       "  <tbody>\n",
       "    <tr>\n",
       "      <th>0</th>\n",
       "      <td>9699/3: Extranodal marginal zone lymphoma of m...</td>\n",
       "      <td>C34.1-Upper lobe, lung</td>\n",
       "    </tr>\n",
       "    <tr>\n",
       "      <th>1</th>\n",
       "      <td>8250/3: Bronchiolo-alveolar adenocarcinoma, NOS</td>\n",
       "      <td>C34.3-Lower lobe, lung</td>\n",
       "    </tr>\n",
       "    <tr>\n",
       "      <th>2</th>\n",
       "      <td>8140/3: Adenocarcinoma, NOS</td>\n",
       "      <td>C34.0-Main bronchus</td>\n",
       "    </tr>\n",
       "    <tr>\n",
       "      <th>3</th>\n",
       "      <td>8070/3: Squamous cell carcinoma, NOS</td>\n",
       "      <td>C34.3-Lower lobe, lung</td>\n",
       "    </tr>\n",
       "    <tr>\n",
       "      <th>4</th>\n",
       "      <td>8041/3: Small cell carcinoma, NOS</td>\n",
       "      <td>C34.1-Upper lobe, lung</td>\n",
       "    </tr>\n",
       "    <tr>\n",
       "      <th>...</th>\n",
       "      <td>...</td>\n",
       "      <td>...</td>\n",
       "    </tr>\n",
       "    <tr>\n",
       "      <th>1013300</th>\n",
       "      <td>8000/3: Neoplasm, malignant</td>\n",
       "      <td>C34.9-Lung, NOS</td>\n",
       "    </tr>\n",
       "    <tr>\n",
       "      <th>1013301</th>\n",
       "      <td>8000/3: Neoplasm, malignant</td>\n",
       "      <td>C34.9-Lung, NOS</td>\n",
       "    </tr>\n",
       "    <tr>\n",
       "      <th>1013302</th>\n",
       "      <td>8000/3: Neoplasm, malignant</td>\n",
       "      <td>C34.9-Lung, NOS</td>\n",
       "    </tr>\n",
       "    <tr>\n",
       "      <th>1013303</th>\n",
       "      <td>8000/3: Neoplasm, malignant</td>\n",
       "      <td>C34.9-Lung, NOS</td>\n",
       "    </tr>\n",
       "    <tr>\n",
       "      <th>1013304</th>\n",
       "      <td>8000/3: Neoplasm, malignant</td>\n",
       "      <td>C34.9-Lung, NOS</td>\n",
       "    </tr>\n",
       "  </tbody>\n",
       "</table>\n",
       "<p>1013305 rows × 2 columns</p>\n",
       "</div>"
      ],
      "text/plain": [
       "                                        ICD-O-3 Hist/behav  \\\n",
       "0        9699/3: Extranodal marginal zone lymphoma of m...   \n",
       "1          8250/3: Bronchiolo-alveolar adenocarcinoma, NOS   \n",
       "2                              8140/3: Adenocarcinoma, NOS   \n",
       "3                     8070/3: Squamous cell carcinoma, NOS   \n",
       "4                        8041/3: Small cell carcinoma, NOS   \n",
       "...                                                    ...   \n",
       "1013300                        8000/3: Neoplasm, malignant   \n",
       "1013301                        8000/3: Neoplasm, malignant   \n",
       "1013302                        8000/3: Neoplasm, malignant   \n",
       "1013303                        8000/3: Neoplasm, malignant   \n",
       "1013304                        8000/3: Neoplasm, malignant   \n",
       "\n",
       "         Primary Site - labeled  \n",
       "0        C34.1-Upper lobe, lung  \n",
       "1        C34.3-Lower lobe, lung  \n",
       "2           C34.0-Main bronchus  \n",
       "3        C34.3-Lower lobe, lung  \n",
       "4        C34.1-Upper lobe, lung  \n",
       "...                         ...  \n",
       "1013300         C34.9-Lung, NOS  \n",
       "1013301         C34.9-Lung, NOS  \n",
       "1013302         C34.9-Lung, NOS  \n",
       "1013303         C34.9-Lung, NOS  \n",
       "1013304         C34.9-Lung, NOS  \n",
       "\n",
       "[1013305 rows x 2 columns]"
      ]
     },
     "execution_count": 43,
     "metadata": {},
     "output_type": "execute_result"
    }
   ],
   "source": [
    "df[['ICD-O-3 Hist/behav','Primary Site - labeled']]"
   ]
  },
  {
   "cell_type": "code",
   "execution_count": 44,
   "metadata": {},
   "outputs": [
    {
     "data": {
      "text/plain": [
       "(1013305, 39)"
      ]
     },
     "execution_count": 44,
     "metadata": {},
     "output_type": "execute_result"
    }
   ],
   "source": [
    "df.shape"
   ]
  },
  {
   "cell_type": "code",
   "execution_count": 45,
   "metadata": {},
   "outputs": [],
   "source": [
    "def metadata(df):\n",
    "    columns_list = list(df.columns.values)\n",
    "    metadata = pd.DataFrame(columns_list, columns=['col_name'])\n",
    "\n",
    "    # Data types\n",
    "    metadata['data_type'] = [i for i in df.dtypes.astype(str)]\n",
    "\n",
    "    # Missing values\n",
    "    metadata['missing_values'] = [i for i in df.isnull().sum()]\n",
    "\n",
    "    # Missing values percentage in two digits number\n",
    "    metadata['missing_values_percentage'] = [round(i*100,2) for i in df.isnull().sum() / df.shape[0]]\n",
    "    \n",
    "    # Number of unique values\n",
    "    metadata['unique_values'] = [i for i in df.nunique()]\n",
    "\n",
    "    # Number of unique values percentage\n",
    "    metadata['unique_values_percentage'] = [round(i*100,2) for i in df.nunique() / df.shape[0]]\n",
    "\n",
    "    # Basic statistics for interval columns\n",
    "    interval_columns = [col for col in columns_list if df[col].dtype != 'object']\n",
    "    desc_interval = df[interval_columns].agg(['min', 'max', 'std']).transpose().reset_index().rename(columns={'index': 'col_name'})\n",
    "    metadata = metadata.merge(desc_interval, on='col_name', how='left')\n",
    "\n",
    "    return metadata"
   ]
  },
  {
   "cell_type": "code",
   "execution_count": 46,
   "metadata": {},
   "outputs": [
    {
     "data": {
      "text/html": [
       "<div>\n",
       "<style scoped>\n",
       "    .dataframe tbody tr th:only-of-type {\n",
       "        vertical-align: middle;\n",
       "    }\n",
       "\n",
       "    .dataframe tbody tr th {\n",
       "        vertical-align: top;\n",
       "    }\n",
       "\n",
       "    .dataframe thead th {\n",
       "        text-align: right;\n",
       "    }\n",
       "</style>\n",
       "<table border=\"1\" class=\"dataframe\">\n",
       "  <thead>\n",
       "    <tr style=\"text-align: right;\">\n",
       "      <th></th>\n",
       "      <th>col_name</th>\n",
       "      <th>data_type</th>\n",
       "      <th>missing_values</th>\n",
       "      <th>missing_values_percentage</th>\n",
       "      <th>unique_values</th>\n",
       "      <th>unique_values_percentage</th>\n",
       "      <th>min</th>\n",
       "      <th>max</th>\n",
       "      <th>std</th>\n",
       "    </tr>\n",
       "  </thead>\n",
       "  <tbody>\n",
       "    <tr>\n",
       "      <th>0</th>\n",
       "      <td>Patient ID</td>\n",
       "      <td>int64</td>\n",
       "      <td>0</td>\n",
       "      <td>0.00</td>\n",
       "      <td>981046</td>\n",
       "      <td>96.82</td>\n",
       "      <td>139.0</td>\n",
       "      <td>63289407.0</td>\n",
       "      <td>1.836082e+07</td>\n",
       "    </tr>\n",
       "    <tr>\n",
       "      <th>1</th>\n",
       "      <td>Age recode with &lt;1 year olds</td>\n",
       "      <td>object</td>\n",
       "      <td>0</td>\n",
       "      <td>0.00</td>\n",
       "      <td>19</td>\n",
       "      <td>0.00</td>\n",
       "      <td>NaN</td>\n",
       "      <td>NaN</td>\n",
       "      <td>NaN</td>\n",
       "    </tr>\n",
       "    <tr>\n",
       "      <th>2</th>\n",
       "      <td>Sex</td>\n",
       "      <td>object</td>\n",
       "      <td>0</td>\n",
       "      <td>0.00</td>\n",
       "      <td>2</td>\n",
       "      <td>0.00</td>\n",
       "      <td>NaN</td>\n",
       "      <td>NaN</td>\n",
       "      <td>NaN</td>\n",
       "    </tr>\n",
       "    <tr>\n",
       "      <th>3</th>\n",
       "      <td>Year of diagnosis</td>\n",
       "      <td>int64</td>\n",
       "      <td>0</td>\n",
       "      <td>0.00</td>\n",
       "      <td>21</td>\n",
       "      <td>0.00</td>\n",
       "      <td>2000.0</td>\n",
       "      <td>2020.0</td>\n",
       "      <td>6.014838e+00</td>\n",
       "    </tr>\n",
       "    <tr>\n",
       "      <th>4</th>\n",
       "      <td>Race recode (W, B, AI, API)</td>\n",
       "      <td>object</td>\n",
       "      <td>0</td>\n",
       "      <td>0.00</td>\n",
       "      <td>5</td>\n",
       "      <td>0.00</td>\n",
       "      <td>NaN</td>\n",
       "      <td>NaN</td>\n",
       "      <td>NaN</td>\n",
       "    </tr>\n",
       "    <tr>\n",
       "      <th>5</th>\n",
       "      <td>Origin recode NHIA (Hispanic, Non-Hisp)</td>\n",
       "      <td>object</td>\n",
       "      <td>0</td>\n",
       "      <td>0.00</td>\n",
       "      <td>2</td>\n",
       "      <td>0.00</td>\n",
       "      <td>NaN</td>\n",
       "      <td>NaN</td>\n",
       "      <td>NaN</td>\n",
       "    </tr>\n",
       "    <tr>\n",
       "      <th>6</th>\n",
       "      <td>Race and origin recode (NHW, NHB, NHAIAN, NHAP...</td>\n",
       "      <td>object</td>\n",
       "      <td>0</td>\n",
       "      <td>0.00</td>\n",
       "      <td>6</td>\n",
       "      <td>0.00</td>\n",
       "      <td>NaN</td>\n",
       "      <td>NaN</td>\n",
       "      <td>NaN</td>\n",
       "    </tr>\n",
       "    <tr>\n",
       "      <th>7</th>\n",
       "      <td>Site recode ICD-O-3/WHO 2008</td>\n",
       "      <td>object</td>\n",
       "      <td>0</td>\n",
       "      <td>0.00</td>\n",
       "      <td>8</td>\n",
       "      <td>0.00</td>\n",
       "      <td>NaN</td>\n",
       "      <td>NaN</td>\n",
       "      <td>NaN</td>\n",
       "    </tr>\n",
       "    <tr>\n",
       "      <th>8</th>\n",
       "      <td>Behavior code ICD-O-3</td>\n",
       "      <td>object</td>\n",
       "      <td>0</td>\n",
       "      <td>0.00</td>\n",
       "      <td>1</td>\n",
       "      <td>0.00</td>\n",
       "      <td>NaN</td>\n",
       "      <td>NaN</td>\n",
       "      <td>NaN</td>\n",
       "    </tr>\n",
       "    <tr>\n",
       "      <th>9</th>\n",
       "      <td>Primary Site - labeled</td>\n",
       "      <td>object</td>\n",
       "      <td>0</td>\n",
       "      <td>0.00</td>\n",
       "      <td>6</td>\n",
       "      <td>0.00</td>\n",
       "      <td>NaN</td>\n",
       "      <td>NaN</td>\n",
       "      <td>NaN</td>\n",
       "    </tr>\n",
       "    <tr>\n",
       "      <th>10</th>\n",
       "      <td>Primary Site</td>\n",
       "      <td>int64</td>\n",
       "      <td>0</td>\n",
       "      <td>0.00</td>\n",
       "      <td>6</td>\n",
       "      <td>0.00</td>\n",
       "      <td>340.0</td>\n",
       "      <td>349.0</td>\n",
       "      <td>3.000264e+00</td>\n",
       "    </tr>\n",
       "    <tr>\n",
       "      <th>11</th>\n",
       "      <td>ICD-O-3 Hist/behav</td>\n",
       "      <td>object</td>\n",
       "      <td>0</td>\n",
       "      <td>0.00</td>\n",
       "      <td>275</td>\n",
       "      <td>0.03</td>\n",
       "      <td>NaN</td>\n",
       "      <td>NaN</td>\n",
       "      <td>NaN</td>\n",
       "    </tr>\n",
       "    <tr>\n",
       "      <th>12</th>\n",
       "      <td>ICD-O-3 Hist/behav, malignant</td>\n",
       "      <td>object</td>\n",
       "      <td>0</td>\n",
       "      <td>0.00</td>\n",
       "      <td>275</td>\n",
       "      <td>0.03</td>\n",
       "      <td>NaN</td>\n",
       "      <td>NaN</td>\n",
       "      <td>NaN</td>\n",
       "    </tr>\n",
       "    <tr>\n",
       "      <th>13</th>\n",
       "      <td>Site recode - rare tumors</td>\n",
       "      <td>object</td>\n",
       "      <td>0</td>\n",
       "      <td>0.00</td>\n",
       "      <td>46</td>\n",
       "      <td>0.00</td>\n",
       "      <td>NaN</td>\n",
       "      <td>NaN</td>\n",
       "      <td>NaN</td>\n",
       "    </tr>\n",
       "    <tr>\n",
       "      <th>14</th>\n",
       "      <td>Type of Reporting Source</td>\n",
       "      <td>object</td>\n",
       "      <td>0</td>\n",
       "      <td>0.00</td>\n",
       "      <td>8</td>\n",
       "      <td>0.00</td>\n",
       "      <td>NaN</td>\n",
       "      <td>NaN</td>\n",
       "      <td>NaN</td>\n",
       "    </tr>\n",
       "    <tr>\n",
       "      <th>15</th>\n",
       "      <td>Marital status at diagnosis</td>\n",
       "      <td>object</td>\n",
       "      <td>0</td>\n",
       "      <td>0.00</td>\n",
       "      <td>7</td>\n",
       "      <td>0.00</td>\n",
       "      <td>NaN</td>\n",
       "      <td>NaN</td>\n",
       "      <td>NaN</td>\n",
       "    </tr>\n",
       "    <tr>\n",
       "      <th>16</th>\n",
       "      <td>SEER Combined Mets at DX-bone (2010+)</td>\n",
       "      <td>object</td>\n",
       "      <td>2125</td>\n",
       "      <td>0.21</td>\n",
       "      <td>4</td>\n",
       "      <td>0.00</td>\n",
       "      <td>NaN</td>\n",
       "      <td>NaN</td>\n",
       "      <td>NaN</td>\n",
       "    </tr>\n",
       "    <tr>\n",
       "      <th>17</th>\n",
       "      <td>SEER Combined Mets at DX-brain (2010+)</td>\n",
       "      <td>object</td>\n",
       "      <td>2142</td>\n",
       "      <td>0.21</td>\n",
       "      <td>4</td>\n",
       "      <td>0.00</td>\n",
       "      <td>NaN</td>\n",
       "      <td>NaN</td>\n",
       "      <td>NaN</td>\n",
       "    </tr>\n",
       "    <tr>\n",
       "      <th>18</th>\n",
       "      <td>SEER Combined Mets at DX-liver (2010+)</td>\n",
       "      <td>object</td>\n",
       "      <td>2141</td>\n",
       "      <td>0.21</td>\n",
       "      <td>4</td>\n",
       "      <td>0.00</td>\n",
       "      <td>NaN</td>\n",
       "      <td>NaN</td>\n",
       "      <td>NaN</td>\n",
       "    </tr>\n",
       "    <tr>\n",
       "      <th>19</th>\n",
       "      <td>SEER Combined Mets at DX-lung (2010+)</td>\n",
       "      <td>object</td>\n",
       "      <td>2736</td>\n",
       "      <td>0.27</td>\n",
       "      <td>4</td>\n",
       "      <td>0.00</td>\n",
       "      <td>NaN</td>\n",
       "      <td>NaN</td>\n",
       "      <td>NaN</td>\n",
       "    </tr>\n",
       "    <tr>\n",
       "      <th>20</th>\n",
       "      <td>Laterality</td>\n",
       "      <td>object</td>\n",
       "      <td>0</td>\n",
       "      <td>0.00</td>\n",
       "      <td>6</td>\n",
       "      <td>0.00</td>\n",
       "      <td>NaN</td>\n",
       "      <td>NaN</td>\n",
       "      <td>NaN</td>\n",
       "    </tr>\n",
       "    <tr>\n",
       "      <th>21</th>\n",
       "      <td>Median household income inflation adj to 2021</td>\n",
       "      <td>object</td>\n",
       "      <td>0</td>\n",
       "      <td>0.00</td>\n",
       "      <td>11</td>\n",
       "      <td>0.00</td>\n",
       "      <td>NaN</td>\n",
       "      <td>NaN</td>\n",
       "      <td>NaN</td>\n",
       "    </tr>\n",
       "    <tr>\n",
       "      <th>22</th>\n",
       "      <td>Rural-Urban Continuum Code</td>\n",
       "      <td>object</td>\n",
       "      <td>0</td>\n",
       "      <td>0.00</td>\n",
       "      <td>7</td>\n",
       "      <td>0.00</td>\n",
       "      <td>NaN</td>\n",
       "      <td>NaN</td>\n",
       "      <td>NaN</td>\n",
       "    </tr>\n",
       "    <tr>\n",
       "      <th>23</th>\n",
       "      <td>CS tumor size (2004-2015)</td>\n",
       "      <td>object</td>\n",
       "      <td>0</td>\n",
       "      <td>0.00</td>\n",
       "      <td>348</td>\n",
       "      <td>0.03</td>\n",
       "      <td>NaN</td>\n",
       "      <td>NaN</td>\n",
       "      <td>NaN</td>\n",
       "    </tr>\n",
       "    <tr>\n",
       "      <th>24</th>\n",
       "      <td>CS Tumor Size/Ext Eval (2004-2015)</td>\n",
       "      <td>object</td>\n",
       "      <td>0</td>\n",
       "      <td>0.00</td>\n",
       "      <td>9</td>\n",
       "      <td>0.00</td>\n",
       "      <td>NaN</td>\n",
       "      <td>NaN</td>\n",
       "      <td>NaN</td>\n",
       "    </tr>\n",
       "    <tr>\n",
       "      <th>25</th>\n",
       "      <td>AFP Pretreatment Interpretation Recode (2010+)</td>\n",
       "      <td>object</td>\n",
       "      <td>0</td>\n",
       "      <td>0.00</td>\n",
       "      <td>1</td>\n",
       "      <td>0.00</td>\n",
       "      <td>NaN</td>\n",
       "      <td>NaN</td>\n",
       "      <td>NaN</td>\n",
       "    </tr>\n",
       "    <tr>\n",
       "      <th>26</th>\n",
       "      <td>Derived EOD 2018 T (2018+)</td>\n",
       "      <td>object</td>\n",
       "      <td>0</td>\n",
       "      <td>0.00</td>\n",
       "      <td>18</td>\n",
       "      <td>0.00</td>\n",
       "      <td>NaN</td>\n",
       "      <td>NaN</td>\n",
       "      <td>NaN</td>\n",
       "    </tr>\n",
       "    <tr>\n",
       "      <th>27</th>\n",
       "      <td>Derived EOD 2018 N (2018+)</td>\n",
       "      <td>object</td>\n",
       "      <td>0</td>\n",
       "      <td>0.00</td>\n",
       "      <td>7</td>\n",
       "      <td>0.00</td>\n",
       "      <td>NaN</td>\n",
       "      <td>NaN</td>\n",
       "      <td>NaN</td>\n",
       "    </tr>\n",
       "    <tr>\n",
       "      <th>28</th>\n",
       "      <td>Derived EOD 2018 M (2018+)</td>\n",
       "      <td>object</td>\n",
       "      <td>0</td>\n",
       "      <td>0.00</td>\n",
       "      <td>7</td>\n",
       "      <td>0.00</td>\n",
       "      <td>NaN</td>\n",
       "      <td>NaN</td>\n",
       "      <td>NaN</td>\n",
       "    </tr>\n",
       "    <tr>\n",
       "      <th>29</th>\n",
       "      <td>Derived EOD 2018 Stage Group (2018+)</td>\n",
       "      <td>object</td>\n",
       "      <td>0</td>\n",
       "      <td>0.00</td>\n",
       "      <td>23</td>\n",
       "      <td>0.00</td>\n",
       "      <td>NaN</td>\n",
       "      <td>NaN</td>\n",
       "      <td>NaN</td>\n",
       "    </tr>\n",
       "    <tr>\n",
       "      <th>30</th>\n",
       "      <td>RX Summ--Surg Prim Site (1998+)</td>\n",
       "      <td>int64</td>\n",
       "      <td>0</td>\n",
       "      <td>0.00</td>\n",
       "      <td>26</td>\n",
       "      <td>0.00</td>\n",
       "      <td>0.0</td>\n",
       "      <td>99.0</td>\n",
       "      <td>2.102224e+01</td>\n",
       "    </tr>\n",
       "    <tr>\n",
       "      <th>31</th>\n",
       "      <td>RX Summ--Scope Reg LN Sur (2003+)</td>\n",
       "      <td>object</td>\n",
       "      <td>616760</td>\n",
       "      <td>60.87</td>\n",
       "      <td>9</td>\n",
       "      <td>0.00</td>\n",
       "      <td>NaN</td>\n",
       "      <td>NaN</td>\n",
       "      <td>NaN</td>\n",
       "    </tr>\n",
       "    <tr>\n",
       "      <th>32</th>\n",
       "      <td>RX Summ--Surg Oth Reg/Dis (2003+)</td>\n",
       "      <td>object</td>\n",
       "      <td>0</td>\n",
       "      <td>0.00</td>\n",
       "      <td>8</td>\n",
       "      <td>0.00</td>\n",
       "      <td>NaN</td>\n",
       "      <td>NaN</td>\n",
       "      <td>NaN</td>\n",
       "    </tr>\n",
       "    <tr>\n",
       "      <th>33</th>\n",
       "      <td>RX Summ--Surg/Rad Seq</td>\n",
       "      <td>object</td>\n",
       "      <td>0</td>\n",
       "      <td>0.00</td>\n",
       "      <td>8</td>\n",
       "      <td>0.00</td>\n",
       "      <td>NaN</td>\n",
       "      <td>NaN</td>\n",
       "      <td>NaN</td>\n",
       "    </tr>\n",
       "    <tr>\n",
       "      <th>34</th>\n",
       "      <td>Chemotherapy recode (yes, no/unk)</td>\n",
       "      <td>object</td>\n",
       "      <td>0</td>\n",
       "      <td>0.00</td>\n",
       "      <td>2</td>\n",
       "      <td>0.00</td>\n",
       "      <td>NaN</td>\n",
       "      <td>NaN</td>\n",
       "      <td>NaN</td>\n",
       "    </tr>\n",
       "    <tr>\n",
       "      <th>35</th>\n",
       "      <td>Radiation recode</td>\n",
       "      <td>object</td>\n",
       "      <td>0</td>\n",
       "      <td>0.00</td>\n",
       "      <td>8</td>\n",
       "      <td>0.00</td>\n",
       "      <td>NaN</td>\n",
       "      <td>NaN</td>\n",
       "      <td>NaN</td>\n",
       "    </tr>\n",
       "    <tr>\n",
       "      <th>36</th>\n",
       "      <td>Grade Recode (thru 2017)</td>\n",
       "      <td>object</td>\n",
       "      <td>0</td>\n",
       "      <td>0.00</td>\n",
       "      <td>9</td>\n",
       "      <td>0.00</td>\n",
       "      <td>NaN</td>\n",
       "      <td>NaN</td>\n",
       "      <td>NaN</td>\n",
       "    </tr>\n",
       "    <tr>\n",
       "      <th>37</th>\n",
       "      <td>Grade Clinical (2018+)</td>\n",
       "      <td>object</td>\n",
       "      <td>0</td>\n",
       "      <td>0.00</td>\n",
       "      <td>10</td>\n",
       "      <td>0.00</td>\n",
       "      <td>NaN</td>\n",
       "      <td>NaN</td>\n",
       "      <td>NaN</td>\n",
       "    </tr>\n",
       "    <tr>\n",
       "      <th>38</th>\n",
       "      <td>Grade Pathological (2018+)</td>\n",
       "      <td>object</td>\n",
       "      <td>0</td>\n",
       "      <td>0.00</td>\n",
       "      <td>10</td>\n",
       "      <td>0.00</td>\n",
       "      <td>NaN</td>\n",
       "      <td>NaN</td>\n",
       "      <td>NaN</td>\n",
       "    </tr>\n",
       "  </tbody>\n",
       "</table>\n",
       "</div>"
      ],
      "text/plain": [
       "                                             col_name data_type  \\\n",
       "0                                          Patient ID     int64   \n",
       "1                        Age recode with <1 year olds    object   \n",
       "2                                                 Sex    object   \n",
       "3                                   Year of diagnosis     int64   \n",
       "4                         Race recode (W, B, AI, API)    object   \n",
       "5             Origin recode NHIA (Hispanic, Non-Hisp)    object   \n",
       "6   Race and origin recode (NHW, NHB, NHAIAN, NHAP...    object   \n",
       "7                        Site recode ICD-O-3/WHO 2008    object   \n",
       "8                               Behavior code ICD-O-3    object   \n",
       "9                              Primary Site - labeled    object   \n",
       "10                                       Primary Site     int64   \n",
       "11                                 ICD-O-3 Hist/behav    object   \n",
       "12                      ICD-O-3 Hist/behav, malignant    object   \n",
       "13                          Site recode - rare tumors    object   \n",
       "14                           Type of Reporting Source    object   \n",
       "15                        Marital status at diagnosis    object   \n",
       "16              SEER Combined Mets at DX-bone (2010+)    object   \n",
       "17             SEER Combined Mets at DX-brain (2010+)    object   \n",
       "18             SEER Combined Mets at DX-liver (2010+)    object   \n",
       "19              SEER Combined Mets at DX-lung (2010+)    object   \n",
       "20                                         Laterality    object   \n",
       "21      Median household income inflation adj to 2021    object   \n",
       "22                         Rural-Urban Continuum Code    object   \n",
       "23                          CS tumor size (2004-2015)    object   \n",
       "24                 CS Tumor Size/Ext Eval (2004-2015)    object   \n",
       "25     AFP Pretreatment Interpretation Recode (2010+)    object   \n",
       "26                         Derived EOD 2018 T (2018+)    object   \n",
       "27                         Derived EOD 2018 N (2018+)    object   \n",
       "28                         Derived EOD 2018 M (2018+)    object   \n",
       "29               Derived EOD 2018 Stage Group (2018+)    object   \n",
       "30                    RX Summ--Surg Prim Site (1998+)     int64   \n",
       "31                  RX Summ--Scope Reg LN Sur (2003+)    object   \n",
       "32                  RX Summ--Surg Oth Reg/Dis (2003+)    object   \n",
       "33                              RX Summ--Surg/Rad Seq    object   \n",
       "34                  Chemotherapy recode (yes, no/unk)    object   \n",
       "35                                   Radiation recode    object   \n",
       "36                           Grade Recode (thru 2017)    object   \n",
       "37                             Grade Clinical (2018+)    object   \n",
       "38                         Grade Pathological (2018+)    object   \n",
       "\n",
       "    missing_values  missing_values_percentage  unique_values  \\\n",
       "0                0                       0.00         981046   \n",
       "1                0                       0.00             19   \n",
       "2                0                       0.00              2   \n",
       "3                0                       0.00             21   \n",
       "4                0                       0.00              5   \n",
       "5                0                       0.00              2   \n",
       "6                0                       0.00              6   \n",
       "7                0                       0.00              8   \n",
       "8                0                       0.00              1   \n",
       "9                0                       0.00              6   \n",
       "10               0                       0.00              6   \n",
       "11               0                       0.00            275   \n",
       "12               0                       0.00            275   \n",
       "13               0                       0.00             46   \n",
       "14               0                       0.00              8   \n",
       "15               0                       0.00              7   \n",
       "16            2125                       0.21              4   \n",
       "17            2142                       0.21              4   \n",
       "18            2141                       0.21              4   \n",
       "19            2736                       0.27              4   \n",
       "20               0                       0.00              6   \n",
       "21               0                       0.00             11   \n",
       "22               0                       0.00              7   \n",
       "23               0                       0.00            348   \n",
       "24               0                       0.00              9   \n",
       "25               0                       0.00              1   \n",
       "26               0                       0.00             18   \n",
       "27               0                       0.00              7   \n",
       "28               0                       0.00              7   \n",
       "29               0                       0.00             23   \n",
       "30               0                       0.00             26   \n",
       "31          616760                      60.87              9   \n",
       "32               0                       0.00              8   \n",
       "33               0                       0.00              8   \n",
       "34               0                       0.00              2   \n",
       "35               0                       0.00              8   \n",
       "36               0                       0.00              9   \n",
       "37               0                       0.00             10   \n",
       "38               0                       0.00             10   \n",
       "\n",
       "    unique_values_percentage     min         max           std  \n",
       "0                      96.82   139.0  63289407.0  1.836082e+07  \n",
       "1                       0.00     NaN         NaN           NaN  \n",
       "2                       0.00     NaN         NaN           NaN  \n",
       "3                       0.00  2000.0      2020.0  6.014838e+00  \n",
       "4                       0.00     NaN         NaN           NaN  \n",
       "5                       0.00     NaN         NaN           NaN  \n",
       "6                       0.00     NaN         NaN           NaN  \n",
       "7                       0.00     NaN         NaN           NaN  \n",
       "8                       0.00     NaN         NaN           NaN  \n",
       "9                       0.00     NaN         NaN           NaN  \n",
       "10                      0.00   340.0       349.0  3.000264e+00  \n",
       "11                      0.03     NaN         NaN           NaN  \n",
       "12                      0.03     NaN         NaN           NaN  \n",
       "13                      0.00     NaN         NaN           NaN  \n",
       "14                      0.00     NaN         NaN           NaN  \n",
       "15                      0.00     NaN         NaN           NaN  \n",
       "16                      0.00     NaN         NaN           NaN  \n",
       "17                      0.00     NaN         NaN           NaN  \n",
       "18                      0.00     NaN         NaN           NaN  \n",
       "19                      0.00     NaN         NaN           NaN  \n",
       "20                      0.00     NaN         NaN           NaN  \n",
       "21                      0.00     NaN         NaN           NaN  \n",
       "22                      0.00     NaN         NaN           NaN  \n",
       "23                      0.03     NaN         NaN           NaN  \n",
       "24                      0.00     NaN         NaN           NaN  \n",
       "25                      0.00     NaN         NaN           NaN  \n",
       "26                      0.00     NaN         NaN           NaN  \n",
       "27                      0.00     NaN         NaN           NaN  \n",
       "28                      0.00     NaN         NaN           NaN  \n",
       "29                      0.00     NaN         NaN           NaN  \n",
       "30                      0.00     0.0        99.0  2.102224e+01  \n",
       "31                      0.00     NaN         NaN           NaN  \n",
       "32                      0.00     NaN         NaN           NaN  \n",
       "33                      0.00     NaN         NaN           NaN  \n",
       "34                      0.00     NaN         NaN           NaN  \n",
       "35                      0.00     NaN         NaN           NaN  \n",
       "36                      0.00     NaN         NaN           NaN  \n",
       "37                      0.00     NaN         NaN           NaN  \n",
       "38                      0.00     NaN         NaN           NaN  "
      ]
     },
     "execution_count": 46,
     "metadata": {},
     "output_type": "execute_result"
    }
   ],
   "source": [
    "metadata(df)"
   ]
  },
  {
   "cell_type": "code",
   "execution_count": 47,
   "metadata": {},
   "outputs": [
    {
     "data": {
      "text/plain": [
       "Behavior code ICD-O-3\n",
       "Malignant    1013305\n",
       "Name: count, dtype: int64"
      ]
     },
     "execution_count": 47,
     "metadata": {},
     "output_type": "execute_result"
    }
   ],
   "source": [
    "df['Behavior code ICD-O-3'].value_counts()"
   ]
  },
  {
   "cell_type": "code",
   "execution_count": 48,
   "metadata": {},
   "outputs": [
    {
     "data": {
      "text/plain": [
       "AFP Pretreatment Interpretation Recode (2010+)\n",
       "Blank(s)    1013305\n",
       "Name: count, dtype: int64"
      ]
     },
     "execution_count": 48,
     "metadata": {},
     "output_type": "execute_result"
    }
   ],
   "source": [
    "df['AFP Pretreatment Interpretation Recode (2010+)'].value_counts()"
   ]
  },
  {
   "cell_type": "code",
   "execution_count": 49,
   "metadata": {},
   "outputs": [
    {
     "data": {
      "text/plain": [
       "ICD-O-3 Hist/behav\n",
       "8000/3: Neoplasm, malignant                                        76144\n",
       "8001/3: Tumor cells, malignant                                       261\n",
       "8002/3: Malignant tumor, small cell type                              32\n",
       "8003/3: Malignant tumor, giant cell type                              22\n",
       "8004/3: Malignant tumor, spindle cell type                            59\n",
       "                                                                   ...  \n",
       "9823/3: Chronic lymphocytic leukemia/small lymphocytic lymphoma       31\n",
       "9827/3: Adult T-cell leukemia/lymphoma                                 2\n",
       "9837/3: T lymphoblastic leukemia/lymphoma                              4\n",
       "9930/3: Myeloid sarcoma                                                8\n",
       "9971/3: Polymorphic PTLD                                              26\n",
       "Name: count, Length: 275, dtype: int64"
      ]
     },
     "execution_count": 49,
     "metadata": {},
     "output_type": "execute_result"
    }
   ],
   "source": [
    "df['ICD-O-3 Hist/behav'].value_counts().sort_index()"
   ]
  },
  {
   "cell_type": "code",
   "execution_count": 50,
   "metadata": {},
   "outputs": [
    {
     "data": {
      "text/plain": [
       "Primary Site - labeled\n",
       "C34.0-Main bronchus                  46132\n",
       "C34.1-Upper lobe, lung              484790\n",
       "C34.2-Middle lobe, lung              42522\n",
       "C34.3-Lower lobe, lung              249516\n",
       "C34.8-Overlapping lesion of lung     11596\n",
       "C34.9-Lung, NOS                     178749\n",
       "Name: count, dtype: int64"
      ]
     },
     "execution_count": 50,
     "metadata": {},
     "output_type": "execute_result"
    }
   ],
   "source": [
    "df['Primary Site - labeled'].value_counts().sort_index()"
   ]
  },
  {
   "cell_type": "code",
   "execution_count": 51,
   "metadata": {},
   "outputs": [
    {
     "data": {
      "text/plain": [
       "(238086, 39)"
      ]
     },
     "execution_count": 51,
     "metadata": {},
     "output_type": "execute_result"
    }
   ],
   "source": [
    "# filter the ICD-O-3 Hist/behav categories that start with 804\n",
    "# Define the codes to keep\n",
    "codes_to_keep = ['8002', '8041', '8042', '8043', '8044', '8045', '8012', '8013', '8014', '8021', '8034', '8082', '8046']\n",
    "\n",
    "# Filter the DataFrame\n",
    "df_filtered = df[df['ICD-O-3 Hist/behav'].astype(str).str.startswith(tuple(codes_to_keep))]\n",
    "\n",
    "df_filtered.shape"
   ]
  },
  {
   "cell_type": "code",
   "execution_count": 52,
   "metadata": {},
   "outputs": [
    {
     "data": {
      "text/plain": [
       "Year of diagnosis\n",
       "2000    45971\n",
       "2001    46474\n",
       "2002    46666\n",
       "2003    46961\n",
       "2004    46922\n",
       "2005    47642\n",
       "2006    48199\n",
       "2007    48460\n",
       "2008    48715\n",
       "2009    49499\n",
       "2010    48315\n",
       "2011    47932\n",
       "2012    48729\n",
       "2013    48855\n",
       "2014    49497\n",
       "2015    49828\n",
       "2016    49879\n",
       "2017    50258\n",
       "2018    49502\n",
       "2019    50432\n",
       "2020    44569\n",
       "Name: count, dtype: int64"
      ]
     },
     "execution_count": 52,
     "metadata": {},
     "output_type": "execute_result"
    }
   ],
   "source": [
    "df['Year of diagnosis'].value_counts().sort_index()"
   ]
  },
  {
   "cell_type": "code",
   "execution_count": 53,
   "metadata": {},
   "outputs": [
    {
     "data": {
      "text/plain": [
       "ICD-O-3 Hist/behav\n",
       "8002/3: Malignant tumor, small cell type                    32\n",
       "8012/3: Large cell carcinoma, NOS                        16128\n",
       "8013/3: Large cell neuroendocrine carcinoma               5806\n",
       "8014/3: Large cell carcinoma with rhabdoid phenotype        42\n",
       "8021/3: Carcinoma, anaplastic, NOS                         228\n",
       "8034/3: Polygonal cell carcinoma                             5\n",
       "8041/3: Small cell carcinoma, NOS                       112714\n",
       "8042/3: Oat cell carcinoma                                4464\n",
       "8043/3: Small cell carcinoma, fusiform cell                 67\n",
       "8044/3: Small cell carcinoma, intermediate cell            657\n",
       "8045/3: Combined small cell carcinoma                     2194\n",
       "8046/3: Non-small cell carcinoma                         95660\n",
       "8082/3: Lymphoepithelial carcinoma                          89\n",
       "Name: count, dtype: int64"
      ]
     },
     "execution_count": 53,
     "metadata": {},
     "output_type": "execute_result"
    }
   ],
   "source": [
    "df_filtered['ICD-O-3 Hist/behav'].value_counts().sort_index()"
   ]
  },
  {
   "cell_type": "code",
   "execution_count": 54,
   "metadata": {},
   "outputs": [
    {
     "name": "stderr",
     "output_type": "stream",
     "text": [
      "C:\\Users\\yuyum\\AppData\\Local\\Temp\\ipykernel_44660\\118181357.py:19: SettingWithCopyWarning: \n",
      "A value is trying to be set on a copy of a slice from a DataFrame.\n",
      "Try using .loc[row_indexer,col_indexer] = value instead\n",
      "\n",
      "See the caveats in the documentation: https://pandas.pydata.org/pandas-docs/stable/user_guide/indexing.html#returning-a-view-versus-a-copy\n",
      "  df_filtered['Lung Cancer Group'] = df_filtered.apply(categorize, axis=1)\n"
     ]
    }
   ],
   "source": [
    "# Define the mapping of codes to groups\n",
    "sclc_codes = ['8002', '8041', '8042', '8043', '8044']\n",
    "nsclc_codes = ['8012', '8013', '8014', '8021', '8034', '8082', '8046']\n",
    "csclc_code = '8045'\n",
    "\n",
    "# Function to categorize each row\n",
    "def categorize(row):\n",
    "    code = row['ICD-O-3 Hist/behav']\n",
    "    if str(code).startswith(tuple(sclc_codes)):\n",
    "        return 'SCLC'\n",
    "    elif str(code).startswith(tuple(nsclc_codes)):\n",
    "        return 'NSCLC'\n",
    "    elif str(code).startswith(csclc_code):\n",
    "        return 'CSCLC'\n",
    "    else:\n",
    "        return 'Other'\n",
    "    \n",
    "# Apply the function\n",
    "df_filtered['Lung Cancer Group'] = df_filtered.apply(categorize, axis=1)"
   ]
  },
  {
   "cell_type": "code",
   "execution_count": 55,
   "metadata": {},
   "outputs": [
    {
     "data": {
      "text/plain": [
       "Lung Cancer Group\n",
       "NSCLC    117958\n",
       "SCLC     117934\n",
       "CSCLC      2194\n",
       "Name: count, dtype: int64"
      ]
     },
     "execution_count": 55,
     "metadata": {},
     "output_type": "execute_result"
    }
   ],
   "source": [
    "df_filtered['Lung Cancer Group'].value_counts(dropna=False)"
   ]
  },
  {
   "cell_type": "code",
   "execution_count": 61,
   "metadata": {},
   "outputs": [],
   "source": [
    "# Codes to drop\n",
    "codes_to_drop = list(range(8580, 10000)) + [8005, 8095, 8124, 8130, 8146, 8160, 8170, 8231, 8247, 8263, 8312, 8340, 8341, 8350, 8370, 8441, 8460, 8500, 8501, 8510, 8524, 8530, 8551]\n",
    "codes_to_drop = [str(code) for code in codes_to_drop] # Convert all codes to strings\n",
    "\n",
    "# Drop the specified codes\n",
    "df_filtered = df[~df['ICD-O-3 Hist/behav'].astype(str).str.startswith(tuple(codes_to_drop))].copy()\n",
    "\n",
    "# Define the mapping of codes to groups\n",
    "sclc_codes = ['8002', '8041', '8042', '8043', '8044']\n",
    "csclc_code = '8045'\n",
    "\n",
    "# Function to categorize each row\n",
    "def categorize(row):\n",
    "    code = row['ICD-O-3 Hist/behav']\n",
    "    if str(code).startswith(tuple(sclc_codes)):\n",
    "        return 'SCLC'\n",
    "    elif str(code).startswith(csclc_code):\n",
    "        return 'CSCLC'\n",
    "    else:\n",
    "        return 'NSCLC'\n",
    "\n",
    "# Apply the function\n",
    "df_filtered['Lung Cancer Group'] = df_filtered.apply(categorize, axis=1)"
   ]
  },
  {
   "cell_type": "code",
   "execution_count": 62,
   "metadata": {},
   "outputs": [
    {
     "data": {
      "text/plain": [
       "Lung Cancer Group\n",
       "NSCLC    877922\n",
       "SCLC     117934\n",
       "CSCLC      2194\n",
       "Name: count, dtype: int64"
      ]
     },
     "execution_count": 62,
     "metadata": {},
     "output_type": "execute_result"
    }
   ],
   "source": [
    "df_filtered['Lung Cancer Group'].value_counts(dropna=False)"
   ]
  },
  {
   "cell_type": "code",
   "execution_count": 63,
   "metadata": {},
   "outputs": [
    {
     "data": {
      "text/plain": [
       "([<matplotlib.patches.Wedge at 0x18333386e10>,\n",
       "  <matplotlib.patches.Wedge at 0x1833338c310>,\n",
       "  <matplotlib.patches.Wedge at 0x1833338d890>],\n",
       " [Text(-1.0222920640972613, 0.40610212469742285, 'NSCLC'),\n",
       "  Text(1.0194631271938441, -0.41315243227185316, 'SCLC'),\n",
       "  Text(1.0999737684920516, -0.00759661960312245, 'CSCLC')],\n",
       " [Text(-0.5576138531439606, 0.2215102498349579, '88.0%'),\n",
       "  Text(0.5560707966511876, -0.2253558721482835, '11.8%'),\n",
       "  Text(0.5999856919047554, -0.004143610692612245, '0.2%')])"
      ]
     },
     "execution_count": 63,
     "metadata": {},
     "output_type": "execute_result"
    },
    {
     "data": {
      "image/png": "[encoded data removed]",
      "text/plain": [
       "<Figure size 1000x1000 with 1 Axes>"
      ]
     },
     "metadata": {},
     "output_type": "display_data"
    }
   ],
   "source": [
    "# use piechart and show the percentage of each group\n",
    "import matplotlib.pyplot as plt\n",
    "plt.figure(figsize=(10,10))\n",
    "plt.pie(df_filtered['Lung Cancer Group'].value_counts(), labels=df_filtered['Lung Cancer Group'].value_counts().index, autopct='%1.1f%%')"
   ]
  },
  {
   "cell_type": "code",
   "execution_count": 21,
   "metadata": {},
   "outputs": [
    {
     "data": {
      "text/plain": [
       "ICD-O-3 Hist/behav Encoded\n",
       "CSCLC      2194\n",
       "NSCLC     95660\n",
       "SCLC     117902\n",
       "Name: count, dtype: int64"
      ]
     },
     "execution_count": 21,
     "metadata": {},
     "output_type": "execute_result"
    }
   ],
   "source": [
    "# group the ICD-O-3 Hist/behav, \"8041/3: Small cell carcinoma, NOS\", \"8042/3: Oat cell carcinoma\",\n",
    "# \"8043/3: Small cell carcinoma, fusiform cell\",\"8044/3: Small cell carcinoma, intermediate cell\" into group called \"SCLC\", \n",
    "# and the \"8045/3: Combined small cell carcinoma\" into group called \"CSCLC\"\n",
    "# \"8046/3: Small cell carcinoma, hypercalcemic type\" into group called \"NSCLC\"\n",
    "\n",
    "df_filtered['ICD-O-3 Hist/behav Encoded'] = df_filtered['ICD-O-3 Hist/behav'].map({'8041/3: Small cell carcinoma, NOS': 'SCLC', \n",
    "                                                                                   '8042/3: Oat cell carcinoma': 'SCLC', \n",
    "                                                                                   '8043/3: Small cell carcinoma, fusiform cell': 'SCLC', \n",
    "                                                                                   '8044/3: Small cell carcinoma, intermediate cell': 'SCLC', \n",
    "                                                                                   '8045/3: Combined small cell carcinoma': 'CSCLC', \n",
    "                                                                                   '8046/3: Non-small cell carcinoma': 'NSCLC'})\n",
    "\n",
    "df_filtered['ICD-O-3 Hist/behav Encoded'].value_counts().sort_index()\n"
   ]
  },
  {
   "cell_type": "code",
   "execution_count": 31,
   "metadata": {},
   "outputs": [
    {
     "name": "stderr",
     "output_type": "stream",
     "text": [
      "C:\\Users\\yuyum\\AppData\\Local\\Temp\\ipykernel_44660\\1449334797.py:6: FutureWarning: \n",
      "\n",
      "Passing `palette` without assigning `hue` is deprecated and will be removed in v0.14.0. Assign the `x` variable to `hue` and set `legend=False` for the same effect.\n",
      "\n",
      "  ax = sns.countplot(x=\"ICD-O-3 Hist/behav Encoded\", data=df_filtered, order=['SCLC','NSCLC', 'CSCLC'], palette=\"husl\")\n"
     ]
    },
    {
     "data": {
      "image/png": "[encoded data removed]",
      "text/plain": [
       "<Figure size 1170x827 with 1 Axes>"
      ]
     },
     "metadata": {},
     "output_type": "display_data"
    }
   ],
   "source": [
    "# use sns barplotto plot the distribution of the ICD-O-3 Hist/behav Encoded, with the actual count for each group\n",
    "import seaborn as sns\n",
    "import matplotlib.pyplot as plt\n",
    "sns.set(style=\"whitegrid\")\n",
    "sns.set(rc={'figure.figsize':(11.7,8.27)})\n",
    "ax = sns.countplot(x=\"ICD-O-3 Hist/behav Encoded\", data=df_filtered, order=['SCLC','NSCLC', 'CSCLC'], palette=\"husl\")\n",
    "plt.title('Distribution of ICD-O-3 Hist/behav Encoded')\n",
    "plt.xlabel('ICD-O-3 Hist/behav Encoded')\n",
    "plt.ylabel('Count')\n",
    "plt.show()"
   ]
  },
  {
   "cell_type": "code",
   "execution_count": 36,
   "metadata": {},
   "outputs": [
    {
     "data": {
      "image/png": "[encoded data removed]",
      "text/plain": [
       "<Figure size 1170x827 with 1 Axes>"
      ]
     },
     "metadata": {},
     "output_type": "display_data"
    }
   ],
   "source": [
    "# Count the occurrences of each group\n",
    "group_counts = df_filtered['ICD-O-3 Hist/behav Encoded'].value_counts().reset_index()\n",
    "group_counts.columns = ['Group', 'Count']\n",
    "\n",
    "ax = sns.barplot(group_counts, x=\"Group\", y=\"Count\", estimator=\"sum\", errorbar=None)\n",
    "ax.bar_label(ax.containers[0], fontsize=10)"
   ]
  },
  {
   "cell_type": "code",
   "execution_count": null,
   "metadata": {},
   "outputs": [],
   "source": []
  },
  {
   "cell_type": "code",
   "execution_count": 69,
   "metadata": {},
   "outputs": [],
   "source": [
    "# Define the codes to include\n",
    "codes_to_include = ['8010', '8012', '8013', '8020', '8046', '8050', \n",
    "                    '8051', '8052', '8070', '8071', '8072', '8073',\n",
    "                      '8074', '8075', '8076', '8077', '8078', '8140',\n",
    "                        '8141', '8143', '8147', '8250', '8251', '8252',\n",
    "                          '8253', '8254', '8255', '8260', '8310', '8430',\n",
    "                            '8480', '8481', '8490', '8560', '8570', '8571',\n",
    "                              '8572', '8573', '8574', '8575', '8002', '8041', '8042', '8043', '8044', '8045']\n",
    "\n",
    "# Filter the DataFrame\n",
    "df_filtered123 = df[df['ICD-O-3 Hist/behav'].astype(str).str[:4].isin(codes_to_include)].copy()"
   ]
  },
  {
   "cell_type": "code",
   "execution_count": 71,
   "metadata": {},
   "outputs": [],
   "source": [
    "# Define the mapping of codes to groups\n",
    "sclc_codes = ['8002', '8041', '8042', '8043', '8044']\n",
    "csclc_code = '8045'\n",
    "\n",
    "# Function to categorize each row\n",
    "def categorize(row):\n",
    "    code = row['ICD-O-3 Hist/behav']\n",
    "    if str(code).startswith(tuple(sclc_codes)):\n",
    "        return 'SCLC'\n",
    "    elif str(code).startswith(csclc_code):\n",
    "        return 'CSCLC'\n",
    "    else:\n",
    "        return 'NSCLC'\n",
    "\n",
    "# Apply the function\n",
    "df_filtered123['Lung Cancer Group'] = df_filtered123.apply(categorize, axis=1)\n"
   ]
  },
  {
   "cell_type": "code",
   "execution_count": 72,
   "metadata": {},
   "outputs": [
    {
     "data": {
      "text/plain": [
       "([<matplotlib.patches.Wedge at 0x18379e4ca90>,\n",
       "  <matplotlib.patches.Wedge at 0x18379e4d950>,\n",
       "  <matplotlib.patches.Wedge at 0x18379e4f390>],\n",
       " [Text(-1.0000345108253796, 0.45818225321180195, 'NSCLC'),\n",
       "  Text(0.9964086216194059, -0.4660148696796226, 'SCLC'),\n",
       "  Text(1.0999661383167094, -0.008631022918847058, 'CSCLC')],\n",
       " [Text(-0.5454733695411161, 0.24991759266098285, '86.3%'),\n",
       "  Text(0.5434956117924031, -0.2541899289161577, '13.4%'),\n",
       "  Text(0.5999815299909323, -0.004707830683007486, '0.2%')])"
      ]
     },
     "execution_count": 72,
     "metadata": {},
     "output_type": "execute_result"
    },
    {
     "data": {
      "image/png": "[encoded data removed]",
      "text/plain": [
       "<Figure size 1000x1000 with 1 Axes>"
      ]
     },
     "metadata": {},
     "output_type": "display_data"
    }
   ],
   "source": [
    "# use piechart and show the percentage of each group\n",
    "plt.figure(figsize=(10,10))\n",
    "plt.pie(df_filtered123['Lung Cancer Group'].value_counts(), labels=df_filtered123['Lung Cancer Group'].value_counts().index, autopct='%1.1f%%')"
   ]
  },
  {
   "cell_type": "code",
   "execution_count": 80,
   "metadata": {},
   "outputs": [
    {
     "data": {
      "text/plain": [
       "Lung Cancer Group\n",
       "CSCLC      2194\n",
       "NSCLC    758298\n",
       "SCLC     117934\n",
       "Name: count, dtype: int64"
      ]
     },
     "execution_count": 80,
     "metadata": {},
     "output_type": "execute_result"
    }
   ],
   "source": [
    "df_filtered123['Lung Cancer Group'].value_counts().sort_index()"
   ]
  },
  {
   "cell_type": "code",
   "execution_count": 93,
   "metadata": {},
   "outputs": [
    {
     "data": {
      "text/plain": [
       "Year of diagnosis\n",
       "2000    41439\n",
       "2001    42040\n",
       "2002    42012\n",
       "2003    42139\n",
       "2004    42077\n",
       "2005    42435\n",
       "2006    42759\n",
       "2007    42646\n",
       "2008    43045\n",
       "2009    43577\n",
       "2010    42405\n",
       "2011    42026\n",
       "2012    42337\n",
       "2013    41954\n",
       "2014    41999\n",
       "2015    41949\n",
       "2016    41678\n",
       "2017    42396\n",
       "2018    40512\n",
       "2019    41104\n",
       "2020    35897\n",
       "Name: count, dtype: int64"
      ]
     },
     "execution_count": 93,
     "metadata": {},
     "output_type": "execute_result"
    }
   ],
   "source": [
    "df_filtered123['Year of diagnosis'].value_counts().sort_index() "
   ]
  },
  {
   "cell_type": "code",
   "execution_count": 81,
   "metadata": {},
   "outputs": [
    {
     "data": {
      "text/plain": [
       "Lung Cancer Group\n",
       "CSCLC      2088\n",
       "NSCLC    727274\n",
       "SCLC     113167\n",
       "Name: count, dtype: int64"
      ]
     },
     "execution_count": 81,
     "metadata": {},
     "output_type": "execute_result"
    }
   ],
   "source": [
    "df_filtered1234 = df_filtered123[df_filtered123['Year of diagnosis']!=2020].copy()\n",
    "\n",
    "df_filtered1234['Lung Cancer Group'].value_counts().sort_index()"
   ]
  },
  {
   "cell_type": "code",
   "execution_count": 88,
   "metadata": {},
   "outputs": [
    {
     "data": {
      "text/plain": [
       "([<matplotlib.patches.Wedge at 0x1837f00f910>,\n",
       "  <matplotlib.patches.Wedge at 0x183771ee710>,\n",
       "  <matplotlib.patches.Wedge at 0x183771efe10>],\n",
       " [Text(-0.9999729000889278, 0.45831670173335315, 'NSCLC'),\n",
       "  Text(0.9963743464121902, -0.466088148113295, 'SCLC'),\n",
       "  Text(1.0999666616728754, -0.008564064936140337, 'CSCLC')],\n",
       " [Text(-0.5454397636848697, 0.2499909282181926, '86.3%'),\n",
       "  Text(0.543476916224831, -0.25422989897088816, '13.4%'),\n",
       "  Text(0.5999818154579319, -0.004671308146985638, '0.2%')])"
      ]
     },
     "execution_count": 88,
     "metadata": {},
     "output_type": "execute_result"
    },
    {
     "data": {
      "image/png": "[encoded data removed]",
      "text/plain": [
       "<Figure size 1000x1000 with 1 Axes>"
      ]
     },
     "metadata": {},
     "output_type": "display_data"
    }
   ],
   "source": [
    "# use piechart and show the percentage of each group\n",
    "plt.figure(figsize=(10,10))\n",
    "plt.title('Distribution of Lung Cancer Group from 2000 to 2019')\n",
    "plt.pie(df_filtered1234['Lung Cancer Group'].value_counts(), labels=df_filtered1234['Lung Cancer Group'].value_counts().index, autopct='%1.1f%%')"
   ]
  },
  {
   "cell_type": "code",
   "execution_count": 92,
   "metadata": {},
   "outputs": [
    {
     "data": {
      "image/png": "[encoded data removed]",
      "text/plain": [
       "<Figure size 1000x600 with 1 Axes>"
      ]
     },
     "metadata": {},
     "output_type": "display_data"
    }
   ],
   "source": [
    "import matplotlib.pyplot as plt\n",
    "import numpy as np\n",
    "\n",
    "# Data for Lung Cancer Groups\n",
    "counts = [2088, 727274, 113167]\n",
    "groups = ['CSCLC', 'NSCLC', 'SCLC']\n",
    "total_count = sum(counts)\n",
    "percentages = [f\"{count/total_count*100:.2f}%\" for count in counts]\n",
    "data_labels = [f\"{group}\\nCount: {count}\\n({percent})\" for group, count, percent in zip(groups, counts, percentages)]\n",
    "\n",
    "# Increase the figure size for better readability\n",
    "fig, ax = plt.subplots(figsize=(10, 6), subplot_kw=dict(aspect=\"equal\"))\n",
    "wedges, texts = ax.pie(counts, wedgeprops=dict(width=0.5), startangle=-40)\n",
    "\n",
    "bbox_props = dict(boxstyle=\"square,pad=0.3\", fc=\"w\", ec=\"k\", lw=0.72)\n",
    "kw = dict(arrowprops=dict(arrowstyle=\"-\"),\n",
    "          bbox=bbox_props, zorder=0, va=\"center\")\n",
    "\n",
    "for i, p in enumerate(wedges):\n",
    "    ang = (p.theta2 - p.theta1)/2. + p.theta1\n",
    "    y = np.sin(np.deg2rad(ang))\n",
    "    x = np.cos(np.deg2rad(ang))\n",
    "    horizontalalignment = {-1: \"right\", 1: \"left\"}[int(np.sign(x))]\n",
    "    connectionstyle = \"angle,angleA=0,angleB={}\".format(ang)\n",
    "    kw[\"arrowprops\"].update({\"connectionstyle\": connectionstyle})\n",
    "    ax.annotate(data_labels[i], xy=(x, y), xytext=(1.35*np.sign(x), 1.4*y),\n",
    "                horizontalalignment=horizontalalignment, **kw)\n",
    "\n",
    "ax.set_title(\"Lung Cancer Group Counts\")\n",
    "\n",
    "plt.show()\n",
    "\n",
    "\n"
   ]
  }
 ],
 "metadata": {
  "kernelspec": {
   "display_name": "Python 3",
   "language": "python",
   "name": "python3"
  },
  "language_info": {
   "codemirror_mode": {
    "name": "ipython",
    "version": 3
   },
   "file_extension": ".py",
   "mimetype": "text/x-python",
   "name": "python",
   "nbconvert_exporter": "python",
   "pygments_lexer": "ipython3",
   "version": "3.11.4"
  }
 },
 "nbformat": 4,
 "nbformat_minor": 2
}
