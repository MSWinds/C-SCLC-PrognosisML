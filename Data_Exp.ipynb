{
 "cells": [
  {
   "cell_type": "code",
   "execution_count": 159,
   "metadata": {},
   "outputs": [],
   "source": [
    "import pandas as pd\n",
    "import numpy as np\n",
    "# show max columns and rows\n",
    "pd.set_option('display.max_columns', None)\n",
    "pd.set_option('display.max_rows', None)"
   ]
  },
  {
   "cell_type": "code",
   "execution_count": 160,
   "metadata": {},
   "outputs": [
    {
     "name": "stderr",
     "output_type": "stream",
     "text": [
      "C:\\Users\\yuyum\\AppData\\Local\\Temp\\ipykernel_33604\\3459335164.py:1: DtypeWarning: Columns (20) have mixed types. Specify dtype option on import or set low_memory=False.\n",
      "  df_raw = pd.read_csv('Data\\SEER_Final_Data_vf.csv')\n"
     ]
    }
   ],
   "source": [
    "df_raw = pd.read_csv('Data\\SEER_Final_Data_vf.csv')"
   ]
  },
  {
   "cell_type": "code",
   "execution_count": 161,
   "metadata": {},
   "outputs": [],
   "source": [
    "df = df_raw.copy()"
   ]
  },
  {
   "cell_type": "code",
   "execution_count": 162,
   "metadata": {},
   "outputs": [
    {
     "data": {
      "text/html": [
       "<div>\n",
       "<style scoped>\n",
       "    .dataframe tbody tr th:only-of-type {\n",
       "        vertical-align: middle;\n",
       "    }\n",
       "\n",
       "    .dataframe tbody tr th {\n",
       "        vertical-align: top;\n",
       "    }\n",
       "\n",
       "    .dataframe thead th {\n",
       "        text-align: right;\n",
       "    }\n",
       "</style>\n",
       "<table border=\"1\" class=\"dataframe\">\n",
       "  <thead>\n",
       "    <tr style=\"text-align: right;\">\n",
       "      <th></th>\n",
       "      <th>Patient ID</th>\n",
       "      <th>Histologic Type ICD-O-3</th>\n",
       "      <th>Year of diagnosis</th>\n",
       "      <th>Sex</th>\n",
       "      <th>Race recode (W, B, AI, API)</th>\n",
       "      <th>Derived AJCC T, 7th ed (2010-2015)</th>\n",
       "      <th>Derived AJCC N, 7th ed (2010-2015)</th>\n",
       "      <th>Derived AJCC M, 7th ed (2010-2015)</th>\n",
       "      <th>Derived SEER Combined T (2016-2017)</th>\n",
       "      <th>Derived SEER Combined N (2016-2017)</th>\n",
       "      <th>Derived SEER Combined M (2016-2017)</th>\n",
       "      <th>Derived EOD 2018 T (2018+)</th>\n",
       "      <th>Derived EOD 2018 N (2018+)</th>\n",
       "      <th>Derived EOD 2018 M (2018+)</th>\n",
       "      <th>Chemotherapy recode (yes, no/unk)</th>\n",
       "      <th>Radiation recode</th>\n",
       "      <th>SEER Combined Mets at DX-bone (2010+)</th>\n",
       "      <th>SEER Combined Mets at DX-brain (2010+)</th>\n",
       "      <th>SEER Combined Mets at DX-liver (2010+)</th>\n",
       "      <th>SEER Combined Mets at DX-lung (2010+)</th>\n",
       "      <th>CS tumor size (2004-2015)</th>\n",
       "      <th>Survival months</th>\n",
       "    </tr>\n",
       "  </thead>\n",
       "  <tbody>\n",
       "    <tr>\n",
       "      <th>0</th>\n",
       "      <td>801</td>\n",
       "      <td>8140</td>\n",
       "      <td>2010</td>\n",
       "      <td>Female</td>\n",
       "      <td>Black</td>\n",
       "      <td>T1b</td>\n",
       "      <td>N0</td>\n",
       "      <td>M0</td>\n",
       "      <td>Blank(s)</td>\n",
       "      <td>Blank(s)</td>\n",
       "      <td>Blank(s)</td>\n",
       "      <td>Blank(s)</td>\n",
       "      <td>Blank(s)</td>\n",
       "      <td>Blank(s)</td>\n",
       "      <td>No/Unknown</td>\n",
       "      <td>None/Unknown</td>\n",
       "      <td>No</td>\n",
       "      <td>No</td>\n",
       "      <td>No</td>\n",
       "      <td>No</td>\n",
       "      <td>30</td>\n",
       "      <td>0029</td>\n",
       "    </tr>\n",
       "    <tr>\n",
       "      <th>1</th>\n",
       "      <td>3458</td>\n",
       "      <td>8010</td>\n",
       "      <td>2010</td>\n",
       "      <td>Male</td>\n",
       "      <td>White</td>\n",
       "      <td>T3</td>\n",
       "      <td>N3</td>\n",
       "      <td>M1b</td>\n",
       "      <td>Blank(s)</td>\n",
       "      <td>Blank(s)</td>\n",
       "      <td>Blank(s)</td>\n",
       "      <td>Blank(s)</td>\n",
       "      <td>Blank(s)</td>\n",
       "      <td>Blank(s)</td>\n",
       "      <td>No/Unknown</td>\n",
       "      <td>None/Unknown</td>\n",
       "      <td>Yes</td>\n",
       "      <td>No</td>\n",
       "      <td>No</td>\n",
       "      <td>No</td>\n",
       "      <td>80</td>\n",
       "      <td>0001</td>\n",
       "    </tr>\n",
       "  </tbody>\n",
       "</table>\n",
       "</div>"
      ],
      "text/plain": [
       "   Patient ID  Histologic Type ICD-O-3  Year of diagnosis     Sex  \\\n",
       "0         801                     8140               2010  Female   \n",
       "1        3458                     8010               2010    Male   \n",
       "\n",
       "  Race recode (W, B, AI, API) Derived AJCC T, 7th ed (2010-2015)  \\\n",
       "0                       Black                                T1b   \n",
       "1                       White                                 T3   \n",
       "\n",
       "  Derived AJCC N, 7th ed (2010-2015) Derived AJCC M, 7th ed (2010-2015)  \\\n",
       "0                                 N0                                 M0   \n",
       "1                                 N3                                M1b   \n",
       "\n",
       "  Derived SEER Combined T (2016-2017) Derived SEER Combined N (2016-2017)  \\\n",
       "0                            Blank(s)                            Blank(s)   \n",
       "1                            Blank(s)                            Blank(s)   \n",
       "\n",
       "  Derived SEER Combined M (2016-2017) Derived EOD 2018 T (2018+)  \\\n",
       "0                            Blank(s)                   Blank(s)   \n",
       "1                            Blank(s)                   Blank(s)   \n",
       "\n",
       "  Derived EOD 2018 N (2018+) Derived EOD 2018 M (2018+)  \\\n",
       "0                   Blank(s)                   Blank(s)   \n",
       "1                   Blank(s)                   Blank(s)   \n",
       "\n",
       "  Chemotherapy recode (yes, no/unk) Radiation recode  \\\n",
       "0                        No/Unknown     None/Unknown   \n",
       "1                        No/Unknown     None/Unknown   \n",
       "\n",
       "  SEER Combined Mets at DX-bone (2010+)  \\\n",
       "0                                    No   \n",
       "1                                   Yes   \n",
       "\n",
       "  SEER Combined Mets at DX-brain (2010+)  \\\n",
       "0                                     No   \n",
       "1                                     No   \n",
       "\n",
       "  SEER Combined Mets at DX-liver (2010+)  \\\n",
       "0                                     No   \n",
       "1                                     No   \n",
       "\n",
       "  SEER Combined Mets at DX-lung (2010+) CS tumor size (2004-2015)  \\\n",
       "0                                    No                        30   \n",
       "1                                    No                        80   \n",
       "\n",
       "  Survival months  \n",
       "0            0029  \n",
       "1            0001  "
      ]
     },
     "metadata": {},
     "output_type": "display_data"
    },
    {
     "data": {
      "text/plain": [
       "(298449, 22)"
      ]
     },
     "metadata": {},
     "output_type": "display_data"
    }
   ],
   "source": [
    "display(df.head(2), df.shape)"
   ]
  },
  {
   "cell_type": "code",
   "execution_count": 163,
   "metadata": {},
   "outputs": [
    {
     "data": {
      "text/plain": [
       "Patient ID                                 int64\n",
       "Histologic Type ICD-O-3                    int64\n",
       "Year of diagnosis                          int64\n",
       "Sex                                       object\n",
       "Race recode (W, B, AI, API)               object\n",
       "Derived AJCC T, 7th ed (2010-2015)        object\n",
       "Derived AJCC N, 7th ed (2010-2015)        object\n",
       "Derived AJCC M, 7th ed (2010-2015)        object\n",
       "Derived SEER Combined T (2016-2017)       object\n",
       "Derived SEER Combined N (2016-2017)       object\n",
       "Derived SEER Combined M (2016-2017)       object\n",
       "Derived EOD 2018 T (2018+)                object\n",
       "Derived EOD 2018 N (2018+)                object\n",
       "Derived EOD 2018 M (2018+)                object\n",
       "Chemotherapy recode (yes, no/unk)         object\n",
       "Radiation recode                          object\n",
       "SEER Combined Mets at DX-bone (2010+)     object\n",
       "SEER Combined Mets at DX-brain (2010+)    object\n",
       "SEER Combined Mets at DX-liver (2010+)    object\n",
       "SEER Combined Mets at DX-lung (2010+)     object\n",
       "CS tumor size (2004-2015)                 object\n",
       "Survival months                           object\n",
       "dtype: object"
      ]
     },
     "execution_count": 163,
     "metadata": {},
     "output_type": "execute_result"
    }
   ],
   "source": [
    "df.dtypes"
   ]
  },
  {
   "cell_type": "code",
   "execution_count": 164,
   "metadata": {},
   "outputs": [],
   "source": [
    "sclc_codes = [8002, 8041, 8042, 8043, 8044, 8045]\n",
    "\n",
    "# only keep Histologic Type ICD-O-3  that bwtween 8002 and 8045\n",
    "df_filtered = df[df['Histologic Type ICD-O-3'].isin(sclc_codes)].copy()"
   ]
  },
  {
   "cell_type": "code",
   "execution_count": 165,
   "metadata": {},
   "outputs": [
    {
     "data": {
      "text/plain": [
       "Histologic Type ICD-O-3\n",
       "8041    39646\n",
       "8045      703\n",
       "8042      389\n",
       "8044       77\n",
       "8043       22\n",
       "8002        7\n",
       "Name: count, dtype: int64"
      ]
     },
     "execution_count": 165,
     "metadata": {},
     "output_type": "execute_result"
    }
   ],
   "source": [
    "df_filtered['Histologic Type ICD-O-3'].value_counts(dropna=False)"
   ]
  },
  {
   "cell_type": "code",
   "execution_count": 166,
   "metadata": {},
   "outputs": [
    {
     "data": {
      "text/html": [
       "<div>\n",
       "<style scoped>\n",
       "    .dataframe tbody tr th:only-of-type {\n",
       "        vertical-align: middle;\n",
       "    }\n",
       "\n",
       "    .dataframe tbody tr th {\n",
       "        vertical-align: top;\n",
       "    }\n",
       "\n",
       "    .dataframe thead th {\n",
       "        text-align: right;\n",
       "    }\n",
       "</style>\n",
       "<table border=\"1\" class=\"dataframe\">\n",
       "  <thead>\n",
       "    <tr style=\"text-align: right;\">\n",
       "      <th></th>\n",
       "      <th>Patient ID</th>\n",
       "      <th>Histologic Type ICD-O-3</th>\n",
       "      <th>Year of diagnosis</th>\n",
       "      <th>Sex</th>\n",
       "      <th>Race recode (W, B, AI, API)</th>\n",
       "      <th>Derived AJCC T, 7th ed (2010-2015)</th>\n",
       "      <th>Derived AJCC N, 7th ed (2010-2015)</th>\n",
       "      <th>Derived AJCC M, 7th ed (2010-2015)</th>\n",
       "      <th>Derived SEER Combined T (2016-2017)</th>\n",
       "      <th>Derived SEER Combined N (2016-2017)</th>\n",
       "      <th>Derived SEER Combined M (2016-2017)</th>\n",
       "      <th>Derived EOD 2018 T (2018+)</th>\n",
       "      <th>Derived EOD 2018 N (2018+)</th>\n",
       "      <th>Derived EOD 2018 M (2018+)</th>\n",
       "      <th>Chemotherapy recode (yes, no/unk)</th>\n",
       "      <th>Radiation recode</th>\n",
       "      <th>SEER Combined Mets at DX-bone (2010+)</th>\n",
       "      <th>SEER Combined Mets at DX-brain (2010+)</th>\n",
       "      <th>SEER Combined Mets at DX-liver (2010+)</th>\n",
       "      <th>SEER Combined Mets at DX-lung (2010+)</th>\n",
       "      <th>CS tumor size (2004-2015)</th>\n",
       "      <th>Survival months</th>\n",
       "    </tr>\n",
       "  </thead>\n",
       "  <tbody>\n",
       "    <tr>\n",
       "      <th>2</th>\n",
       "      <td>4954</td>\n",
       "      <td>8041</td>\n",
       "      <td>2010</td>\n",
       "      <td>Male</td>\n",
       "      <td>White</td>\n",
       "      <td>TX</td>\n",
       "      <td>N2</td>\n",
       "      <td>M0</td>\n",
       "      <td>Blank(s)</td>\n",
       "      <td>Blank(s)</td>\n",
       "      <td>Blank(s)</td>\n",
       "      <td>Blank(s)</td>\n",
       "      <td>Blank(s)</td>\n",
       "      <td>Blank(s)</td>\n",
       "      <td>No/Unknown</td>\n",
       "      <td>None/Unknown</td>\n",
       "      <td>No</td>\n",
       "      <td>No</td>\n",
       "      <td>No</td>\n",
       "      <td>No</td>\n",
       "      <td>999</td>\n",
       "      <td>0001</td>\n",
       "    </tr>\n",
       "    <tr>\n",
       "      <th>15</th>\n",
       "      <td>617501</td>\n",
       "      <td>8041</td>\n",
       "      <td>2010</td>\n",
       "      <td>Male</td>\n",
       "      <td>White</td>\n",
       "      <td>TX</td>\n",
       "      <td>N1</td>\n",
       "      <td>M0</td>\n",
       "      <td>Blank(s)</td>\n",
       "      <td>Blank(s)</td>\n",
       "      <td>Blank(s)</td>\n",
       "      <td>Blank(s)</td>\n",
       "      <td>Blank(s)</td>\n",
       "      <td>Blank(s)</td>\n",
       "      <td>Yes</td>\n",
       "      <td>None/Unknown</td>\n",
       "      <td>No</td>\n",
       "      <td>No</td>\n",
       "      <td>No</td>\n",
       "      <td>No</td>\n",
       "      <td>999</td>\n",
       "      <td>0003</td>\n",
       "    </tr>\n",
       "  </tbody>\n",
       "</table>\n",
       "</div>"
      ],
      "text/plain": [
       "    Patient ID  Histologic Type ICD-O-3  Year of diagnosis   Sex  \\\n",
       "2         4954                     8041               2010  Male   \n",
       "15      617501                     8041               2010  Male   \n",
       "\n",
       "   Race recode (W, B, AI, API) Derived AJCC T, 7th ed (2010-2015)  \\\n",
       "2                        White                                 TX   \n",
       "15                       White                                 TX   \n",
       "\n",
       "   Derived AJCC N, 7th ed (2010-2015) Derived AJCC M, 7th ed (2010-2015)  \\\n",
       "2                                  N2                                 M0   \n",
       "15                                 N1                                 M0   \n",
       "\n",
       "   Derived SEER Combined T (2016-2017) Derived SEER Combined N (2016-2017)  \\\n",
       "2                             Blank(s)                            Blank(s)   \n",
       "15                            Blank(s)                            Blank(s)   \n",
       "\n",
       "   Derived SEER Combined M (2016-2017) Derived EOD 2018 T (2018+)  \\\n",
       "2                             Blank(s)                   Blank(s)   \n",
       "15                            Blank(s)                   Blank(s)   \n",
       "\n",
       "   Derived EOD 2018 N (2018+) Derived EOD 2018 M (2018+)  \\\n",
       "2                    Blank(s)                   Blank(s)   \n",
       "15                   Blank(s)                   Blank(s)   \n",
       "\n",
       "   Chemotherapy recode (yes, no/unk) Radiation recode  \\\n",
       "2                         No/Unknown     None/Unknown   \n",
       "15                               Yes     None/Unknown   \n",
       "\n",
       "   SEER Combined Mets at DX-bone (2010+)  \\\n",
       "2                                     No   \n",
       "15                                    No   \n",
       "\n",
       "   SEER Combined Mets at DX-brain (2010+)  \\\n",
       "2                                      No   \n",
       "15                                     No   \n",
       "\n",
       "   SEER Combined Mets at DX-liver (2010+)  \\\n",
       "2                                      No   \n",
       "15                                     No   \n",
       "\n",
       "   SEER Combined Mets at DX-lung (2010+) CS tumor size (2004-2015)  \\\n",
       "2                                     No                       999   \n",
       "15                                    No                       999   \n",
       "\n",
       "   Survival months  \n",
       "2             0001  \n",
       "15            0003  "
      ]
     },
     "metadata": {},
     "output_type": "display_data"
    },
    {
     "data": {
      "text/plain": [
       "(40844, 22)"
      ]
     },
     "metadata": {},
     "output_type": "display_data"
    }
   ],
   "source": [
    "display(df_filtered.head(2), df_filtered.shape)"
   ]
  },
  {
   "cell_type": "code",
   "execution_count": 167,
   "metadata": {},
   "outputs": [],
   "source": [
    "df_filtered_test = df_filtered.copy()"
   ]
  },
  {
   "cell_type": "code",
   "execution_count": null,
   "metadata": {},
   "outputs": [],
   "source": []
  },
  {
   "cell_type": "code",
   "execution_count": 168,
   "metadata": {},
   "outputs": [],
   "source": [
    "# Logic to combine the columns\n",
    "df_filtered_test['T'] = df_filtered_test['Derived AJCC T, 7th ed (2010-2015)']\n",
    "df_filtered_test.loc[df_filtered_test['Year of diagnosis'].between(2016, 2017), 'T'] = df_filtered_test['Derived SEER Combined T (2016-2017)']\n",
    "df_filtered_test.loc[df_filtered_test['Year of diagnosis'] >= 2018, 'T'] = df_filtered_test['Derived EOD 2018 T (2018+)']\n",
    "\n",
    "df_filtered_test['N'] = df_filtered_test['Derived AJCC N, 7th ed (2010-2015)']\n",
    "df_filtered_test.loc[df_filtered_test['Year of diagnosis'].between(2016, 2017), 'N'] = df_filtered_test['Derived SEER Combined N (2016-2017)']\n",
    "df_filtered_test.loc[df_filtered_test['Year of diagnosis'] >= 2018, 'N'] = df_filtered_test['Derived EOD 2018 N (2018+)']\n",
    "\n",
    "df_filtered_test['M'] = df_filtered_test['Derived AJCC M, 7th ed (2010-2015)']\n",
    "df_filtered_test.loc[df_filtered_test['Year of diagnosis'].between(2016, 2017), 'M'] = df_filtered_test['Derived SEER Combined M (2016-2017)']\n",
    "df_filtered_test.loc[df_filtered_test['Year of diagnosis'] >= 2018, 'M'] = df_filtered_test['Derived EOD 2018 M (2018+)']\n",
    "\n",
    "# Dropping old columns\n",
    "columns_to_drop = [\n",
    "    'Derived AJCC T, 7th ed (2010-2015)',\n",
    "    'Derived AJCC N, 7th ed (2010-2015)',\n",
    "    'Derived AJCC M, 7th ed (2010-2015)',\n",
    "    'Derived SEER Combined T (2016-2017)',\n",
    "    'Derived SEER Combined N (2016-2017)',\n",
    "    'Derived SEER Combined M (2016-2017)',\n",
    "    'Derived EOD 2018 T (2018+)',\n",
    "    'Derived EOD 2018 N (2018+)',\n",
    "    'Derived EOD 2018 M (2018+)'\n",
    "]\n",
    "\n",
    "df_filtered_test.drop(columns=columns_to_drop, inplace=True)\n",
    "\n"
   ]
  },
  {
   "cell_type": "code",
   "execution_count": 169,
   "metadata": {},
   "outputs": [
    {
     "data": {
      "text/html": [
       "<div>\n",
       "<style scoped>\n",
       "    .dataframe tbody tr th:only-of-type {\n",
       "        vertical-align: middle;\n",
       "    }\n",
       "\n",
       "    .dataframe tbody tr th {\n",
       "        vertical-align: top;\n",
       "    }\n",
       "\n",
       "    .dataframe thead th {\n",
       "        text-align: right;\n",
       "    }\n",
       "</style>\n",
       "<table border=\"1\" class=\"dataframe\">\n",
       "  <thead>\n",
       "    <tr style=\"text-align: right;\">\n",
       "      <th></th>\n",
       "      <th>Patient ID</th>\n",
       "      <th>Histologic Type ICD-O-3</th>\n",
       "      <th>Year of diagnosis</th>\n",
       "      <th>Sex</th>\n",
       "      <th>Race recode (W, B, AI, API)</th>\n",
       "      <th>Chemotherapy recode (yes, no/unk)</th>\n",
       "      <th>Radiation recode</th>\n",
       "      <th>SEER Combined Mets at DX-bone (2010+)</th>\n",
       "      <th>SEER Combined Mets at DX-brain (2010+)</th>\n",
       "      <th>SEER Combined Mets at DX-liver (2010+)</th>\n",
       "      <th>SEER Combined Mets at DX-lung (2010+)</th>\n",
       "      <th>CS tumor size (2004-2015)</th>\n",
       "      <th>Survival months</th>\n",
       "      <th>T</th>\n",
       "      <th>N</th>\n",
       "      <th>M</th>\n",
       "    </tr>\n",
       "  </thead>\n",
       "  <tbody>\n",
       "    <tr>\n",
       "      <th>2</th>\n",
       "      <td>4954</td>\n",
       "      <td>8041</td>\n",
       "      <td>2010</td>\n",
       "      <td>Male</td>\n",
       "      <td>White</td>\n",
       "      <td>No/Unknown</td>\n",
       "      <td>None/Unknown</td>\n",
       "      <td>No</td>\n",
       "      <td>No</td>\n",
       "      <td>No</td>\n",
       "      <td>No</td>\n",
       "      <td>999</td>\n",
       "      <td>0001</td>\n",
       "      <td>TX</td>\n",
       "      <td>N2</td>\n",
       "      <td>M0</td>\n",
       "    </tr>\n",
       "    <tr>\n",
       "      <th>15</th>\n",
       "      <td>617501</td>\n",
       "      <td>8041</td>\n",
       "      <td>2010</td>\n",
       "      <td>Male</td>\n",
       "      <td>White</td>\n",
       "      <td>Yes</td>\n",
       "      <td>None/Unknown</td>\n",
       "      <td>No</td>\n",
       "      <td>No</td>\n",
       "      <td>No</td>\n",
       "      <td>No</td>\n",
       "      <td>999</td>\n",
       "      <td>0003</td>\n",
       "      <td>TX</td>\n",
       "      <td>N1</td>\n",
       "      <td>M0</td>\n",
       "    </tr>\n",
       "  </tbody>\n",
       "</table>\n",
       "</div>"
      ],
      "text/plain": [
       "    Patient ID  Histologic Type ICD-O-3  Year of diagnosis   Sex  \\\n",
       "2         4954                     8041               2010  Male   \n",
       "15      617501                     8041               2010  Male   \n",
       "\n",
       "   Race recode (W, B, AI, API) Chemotherapy recode (yes, no/unk)  \\\n",
       "2                        White                        No/Unknown   \n",
       "15                       White                               Yes   \n",
       "\n",
       "   Radiation recode SEER Combined Mets at DX-bone (2010+)  \\\n",
       "2      None/Unknown                                    No   \n",
       "15     None/Unknown                                    No   \n",
       "\n",
       "   SEER Combined Mets at DX-brain (2010+)  \\\n",
       "2                                      No   \n",
       "15                                     No   \n",
       "\n",
       "   SEER Combined Mets at DX-liver (2010+)  \\\n",
       "2                                      No   \n",
       "15                                     No   \n",
       "\n",
       "   SEER Combined Mets at DX-lung (2010+) CS tumor size (2004-2015)  \\\n",
       "2                                     No                       999   \n",
       "15                                    No                       999   \n",
       "\n",
       "   Survival months   T   N   M  \n",
       "2             0001  TX  N2  M0  \n",
       "15            0003  TX  N1  M0  "
      ]
     },
     "metadata": {},
     "output_type": "display_data"
    },
    {
     "data": {
      "text/plain": [
       "(40844, 16)"
      ]
     },
     "metadata": {},
     "output_type": "display_data"
    }
   ],
   "source": [
    "display(df_filtered_test.head(2), df_filtered_test.shape)"
   ]
  },
  {
   "cell_type": "code",
   "execution_count": 170,
   "metadata": {},
   "outputs": [],
   "source": [
    "def replace_first_char(row, column_name):\n",
    "    # Check if the value is a string and starts with 'p' or 'c'\n",
    "    if isinstance(row, str) and row[0] in ['p', 'c']:\n",
    "        return column_name + row[1:]\n",
    "    else:\n",
    "        return row\n",
    "\n",
    "# Applying the function to each column\n",
    "df_filtered_test['T'] = df_filtered_test['T'].apply(lambda x: replace_first_char(x, 'T'))\n",
    "df_filtered_test['N'] = df_filtered_test['N'].apply(lambda x: replace_first_char(x, 'N'))\n",
    "df_filtered_test['M'] = df_filtered_test['M'].apply(lambda x: replace_first_char(x, 'M'))\n",
    "\n"
   ]
  },
  {
   "cell_type": "code",
   "execution_count": 171,
   "metadata": {},
   "outputs": [
    {
     "data": {
      "text/plain": [
       "T\n",
       "88                   10\n",
       "Blank(s)            182\n",
       "Not applicable       32\n",
       "T0                  471\n",
       "T1                   90\n",
       "T1A                 539\n",
       "T1B                 486\n",
       "T1NOS                19\n",
       "T1a                1538\n",
       "T1b                1681\n",
       "T1c                 421\n",
       "T1mi                 93\n",
       "T2                  367\n",
       "T2A                 840\n",
       "T2B                 510\n",
       "T2NOS              1034\n",
       "T2a                3865\n",
       "T2b                1757\n",
       "T3                 7324\n",
       "T4                12352\n",
       "TX                 7231\n",
       "Tis                   2\n",
       "Name: count, dtype: int64"
      ]
     },
     "execution_count": 171,
     "metadata": {},
     "output_type": "execute_result"
    }
   ],
   "source": [
    "df_filtered_test['T'].value_counts(dropna=False).sort_index()"
   ]
  },
  {
   "cell_type": "code",
   "execution_count": 172,
   "metadata": {},
   "outputs": [
    {
     "data": {
      "text/plain": [
       "N\n",
       "88                   10\n",
       "Blank(s)            182\n",
       "N0                 5641\n",
       "N1                 2970\n",
       "N2                20312\n",
       "N3                 8667\n",
       "NX                 3030\n",
       "Not applicable       32\n",
       "Name: count, dtype: int64"
      ]
     },
     "execution_count": 172,
     "metadata": {},
     "output_type": "execute_result"
    }
   ],
   "source": [
    "df_filtered_test['N'].value_counts(dropna=False).sort_index()"
   ]
  },
  {
   "cell_type": "code",
   "execution_count": 173,
   "metadata": {},
   "outputs": [
    {
     "data": {
      "text/plain": [
       "M\n",
       "88                   10\n",
       "Blank(s)            182\n",
       "M0                11750\n",
       "M1                 1003\n",
       "M1A                 813\n",
       "M1B                4292\n",
       "M1NOS               301\n",
       "M1a                3420\n",
       "M1b               16059\n",
       "M1c                2982\n",
       "Not applicable       32\n",
       "Name: count, dtype: int64"
      ]
     },
     "execution_count": 173,
     "metadata": {},
     "output_type": "execute_result"
    }
   ],
   "source": [
    "df_filtered_test['M'].value_counts(dropna=False).sort_index()"
   ]
  },
  {
   "cell_type": "code",
   "execution_count": 174,
   "metadata": {},
   "outputs": [],
   "source": [
    "# Dropping rows when T = '88', 'Blank(s)', 'Not applicable', 'TX', 'Tis'\n",
    "df_filtered_test = df_filtered_test[~df_filtered_test['T'].isin(['88', 'Blank(s)', 'Not applicable', 'TX', 'Tis', 'T0'])].copy()\n",
    "\n",
    "# Dropping rows when N = '88', 'Blank(s)', 'Not applicable', 'NX'\n",
    "df_filtered_test = df_filtered_test[~df_filtered_test['N'].isin(['88', 'Blank(s)', 'Not applicable', 'NX'])].copy()\n",
    "\n",
    "# Dropping rows when M = '88', 'Blank(s)', 'Not applicable'\n",
    "df_filtered_test = df_filtered_test[~df_filtered_test['M'].isin(['88', 'Blank(s)', 'Not applicable'])].copy()"
   ]
  },
  {
   "cell_type": "code",
   "execution_count": 175,
   "metadata": {},
   "outputs": [],
   "source": [
    "df_filtered_test2 = df_filtered_test.copy()"
   ]
  },
  {
   "cell_type": "code",
   "execution_count": 176,
   "metadata": {},
   "outputs": [
    {
     "name": "stdout",
     "output_type": "stream",
     "text": [
      "T\n",
      "T4    11955\n",
      "T2     8162\n",
      "T3     7121\n",
      "T1     4775\n",
      "Name: count, dtype: int64\n"
     ]
    }
   ],
   "source": [
    "def extract_main_category(value):\n",
    "    if isinstance(value, str):\n",
    "        # Find the first occurrence of a digit in the string\n",
    "        for i, char in enumerate(value):\n",
    "            if char.isdigit():\n",
    "                # Return the string up to the second digit (inclusive)\n",
    "                return value[:i+1]\n",
    "    return value\n",
    "\n",
    "# Apply the function to the 'T' column\n",
    "df_filtered_test2['T'] = df_filtered_test2['T'].apply(extract_main_category)\n",
    "\n",
    "# Display the updated DataFrame\n",
    "print(df_filtered_test2['T'].value_counts())"
   ]
  },
  {
   "cell_type": "code",
   "execution_count": 177,
   "metadata": {},
   "outputs": [
    {
     "name": "stdout",
     "output_type": "stream",
     "text": [
      "N\n",
      "N2    17332\n",
      "N3     7429\n",
      "N0     4734\n",
      "N1     2518\n",
      "Name: count, dtype: int64\n"
     ]
    }
   ],
   "source": [
    "# Apply the function to the 'N' column\n",
    "df_filtered_test2['N'] = df_filtered_test2['N'].apply(extract_main_category)\n",
    "\n",
    "# Display the updated DataFrame\n",
    "print(df_filtered_test2['N'].value_counts())"
   ]
  },
  {
   "cell_type": "code",
   "execution_count": 178,
   "metadata": {},
   "outputs": [
    {
     "name": "stdout",
     "output_type": "stream",
     "text": [
      "M\n",
      "M1    22488\n",
      "M0     9525\n",
      "Name: count, dtype: int64\n"
     ]
    }
   ],
   "source": [
    "# Apply the function to the 'M' column\n",
    "df_filtered_test2['M'] = df_filtered_test2['M'].apply(extract_main_category)\n",
    "\n",
    "# Display the updated DataFrame\n",
    "print(df_filtered_test2['M'].value_counts())"
   ]
  },
  {
   "cell_type": "code",
   "execution_count": 179,
   "metadata": {},
   "outputs": [],
   "source": [
    "# drop the 'Unknown' in Race recode (W, B, AI, API)\n",
    "df_filtered_test2 = df_filtered_test2[df_filtered_test2['Race recode (W, B, AI, API)']!='Unknown'].copy()"
   ]
  },
  {
   "cell_type": "code",
   "execution_count": 180,
   "metadata": {},
   "outputs": [
    {
     "data": {
      "text/plain": [
       "Chemotherapy recode (yes, no/unk)\n",
       "Yes           22295\n",
       "No/Unknown     9695\n",
       "Name: count, dtype: int64"
      ]
     },
     "execution_count": 180,
     "metadata": {},
     "output_type": "execute_result"
    }
   ],
   "source": [
    "df_filtered_test2['Chemotherapy recode (yes, no/unk)'].value_counts(dropna=False)"
   ]
  },
  {
   "cell_type": "code",
   "execution_count": 181,
   "metadata": {},
   "outputs": [],
   "source": [
    "# map Chemotherapy recode (yes, no/unk) into 1: Yes and 0:No/Unknown\n",
    "df_filtered_test2['Chemotherapy'] = df_filtered_test2['Chemotherapy recode (yes, no/unk)'].map({'Yes': 1, 'No/Unknown': 0})\n",
    "\n",
    "# drop original column\n",
    "df_filtered_test2.drop(columns=['Chemotherapy recode (yes, no/unk)'], inplace=True)"
   ]
  },
  {
   "cell_type": "code",
   "execution_count": 182,
   "metadata": {},
   "outputs": [
    {
     "data": {
      "text/plain": [
       "Radiation recode\n",
       "None/Unknown                                             16655\n",
       "Beam radiation                                           14203\n",
       "Refused (1988+)                                            614\n",
       "Recommended, unknown if administered                       328\n",
       "Radiation, NOS  method or source not specified             164\n",
       "Radioactive implants (includes brachytherapy) (1988+)       14\n",
       "Radioisotopes (1988+)                                        6\n",
       "Combination of beam with implants or isotopes                6\n",
       "Name: count, dtype: int64"
      ]
     },
     "execution_count": 182,
     "metadata": {},
     "output_type": "execute_result"
    }
   ],
   "source": [
    "df_filtered_test2['Radiation recode'].value_counts(dropna=False)"
   ]
  },
  {
   "cell_type": "code",
   "execution_count": 183,
   "metadata": {},
   "outputs": [
    {
     "name": "stdout",
     "output_type": "stream",
     "text": [
      "Radiation recode\n",
      "0    17597\n",
      "1    14393\n",
      "Name: count, dtype: int64\n"
     ]
    }
   ],
   "source": [
    "def map_radiation_values(value):\n",
    "    # Define the values to be mapped to 0\n",
    "    values_for_zero = ['None/Unknown', 'Refused (1988+)', 'Recommended, unknown if administered']\n",
    "    \n",
    "    # Check if the value is in the list for 0, else return 1\n",
    "    return 0 if value in values_for_zero else 1\n",
    "\n",
    "# Apply the function to the 'Radiation Recode' column\n",
    "df_filtered_test2['Radiation recode'] = df_filtered_test2['Radiation recode'].apply(map_radiation_values)\n",
    "\n",
    "# Display the updated DataFrame\n",
    "print(df_filtered_test2['Radiation recode'].value_counts())\n"
   ]
  },
  {
   "cell_type": "code",
   "execution_count": 184,
   "metadata": {},
   "outputs": [
    {
     "data": {
      "text/plain": [
       "SEER Combined Mets at DX-bone (2010+)\n",
       "No         23372\n",
       "Yes         8072\n",
       "Unknown      543\n",
       "NaN            3\n",
       "Name: count, dtype: int64"
      ]
     },
     "execution_count": 184,
     "metadata": {},
     "output_type": "execute_result"
    }
   ],
   "source": [
    "df_filtered_test2['SEER Combined Mets at DX-bone (2010+)'].value_counts(dropna=False)"
   ]
  },
  {
   "cell_type": "code",
   "execution_count": 185,
   "metadata": {},
   "outputs": [],
   "source": [
    "# drop Unknown and Nan in SEER Combined Mets at DX-bone (2010+)\n",
    "df_filtered_test2 = df_filtered_test2[df_filtered_test2['SEER Combined Mets at DX-bone (2010+)']!='Unknown'].copy()\n",
    "df_filtered_test2 = df_filtered_test2[df_filtered_test2['SEER Combined Mets at DX-bone (2010+)'].notna()].copy()\n"
   ]
  },
  {
   "cell_type": "code",
   "execution_count": 186,
   "metadata": {},
   "outputs": [],
   "source": [
    "# drop Unknown and Nan in SEER Combined Mets at DX-brain (2010+)\n",
    "df_filtered_test2 = df_filtered_test2[df_filtered_test2['SEER Combined Mets at DX-brain (2010+)']!='Unknown'].copy()\n",
    "df_filtered_test2 = df_filtered_test2[df_filtered_test2['SEER Combined Mets at DX-brain (2010+)'].notna()].copy()"
   ]
  },
  {
   "cell_type": "code",
   "execution_count": 187,
   "metadata": {},
   "outputs": [],
   "source": [
    "# drop Unknown and Nan in SEER Combined Mets at DX-liver (2010+)\n",
    "df_filtered_test2 = df_filtered_test2[df_filtered_test2['SEER Combined Mets at DX-liver (2010+)']!='Unknown'].copy()\n",
    "df_filtered_test2 = df_filtered_test2[df_filtered_test2['SEER Combined Mets at DX-liver (2010+)'].notna()].copy()"
   ]
  },
  {
   "cell_type": "code",
   "execution_count": 188,
   "metadata": {},
   "outputs": [],
   "source": [
    "# drop Unknown and Nan in SEER Combined Mets at DX-lung (2010+)\n",
    "df_filtered_test2 = df_filtered_test2[df_filtered_test2['SEER Combined Mets at DX-lung (2010+)']!='Unknown'].copy()\n",
    "df_filtered_test2 = df_filtered_test2[df_filtered_test2['SEER Combined Mets at DX-lung (2010+)'].notna()].copy()"
   ]
  },
  {
   "cell_type": "code",
   "execution_count": 189,
   "metadata": {},
   "outputs": [],
   "source": [
    "# Convert the 'CS Tumor Size (2004-2015)' column to strings\n",
    "df_filtered_test2['CS tumor size (2004-2015)'] = df_filtered_test2['CS tumor size (2004-2015)'].astype(str)\n",
    "\n",
    "# Strip leading zeros from the strings\n",
    "df_filtered_test2['CS tumor size (2004-2015)'] = df_filtered_test2['CS tumor size (2004-2015)'].str.lstrip('0')\n",
    "\n",
    "# Replace empty strings with '0' (for cases where original value was '000')\n",
    "df_filtered_test2['CS tumor size (2004-2015)'].replace('', '0', inplace=True)\n",
    "\n",
    "# Filter the DataFrame to keep only valid numeric values\n",
    "df_filtered_test2 = df_filtered_test2[df_filtered_test2['CS tumor size (2004-2015)'].apply(lambda x: x.isnumeric() and 1 <= int(x) <= 988 or x == '989')]\n",
    "\n",
    "df_filtered_test2['Tumor Size'] = df_filtered_test2['CS tumor size (2004-2015)'].astype(int)\n",
    "\n"
   ]
  },
  {
   "cell_type": "code",
   "execution_count": 190,
   "metadata": {},
   "outputs": [],
   "source": [
    "# Drop the 'CS Tumor Size (2004-2015)' column\n",
    "df_filtered_test2.drop(columns=['CS tumor size (2004-2015)'], inplace=True)"
   ]
  },
  {
   "cell_type": "code",
   "execution_count": 191,
   "metadata": {},
   "outputs": [],
   "source": [
    "df_final = df_filtered_test2.copy()"
   ]
  },
  {
   "cell_type": "code",
   "execution_count": 192,
   "metadata": {},
   "outputs": [
    {
     "data": {
      "text/plain": [
       "Histologic Type ICD-O-3\n",
       "0    15589\n",
       "1      340\n",
       "Name: count, dtype: int64"
      ]
     },
     "execution_count": 192,
     "metadata": {},
     "output_type": "execute_result"
    }
   ],
   "source": [
    "# binary encode the Histologic Type ICD-O-3, if it is 8045, then it is 1, else 0\n",
    "df_final['Histologic Type ICD-O-3'] = df_final['Histologic Type ICD-O-3'].map({8045: 1, 8002: 0, 8041: 0, 8042: 0, 8043: 0, 8044: 0})\n",
    "\n",
    "df_final['Histologic Type ICD-O-3'].value_counts(dropna=False)"
   ]
  },
  {
   "cell_type": "code",
   "execution_count": 196,
   "metadata": {},
   "outputs": [],
   "source": [
    "df_final = df_final[df_final['Survival months']!='Unknown']"
   ]
  },
  {
   "cell_type": "code",
   "execution_count": 198,
   "metadata": {},
   "outputs": [],
   "source": [
    "df_final['Survival months'] = df_final['Survival months'].astype(int)"
   ]
  },
  {
   "cell_type": "code",
   "execution_count": 199,
   "metadata": {},
   "outputs": [
    {
     "data": {
      "text/html": [
       "<div>\n",
       "<style scoped>\n",
       "    .dataframe tbody tr th:only-of-type {\n",
       "        vertical-align: middle;\n",
       "    }\n",
       "\n",
       "    .dataframe tbody tr th {\n",
       "        vertical-align: top;\n",
       "    }\n",
       "\n",
       "    .dataframe thead th {\n",
       "        text-align: right;\n",
       "    }\n",
       "</style>\n",
       "<table border=\"1\" class=\"dataframe\">\n",
       "  <thead>\n",
       "    <tr style=\"text-align: right;\">\n",
       "      <th></th>\n",
       "      <th>Patient ID</th>\n",
       "      <th>Histologic Type ICD-O-3</th>\n",
       "      <th>Year of diagnosis</th>\n",
       "      <th>Sex</th>\n",
       "      <th>Race recode (W, B, AI, API)</th>\n",
       "      <th>Radiation recode</th>\n",
       "      <th>SEER Combined Mets at DX-bone (2010+)</th>\n",
       "      <th>SEER Combined Mets at DX-brain (2010+)</th>\n",
       "      <th>SEER Combined Mets at DX-liver (2010+)</th>\n",
       "      <th>SEER Combined Mets at DX-lung (2010+)</th>\n",
       "      <th>Survival months</th>\n",
       "      <th>T</th>\n",
       "      <th>N</th>\n",
       "      <th>M</th>\n",
       "      <th>Chemotherapy</th>\n",
       "      <th>Tumor Size</th>\n",
       "    </tr>\n",
       "  </thead>\n",
       "  <tbody>\n",
       "    <tr>\n",
       "      <th>18</th>\n",
       "      <td>194350</td>\n",
       "      <td>0</td>\n",
       "      <td>2010</td>\n",
       "      <td>Female</td>\n",
       "      <td>Black</td>\n",
       "      <td>1</td>\n",
       "      <td>No</td>\n",
       "      <td>No</td>\n",
       "      <td>No</td>\n",
       "      <td>No</td>\n",
       "      <td>14</td>\n",
       "      <td>T4</td>\n",
       "      <td>N1</td>\n",
       "      <td>M1</td>\n",
       "      <td>1</td>\n",
       "      <td>46</td>\n",
       "    </tr>\n",
       "    <tr>\n",
       "      <th>47</th>\n",
       "      <td>674026</td>\n",
       "      <td>0</td>\n",
       "      <td>2010</td>\n",
       "      <td>Female</td>\n",
       "      <td>White</td>\n",
       "      <td>0</td>\n",
       "      <td>No</td>\n",
       "      <td>No</td>\n",
       "      <td>No</td>\n",
       "      <td>No</td>\n",
       "      <td>66</td>\n",
       "      <td>T2</td>\n",
       "      <td>N2</td>\n",
       "      <td>M0</td>\n",
       "      <td>1</td>\n",
       "      <td>50</td>\n",
       "    </tr>\n",
       "  </tbody>\n",
       "</table>\n",
       "</div>"
      ],
      "text/plain": [
       "    Patient ID  Histologic Type ICD-O-3  Year of diagnosis     Sex  \\\n",
       "18      194350                        0               2010  Female   \n",
       "47      674026                        0               2010  Female   \n",
       "\n",
       "   Race recode (W, B, AI, API)  Radiation recode  \\\n",
       "18                       Black                 1   \n",
       "47                       White                 0   \n",
       "\n",
       "   SEER Combined Mets at DX-bone (2010+)  \\\n",
       "18                                    No   \n",
       "47                                    No   \n",
       "\n",
       "   SEER Combined Mets at DX-brain (2010+)  \\\n",
       "18                                     No   \n",
       "47                                     No   \n",
       "\n",
       "   SEER Combined Mets at DX-liver (2010+)  \\\n",
       "18                                     No   \n",
       "47                                     No   \n",
       "\n",
       "   SEER Combined Mets at DX-lung (2010+)  Survival months   T   N   M  \\\n",
       "18                                    No               14  T4  N1  M1   \n",
       "47                                    No               66  T2  N2  M0   \n",
       "\n",
       "    Chemotherapy  Tumor Size  \n",
       "18             1          46  \n",
       "47             1          50  "
      ]
     },
     "metadata": {},
     "output_type": "display_data"
    },
    {
     "data": {
      "text/plain": [
       "(15924, 16)"
      ]
     },
     "metadata": {},
     "output_type": "display_data"
    }
   ],
   "source": [
    "display(df_final.head(2), df_final.shape)"
   ]
  },
  {
   "cell_type": "code",
   "execution_count": 203,
   "metadata": {},
   "outputs": [],
   "source": [
    "# write a loop to convert all the object columns to category\n",
    "for col in df_final.select_dtypes(include='object').columns:\n",
    "    df_final[col] = df_final[col].astype('category')"
   ]
  },
  {
   "cell_type": "code",
   "execution_count": 205,
   "metadata": {},
   "outputs": [],
   "source": [
    "# save the final dataframe to csv\n",
    "df_final.to_csv('Data\\SEER_Final_Data_vf_cleaned.csv', index=False)"
   ]
  },
  {
   "cell_type": "code",
   "execution_count": null,
   "metadata": {},
   "outputs": [],
   "source": []
  }
 ],
 "metadata": {
  "kernelspec": {
   "display_name": "Python 3",
   "language": "python",
   "name": "python3"
  },
  "language_info": {
   "codemirror_mode": {
    "name": "ipython",
    "version": 3
   },
   "file_extension": ".py",
   "mimetype": "text/x-python",
   "name": "python",
   "nbconvert_exporter": "python",
   "pygments_lexer": "ipython3",
   "version": "3.11.4"
  }
 },
 "nbformat": 4,
 "nbformat_minor": 2
}
